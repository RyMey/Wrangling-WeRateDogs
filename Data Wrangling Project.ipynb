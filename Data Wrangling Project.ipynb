{
 "cells": [
  {
   "cell_type": "markdown",
   "metadata": {},
   "source": [
    "# Project: Data Wrangling WeRateDogs\n",
    "\n",
    "## Table of Contents\n",
    "<ul>\n",
    "<li><a href=\"#intro\">Introduction</a></li>\n",
    "<li><a href=\"#gathering\">Gathering The Data</a></li>\n",
    "<li><a href=\"#access\">Accessing The Data</a></li>\n",
    "<li><a href=\"#cleaning\">Cleaning The Data</a>\n",
    "<li><a href=\"#analizing\">Analizing and Visualizing</a>\n",
    "</li>\n",
    "<li><a href=\"#conclusions\">Conclusions</a></li>\n",
    "</ul>"
   ]
  },
  {
   "cell_type": "markdown",
   "metadata": {},
   "source": [
    "<a id=\"gathering\"></a>\n",
    "# Gathering The Data"
   ]
  },
  {
   "cell_type": "markdown",
   "metadata": {},
   "source": [
    "I parse my library needed in each task so it will easier to know what kind library needed from that task.\n",
    "<ul>\n",
    "<li><a href=\"#first\">First Data: Get Data Twitter Archive</a></li>\n",
    "<li><a href=\"#second\">Second Data: Get Data Tweet Image Prediction</a></li>\n",
    "<li>Third Data: Accessing The Data\n",
    "    <ul>\n",
    "        <li><a href=\"#configure\">Configure Twitter Account</a></li>\n",
    "        <li><a href=\"#getdatathird\">Get Data Twitter with API & JSON</a></li>\n",
    "    </ul>\n",
    "</li>\n",
    "<li><a href=\"#conclusiongathering\">Conclusion</a></li>\n",
    "<ul>"
   ]
  },
  {
   "cell_type": "markdown",
   "metadata": {},
   "source": [
    "<a id=\"first\"></a>\n",
    "#### 1. Get Data Twitter Archive"
   ]
  },
  {
   "cell_type": "markdown",
   "metadata": {},
   "source": [
    "Todo:\n",
    "1. Import library needed\n",
    "2. Read <b>twitter_archive_enhanced.csv</b> from the same folder\n",
    "3. Make sure that data has been read correctly\n",
    "    - print head"
   ]
  },
  {
   "cell_type": "code",
   "execution_count": 1,
   "metadata": {},
   "outputs": [],
   "source": [
    "import pandas as pd"
   ]
  },
  {
   "cell_type": "code",
   "execution_count": 2,
   "metadata": {},
   "outputs": [
    {
     "data": {
      "text/html": [
       "<div>\n",
       "<style scoped>\n",
       "    .dataframe tbody tr th:only-of-type {\n",
       "        vertical-align: middle;\n",
       "    }\n",
       "\n",
       "    .dataframe tbody tr th {\n",
       "        vertical-align: top;\n",
       "    }\n",
       "\n",
       "    .dataframe thead th {\n",
       "        text-align: right;\n",
       "    }\n",
       "</style>\n",
       "<table border=\"1\" class=\"dataframe\">\n",
       "  <thead>\n",
       "    <tr style=\"text-align: right;\">\n",
       "      <th></th>\n",
       "      <th>tweet_id</th>\n",
       "      <th>in_reply_to_status_id</th>\n",
       "      <th>in_reply_to_user_id</th>\n",
       "      <th>timestamp</th>\n",
       "      <th>source</th>\n",
       "      <th>text</th>\n",
       "      <th>retweeted_status_id</th>\n",
       "      <th>retweeted_status_user_id</th>\n",
       "      <th>retweeted_status_timestamp</th>\n",
       "      <th>expanded_urls</th>\n",
       "      <th>rating_numerator</th>\n",
       "      <th>rating_denominator</th>\n",
       "      <th>name</th>\n",
       "      <th>doggo</th>\n",
       "      <th>floofer</th>\n",
       "      <th>pupper</th>\n",
       "      <th>puppo</th>\n",
       "    </tr>\n",
       "  </thead>\n",
       "  <tbody>\n",
       "    <tr>\n",
       "      <th>2355</th>\n",
       "      <td>666020888022790149</td>\n",
       "      <td>NaN</td>\n",
       "      <td>NaN</td>\n",
       "      <td>2015-11-15 22:32:08 +0000</td>\n",
       "      <td>&lt;a href=\"http://twitter.com/download/iphone\" r...</td>\n",
       "      <td>Here we have a Japanese Irish Setter. Lost eye...</td>\n",
       "      <td>NaN</td>\n",
       "      <td>NaN</td>\n",
       "      <td>NaN</td>\n",
       "      <td>https://twitter.com/dog_rates/status/666020888...</td>\n",
       "      <td>8</td>\n",
       "      <td>10</td>\n",
       "      <td>None</td>\n",
       "      <td>None</td>\n",
       "      <td>None</td>\n",
       "      <td>None</td>\n",
       "      <td>None</td>\n",
       "    </tr>\n",
       "    <tr>\n",
       "      <th>2354</th>\n",
       "      <td>666029285002620928</td>\n",
       "      <td>NaN</td>\n",
       "      <td>NaN</td>\n",
       "      <td>2015-11-15 23:05:30 +0000</td>\n",
       "      <td>&lt;a href=\"http://twitter.com/download/iphone\" r...</td>\n",
       "      <td>This is a western brown Mitsubishi terrier. Up...</td>\n",
       "      <td>NaN</td>\n",
       "      <td>NaN</td>\n",
       "      <td>NaN</td>\n",
       "      <td>https://twitter.com/dog_rates/status/666029285...</td>\n",
       "      <td>7</td>\n",
       "      <td>10</td>\n",
       "      <td>a</td>\n",
       "      <td>None</td>\n",
       "      <td>None</td>\n",
       "      <td>None</td>\n",
       "      <td>None</td>\n",
       "    </tr>\n",
       "  </tbody>\n",
       "</table>\n",
       "</div>"
      ],
      "text/plain": [
       "                tweet_id  in_reply_to_status_id  in_reply_to_user_id  \\\n",
       "2355  666020888022790149                    NaN                  NaN   \n",
       "2354  666029285002620928                    NaN                  NaN   \n",
       "\n",
       "                      timestamp  \\\n",
       "2355  2015-11-15 22:32:08 +0000   \n",
       "2354  2015-11-15 23:05:30 +0000   \n",
       "\n",
       "                                                 source  \\\n",
       "2355  <a href=\"http://twitter.com/download/iphone\" r...   \n",
       "2354  <a href=\"http://twitter.com/download/iphone\" r...   \n",
       "\n",
       "                                                   text  retweeted_status_id  \\\n",
       "2355  Here we have a Japanese Irish Setter. Lost eye...                  NaN   \n",
       "2354  This is a western brown Mitsubishi terrier. Up...                  NaN   \n",
       "\n",
       "      retweeted_status_user_id retweeted_status_timestamp  \\\n",
       "2355                       NaN                        NaN   \n",
       "2354                       NaN                        NaN   \n",
       "\n",
       "                                          expanded_urls  rating_numerator  \\\n",
       "2355  https://twitter.com/dog_rates/status/666020888...                 8   \n",
       "2354  https://twitter.com/dog_rates/status/666029285...                 7   \n",
       "\n",
       "      rating_denominator  name doggo floofer pupper puppo  \n",
       "2355                  10  None  None    None   None  None  \n",
       "2354                  10     a  None    None   None  None  "
      ]
     },
     "execution_count": 2,
     "metadata": {},
     "output_type": "execute_result"
    }
   ],
   "source": [
    "twitter_archive_df = pd.read_csv('data_udacity/twitter-archive-enhanced.csv')\n",
    "twitter_archive_df = twitter_archive_df.sort_values('timestamp')\n",
    "twitter_archive_df.head(2)"
   ]
  },
  {
   "cell_type": "markdown",
   "metadata": {},
   "source": [
    "<a id=\"second\"></a>\n",
    "#### 2. Get Data Tweet Image Prediction"
   ]
  },
  {
   "cell_type": "markdown",
   "metadata": {},
   "source": [
    "Todo:\n",
    "1. Import library needed\n",
    "2. Read <b>image-predictions.tsv</b> from Udacity's server that can be access from <i> https://d17h27t6h515a5.cloudfront.net/topher/2017/August/599fd2ad_image-predictions/image-predictions.tsv </i>\n",
    "3. Make sure that data has been read correctly\n",
    "    - print head\n",
    "    - describe domain knowledge about the data"
   ]
  },
  {
   "cell_type": "code",
   "execution_count": 3,
   "metadata": {},
   "outputs": [],
   "source": [
    "import requests"
   ]
  },
  {
   "cell_type": "code",
   "execution_count": 4,
   "metadata": {},
   "outputs": [],
   "source": [
    "url = \"https://d17h27t6h515a5.cloudfront.net/topher/2017/August/599fd2ad_image-predictions/image-predictions.tsv\"\n",
    "response = requests.get(url)\n",
    "\n",
    "with open('data_udacity/image-predictions.tsv', mode ='wb') as file:\n",
    "    file.write(response.content)"
   ]
  },
  {
   "cell_type": "code",
   "execution_count": 5,
   "metadata": {},
   "outputs": [
    {
     "data": {
      "text/html": [
       "<div>\n",
       "<style scoped>\n",
       "    .dataframe tbody tr th:only-of-type {\n",
       "        vertical-align: middle;\n",
       "    }\n",
       "\n",
       "    .dataframe tbody tr th {\n",
       "        vertical-align: top;\n",
       "    }\n",
       "\n",
       "    .dataframe thead th {\n",
       "        text-align: right;\n",
       "    }\n",
       "</style>\n",
       "<table border=\"1\" class=\"dataframe\">\n",
       "  <thead>\n",
       "    <tr style=\"text-align: right;\">\n",
       "      <th></th>\n",
       "      <th>tweet_id</th>\n",
       "      <th>jpg_url</th>\n",
       "      <th>img_num</th>\n",
       "      <th>p1</th>\n",
       "      <th>p1_conf</th>\n",
       "      <th>p1_dog</th>\n",
       "      <th>p2</th>\n",
       "      <th>p2_conf</th>\n",
       "      <th>p2_dog</th>\n",
       "      <th>p3</th>\n",
       "      <th>p3_conf</th>\n",
       "      <th>p3_dog</th>\n",
       "    </tr>\n",
       "  </thead>\n",
       "  <tbody>\n",
       "    <tr>\n",
       "      <th>0</th>\n",
       "      <td>666020888022790149</td>\n",
       "      <td>https://pbs.twimg.com/media/CT4udn0WwAA0aMy.jpg</td>\n",
       "      <td>1</td>\n",
       "      <td>Welsh_springer_spaniel</td>\n",
       "      <td>0.465074</td>\n",
       "      <td>True</td>\n",
       "      <td>collie</td>\n",
       "      <td>0.156665</td>\n",
       "      <td>True</td>\n",
       "      <td>Shetland_sheepdog</td>\n",
       "      <td>0.061428</td>\n",
       "      <td>True</td>\n",
       "    </tr>\n",
       "    <tr>\n",
       "      <th>1</th>\n",
       "      <td>666029285002620928</td>\n",
       "      <td>https://pbs.twimg.com/media/CT42GRgUYAA5iDo.jpg</td>\n",
       "      <td>1</td>\n",
       "      <td>redbone</td>\n",
       "      <td>0.506826</td>\n",
       "      <td>True</td>\n",
       "      <td>miniature_pinscher</td>\n",
       "      <td>0.074192</td>\n",
       "      <td>True</td>\n",
       "      <td>Rhodesian_ridgeback</td>\n",
       "      <td>0.072010</td>\n",
       "      <td>True</td>\n",
       "    </tr>\n",
       "  </tbody>\n",
       "</table>\n",
       "</div>"
      ],
      "text/plain": [
       "             tweet_id                                          jpg_url  \\\n",
       "0  666020888022790149  https://pbs.twimg.com/media/CT4udn0WwAA0aMy.jpg   \n",
       "1  666029285002620928  https://pbs.twimg.com/media/CT42GRgUYAA5iDo.jpg   \n",
       "\n",
       "   img_num                      p1   p1_conf  p1_dog                  p2  \\\n",
       "0        1  Welsh_springer_spaniel  0.465074    True              collie   \n",
       "1        1                 redbone  0.506826    True  miniature_pinscher   \n",
       "\n",
       "    p2_conf  p2_dog                   p3   p3_conf  p3_dog  \n",
       "0  0.156665    True    Shetland_sheepdog  0.061428    True  \n",
       "1  0.074192    True  Rhodesian_ridgeback  0.072010    True  "
      ]
     },
     "execution_count": 5,
     "metadata": {},
     "output_type": "execute_result"
    }
   ],
   "source": [
    "#Read TSV file\n",
    "image_prediction_df = pd.read_csv('data_udacity/image-predictions.tsv', sep='\\t' )\n",
    "image_prediction_df.head(2)"
   ]
  },
  {
   "cell_type": "markdown",
   "metadata": {},
   "source": [
    "#### The description:\n",
    "- tweet_id is the last part of the tweet URL after \"status/\" → https://twitter.com/dog_rates/status/889531135344209921\n",
    "- p1 is the algorithm's #1 prediction for the image in the tweet → golden retriever\n",
    "- p1_conf is how confident the algorithm is in its #1 prediction → 95%\n",
    "- p1_dog is whether or not the #1 prediction is a breed of dog → TRUE\n",
    "- p2 is the algorithm's second most likely prediction → Labrador retriever\n",
    "- p2_conf is how confident the algorithm is in its #2 prediction → 1%\n",
    "- p2_dog is whether or not the #2 prediction is a breed of dog → TRUE\n",
    "- etc."
   ]
  },
  {
   "cell_type": "markdown",
   "metadata": {},
   "source": [
    "<a id=\"configure\"></a>\n",
    "#### 3. Configure Twitter Account"
   ]
  },
  {
   "cell_type": "markdown",
   "metadata": {},
   "source": [
    "Todo:\n",
    "1. Import library needed\n",
    "2. Declare twitter configuration with consumer_key, consumer_secret, access_token, and access_secret \n",
    "3. Make configuration"
   ]
  },
  {
   "cell_type": "code",
   "execution_count": 6,
   "metadata": {},
   "outputs": [],
   "source": [
    "import tweepy"
   ]
  },
  {
   "cell_type": "code",
   "execution_count": 7,
   "metadata": {},
   "outputs": [],
   "source": [
    "# for security reasons, I save my configuration in csv\n",
    "twitter_configuration = pd.read_csv(\"twitter_configuration.csv\")"
   ]
  },
  {
   "cell_type": "code",
   "execution_count": 8,
   "metadata": {},
   "outputs": [],
   "source": [
    "try:\n",
    "    auth = tweepy.OAuthHandler(twitter_configuration.consumer_key[0], twitter_configuration.consumer_secret[0])\n",
    "    auth.set_access_token(twitter_configuration.access_token[0], twitter_configuration.access_secret[0])\n",
    "except tweepy.TweepError as t:\n",
    "    print(t.message)\n",
    "    \n",
    "api = tweepy.API(auth, wait_on_rate_limit= True, wait_on_rate_limit_notify= True)"
   ]
  },
  {
   "cell_type": "markdown",
   "metadata": {},
   "source": [
    "<a id=\"getdatathird\"></a>\n",
    "#### 4. Get Data Twitter with API & JSON"
   ]
  },
  {
   "cell_type": "markdown",
   "metadata": {},
   "source": [
    "Todo:\n",
    "1. Import library needed (if not exist before)\n",
    "2. Get twitter data in JSON by id from file point 1\n",
    "    - add data JSON from a list\n",
    "    - add ids data that we can't find that with API\n",
    "    - calculate the number id we wan to looking for\n",
    "    - calculate number succes and fail data we looking for\n",
    "    - save data tweets in txt file so we can accsess that many time\n",
    "3. Read and save tweets data in dataframe so we can access in our notebook\n",
    "4. Make sure that data has been read correctly\n",
    "    - print head"
   ]
  },
  {
   "cell_type": "code",
   "execution_count": null,
   "metadata": {},
   "outputs": [],
   "source": [
    "import json\n",
    "from timeit import default_timer as timer"
   ]
  },
  {
   "cell_type": "code",
   "execution_count": null,
   "metadata": {},
   "outputs": [
    {
     "name": "stdout",
     "output_type": "stream",
     "text": [
      "666020888022790149 : done, 1/2356\n",
      "666029285002620928 : done, 2/2356\n",
      "666033412701032449 : done, 3/2356\n",
      "666044226329800704 : done, 4/2356\n",
      "666049248165822465 : done, 5/2356\n",
      "666050758794694657 : done, 6/2356\n",
      "666051853826850816 : done, 7/2356\n",
      "666055525042405380 : done, 8/2356\n",
      "666057090499244032 : done, 9/2356\n",
      "666058600524156928 : done, 10/2356\n",
      "666063827256086533 : done, 11/2356\n",
      "666071193221509120 : done, 12/2356\n",
      "666073100786774016 : done, 13/2356\n",
      "666082916733198337 : done, 14/2356\n",
      "666094000022159362 : done, 15/2356\n",
      "666099513787052032 : done, 16/2356\n",
      "666102155909144576 : done, 17/2356\n",
      "666104133288665088 : done, 18/2356\n",
      "666268910803644416 : done, 19/2356\n",
      "666273097616637952 : done, 20/2356\n",
      "666287406224695296 : done, 21/2356\n",
      "666293911632134144 : done, 22/2356\n",
      "666337882303524864 : done, 23/2356\n",
      "666345417576210432 : done, 24/2356\n",
      "666353288456101888 : done, 25/2356\n",
      "666362758909284353 : done, 26/2356\n",
      "666373753744588802 : done, 27/2356\n",
      "666396247373291520 : done, 28/2356\n",
      "666407126856765440 : done, 29/2356\n",
      "666411507551481857 : done, 30/2356\n",
      "666418789513326592 : done, 31/2356\n",
      "666421158376562688 : done, 32/2356\n",
      "666428276349472768 : done, 33/2356\n",
      "666430724426358785 : done, 34/2356\n",
      "666435652385423360 : done, 35/2356\n",
      "666437273139982337 : done, 36/2356\n",
      "666447344410484738 : done, 37/2356\n",
      "666454714377183233 : done, 38/2356\n",
      "666644823164719104 : done, 39/2356\n",
      "666649482315059201 : done, 40/2356\n",
      "666691418707132416 : done, 41/2356\n",
      "666701168228331520 : done, 42/2356\n",
      "666739327293083650 : done, 43/2356\n",
      "666776908487630848 : done, 44/2356\n",
      "666781792255496192 : done, 45/2356\n",
      "666786068205871104 : done, 46/2356\n",
      "666804364988780544 : done, 47/2356\n",
      "666817836334096384 : done, 48/2356\n",
      "666826780179869698 : done, 49/2356\n",
      "666835007768551424 : done, 50/2356\n",
      "666837028449972224 : done, 51/2356\n",
      "666983947667116034 : done, 52/2356\n",
      "666996132027977728 : done, 53/2356\n",
      "667012601033924608 : done, 54/2356\n",
      "667044094246576128 : done, 55/2356\n",
      "667062181243039745 : done, 56/2356\n",
      "667065535570550784 : done, 57/2356\n",
      "667070482143944705 : done, 58/2356\n",
      "667073648344346624 : done, 59/2356\n",
      "667090893657276420 : done, 60/2356\n",
      "667119796878725120 : done, 61/2356\n",
      "667138269671505920 : done, 62/2356\n",
      "667152164079423490 : done, 63/2356\n",
      "667160273090932737 : done, 64/2356\n",
      "667165590075940865 : done, 65/2356\n",
      "667171260800061440 : done, 66/2356\n",
      "667174963120574464 : done, 67/2356\n",
      "667176164155375616 : done, 68/2356\n",
      "667177989038297088 : done, 69/2356\n",
      "667182792070062081 : done, 70/2356\n",
      "667188689915760640 : done, 71/2356\n",
      "667192066997374976 : done, 72/2356\n",
      "667200525029539841 : done, 73/2356\n",
      "667211855547486208 : done, 74/2356\n",
      "667369227918143488 : done, 75/2356\n",
      "667393430834667520 : done, 76/2356\n",
      "667405339315146752 : done, 77/2356\n",
      "667435689202614272 : done, 78/2356\n",
      "667437278097252352 : done, 79/2356\n",
      "667443425659232256 : done, 80/2356\n",
      "667453023279554560 : done, 81/2356\n",
      "667455448082227200 : done, 82/2356\n",
      "667470559035432960 : done, 83/2356\n",
      "667491009379606528 : done, 84/2356\n",
      "667495797102141441 : done, 85/2356\n",
      "667502640335572993 : done, 86/2356\n",
      "667509364010450944 : done, 87/2356\n",
      "667517642048163840 : done, 88/2356\n",
      "667524857454854144 : done, 89/2356\n",
      "667530908589760512 : done, 90/2356\n",
      "667534815156183040 : done, 91/2356\n",
      "667538891197542400 : done, 92/2356\n",
      "667544320556335104 : done, 93/2356\n",
      "667546741521195010 : done, 94/2356\n",
      "667549055577362432 : done, 95/2356\n",
      "667550882905632768 : done, 96/2356\n",
      "667550904950915073 : done, 97/2356\n",
      "667724302356258817 : done, 98/2356\n",
      "667728196545200128 : done, 99/2356\n",
      "667766675769573376 : done, 100/2356\n",
      "667773195014021121 : done, 101/2356\n",
      "667782464991965184 : done, 102/2356\n",
      "667793409583771648 : done, 103/2356\n",
      "667801013445750784 : done, 104/2356\n",
      "667806454573760512 : done, 105/2356\n",
      "667832474953625600 : done, 106/2356\n",
      "667861340749471744 : done, 107/2356\n",
      "667866724293877760 : done, 108/2356\n",
      "667873844930215936 : done, 109/2356\n",
      "667878741721415682 : done, 110/2356\n",
      "667885044254572545 : done, 111/2356\n",
      "667886921285246976 : done, 112/2356\n",
      "667902449697558528 : done, 113/2356\n",
      "667911425562669056 : done, 114/2356\n",
      "667915453470232577 : done, 115/2356\n",
      "667924896115245057 : done, 116/2356\n",
      "667937095915278337 : done, 117/2356\n",
      "668113020489474048 : done, 118/2356\n",
      "668142349051129856 : done, 119/2356\n",
      "668154635664932864 : done, 120/2356\n",
      "668171859951755264 : done, 121/2356\n",
      "668190681446379520 : done, 122/2356\n",
      "668204964695683073 : done, 123/2356\n",
      "668221241640230912 : done, 124/2356\n",
      "668226093875376128 : done, 125/2356\n",
      "668237644992782336 : done, 126/2356\n",
      "668248472370458624 : done, 127/2356\n",
      "668256321989451776 : done, 128/2356\n",
      "668268907921326080 : done, 129/2356\n",
      "668274247790391296 : done, 130/2356\n",
      "668286279830867968 : done, 131/2356\n",
      "668291999406125056 : done, 132/2356\n",
      "668297328638447616 : done, 133/2356\n",
      "668466899341221888 : done, 134/2356\n",
      "668480044826800133 : done, 135/2356\n",
      "668484198282485761 : done, 136/2356\n",
      "668496999348633600 : done, 137/2356\n",
      "668507509523615744 : done, 138/2356\n",
      "668528771708952576 : done, 139/2356\n",
      "668537837512433665 : done, 140/2356\n",
      "668542336805281792 : done, 141/2356\n",
      "668544745690562560 : done, 142/2356\n",
      "668567822092664832 : done, 143/2356\n",
      "668587383441514497 : done, 144/2356\n",
      "668614819948453888 : done, 145/2356\n",
      "668620235289837568 : done, 146/2356\n",
      "668623201287675904 : done, 147/2356\n",
      "668625577880875008 : done, 148/2356\n",
      "668627278264475648 : done, 149/2356\n",
      "668631377374486528 : done, 150/2356\n",
      "668633411083464705 : done, 151/2356\n",
      "668636665813057536 : done, 152/2356\n",
      "668641109086707712 : done, 153/2356\n",
      "668643542311546881 : done, 154/2356\n",
      "668645506898350081 : done, 155/2356\n",
      "668655139528511488 : done, 156/2356\n",
      "668779399630725120 : done, 157/2356\n",
      "668815180734689280 : done, 158/2356\n",
      "668826086256599040 : done, 159/2356\n",
      "668852170888998912 : done, 160/2356\n",
      "668872652652679168 : done, 161/2356\n",
      "668892474547511297 : done, 162/2356\n",
      "668902994700836864 : done, 163/2356\n",
      "668932921458302977 : done, 164/2356\n",
      "668955713004314625 : done, 165/2356\n",
      "668960084974809088 : done, 166/2356\n",
      "668967877119254528 : done, 167/2356\n",
      "668975677807423489 : done, 168/2356\n",
      "668979806671884288 : done, 169/2356\n",
      "668981893510119424 : done, 170/2356\n",
      "668986018524233728 : done, 171/2356\n",
      "668988183816871936 : done, 172/2356\n",
      "668989615043424256 : done, 173/2356\n",
      "668992363537309700 : done, 174/2356\n",
      "668994913074286592 : done, 175/2356\n",
      "669000397445533696 : done, 176/2356\n",
      "669006782128353280 : done, 177/2356\n",
      "669015743032369152 : done, 178/2356\n",
      "669037058363662336 : done, 179/2356\n",
      "669203728096960512 : done, 180/2356\n",
      "669214165781868544 : done, 181/2356\n",
      "669216679721873412 : done, 182/2356\n",
      "669324657376567296 : done, 183/2356\n",
      "669327207240699904 : done, 184/2356\n",
      "669328503091937280 : done, 185/2356\n",
      "669351434509529089 : done, 186/2356\n",
      "669353438988365824 : done, 187/2356\n",
      "669354382627049472 : done, 188/2356\n",
      "669359674819481600 : done, 189/2356\n",
      "669363888236994561 : done, 190/2356\n",
      "669367896104181761 : done, 191/2356\n",
      "669371483794317312 : done, 192/2356\n",
      "669375718304980992 : done, 193/2356\n",
      "669393256313184256 : done, 194/2356\n",
      "669564461267722241 : done, 195/2356\n",
      "669567591774625800 : done, 196/2356\n",
      "669571471778410496 : done, 197/2356\n",
      "669573570759163904 : done, 198/2356\n",
      "669583744538451968 : done, 199/2356\n",
      "669597912108789760 : done, 200/2356\n",
      "669603084620980224 : done, 201/2356\n",
      "669625907762618368 : done, 202/2356\n",
      "669661792646373376 : done, 203/2356\n",
      "669680153564442624 : done, 204/2356\n",
      "669682095984410625 : done, 205/2356\n",
      "669683899023405056 : done, 206/2356\n",
      "669684865554620416 : done, 207/2356\n",
      "669749430875258880 : done, 208/2356\n",
      "669753178989142016 : done, 209/2356\n",
      "669923323644657664 : done, 210/2356\n",
      "669926384437997569 : done, 211/2356\n",
      "669942763794931712 : done, 212/2356\n",
      "669970042633789440 : done, 213/2356\n",
      "669972011175813120 : done, 214/2356\n",
      "669993076832759809 : done, 215/2356\n",
      "670003130994700288 : done, 216/2356\n",
      "670037189829525505 : done, 217/2356\n",
      "670040295598354432 : done, 218/2356\n",
      "670046952931721218 : done, 219/2356\n",
      "670055038660800512 : done, 220/2356\n",
      "670061506722140161 : done, 221/2356\n",
      "670069087419133954 : done, 222/2356\n",
      "670073503555706880 : done, 223/2356\n",
      "670079681849372674 : done, 224/2356\n",
      "670086499208155136 : done, 225/2356\n",
      "670093938074779648 : done, 226/2356\n",
      "670290420111441920 : done, 227/2356\n",
      "670303360680108032 : done, 228/2356\n",
      "670319130621435904 : done, 229/2356\n",
      "670338931251150849 : done, 230/2356\n",
      "670361874861563904 : done, 231/2356\n"
     ]
    },
    {
     "name": "stdout",
     "output_type": "stream",
     "text": [
      "670374371102445568 : done, 232/2356\n",
      "670385711116361728 : done, 233/2356\n",
      "670403879788544000 : done, 234/2356\n",
      "670408998013820928 : done, 235/2356\n",
      "670411370698022913 : done, 236/2356\n",
      "670417414769758208 : done, 237/2356\n",
      "670420569653809152 : done, 238/2356\n",
      "670421925039075328 : done, 239/2356\n",
      "670427002554466305 : done, 240/2356\n",
      "670428280563085312 : done, 241/2356\n",
      "670433248821026816 : done, 242/2356\n",
      "670434127938719744 : done, 243/2356\n",
      "670435821946826752 : done, 244/2356\n",
      "670442337873600512 : done, 245/2356\n",
      "670444955656130560 : done, 246/2356\n",
      "670449342516494336 : done, 247/2356\n",
      "670452855871037440 : done, 248/2356\n",
      "670465786746662913 : done, 249/2356\n",
      "670468609693655041 : done, 250/2356\n",
      "670474236058800128 : done, 251/2356\n",
      "670668383499735048 : done, 252/2356\n",
      "670676092097810432 : done, 253/2356\n",
      "670679630144274432 : done, 254/2356\n",
      "670691627984359425 : done, 255/2356\n",
      "670704688707301377 : done, 256/2356\n",
      "670717338665226240 : done, 257/2356\n",
      "670727704916926465 : done, 258/2356\n",
      "670733412878163972 : done, 259/2356\n",
      "670755717859713024 : done, 260/2356\n",
      "670764103623966721 : done, 261/2356\n",
      "670778058496974848 : done, 262/2356\n",
      "670780561024270336 : done, 263/2356\n",
      "670782429121134593 : done, 264/2356\n",
      "670783437142401025 : done, 265/2356\n",
      "670786190031921152 : done, 266/2356\n",
      "670789397210615808 : done, 267/2356\n",
      "670792680469889025 : done, 268/2356\n",
      "670797304698376195 : done, 269/2356\n",
      "670803562457407488 : done, 270/2356\n",
      "670804601705242624 : done, 271/2356\n",
      "670807719151067136 : done, 272/2356\n",
      "670811965569282048 : done, 273/2356\n",
      "670815497391357952 : done, 274/2356\n",
      "670822709593571328 : done, 275/2356\n",
      "670823764196741120 : done, 276/2356\n",
      "670826280409919488 : done, 277/2356\n",
      "670832455012716544 : done, 278/2356\n",
      "670833812859932673 : done, 279/2356\n",
      "670838202509447168 : done, 280/2356\n",
      "670840546554966016 : done, 281/2356\n",
      "670842764863651840 : done, 282/2356\n",
      "670995969505435648 : done, 283/2356\n",
      "671109016219725825 : done, 284/2356\n",
      "671115716440031232 : done, 285/2356\n",
      "671122204919246848 : done, 286/2356\n",
      "671134062904504320 : done, 287/2356\n",
      "671138694582165504 : done, 288/2356\n",
      "671141549288370177 : done, 289/2356\n",
      "671147085991960577 : done, 290/2356\n",
      "671151324042559489 : done, 291/2356\n",
      "671154572044468225 : done, 292/2356\n",
      "671159727754231808 : done, 293/2356\n",
      "671163268581498880 : done, 294/2356\n",
      "671166507850801152 : done, 295/2356\n",
      "671182547775299584 : done, 296/2356\n",
      "671186162933985280 : done, 297/2356\n",
      "671347597085433856 : done, 298/2356\n",
      "671355857343524864 : done, 299/2356\n",
      "671357843010908160 : done, 300/2356\n",
      "671362598324076544 : done, 301/2356\n",
      "671390180817915904 : done, 302/2356\n",
      "671485057807351808 : done, 303/2356\n",
      "671486386088865792 : done, 304/2356\n",
      "671488513339211776 : done, 305/2356\n",
      "671497587707535361 : done, 306/2356\n",
      "671504605491109889 : done, 307/2356\n",
      "671511350426865664 : done, 308/2356\n",
      "671518598289059840 : done, 309/2356\n",
      "671520732782923777 : done, 310/2356\n",
      "671528761649688577 : done, 311/2356\n",
      "671533943490011136 : done, 312/2356\n",
      "671536543010570240 : done, 313/2356\n",
      "671538301157904385 : done, 314/2356\n",
      "671542985629241344 : done, 315/2356\n",
      "671544874165002241 : done, 316/2356\n",
      "671547767500775424 : done, 317/2356\n",
      "671550332464455680 : done, 318/2356\n",
      "671561002136281088 : done, 319/2356\n",
      "671729906628341761 : done, 320/2356\n",
      "671735591348891648 : done, 321/2356\n",
      "671743150407421952 : done, 322/2356\n",
      "671744970634719232 : done, 323/2356\n",
      "671763349865160704 : done, 324/2356\n",
      "671768281401958400 : done, 325/2356\n",
      "671789708968640512 : done, 326/2356\n",
      "671855973984772097 : done, 327/2356\n",
      "671866342182637568 : done, 328/2356\n",
      "671874878652489728 : done, 329/2356\n",
      "671879137494245376 : done, 330/2356\n",
      "671882082306625538 : done, 331/2356\n",
      "671891728106971137 : done, 332/2356\n",
      "671896809300709376 : done, 333/2356\n",
      "672068090318987265 : done, 334/2356\n",
      "672082170312290304 : done, 335/2356\n",
      "672095186491711488 : done, 336/2356\n",
      "672125275208069120 : done, 337/2356\n",
      "672139350159835138 : done, 338/2356\n",
      "672160042234327040 : done, 339/2356\n",
      "672169685991993344 : done, 340/2356\n",
      "672205392827572224 : done, 341/2356\n",
      "672222792075620352 : done, 342/2356\n",
      "672231046314901505 : done, 343/2356\n",
      "672239279297454080 : done, 344/2356\n",
      "672245253877968896 : done, 345/2356\n",
      "672248013293752320 : done, 346/2356\n",
      "672254177670729728 : done, 347/2356\n",
      "672256522047614977 : done, 348/2356\n",
      "672264251789176834 : done, 349/2356\n",
      "672267570918129665 : done, 350/2356\n",
      "672272411274932228 : done, 351/2356\n",
      "672466075045466113 : done, 352/2356\n",
      "672475084225949696 : done, 353/2356\n",
      "672481316919734272 : done, 354/2356\n",
      "672482722825261057 : done, 355/2356\n",
      "672488522314567680 : done, 356/2356\n",
      "672523490734551040 : done, 357/2356\n",
      "672538107540070400 : done, 358/2356\n",
      "672591271085670400 : done, 359/2356\n",
      "672591762242805761 : done, 360/2356\n",
      "672594978741354496 : done, 361/2356\n",
      "672604026190569472 : done, 362/2356\n",
      "672609152938721280 : done, 363/2356\n",
      "672614745925664768 : done, 364/2356\n",
      "672622327801233409 : done, 365/2356\n",
      "672640509974827008 : done, 366/2356\n",
      "672828477930868736 : done, 367/2356\n",
      "672834301050937345 : done, 368/2356\n",
      "672877615439593473 : done, 369/2356\n",
      "672884426393653248 : done, 370/2356\n",
      "672898206762672129 : done, 371/2356\n",
      "672902681409806336 : done, 372/2356\n",
      "672964561327235073 : done, 373/2356\n",
      "672968025906282496 : done, 374/2356\n",
      "672970152493887488 : done, 375/2356\n",
      "672975131468300288 : done, 376/2356\n",
      "672980819271634944 : done, 377/2356\n",
      "672984142909456390 : done, 378/2356\n",
      "672988786805112832 : done, 379/2356\n",
      "672995267319328768 : done, 380/2356\n",
      "672997845381865473 : done, 381/2356\n",
      "673148804208660480 : done, 382/2356\n",
      "673213039743795200 : done, 383/2356\n",
      "673240798075449344 : done, 384/2356\n",
      "673270968295534593 : done, 385/2356\n",
      "673295268553605120 : done, 386/2356\n",
      "673317986296586240 : done, 387/2356\n",
      "673320132811366400 : done, 388/2356\n",
      "673342308415348736 : done, 389/2356\n",
      "673343217010679808 : done, 390/2356\n",
      "673345638550134785 : done, 391/2356\n",
      "673350198937153538 : done, 392/2356\n",
      "673352124999274496 : done, 393/2356\n",
      "673355879178194945 : done, 394/2356\n",
      "673359818736984064 : done, 395/2356\n",
      "673363615379013632 : done, 396/2356\n",
      "673576835670777856 : done, 397/2356\n",
      "673580926094458881 : done, 398/2356\n",
      "673583129559498752 : done, 399/2356\n",
      "673612854080196609 : done, 400/2356\n",
      "673636718965334016 : done, 401/2356\n",
      "673656262056419329 : done, 402/2356\n",
      "673662677122719744 : done, 403/2356\n",
      "673680198160809984 : done, 404/2356\n",
      "673686845050527744 : done, 405/2356\n",
      "673688752737402881 : done, 406/2356\n",
      "673689733134946305 : done, 407/2356\n",
      "673697980713705472 : done, 408/2356\n",
      "673700254269775872 : done, 409/2356\n",
      "673705679337693185 : done, 410/2356\n",
      "673707060090052608 : done, 411/2356\n",
      "673708611235921920 : done, 412/2356\n",
      "673709992831262724 : done, 413/2356\n",
      "673711475735838725 : done, 414/2356\n",
      "673715861853720576 : done, 415/2356\n",
      "673716320723169284 : done, 416/2356\n",
      "673887867907739649 : done, 417/2356\n",
      "673906403526995968 : done, 418/2356\n",
      "673919437611909120 : done, 419/2356\n",
      "673956914389192708 : done, 420/2356\n",
      "674008982932058114 : done, 421/2356\n",
      "674014384960745472 : done, 422/2356\n",
      "674019345211760640 : done, 423/2356\n",
      "674024893172875264 : done, 424/2356\n",
      "674036086168010753 : done, 425/2356\n",
      "674038233588723717 : done, 426/2356\n",
      "674042553264685056 : done, 427/2356\n",
      "674045139690631169 : done, 428/2356\n",
      "674051556661161984 : done, 429/2356\n",
      "674053186244734976 : done, 430/2356\n",
      "674063288070742018 : done, 431/2356\n",
      "674075285688614912 : done, 432/2356\n",
      "674082852460433408 : done, 433/2356\n",
      "674255168825880576 : done, 434/2356\n",
      "674262580978937856 : done, 435/2356\n",
      "674265582246694913 : done, 436/2356\n",
      "674269164442398721 : done, 437/2356\n",
      "674271431610523648 : done, 438/2356\n",
      "674291837063053312 : done, 439/2356\n",
      "674307341513269249 : done, 440/2356\n",
      "674318007229923329 : done, 441/2356\n",
      "674330906434379776 : done, 442/2356\n",
      "674372068062928900 : done, 443/2356\n",
      "674394782723014656 : done, 444/2356\n",
      "674410619106390016 : done, 445/2356\n",
      "674416750885273600 : done, 446/2356\n",
      "674422304705744896 : done, 447/2356\n",
      "674436901579923456 : done, 448/2356\n",
      "674447403907457024 : done, 449/2356\n",
      "674468880899788800 : done, 450/2356\n",
      "674606911342424069 : done, 451/2356\n",
      "674632714662858753 : done, 452/2356\n",
      "674638615994089473 : done, 453/2356\n",
      "674644256330530816 : done, 454/2356\n",
      "674646392044941312 : done, 455/2356\n",
      "674664755118911488 : done, 456/2356\n",
      "674670581682434048 : done, 457/2356\n",
      "674690135443775488 : done, 458/2356\n",
      "674737130913071104 : done, 459/2356\n"
     ]
    },
    {
     "name": "stdout",
     "output_type": "stream",
     "text": [
      "674739953134403584 : done, 460/2356\n",
      "674742531037511680 : done, 461/2356\n",
      "674743008475090944 : done, 462/2356\n",
      "674752233200820224 : done, 463/2356\n",
      "674754018082705410 : done, 464/2356\n",
      "674764817387900928 : done, 465/2356\n",
      "674767892831932416 : done, 466/2356\n",
      "674774481756377088 : done, 467/2356\n",
      "674781762103414784 : done, 468/2356\n",
      "674788554665512960 : done, 469/2356\n",
      "674790488185167872 : done, 470/2356\n",
      "674793399141146624 : done, 471/2356\n",
      "674800520222154752 : done, 472/2356\n",
      "674805413498527744 : done, 473/2356\n",
      "674999807681908736 : done, 474/2356\n",
      "675003128568291329 : done, 475/2356\n",
      "675006312288268288 : done, 476/2356\n",
      "675015141583413248 : done, 477/2356\n",
      "675047298674663426 : done, 478/2356\n",
      "675109292475830276 : done, 479/2356\n",
      "675111688094527488 : done, 480/2356\n",
      "675113801096802304 : done, 481/2356\n",
      "675135153782571009 : done, 482/2356\n",
      "675145476954566656 : done, 483/2356\n",
      "675146535592706048 : done, 484/2356\n",
      "675147105808306176 : done, 485/2356\n",
      "675149409102012420 : done, 486/2356\n",
      "675153376133427200 : done, 487/2356\n",
      "675166823650848770 : done, 488/2356\n",
      "675334060156301312 : done, 489/2356\n",
      "675349384339542016 : done, 490/2356\n",
      "675354435921575936 : done, 491/2356\n",
      "675362609739206656 : done, 492/2356\n",
      "675372240448454658 : done, 493/2356\n",
      "675432746517426176 : done, 494/2356\n",
      "675483430902214656 : done, 495/2356\n",
      "675489971617296384 : done, 496/2356\n",
      "675497103322386432 : done, 497/2356\n",
      "675501075957489664 : done, 498/2356\n",
      "675517828909424640 : done, 499/2356\n",
      "675522403582218240 : done, 500/2356\n",
      "675531475945709568 : done, 501/2356\n",
      "675534494439489536 : done, 502/2356\n",
      "675706639471788032 : done, 503/2356\n",
      "675707330206547968 : done, 504/2356\n",
      "675710890956750848 : done, 505/2356\n",
      "675740360753160193 : done, 506/2356\n",
      "675781562965868544 : done, 507/2356\n",
      "675798442703122432 : done, 508/2356\n",
      "675820929667219457 : done, 509/2356\n",
      "675822767435051008 : done, 510/2356\n",
      "675845657354215424 : done, 511/2356\n",
      "675849018447167488 : done, 512/2356\n",
      "675853064436391936 : done, 513/2356\n",
      "675870721063669760 : done, 514/2356\n",
      "675878199931371520 : done, 515/2356\n",
      "675888385639251968 : done, 516/2356\n",
      "675891555769696257 : done, 517/2356\n",
      "675898130735476737 : done, 518/2356\n",
      "676089483918516224 : done, 519/2356\n",
      "676098748976615425 : done, 520/2356\n",
      "676101918813499392 : done, 521/2356\n",
      "676121918416756736 : done, 522/2356\n",
      "676146341966438401 : done, 523/2356\n",
      "676191832485810177 : done, 524/2356\n",
      "676215927814406144 : done, 525/2356\n",
      "676219687039057920 : done, 526/2356\n",
      "676237365392908289 : done, 527/2356\n",
      "676263575653122048 : done, 528/2356\n",
      "676430933382295552 : done, 529/2356\n",
      "676440007570247681 : done, 530/2356\n",
      "676470639084101634 : done, 531/2356\n",
      "676496375194980353 : done, 532/2356\n",
      "676533798876651520 : done, 533/2356\n",
      "676575501977128964 : done, 534/2356\n",
      "676582956622721024 : done, 535/2356\n",
      "676588346097852417 : done, 536/2356\n",
      "676590572941893632 : done, 537/2356\n",
      "676593408224403456 : done, 538/2356\n",
      "676603393314578432 : done, 539/2356\n",
      "676606785097199616 : done, 540/2356\n",
      "676613908052996102 : done, 541/2356\n",
      "676617503762681856 : done, 542/2356\n",
      "676776431406465024 : done, 543/2356\n",
      "676811746707918848 : done, 544/2356\n",
      "676819651066732545 : done, 545/2356\n",
      "676821958043033607 : done, 546/2356\n",
      "676864501615042560 : done, 547/2356\n",
      "676897532954456065 : done, 548/2356\n",
      "676916996760600576 : done, 549/2356\n",
      "676936541936185344 : done, 550/2356\n",
      "676942428000112642 : done, 551/2356\n",
      "676946864479084545 : done, 552/2356\n",
      "676948236477857792 : done, 553/2356\n",
      "676949632774234114 : done, 554/2356\n",
      "676957860086095872 : done, 555/2356\n",
      "676975532580409345 : done, 556/2356\n",
      "677187300187611136 : done, 557/2356\n",
      "677228873407442944 : done, 558/2356\n",
      "677269281705472000 : done, 559/2356\n",
      "677301033169788928 : done, 560/2356\n",
      "677314812125323265 : done, 561/2356\n",
      "677328882937298944 : done, 562/2356\n",
      "677331501395156992 : done, 563/2356\n",
      "677334615166730240 : done, 564/2356\n",
      "677335745548390400 : done, 565/2356\n",
      "677530072887205888 : done, 566/2356\n",
      "677547928504967168 : done, 567/2356\n",
      "677557565589463040 : done, 568/2356\n",
      "677565715327688705 : done, 569/2356\n",
      "677573743309385728 : done, 570/2356\n",
      "677644091929329666 : done, 571/2356\n",
      "677662372920729601 : done, 572/2356\n",
      "677673981332312066 : done, 573/2356\n",
      "677687604918272002 : done, 574/2356\n",
      "677698403548192770 : done, 575/2356\n",
      "677700003327029250 : done, 576/2356\n",
      "677716515794329600 : done, 577/2356\n",
      "677895101218201600 : done, 578/2356\n",
      "677918531514703872 : done, 579/2356\n",
      "677961670166224897 : done, 580/2356\n",
      "678021115718029313 : done, 581/2356\n",
      "678023323247357953 : done, 582/2356\n",
      "678255464182861824 : done, 583/2356\n",
      "678278586130948096 : done, 584/2356\n",
      "678334497360859136 : done, 585/2356\n",
      "678341075375947776 : done, 586/2356\n",
      "678380236862578688 : done, 587/2356\n",
      "678389028614488064 : done, 588/2356\n",
      "678396796259975168 : done, 589/2356\n",
      "678399652199309312 : done, 590/2356\n",
      "678410210315247616 : done, 591/2356\n",
      "678424312106393600 : done, 592/2356\n",
      "678446151570427904 : done, 593/2356\n",
      "678643457146150913 : done, 594/2356\n",
      "678675843183484930 : done, 595/2356\n",
      "678708137298427904 : done, 596/2356\n",
      "678740035362037760 : done, 597/2356\n",
      "678755239630127104 : done, 598/2356\n",
      "678764513869611008 : done, 599/2356\n",
      "678767140346941444 : done, 600/2356\n",
      "678774928607469569 : done, 601/2356\n",
      "678798276842360832 : done, 602/2356\n",
      "678800283649069056 : done, 603/2356\n",
      "678969228704284672 : done, 604/2356\n",
      "678991772295516161 : done, 605/2356\n",
      "679001094530465792 : done, 606/2356\n",
      "679047485189439488 : done, 607/2356\n",
      "679062614270468097 : done, 608/2356\n",
      "679111216690831360 : done, 609/2356\n",
      "679132435750195208 : done, 610/2356\n",
      "679148763231985668 : done, 611/2356\n",
      "679158373988876288 : done, 612/2356\n",
      "679405845277462528 : done, 613/2356\n",
      "679462823135686656 : done, 614/2356\n",
      "679475951516934144 : done, 615/2356\n",
      "679503373272485890 : done, 616/2356\n",
      "679511351870550016 : done, 617/2356\n",
      "679527802031484928 : done, 618/2356\n",
      "679530280114372609 : done, 619/2356\n",
      "679722016581222400 : done, 620/2356\n",
      "679729593985699840 : done, 621/2356\n",
      "679736210798047232 : done, 622/2356\n",
      "679777920601223168 : done, 623/2356\n",
      "679828447187857408 : done, 624/2356\n",
      "679844490799091713 : done, 625/2356\n",
      "679854723806179328 : done, 626/2356\n",
      "679862121895714818 : done, 627/2356\n",
      "679872969355714560 : done, 628/2356\n",
      "679877062409191424 : done, 629/2356\n",
      "680055455951884288 : [{'code': 144, 'message': 'No status found with that ID.'}], total fail= 1\n",
      "680070545539371008 : done, 630/2356\n",
      "680085611152338944 : done, 631/2356\n",
      "680100725817409536 : done, 632/2356\n",
      "680115823365742593 : done, 633/2356\n",
      "680130881361686529 : done, 634/2356\n",
      "680145970311643136 : done, 635/2356\n",
      "680161097740095489 : done, 636/2356\n",
      "680176173301628928 : done, 637/2356\n",
      "680191257256136705 : done, 638/2356\n",
      "680206703334408192 : done, 639/2356\n",
      "680221482581123072 : done, 640/2356\n",
      "680440374763077632 : done, 641/2356\n",
      "680473011644985345 : done, 642/2356\n",
      "680494726643068929 : done, 643/2356\n",
      "680497766108381184 : done, 644/2356\n",
      "680583894916304897 : done, 645/2356\n",
      "680609293079592961 : done, 646/2356\n",
      "680798457301471234 : done, 647/2356\n",
      "680801747103793152 : done, 648/2356\n",
      "680805554198020098 : done, 649/2356\n",
      "680836378243002368 : done, 650/2356\n",
      "680889648562991104 : done, 651/2356\n",
      "680913438424612864 : done, 652/2356\n",
      "680934982542561280 : done, 653/2356\n",
      "680940246314430465 : done, 654/2356\n",
      "680959110691590145 : done, 655/2356\n",
      "680970795137544192 : done, 656/2356\n",
      "681193455364796417 : done, 657/2356\n",
      "681231109724700672 : done, 658/2356\n",
      "681242418453299201 : done, 659/2356\n",
      "681261549936340994 : done, 660/2356\n",
      "681281657291280384 : done, 661/2356\n",
      "681297372102656000 : done, 662/2356\n",
      "681302363064414209 : done, 663/2356\n",
      "681320187870711809 : done, 664/2356\n",
      "681339448655802368 : done, 665/2356\n",
      "681340665377193984 : done, 666/2356\n",
      "681523177663676416 : done, 667/2356\n",
      "681579835668455424 : done, 668/2356\n",
      "681610798867845120 : done, 669/2356\n",
      "681654059175129088 : done, 670/2356\n",
      "681679526984871937 : done, 671/2356\n",
      "681694085539872773 : done, 672/2356\n",
      "681891461017812993 : done, 673/2356\n",
      "681981167097122816 : done, 674/2356\n",
      "682003177596559360 : done, 675/2356\n",
      "682032003584274432 : done, 676/2356\n",
      "682047327939461121 : done, 677/2356\n",
      "682059653698686977 : done, 678/2356\n",
      "682088079302213632 : done, 679/2356\n",
      "682242692827447297 : done, 680/2356\n",
      "682259524040966145 : done, 681/2356\n",
      "682303737705140231 : done, 682/2356\n",
      "682389078323662849 : done, 683/2356\n",
      "682393905736888321 : done, 684/2356\n"
     ]
    },
    {
     "name": "stdout",
     "output_type": "stream",
     "text": [
      "682406705142087680 : done, 685/2356\n",
      "682429480204398592 : done, 686/2356\n",
      "682638830361513985 : done, 687/2356\n",
      "682662431982772225 : done, 688/2356\n",
      "682697186228989953 : done, 689/2356\n",
      "682750546109968385 : done, 690/2356\n",
      "682788441537560576 : done, 691/2356\n",
      "682808988178739200 : done, 692/2356\n",
      "682962037429899265 : done, 693/2356\n",
      "683030066213818368 : done, 694/2356\n",
      "683078886620553216 : done, 695/2356\n",
      "683098815881154561 : done, 696/2356\n",
      "683111407806746624 : done, 697/2356\n",
      "683142553609318400 : done, 698/2356\n",
      "683357973142474752 : done, 699/2356\n",
      "683391852557561860 : done, 700/2356\n",
      "683449695444799489 : done, 701/2356\n",
      "683462770029932544 : done, 702/2356\n",
      "683481228088049664 : done, 703/2356\n",
      "683498322573824003 : done, 704/2356\n",
      "683515932363329536 : done, 705/2356\n",
      "683742671509258241 : done, 706/2356\n",
      "683773439333797890 : done, 707/2356\n",
      "683828599284170753 : done, 708/2356\n",
      "683834909291606017 : done, 709/2356\n",
      "683849932751646720 : done, 710/2356\n",
      "683852578183077888 : done, 711/2356\n",
      "683857920510050305 : done, 712/2356\n",
      "684097758874210310 : done, 713/2356\n",
      "684122891630342144 : done, 714/2356\n",
      "684147889187209216 : done, 715/2356\n",
      "684177701129875456 : done, 716/2356\n",
      "684188786104872960 : done, 717/2356\n",
      "684195085588783105 : done, 718/2356\n",
      "684200372118904832 : done, 719/2356\n",
      "684222868335505415 : done, 720/2356\n",
      "684225744407494656 : done, 721/2356\n",
      "684241637099323392 : done, 722/2356\n",
      "684460069371654144 : done, 723/2356\n",
      "684481074559381504 : done, 724/2356\n",
      "684538444857667585 : done, 725/2356\n",
      "684567543613382656 : done, 726/2356\n",
      "684588130326986752 : done, 727/2356\n",
      "684594889858887680 : done, 728/2356\n",
      "684800227459624960 : done, 729/2356\n",
      "684830982659280897 : done, 730/2356\n",
      "684880619965411328 : done, 731/2356\n",
      "684902183876321280 : done, 732/2356\n",
      "684914660081053696 : done, 733/2356\n",
      "684926975086034944 : done, 734/2356\n",
      "684940049151070208 : done, 735/2356\n",
      "684959798585110529 : done, 736/2356\n",
      "684969860808454144 : done, 737/2356\n",
      "685169283572338688 : done, 738/2356\n",
      "685198997565345792 : done, 739/2356\n",
      "685268753634967552 : done, 740/2356\n",
      "685307451701334016 : done, 741/2356\n",
      "685315239903100929 : done, 742/2356\n",
      "685321586178670592 : done, 743/2356\n",
      "685325112850124800 : done, 744/2356\n",
      "685532292383666176 : done, 745/2356\n",
      "685547936038666240 : done, 746/2356\n",
      "685641971164143616 : done, 747/2356\n",
      "685663452032069632 : done, 748/2356\n",
      "685667379192414208 : done, 749/2356\n",
      "685681090388975616 : done, 750/2356\n",
      "685906723014619143 : done, 751/2356\n",
      "685943807276412928 : done, 752/2356\n",
      "685973236358713344 : done, 753/2356\n",
      "686003207160610816 : done, 754/2356\n",
      "686007916130873345 : done, 755/2356\n",
      "686034024800862208 : done, 756/2356\n",
      "686035780142297088 : done, 757/2356\n",
      "686050296934563840 : done, 758/2356\n",
      "686286779679375361 : done, 759/2356\n",
      "686358356425093120 : done, 760/2356\n",
      "686377065986265092 : done, 761/2356\n",
      "686386521809772549 : done, 762/2356\n",
      "686394059078897668 : done, 763/2356\n",
      "686606069955735556 : done, 764/2356\n",
      "686618349602762752 : done, 765/2356\n",
      "686683045143953408 : done, 766/2356\n",
      "686730991906516992 : done, 767/2356\n",
      "686749460672679938 : done, 768/2356\n",
      "686760001961103360 : done, 769/2356\n",
      "686947101016735744 : done, 770/2356\n",
      "687096057537363968 : done, 771/2356\n",
      "687102708889812993 : done, 772/2356\n",
      "687109925361856513 : done, 773/2356\n",
      "687124485711986689 : done, 774/2356\n",
      "687127927494963200 : done, 775/2356\n",
      "687312378585812992 : done, 776/2356\n",
      "687317306314240000 : done, 777/2356\n",
      "687399393394311168 : done, 778/2356\n",
      "687460506001633280 : done, 779/2356\n",
      "687476254459715584 : done, 780/2356\n",
      "687480748861947905 : done, 781/2356\n",
      "687494652870668288 : done, 782/2356\n",
      "687664829264453632 : done, 783/2356\n",
      "687704180304273409 : done, 784/2356\n",
      "687732144991551489 : done, 785/2356\n",
      "687807801670897665 : done, 786/2356\n",
      "687818504314159109 : done, 787/2356\n",
      "687826841265172480 : done, 788/2356\n",
      "687841446767013888 : done, 789/2356\n",
      "688064179421470721 : done, 790/2356\n",
      "688116655151435777 : done, 791/2356\n",
      "688179443353796608 : done, 792/2356\n",
      "688211956440801280 : done, 793/2356\n",
      "688385280030670848 : done, 794/2356\n",
      "688519176466644993 : done, 795/2356\n",
      "688547210804498433 : done, 796/2356\n",
      "688789766343622656 : done, 797/2356\n",
      "688804835492233216 : done, 798/2356\n",
      "688828561667567616 : done, 799/2356\n",
      "688894073864884227 : done, 800/2356\n",
      "688898160958271489 : done, 801/2356\n",
      "688908934925697024 : done, 802/2356\n",
      "688916208532455424 : done, 803/2356\n",
      "689143371370250240 : done, 804/2356\n",
      "689154315265683456 : done, 805/2356\n",
      "689255633275777024 : done, 806/2356\n",
      "689275259254616065 : done, 807/2356\n",
      "689280876073582592 : done, 808/2356\n",
      "689283819090870273 : done, 809/2356\n",
      "689289219123089408 : done, 810/2356\n",
      "689517482558820352 : done, 811/2356\n",
      "689557536375177216 : done, 812/2356\n",
      "689599056876867584 : done, 813/2356\n",
      "689623661272240129 : done, 814/2356\n",
      "689659372465688576 : done, 815/2356\n",
      "689661964914655233 : done, 816/2356\n",
      "689835978131935233 : done, 817/2356\n",
      "689877686181715968 : done, 818/2356\n",
      "689905486972461056 : done, 819/2356\n",
      "689977555533848577 : done, 820/2356\n",
      "689993469801164801 : done, 821/2356\n",
      "689999384604450816 : done, 822/2356\n",
      "690005060500217858 : done, 823/2356\n",
      "690015576308211712 : done, 824/2356\n",
      "690021994562220032 : done, 825/2356\n",
      "690248561355657216 : done, 826/2356\n",
      "690348396616552449 : done, 827/2356\n",
      "690360449368465409 : done, 828/2356\n",
      "690374419777196032 : done, 829/2356\n",
      "690400367696297985 : done, 830/2356\n",
      "690597161306841088 : done, 831/2356\n",
      "690607260360429569 : done, 832/2356\n",
      "690649993829576704 : done, 833/2356\n",
      "690690673629138944 : done, 834/2356\n",
      "690728923253055490 : done, 835/2356\n",
      "690735892932222976 : done, 836/2356\n",
      "690932576555528194 : done, 837/2356\n",
      "690938899477221376 : done, 838/2356\n",
      "690959652130045952 : done, 839/2356\n",
      "690989312272396288 : done, 840/2356\n",
      "691090071332753408 : done, 841/2356\n",
      "691096613310316544 : done, 842/2356\n",
      "691321916024623104 : done, 843/2356\n",
      "691416866452082688 : done, 844/2356\n",
      "691444869282295808 : done, 845/2356\n",
      "691459709405118465 : done, 846/2356\n",
      "691483041324204033 : done, 847/2356\n",
      "691675652215414786 : done, 848/2356\n",
      "691756958957883396 : done, 849/2356\n",
      "691793053716221953 : done, 850/2356\n",
      "691820333922455552 : done, 851/2356\n",
      "692017291282812928 : done, 852/2356\n",
      "692041934689402880 : done, 853/2356\n",
      "692142790915014657 : done, 854/2356\n",
      "692158366030913536 : done, 855/2356\n",
      "692187005137076224 : done, 856/2356\n",
      "692417313023332352 : done, 857/2356\n",
      "692423280028966913 : done, 858/2356\n",
      "692530551048294401 : done, 859/2356\n",
      "692535307825213440 : done, 860/2356\n",
      "692568918515392513 : done, 861/2356\n",
      "692752401762250755 : done, 862/2356\n",
      "692828166163931137 : done, 863/2356\n",
      "692894228850999298 : done, 864/2356\n",
      "692901601640583168 : done, 865/2356\n",
      "692905862751522816 : done, 866/2356\n",
      "692919143163629568 : done, 867/2356\n",
      "693095443459342336 : done, 868/2356\n",
      "693109034023534592 : done, 869/2356\n",
      "693155686491000832 : done, 870/2356\n",
      "693231807727280129 : done, 871/2356\n",
      "693262851218264065 : done, 872/2356\n",
      "693267061318012928 : done, 873/2356\n",
      "693280720173801472 : done, 874/2356\n",
      "693486665285931008 : done, 875/2356\n",
      "693582294167244802 : done, 876/2356\n",
      "693590843962331137 : done, 877/2356\n",
      "693622659251335168 : done, 878/2356\n",
      "693629975228977152 : done, 879/2356\n",
      "693642232151285760 : done, 880/2356\n",
      "693644216740769793 : done, 881/2356\n",
      "693647888581312512 : done, 882/2356\n",
      "693942351086120961 : done, 883/2356\n",
      "693993230313091072 : done, 884/2356\n",
      "694001791655137281 : done, 885/2356\n",
      "694183373896572928 : done, 886/2356\n",
      "694206574471057408 : done, 887/2356\n",
      "694329668942569472 : done, 888/2356\n",
      "694342028726001664 : done, 889/2356\n",
      "694352839993344000 : done, 890/2356\n",
      "694356675654983680 : done, 891/2356\n",
      "694669722378485760 : done, 892/2356\n",
      "694905863685980160 : done, 893/2356\n",
      "694925794720792577 : done, 894/2356\n",
      "695051054296211456 : done, 895/2356\n",
      "695064344191721472 : done, 896/2356\n",
      "695074328191332352 : done, 897/2356\n",
      "695095422348574720 : done, 898/2356\n",
      "695314793360662529 : done, 899/2356\n"
     ]
    },
    {
     "name": "stderr",
     "output_type": "stream",
     "text": [
      "Rate limit reached. Sleeping for: 602\n"
     ]
    }
   ],
   "source": [
    "tweets = []\n",
    "ids_not_found_tweet = []\n",
    "ids_fail_get_tweet = []\n",
    "num_tweet_id = len(twitter_archive_df.tweet_id)\n",
    "num_succes_get_data = 0\n",
    "num_fail_get_data = 0\n",
    "\n",
    "start = timer()\n",
    "for tweet_id in twitter_archive_df.tweet_id:\n",
    "    try:\n",
    "        temp = api.get_status(tweet_id)._json\n",
    "        tweets.append({'tweet_id':temp['id'],\n",
    "                       'favorite_count':temp['favorite_count'],\n",
    "                       'favorited':temp['favorited'],\n",
    "                       'retweet_count':temp['retweet_count'],\n",
    "                       'retweeted':temp['retweeted']})\n",
    "        num_succes_get_data += 1\n",
    "        print('{} : done, {}/{}'.format(tweet_id, num_succes_get_data, num_tweet_id))\n",
    "    except tweepy.TweepError as t:\n",
    "        num_fail_get_data += 1\n",
    "        if (t.args[0][0]['message'] == 'No status found with that ID.'):\n",
    "            ids_not_found_tweet.append(tweet_id)\n",
    "        else:\n",
    "            ids_fail_get_tweet.append(tweet_id)\n",
    "        print('{} : {}, total fail= {}'.format(tweet_id, t, num_fail_get_data))\n",
    "\n",
    "end = timer()\n",
    "print(\"The time we need to get JSON file: {} second\".format(end - start))"
   ]
  },
  {
   "cell_type": "code",
   "execution_count": null,
   "metadata": {},
   "outputs": [],
   "source": [
    "print(\"Success to get {} data, and fail to get {} data (no_tweet: {}, just fail: {}), from total {} data.\"\\\n",
    "      .format(num_succes_get_data, num_fail_get_data,\\\n",
    "             len(ids_not_found_tweet), len(ids_fail_get_tweet),\\\n",
    "             num_tweet_id))"
   ]
  },
  {
   "cell_type": "code",
   "execution_count": null,
   "metadata": {},
   "outputs": [],
   "source": [
    "json.dump(tweets,open('data_generated/tweets.txt', 'w', encoding=\"utf8\"), ensure_ascii=False, indent=4)\n",
    "print('Success save the json file')"
   ]
  },
  {
   "cell_type": "code",
   "execution_count": null,
   "metadata": {},
   "outputs": [],
   "source": [
    "# read json file into dataframe\n",
    "with open('data_generated/tweets.txt','r') as f:\n",
    "    data = json.load(f)\n",
    "\n",
    "scrapped_tweet_df = pd.DataFrame(data)\n",
    "scrapped_tweet_df.head(2)"
   ]
  },
  {
   "cell_type": "markdown",
   "metadata": {},
   "source": [
    "<a id=\"conclusiongathering\"></a>\n",
    "###### Conclusion:\n",
    "- We get the third data\n",
    "- 21 data from tweet_id are failed to get from tweet API because the id is not found, the twitter must be deleted\n",
    "- We get first data from file that we save in same folder, second data from Udacity's server, and third data from Twitter API\n",
    "    - After see tweet_json.txt from Udacity, I decide to get some column (not all column) because another column has been save in first data, and some cols not need yet (like column user)\n",
    "- Because twitter have range limit time, so we need extra time (because of sleep) to get all data. In this project we need 2010 second"
   ]
  },
  {
   "cell_type": "markdown",
   "metadata": {},
   "source": [
    "<a id=\"access\"></a>\n",
    "# Accessing The Data "
   ]
  },
  {
   "cell_type": "markdown",
   "metadata": {},
   "source": [
    "For now, we have 3 data: <b> twitter_archive_df, image_prediction_df, and scrapped_tweet_df </b>.\n",
    "<br>\n",
    "Todo in accessing data:\n",
    "<ol>\n",
    "<li><a href=\"#length\">Check length of data</a></li>\n",
    "<li><a href=\"#type\">Check the type of data</a></li>\n",
    "<li><a href=\"#value\">Check the value of data</a></li>\n",
    "<li><a href=\"#missing\">Check missing value of data</a></li>\n",
    "<li><a href=\"#describe\">Check stat describe data</a></li>\n",
    "<li><a href=\"#issue\">Founded Issues</a></li>\n",
    "<ol>"
   ]
  },
  {
   "cell_type": "code",
   "execution_count": null,
   "metadata": {},
   "outputs": [],
   "source": [
    "import matplotlib.pyplot as plt\n",
    "import seaborn as sns\n",
    "import numpy as np\n",
    "\n",
    "%matplotlib inline"
   ]
  },
  {
   "cell_type": "markdown",
   "metadata": {},
   "source": [
    "<a id=\"length\"></a>\n",
    "##### 1. Check length of data"
   ]
  },
  {
   "cell_type": "code",
   "execution_count": null,
   "metadata": {},
   "outputs": [],
   "source": [
    "def print_length(name, data_frame):\n",
    "    print(\"The length of {} is {}\".format(name, len(data_frame)))"
   ]
  },
  {
   "cell_type": "code",
   "execution_count": null,
   "metadata": {},
   "outputs": [],
   "source": [
    "print_length('twitter_archive_df', twitter_archive_df)\n",
    "print_length('image_prediction_df', image_prediction_df)\n",
    "print_length('scrapped_tweet_df', scrapped_tweet_df)"
   ]
  },
  {
   "cell_type": "markdown",
   "metadata": {},
   "source": [
    "From that data we get info that twitter_archive_df has different length with scrapped_tweet_df because we failed to get 22 data from twitter. We can delete some row in data so we will have the same length in each table."
   ]
  },
  {
   "cell_type": "markdown",
   "metadata": {},
   "source": [
    "<a id=\"type\"></a>\n",
    "##### 2. Check the type of data"
   ]
  },
  {
   "cell_type": "code",
   "execution_count": null,
   "metadata": {},
   "outputs": [],
   "source": [
    "twitter_archive_df.dtypes"
   ]
  },
  {
   "cell_type": "code",
   "execution_count": null,
   "metadata": {},
   "outputs": [],
   "source": [
    "image_prediction_df.dtypes"
   ]
  },
  {
   "cell_type": "code",
   "execution_count": null,
   "metadata": {},
   "outputs": [],
   "source": [
    "scrapped_tweet_df.dtypes"
   ]
  },
  {
   "cell_type": "markdown",
   "metadata": {},
   "source": [
    "Object in the data type mean string, we not have some problem in there except timestamp. It must be date"
   ]
  },
  {
   "cell_type": "markdown",
   "metadata": {},
   "source": [
    "<a id=\"value\"></a>\n",
    "#### 3. Check the value of data"
   ]
  },
  {
   "cell_type": "code",
   "execution_count": null,
   "metadata": {},
   "outputs": [],
   "source": [
    "twitter_archive_df.name.value_counts().head()"
   ]
  },
  {
   "cell_type": "markdown",
   "metadata": {},
   "source": [
    "There is 5 sorted dog name with the biggest total value. We find that \"None\" is typically missing data, and I assumed that \"a\" also a missing data, so we must find and uniformly all missing data value in each label."
   ]
  },
  {
   "cell_type": "code",
   "execution_count": null,
   "metadata": {},
   "outputs": [],
   "source": [
    "twitter_archive_df.retweeted_status_id.value_counts().head()"
   ]
  },
  {
   "cell_type": "markdown",
   "metadata": {},
   "source": [
    "We only need original tweet (not retweeted by another tweet), so we must drop row that retweeted_status_id doesn't missing"
   ]
  },
  {
   "cell_type": "code",
   "execution_count": null,
   "metadata": {},
   "outputs": [],
   "source": [
    "scrapped_tweet_df.retweeted.value_counts()"
   ]
  },
  {
   "cell_type": "markdown",
   "metadata": {},
   "source": [
    "Retweeted indicates whether this Tweet has been Retweeted by the authenticating user, because all value are false so this column be not informatif anymore."
   ]
  },
  {
   "cell_type": "code",
   "execution_count": null,
   "metadata": {},
   "outputs": [],
   "source": [
    "twitter_archive_df.duplicated(['tweet_id']).sum()"
   ]
  },
  {
   "cell_type": "code",
   "execution_count": null,
   "metadata": {},
   "outputs": [],
   "source": [
    "twitter_archive_df.duplicated(['expanded_urls']).sum()"
   ]
  },
  {
   "cell_type": "code",
   "execution_count": null,
   "metadata": {},
   "outputs": [],
   "source": [
    "twitter_archive_df[twitter_archive_df.duplicated(['expanded_urls'])]"
   ]
  },
  {
   "cell_type": "code",
   "execution_count": null,
   "metadata": {},
   "outputs": [],
   "source": [
    "twitter_archive_df[twitter_archive_df.duplicated(['expanded_urls'])].expanded_urls.value_counts()"
   ]
  },
  {
   "cell_type": "code",
   "execution_count": null,
   "metadata": {},
   "outputs": [],
   "source": [
    "twitter_archive_df.query(\"expanded_urls == 'https://twitter.com/dog_rates/status/767754930266464257/photo/1'\")"
   ]
  },
  {
   "cell_type": "markdown",
   "metadata": {},
   "source": [
    "There are some images that duplicated, we must re-check are they are have same value in each cols (except the id, because we don't have any duplicate tweet id)"
   ]
  },
  {
   "cell_type": "code",
   "execution_count": null,
   "metadata": {},
   "outputs": [],
   "source": [
    "scrapped_tweet_df.favorited.value_counts()"
   ]
  },
  {
   "cell_type": "markdown",
   "metadata": {},
   "source": [
    "retweeted and favorited data only have 1 value, so it is not important anymore, we must to drop it."
   ]
  },
  {
   "cell_type": "code",
   "execution_count": null,
   "metadata": {},
   "outputs": [],
   "source": [
    "twitter_archive_df.source.value_counts()"
   ]
  },
  {
   "cell_type": "markdown",
   "metadata": {},
   "source": [
    "To make the data more clear, we need to change source cols value"
   ]
  },
  {
   "cell_type": "markdown",
   "metadata": {},
   "source": [
    "<a id=\"missing\"></a>\n",
    "##### 4. Check missing value of data"
   ]
  },
  {
   "cell_type": "markdown",
   "metadata": {},
   "source": [
    "list function name: <br>\n",
    "<a id=\"get_missing_value_percentage\">get_missing_value_percentage</a> <br>"
   ]
  },
  {
   "cell_type": "code",
   "execution_count": null,
   "metadata": {},
   "outputs": [],
   "source": [
    "def get_missing_value_percentage(data_frame):\n",
    "    data_missing = data_frame.isna()\n",
    "    num_data_missing = data_missing.sum()\n",
    "    num_data = len(data_frame)\n",
    "    return (num_data_missing * 100)/num_data"
   ]
  },
  {
   "cell_type": "code",
   "execution_count": null,
   "metadata": {},
   "outputs": [],
   "source": [
    "get_missing_value_percentage(twitter_archive_df)"
   ]
  },
  {
   "cell_type": "code",
   "execution_count": null,
   "metadata": {},
   "outputs": [],
   "source": [
    "get_missing_value_percentage(image_prediction_df)"
   ]
  },
  {
   "cell_type": "code",
   "execution_count": null,
   "metadata": {},
   "outputs": [],
   "source": [
    "get_missing_value_percentage(scrapped_tweet_df)"
   ]
  },
  {
   "cell_type": "markdown",
   "metadata": {},
   "source": [
    "Data twitter_archive_df have some missing value in variable in_reply_to_status_id (96.69%), in_reply_to_user_id (96.69%), retweeted_status_id (92.32%), retweeted_status_user_id (92.32%), retweeted_status_timestamp (92.32%), and expanded_urls (2.50%). Because of the large missing value (>90%), 5 cols in twitter_archive_df must be deleted. For expanded_urls, must be check after join with other table. Data image_prediction_df didn't have any missing value, the scrapped_tweet_df also didn't have missing value."
   ]
  },
  {
   "cell_type": "markdown",
   "metadata": {},
   "source": [
    "<a id=\"describe\"></a>\n",
    "##### 5. Check stat describe data"
   ]
  },
  {
   "cell_type": "code",
   "execution_count": null,
   "metadata": {},
   "outputs": [],
   "source": [
    "twitter_archive_df.describe()"
   ]
  },
  {
   "cell_type": "code",
   "execution_count": null,
   "metadata": {},
   "outputs": [],
   "source": [
    "image_prediction_df.describe()"
   ]
  },
  {
   "cell_type": "code",
   "execution_count": null,
   "metadata": {},
   "outputs": [],
   "source": [
    "scrapped_tweet_df.describe()"
   ]
  },
  {
   "cell_type": "markdown",
   "metadata": {},
   "source": [
    "tweed_id musn't describe as numeric variable that we can conclude the statistic description, it is more suitable as a string"
   ]
  },
  {
   "cell_type": "markdown",
   "metadata": {},
   "source": [
    "<a id=\"issue\"></a>\n",
    "### Founded Issues:\n",
    "\n",
    "quality issues:\n",
    "1. Axist not original tweet\n",
    "2. tweet_id format in third data doesn't like first data so maybe it can make some problem if we join the two table\n",
    "3. tweet_id position in third table not same like the other table, so we can't easily see the id\n",
    "4. timestamp in first table not in datetime format\n",
    "5. Missing value was not uniformly, sometime NaN but some other None\n",
    "6. There are exist columns that have >90% missing value\n",
    "7. Cols retwitted and favorited have same value in all row\n",
    "8. Cols source have html format\n",
    "9. Cols expanded_urls and jpg_urls have duplicated value\n",
    "\n",
    "tidiness issues:\n",
    "1. Stage of dog must be 1 cols instead of 4 cols\n",
    "2. Join all data is needed to make easier for analysis\n"
   ]
  },
  {
   "cell_type": "markdown",
   "metadata": {},
   "source": [
    "<a id=\"cleaning\"></a>\n",
    "# Cleaning and Tidying The Data"
   ]
  },
  {
   "cell_type": "markdown",
   "metadata": {},
   "source": [
    "In cleaning and tydinf data, we want to make sure that issues we founded before will not exist.\n",
    "<br>\n",
    "Todo in cleaning data:\n",
    "<ol>\n",
    "<li><a href=\"#c0\">Cleaning: Delete not original tweet</a></li>\n",
    "<li><a href=\"#c1\">Cleaning: Change Tweet id format in each table</a></li>\n",
    "<li><a href=\"#c2\">Cleaning: Change tweet_id position into first col</a></li>\n",
    "<li><a href=\"#c3\">Cleaning: Change timestamp format</a></li>\n",
    "<li><a href=\"#c4\">Cleaning: Uniformly missing value</a></li>\n",
    "<li><a href=\"#t1\">Tidying: Make dog stages into 1 column</a></li>\n",
    "<li><a href=\"#c8\">Cleaning: Delete duplicated row from expanded and jpg urls</a></li>\n",
    "<li><a href=\"#c5\">Cleaning: Delete col with missing value >90% from total rows</a></li>\n",
    "<li><a href=\"#c6\">Cleaning: Delete cols with same value</a></li>\n",
    "<li><a href=\"#c7\">Cleaning: Get source col without HTML format</a></li>\n",
    "<li><a href=\"#t2\">Tidying: Join all table</a></li>\n",
    "<ol>"
   ]
  },
  {
   "cell_type": "markdown",
   "metadata": {},
   "source": [
    "<a id=\"c0\"></a>\n",
    "##### 1. Delete not original tweet"
   ]
  },
  {
   "cell_type": "code",
   "execution_count": null,
   "metadata": {},
   "outputs": [],
   "source": [
    "twitter_archive_df = twitter_archive_df[pd.isna(twitter_archive_df.retweeted_status_id)]\n",
    "pd.notna(twitter_archive_df['retweeted_status_id']).sum()"
   ]
  },
  {
   "cell_type": "code",
   "execution_count": null,
   "metadata": {},
   "outputs": [],
   "source": [
    "pd.notna(twitter_archive_df.retweeted_status_timestamp).sum()"
   ]
  },
  {
   "cell_type": "code",
   "execution_count": null,
   "metadata": {},
   "outputs": [],
   "source": [
    "pd.notna(twitter_archive_df.retweeted_status_user_id).sum()"
   ]
  },
  {
   "cell_type": "markdown",
   "metadata": {},
   "source": [
    "Now we only have the original tweet"
   ]
  },
  {
   "cell_type": "markdown",
   "metadata": {},
   "source": [
    "<a id=\"c1\"></a>\n",
    "##### 2. Change Tweet id format in each table"
   ]
  },
  {
   "cell_type": "markdown",
   "metadata": {},
   "source": [
    "list function name: <br>\n",
    "<a id=\"convert_to_str\">convert_to_str</a> <br>"
   ]
  },
  {
   "cell_type": "code",
   "execution_count": null,
   "metadata": {},
   "outputs": [],
   "source": [
    "def convert_to_str(cols):\n",
    "    return cols.astype(str).infer_objects()"
   ]
  },
  {
   "cell_type": "code",
   "execution_count": null,
   "metadata": {},
   "outputs": [],
   "source": [
    "twitter_archive_df.tweet_id = convert_to_str(twitter_archive_df.tweet_id)\n",
    "twitter_archive_df.head(1)"
   ]
  },
  {
   "cell_type": "code",
   "execution_count": null,
   "metadata": {},
   "outputs": [],
   "source": [
    "image_prediction_df.tweet_id = convert_to_str(image_prediction_df.tweet_id)\n",
    "image_prediction_df.head(1)"
   ]
  },
  {
   "cell_type": "code",
   "execution_count": null,
   "metadata": {},
   "outputs": [],
   "source": [
    "scrapped_tweet_df.tweet_id = convert_to_str(scrapped_tweet_df.tweet_id)\n",
    "scrapped_tweet_df.head(1)"
   ]
  },
  {
   "cell_type": "markdown",
   "metadata": {},
   "source": [
    "<a id=\"c2\"></a>\n",
    "##### 3. Change tweet_id position into first col"
   ]
  },
  {
   "cell_type": "code",
   "execution_count": null,
   "metadata": {},
   "outputs": [],
   "source": [
    "scrapped_tweet_df = scrapped_tweet_df.reindex(\\\n",
    "                        ['tweet_id','favorite_count','favorited','retweet_count','retweeted'], \\\n",
    "                        axis=1)\n",
    "scrapped_tweet_df.head(1)"
   ]
  },
  {
   "cell_type": "markdown",
   "metadata": {},
   "source": [
    "<a id=\"c3\"></a>\n",
    "##### 4. Change timestamp format"
   ]
  },
  {
   "cell_type": "code",
   "execution_count": null,
   "metadata": {},
   "outputs": [],
   "source": [
    "twitter_archive_df.timestamp = pd.to_datetime(twitter_archive_df.timestamp)\n",
    "twitter_archive_df.timestamp.head(1)"
   ]
  },
  {
   "cell_type": "code",
   "execution_count": null,
   "metadata": {},
   "outputs": [],
   "source": [
    "twitter_archive_df.info()"
   ]
  },
  {
   "cell_type": "markdown",
   "metadata": {},
   "source": [
    "<a id=\"c4\"></a>\n",
    "##### 5. Uniformly missing value"
   ]
  },
  {
   "cell_type": "markdown",
   "metadata": {},
   "source": [
    "list function name: <br>\n",
    "<a id=\"uniformly_missing_value\">uniformly_missing_value</a> <br>"
   ]
  },
  {
   "cell_type": "code",
   "execution_count": null,
   "metadata": {},
   "outputs": [],
   "source": [
    "def uniformly_missing_value(data_frame):\n",
    "    missing_value_names = ['NaN','None', 'N/A', 'NA', 'Unknown']\n",
    "    for column in data_frame.columns:\n",
    "        for phrase in missing_value_names:\n",
    "            data_frame[column].replace(to_replace=missing_value_names, value=np.nan, inplace=True)\n",
    "    return data_frame"
   ]
  },
  {
   "cell_type": "code",
   "execution_count": null,
   "metadata": {},
   "outputs": [],
   "source": [
    "twitter_archive_df = uniformly_missing_value(twitter_archive_df)\n",
    "twitter_archive_df.info()"
   ]
  },
  {
   "cell_type": "markdown",
   "metadata": {},
   "source": [
    "<b> from information above, we find that cols doggo, flooger, ... , puppo have a lot of missing value, but that data is untidy, it must be 1 column. </b>"
   ]
  },
  {
   "cell_type": "code",
   "execution_count": null,
   "metadata": {},
   "outputs": [],
   "source": [
    "image_prediction_df = uniformly_missing_value(image_prediction_df)\n",
    "image_prediction_df.info()"
   ]
  },
  {
   "cell_type": "code",
   "execution_count": null,
   "metadata": {},
   "outputs": [],
   "source": [
    "scrapped_tweet_df = uniformly_missing_value(scrapped_tweet_df)\n",
    "scrapped_tweet_df.info()"
   ]
  },
  {
   "cell_type": "markdown",
   "metadata": {},
   "source": [
    "<a id=\"t1\"></a>\n",
    "#### 6. Make dog stages into 1 column"
   ]
  },
  {
   "cell_type": "markdown",
   "metadata": {},
   "source": [
    "Todo:\n",
    "<ol>\n",
    "    <li><a href=\"#a1\">Validation check there is 1 single value for 1 row</a></li>\n",
    "    <li><a href=\"#a2\">Add new cols to save dog stages</a></li>\n",
    "    <li><a href=\"#a3\">Change value into dog stages</a></li>\n",
    "    <li><a href=\"#a4\">Remove cols not needed</a></li>\n",
    "</ol>"
   ]
  },
  {
   "cell_type": "markdown",
   "metadata": {},
   "source": [
    "<a id=\"a1\"></a>\n",
    "1. Validation there is 1 single value for 1 row"
   ]
  },
  {
   "cell_type": "markdown",
   "metadata": {},
   "source": [
    "list function name: <br>\n",
    "<a id=\"is_not_nan\">is_not_nan</a> <br>"
   ]
  },
  {
   "cell_type": "code",
   "execution_count": null,
   "metadata": {},
   "outputs": [],
   "source": [
    "def is_not_nan(data_frame, index:int, col:str):\n",
    "    cell = data_frame.iloc[index,data_frame.columns.get_loc(col)]\n",
    "    return pd.notna(cell)"
   ]
  },
  {
   "cell_type": "code",
   "execution_count": null,
   "metadata": {},
   "outputs": [],
   "source": [
    "twitter_archive_df['validation'] = 0\n",
    "num_rows = len(twitter_archive_df)\n",
    "\n",
    "for i in range(num_rows):\n",
    "    validation_value = twitter_archive_df.iloc[i,twitter_archive_df.columns.get_loc('validation')]\n",
    "    \n",
    "    twitter_archive_df.iloc[i,twitter_archive_df.columns.get_loc('validation')] = \\\n",
    "        validation_value + \\\n",
    "        is_not_nan(twitter_archive_df, i, 'doggo') + \\\n",
    "        is_not_nan(twitter_archive_df, i, 'floofer') + \\\n",
    "        is_not_nan(twitter_archive_df, i, 'pupper') + \\\n",
    "        is_not_nan(twitter_archive_df, i, 'puppo')\n",
    "    \n",
    "twitter_archive_df['validation'].value_counts()"
   ]
  },
  {
   "cell_type": "markdown",
   "metadata": {},
   "source": [
    "from the value_counts above we find they are 12 row not vallid because they have 2 type of dog. Let's see the data"
   ]
  },
  {
   "cell_type": "code",
   "execution_count": null,
   "metadata": {},
   "outputs": [],
   "source": [
    "twitter_archive_df.query(\"validation > 1 \").head(2)"
   ]
  },
  {
   "cell_type": "markdown",
   "metadata": {},
   "source": [
    "I don't know what the right stage,and the duplicate count just 14 row (0.5% from total row) so I decide to delete unvalid stage"
   ]
  },
  {
   "cell_type": "code",
   "execution_count": null,
   "metadata": {},
   "outputs": [],
   "source": [
    "twitter_archive_df = twitter_archive_df[twitter_archive_df.validation <= 1]\n",
    "twitter_archive_df['validation'].value_counts()"
   ]
  },
  {
   "cell_type": "markdown",
   "metadata": {},
   "source": [
    "<a id=\"a2\"></a>\n",
    "2. Add new colomn to save dog stage"
   ]
  },
  {
   "cell_type": "code",
   "execution_count": null,
   "metadata": {},
   "outputs": [],
   "source": [
    "twitter_archive_df['dog_stage'] = np.nan\n",
    "twitter_archive_df.head(2)"
   ]
  },
  {
   "cell_type": "markdown",
   "metadata": {},
   "source": [
    "<a id=\"a3\"></a>\n",
    "3. Change value column dog_stage"
   ]
  },
  {
   "cell_type": "markdown",
   "metadata": {},
   "source": [
    "list used function: <br>\n",
    "<a href='#is_not_nan'>is_not_nan</a> <br>"
   ]
  },
  {
   "cell_type": "code",
   "execution_count": null,
   "metadata": {},
   "outputs": [],
   "source": [
    "num_rows = len(twitter_archive_df)\n",
    "\n",
    "for i in range(num_rows):\n",
    "    result = twitter_archive_df.iloc[i,twitter_archive_df.columns.get_loc('dog_stage')]\n",
    "    \n",
    "    if(is_not_nan(twitter_archive_df, i, 'doggo')):\n",
    "        result = twitter_archive_df.iloc[i,twitter_archive_df.columns.get_loc('doggo')]\n",
    "    elif(is_not_nan(twitter_archive_df, i, 'floofer')):\n",
    "        result = twitter_archive_df.iloc[i,twitter_archive_df.columns.get_loc('floofer')]\n",
    "    elif(is_not_nan(twitter_archive_df, i, 'pupper')):\n",
    "        result = twitter_archive_df.iloc[i,twitter_archive_df.columns.get_loc('pupper')]\n",
    "    elif(is_not_nan(twitter_archive_df, i, 'puppo')):\n",
    "        result = twitter_archive_df.iloc[i,twitter_archive_df.columns.get_loc('puppo')]\n",
    "        \n",
    "    twitter_archive_df.iloc[i,twitter_archive_df.columns.get_loc('dog_stage')] = result\n",
    "\n",
    "twitter_archive_df.dog_stage.value_counts()"
   ]
  },
  {
   "cell_type": "markdown",
   "metadata": {},
   "source": [
    "<a id=\"a4\"></a>\n",
    "4. Remove cols not needed"
   ]
  },
  {
   "cell_type": "code",
   "execution_count": null,
   "metadata": {},
   "outputs": [],
   "source": [
    "twitter_archive_df.columns"
   ]
  },
  {
   "cell_type": "markdown",
   "metadata": {},
   "source": [
    "Because we add column dog_stage so we don't need columns: 'doggo', 'floofer', 'pupper', 'puppo', and we also don't need column validation. "
   ]
  },
  {
   "cell_type": "code",
   "execution_count": null,
   "metadata": {},
   "outputs": [],
   "source": [
    "twitter_archive_df.drop(['doggo', 'floofer', 'pupper', 'puppo','validation'], axis=1, inplace=True)\n",
    "twitter_archive_df.columns"
   ]
  },
  {
   "cell_type": "code",
   "execution_count": null,
   "metadata": {},
   "outputs": [],
   "source": [
    "get_missing_value_percentage(twitter_archive_df)"
   ]
  },
  {
   "cell_type": "markdown",
   "metadata": {},
   "source": [
    "The missing value from dog_stage quietly high, but I think this variable save such as good information. So I decide to not delete it."
   ]
  },
  {
   "cell_type": "markdown",
   "metadata": {},
   "source": [
    "<a id=\"c8\"></a>\n",
    "##### 7. Ensure unique twitter by expanded_urls and jpg_urls"
   ]
  },
  {
   "cell_type": "markdown",
   "metadata": {},
   "source": [
    "1. Expanded URLS"
   ]
  },
  {
   "cell_type": "code",
   "execution_count": null,
   "metadata": {},
   "outputs": [],
   "source": [
    "twitter_archive_df.duplicated(['expanded_urls']).value_counts()"
   ]
  },
  {
   "cell_type": "code",
   "execution_count": null,
   "metadata": {},
   "outputs": [],
   "source": [
    "twitter_archive_df[twitter_archive_df.duplicated(['expanded_urls'])].expanded_urls.value_counts()"
   ]
  },
  {
   "cell_type": "code",
   "execution_count": null,
   "metadata": {},
   "outputs": [],
   "source": [
    "twitter_archive_df.query('expanded_urls == \"https://vine.co/v/ea0OwvPTx9l\"')"
   ]
  },
  {
   "cell_type": "markdown",
   "metadata": {},
   "source": [
    "I don't know what the real value from that photo, and because of that value just appear in small row (2) so I decide to delete it. And for other duplicate row I also delete it because the expanded_urls value is missing value."
   ]
  },
  {
   "cell_type": "code",
   "execution_count": null,
   "metadata": {},
   "outputs": [],
   "source": [
    "twitter_archive_df.dropna(subset=['expanded_urls'], how='all', inplace = True)\n",
    "twitter_archive_df.duplicated(['expanded_urls']).value_counts()"
   ]
  },
  {
   "cell_type": "code",
   "execution_count": null,
   "metadata": {},
   "outputs": [],
   "source": [
    "twitter_archive_df.drop_duplicates(subset=['expanded_urls'], keep=False, inplace = True)\n",
    "twitter_archive_df.duplicated(['expanded_urls']).value_counts()"
   ]
  },
  {
   "cell_type": "markdown",
   "metadata": {},
   "source": [
    "2. JPG URLS"
   ]
  },
  {
   "cell_type": "code",
   "execution_count": null,
   "metadata": {},
   "outputs": [],
   "source": [
    "image_prediction_df.duplicated(['jpg_url']).value_counts()"
   ]
  },
  {
   "cell_type": "code",
   "execution_count": null,
   "metadata": {},
   "outputs": [],
   "source": [
    "image_prediction_df[image_prediction_df.duplicated(['jpg_url'])].jpg_url.head(5)"
   ]
  },
  {
   "cell_type": "code",
   "execution_count": null,
   "metadata": {},
   "outputs": [],
   "source": [
    "image_prediction_df.query(\"jpg_url == 'https://pbs.twimg.com/media/CU1zsMSUAAAS0qW.jpg'\")"
   ]
  },
  {
   "cell_type": "code",
   "execution_count": null,
   "metadata": {},
   "outputs": [],
   "source": [
    "twitter_archive_df.query(\"tweet_id == '670319130621435904'\").expanded_urls"
   ]
  },
  {
   "cell_type": "code",
   "execution_count": null,
   "metadata": {},
   "outputs": [],
   "source": [
    "twitter_archive_df.query(\"tweet_id == '759159934323924993'\").expanded_urls"
   ]
  },
  {
   "cell_type": "markdown",
   "metadata": {},
   "source": [
    "From observasion above, I find that one of twitter id from duplicated jpg url, doesn't axist in first table. So I will elimited twitter_id that doesn't exist in first table."
   ]
  },
  {
   "cell_type": "code",
   "execution_count": null,
   "metadata": {},
   "outputs": [],
   "source": [
    "jpg_url_duplicated = image_prediction_df[image_prediction_df.duplicated(['jpg_url'])]['jpg_url']"
   ]
  },
  {
   "cell_type": "code",
   "execution_count": null,
   "metadata": {},
   "outputs": [],
   "source": [
    "need_to_drop = image_prediction_df[image_prediction_df.jpg_url.isin(jpg_url_duplicated)]\n",
    "need_to_drop.head(2)"
   ]
  },
  {
   "cell_type": "code",
   "execution_count": null,
   "metadata": {},
   "outputs": [],
   "source": [
    "# count row we must to keep\n",
    "need_to_drop['tweet_id'].isin(twitter_archive_df.tweet_id).sum()"
   ]
  },
  {
   "cell_type": "code",
   "execution_count": null,
   "metadata": {},
   "outputs": [],
   "source": [
    "# drop row need_to_drop if the id exist in first table\n",
    "need_to_drop = need_to_drop[~need_to_drop['tweet_id'].isin(twitter_archive_df.tweet_id)]\n",
    "need_to_drop['tweet_id'].isin(twitter_archive_df.tweet_id).sum()"
   ]
  },
  {
   "cell_type": "code",
   "execution_count": null,
   "metadata": {},
   "outputs": [],
   "source": [
    "# drop row not exist in first table\n",
    "image_prediction_df = image_prediction_df[~image_prediction_df.tweet_id.isin(need_to_drop.tweet_id)]\n",
    "image_prediction_df.duplicated(['jpg_url']).value_counts()"
   ]
  },
  {
   "cell_type": "markdown",
   "metadata": {},
   "source": [
    "<a id=\"c5\"></a>\n",
    "##### 8. Delete col with missing value >90% from total rows"
   ]
  },
  {
   "cell_type": "markdown",
   "metadata": {},
   "source": [
    "list function name: <br>\n",
    "<a id=\"drop_missing_value\">drop_missing_value</a> <br>\n",
    "\n",
    "list used function: <br>\n",
    "<a href='#drop_missing_value'>drop_missing_value</a> <br>"
   ]
  },
  {
   "cell_type": "code",
   "execution_count": null,
   "metadata": {},
   "outputs": [],
   "source": [
    "def drop_missing_value(data_frame, treshold:int = 0.9):\n",
    "    data = get_missing_value_percentage(data_frame)\n",
    "    cols_will_drop = []\n",
    "    \n",
    "    for col,percentage_missing_value in data.items():\n",
    "        if percentage_missing_value > 90:\n",
    "            cols_will_drop.append(col)\n",
    "    \n",
    "    return data_frame.drop(cols_will_drop, axis = 1)"
   ]
  },
  {
   "cell_type": "code",
   "execution_count": null,
   "metadata": {},
   "outputs": [],
   "source": [
    "twitter_archive_df = drop_missing_value(twitter_archive_df)\n",
    "get_missing_value_percentage(twitter_archive_df)"
   ]
  },
  {
   "cell_type": "code",
   "execution_count": null,
   "metadata": {},
   "outputs": [],
   "source": [
    "drop_missing_value(image_prediction_df)\n",
    "get_missing_value_percentage(image_prediction_df)"
   ]
  },
  {
   "cell_type": "code",
   "execution_count": null,
   "metadata": {},
   "outputs": [],
   "source": [
    "drop_missing_value(scrapped_tweet_df)\n",
    "get_missing_value_percentage(scrapped_tweet_df)"
   ]
  },
  {
   "cell_type": "markdown",
   "metadata": {},
   "source": [
    "<a id=\"c6\"></a>\n",
    "##### 9. Delete cols with same value"
   ]
  },
  {
   "cell_type": "markdown",
   "metadata": {},
   "source": [
    "list function name: <br>\n",
    "<a id=\"drop_uniform_value\">drop_uniform_value</a> <br>"
   ]
  },
  {
   "cell_type": "code",
   "execution_count": null,
   "metadata": {},
   "outputs": [],
   "source": [
    "def drop_uniform_value(data_frame):\n",
    "    cols = data_frame.columns\n",
    "    cols_will_drop = []\n",
    "    \n",
    "    for col in cols:\n",
    "        num_value = len(data_frame[col].unique().tolist())\n",
    "        if(num_value <= 1):\n",
    "            cols_will_drop.append(col)\n",
    "    return data_frame.drop(cols_will_drop, axis = 1)"
   ]
  },
  {
   "cell_type": "code",
   "execution_count": null,
   "metadata": {},
   "outputs": [],
   "source": [
    "# first data before\n",
    "twitter_archive_df.nunique()"
   ]
  },
  {
   "cell_type": "code",
   "execution_count": null,
   "metadata": {},
   "outputs": [],
   "source": [
    "# second data before\n",
    "image_prediction_df.nunique()"
   ]
  },
  {
   "cell_type": "code",
   "execution_count": null,
   "metadata": {},
   "outputs": [],
   "source": [
    "# third data before\n",
    "scrapped_tweet_df.nunique()"
   ]
  },
  {
   "cell_type": "markdown",
   "metadata": {},
   "source": [
    "Because the the only table exist 1 unique value is third data so we change only third data."
   ]
  },
  {
   "cell_type": "code",
   "execution_count": null,
   "metadata": {},
   "outputs": [],
   "source": [
    "# third data after\n",
    "scrapped_tweet_df = drop_uniform_value(scrapped_tweet_df)\n",
    "scrapped_tweet_df.nunique()"
   ]
  },
  {
   "cell_type": "markdown",
   "metadata": {},
   "source": [
    "<a id=\"c7\"></a>\n",
    "##### 10. Get source col without HTML format"
   ]
  },
  {
   "cell_type": "code",
   "execution_count": null,
   "metadata": {},
   "outputs": [],
   "source": [
    "import re"
   ]
  },
  {
   "cell_type": "markdown",
   "metadata": {},
   "source": [
    "list function name: <br>\n",
    "<a id=\"get_name_in_source\">get_name_in_source</a> <br>"
   ]
  },
  {
   "cell_type": "code",
   "execution_count": null,
   "metadata": {},
   "outputs": [],
   "source": [
    "def get_name_in_source(col_source):\n",
    "    return str(re.findall(\"<a.*?>(.+?)</a>\", col_source)[0])"
   ]
  },
  {
   "cell_type": "code",
   "execution_count": null,
   "metadata": {},
   "outputs": [],
   "source": [
    "for index in range(len(twitter_archive_df)): \n",
    "    value = twitter_archive_df.iloc[index,twitter_archive_df.columns.get_loc('source')]\n",
    "    twitter_archive_df.iloc[index,twitter_archive_df.columns.get_loc('source')] = get_name_in_source(value)\n",
    "                            \n",
    "twitter_archive_df.source.value_counts()"
   ]
  },
  {
   "cell_type": "markdown",
   "metadata": {},
   "source": [
    "<a id=\"t2\"></a>\n",
    "##### 11. Join all table"
   ]
  },
  {
   "cell_type": "code",
   "execution_count": null,
   "metadata": {},
   "outputs": [],
   "source": [
    "# join first and second table\n",
    "twitter_df = pd.merge(twitter_archive_df, scrapped_tweet_df, how = 'left', on = ['tweet_id'])\n",
    "\n",
    "# join second and third table\n",
    "twitter_df = pd.merge(twitter_df, image_prediction_df, how = 'left', on = ['tweet_id'])\n",
    "\n",
    "# check the result\n",
    "twitter_df.info()"
   ]
  },
  {
   "cell_type": "markdown",
   "metadata": {},
   "source": [
    "list used function: <br>\n",
    "<a href='#drop_missing_value'>drop_missing_value</a> <br>"
   ]
  },
  {
   "cell_type": "code",
   "execution_count": null,
   "metadata": {},
   "outputs": [],
   "source": [
    "# cek the percentage of missing value\n",
    "get_missing_value_percentage(twitter_df)"
   ]
  },
  {
   "cell_type": "markdown",
   "metadata": {},
   "source": [
    "Because the missing value is so small, so I decide to delete row with missing value"
   ]
  },
  {
   "cell_type": "code",
   "execution_count": null,
   "metadata": {},
   "outputs": [],
   "source": [
    "twitter_df.dropna(axis=0, how='any', inplace=True)\n",
    "get_missing_value_percentage(twitter_df)"
   ]
  },
  {
   "cell_type": "code",
   "execution_count": null,
   "metadata": {},
   "outputs": [],
   "source": [
    "twitter_df.head(2)"
   ]
  },
  {
   "cell_type": "code",
   "execution_count": null,
   "metadata": {},
   "outputs": [],
   "source": [
    "# save csv\n",
    "twitter_df.to_csv(\"data_generated/twitter_archive_master.csv\", index=False)"
   ]
  },
  {
   "cell_type": "code",
   "execution_count": null,
   "metadata": {},
   "outputs": [],
   "source": [
    "# save each of data\n",
    "twitter_archive_df.to_csv(\"data_generated/first_data_twitter_archive.csv\", index=False)\n",
    "image_prediction_df.to_csv(\"data_generated/second_data_image_prediction.csv\", index=False)\n",
    "scrapped_tweet_df.to_csv(\"data_generated/third_data_scrapped_tweet.csv\", index=False)"
   ]
  },
  {
   "cell_type": "markdown",
   "metadata": {},
   "source": [
    "<a href=\"#analizing\"></a>\n",
    "# Analyzing and Visualizing Data "
   ]
  },
  {
   "cell_type": "markdown",
   "metadata": {},
   "source": [
    "Question:\n",
    "1. Are there any outlier in the data?\n",
    "2. How about correlation between variables?\n",
    "3. Does the retweet count and favorite count increase with time?\n",
    "4. Does the rating increase with time?\n",
    "5. Are the rating affect with the number of favorite and retweet count?\n",
    "6. How much each algorithm predict the picture is dog?\n",
    "7. What are the most popular dog names?\n",
    "\n",
    "Summary The Data\n",
    "Correlation\n",
    "Are certain stages of dogs posted more often than others?\n",
    "Retweets and favorites by stages\n",
    "How does the rating affect the number of retweet counts?\n",
    "How did the retweet count and favourite count improve over time?\n",
    "How well does the model perform?\n",
    "What are the most popular dog names?\n",
    "What types of dogs are there?"
   ]
  },
  {
   "cell_type": "code",
   "execution_count": null,
   "metadata": {},
   "outputs": [],
   "source": [
    "# to analyzing, I add new column \"rating\" that can be calculate by numerator/denominator\n",
    "twitter_df['rating'] = pd.to_numeric((twitter_df.rating_numerator*1.0)/(twitter_df.rating_denominator*1.0))\n",
    "twitter_df.info()"
   ]
  },
  {
   "cell_type": "code",
   "execution_count": null,
   "metadata": {},
   "outputs": [],
   "source": [
    "# statistic description\n",
    "twitter_df.describe()"
   ]
  },
  {
   "cell_type": "code",
   "execution_count": null,
   "metadata": {},
   "outputs": [],
   "source": [
    "# visualitation\n",
    "fig, ax = plt.subplots()\n",
    "fig.set_size_inches(14, 6)\n",
    "sns.boxplot(data=twitter_df[['rating_numerator','rating_denominator','rating','favorite_count',\\\n",
    "                                  'retweet_count','img_num','p1_conf','p2_conf','p3_conf']],\\\n",
    "                 orient=\"h\", palette=\"Set2\", ax=ax);"
   ]
  },
  {
   "cell_type": "code",
   "execution_count": null,
   "metadata": {},
   "outputs": [],
   "source": [
    "fig, ax = plt.subplots()\n",
    "fig.set_size_inches(14, 6)\n",
    "sns.boxplot(data=twitter_df[['rating_numerator','rating_denominator','rating',\\\n",
    "                                  'img_num','p1_conf','p2_conf','p3_conf']],\\\n",
    "                 orient=\"h\", palette=\"Set2\", ax=ax);"
   ]
  },
  {
   "cell_type": "code",
   "execution_count": null,
   "metadata": {},
   "outputs": [],
   "source": [
    "fig, ax = plt.subplots()\n",
    "fig.set_size_inches(14, 6)\n",
    "sns.boxplot(data=twitter_df[['img_num','p1_conf','p2_conf','p3_conf']],\\\n",
    "                 orient=\"h\", palette=\"Set2\", ax=ax);"
   ]
  },
  {
   "cell_type": "code",
   "execution_count": null,
   "metadata": {},
   "outputs": [],
   "source": [
    "fig, ax = plt.subplots()\n",
    "fig.set_size_inches(14, 6)\n",
    "sns.boxplot(data=twitter_df['img_num'],\\\n",
    "                 orient=\"h\", palette=\"Set2\", ax=ax);"
   ]
  },
  {
   "cell_type": "markdown",
   "metadata": {},
   "source": [
    "<a id=\"q1\"></a>\n",
    "##### 1. Are there any outlier in the data?\n",
    "<br>\n",
    "<b> Answer:</b> \n",
    "<br>\n",
    "- In numeric data, all cols have outlier except p1_conf. Just like the information from udacity, some nominator have bigger value then their denominator so the rating can be more than 1 (because rating = numerator/denominator so the value must be 0 until 1).\n",
    "<br>\n",
    "- From statistic description, we found that distance min max from variables rating_numerator, rating_denominator, favorite_count, retweet_count, and ratings are high. But for all rating variable, we can find that Q3 is not too far from another Q, so the max value from that variables definitely outlier."
   ]
  },
  {
   "cell_type": "code",
   "execution_count": null,
   "metadata": {},
   "outputs": [],
   "source": [
    "# correlation\n",
    "fig, ax = plt.subplots()\n",
    "fig.set_size_inches(11.7, 8.27)\n",
    "sns.heatmap(twitter_df.corr(), annot=True, ax=ax)"
   ]
  },
  {
   "cell_type": "markdown",
   "metadata": {},
   "source": [
    "<a id=\"q2\"></a>\n",
    "##### 2. How about correlation between variables?\n",
    "<br>\n",
    "<b> Answer:</b>\n",
    "<br><i>Note: The correlation value between -1 until 1, negative just to make we know the correlation direction, the closer to the value 0, the smaller the correlation. It use pearson correlation so they just see the linear relationship between each variables.\n",
    "<br></i>\n",
    "<br>\n",
    "- To this plot please ignore correlation between rating and rating_numerator or rating_denominator because the result  should be strong because rating is a calculation from both of them. But surprisingly the correlation between rating and rating_denominator is small. The answer can be found from stat desc that show if value rating_numerator is more varied than rating_denominator (std rating_denominator more hight than rating_numerator but their quantiles just similar each other)\n",
    "<br>\n",
    "- We can see hight positive correlation between favorite_count and retweet_count. Its mean the more favorited the more retweeted\n",
    "<br>\n",
    "- The correlation between all confidence variables also quite high. Somehow when p1_conf hight the confidence in p2 and p3 will decreese, but when confidence p3 increase the confidence in p2 will lightly increese."
   ]
  },
  {
   "cell_type": "code",
   "execution_count": null,
   "metadata": {},
   "outputs": [],
   "source": []
  }
 ],
 "metadata": {
  "kernelspec": {
   "display_name": "Python 3",
   "language": "python",
   "name": "python3"
  },
  "language_info": {
   "codemirror_mode": {
    "name": "ipython",
    "version": 3
   },
   "file_extension": ".py",
   "mimetype": "text/x-python",
   "name": "python",
   "nbconvert_exporter": "python",
   "pygments_lexer": "ipython3",
   "version": "3.7.3"
  }
 },
 "nbformat": 4,
 "nbformat_minor": 2
}
