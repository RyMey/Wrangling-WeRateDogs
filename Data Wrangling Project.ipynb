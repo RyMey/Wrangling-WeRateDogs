{
 "cells": [
  {
   "cell_type": "markdown",
   "metadata": {},
   "source": [
    "# Project: Data Wrangling WeRateDogs\n",
    "\n",
    "## Table of Contents\n",
    "<ul>\n",
    "<li><a href=\"#intro\">Introduction</a></li>\n",
    "<li><a href=\"#gathering\">Gathering The Data</a></li>\n",
    "<li><a href=\"#access\">Accessing The Data</a></li>\n",
    "<li><a href=\"#cleaning\">Cleaning The Data</a>\n",
    "<li><a href=\"#analizing\">Analizing and Visualizing</a>\n",
    "</li>\n",
    "<li><a href=\"#conclusions\">Conclusions</a></li>\n",
    "</ul>"
   ]
  },
  {
   "cell_type": "markdown",
   "metadata": {},
   "source": [
    "<a id=\"gathering\"></a>\n",
    "# Gathering The Data"
   ]
  },
  {
   "cell_type": "markdown",
   "metadata": {},
   "source": [
    "I parse my library needed in each task so it will easier to know what kind library needed from that task.\n",
    "<ul>\n",
    "<li><a href=\"#first\">First Data: Get Data Twitter Archive</a></li>\n",
    "<li><a href=\"#second\">Second Data: Get Data Tweet Image Prediction</a></li>\n",
    "<li>Third Data: Accessing The Data\n",
    "    <ul>\n",
    "        <li><a href=\"#configure\">Configure Twitter Account</a></li>\n",
    "        <li><a href=\"#getdatathird\">Get Data Twitter with API & JSON</a></li>\n",
    "    </ul>\n",
    "</li>\n",
    "<li><a href=\"#conclusiongathering\">Conclusion</a></li>\n",
    "<ul>"
   ]
  },
  {
   "cell_type": "markdown",
   "metadata": {},
   "source": [
    "<a id=\"first\"></a>\n",
    "#### 1. Get Data Twitter Archive"
   ]
  },
  {
   "cell_type": "markdown",
   "metadata": {},
   "source": [
    "Todo:\n",
    "1. Import library needed\n",
    "2. Read <b>twitter_archive_enhanced.csv</b> from the same folder\n",
    "3. Make sure that data has been read correctly\n",
    "    - print head"
   ]
  },
  {
   "cell_type": "code",
   "execution_count": 1,
   "metadata": {},
   "outputs": [],
   "source": [
    "import pandas as pd"
   ]
  },
  {
   "cell_type": "code",
   "execution_count": 2,
   "metadata": {},
   "outputs": [
    {
     "data": {
      "text/html": [
       "<div>\n",
       "<style scoped>\n",
       "    .dataframe tbody tr th:only-of-type {\n",
       "        vertical-align: middle;\n",
       "    }\n",
       "\n",
       "    .dataframe tbody tr th {\n",
       "        vertical-align: top;\n",
       "    }\n",
       "\n",
       "    .dataframe thead th {\n",
       "        text-align: right;\n",
       "    }\n",
       "</style>\n",
       "<table border=\"1\" class=\"dataframe\">\n",
       "  <thead>\n",
       "    <tr style=\"text-align: right;\">\n",
       "      <th></th>\n",
       "      <th>tweet_id</th>\n",
       "      <th>in_reply_to_status_id</th>\n",
       "      <th>in_reply_to_user_id</th>\n",
       "      <th>timestamp</th>\n",
       "      <th>source</th>\n",
       "      <th>text</th>\n",
       "      <th>retweeted_status_id</th>\n",
       "      <th>retweeted_status_user_id</th>\n",
       "      <th>retweeted_status_timestamp</th>\n",
       "      <th>expanded_urls</th>\n",
       "      <th>rating_numerator</th>\n",
       "      <th>rating_denominator</th>\n",
       "      <th>name</th>\n",
       "      <th>doggo</th>\n",
       "      <th>floofer</th>\n",
       "      <th>pupper</th>\n",
       "      <th>puppo</th>\n",
       "    </tr>\n",
       "  </thead>\n",
       "  <tbody>\n",
       "    <tr>\n",
       "      <th>2355</th>\n",
       "      <td>666020888022790149</td>\n",
       "      <td>NaN</td>\n",
       "      <td>NaN</td>\n",
       "      <td>2015-11-15 22:32:08 +0000</td>\n",
       "      <td>&lt;a href=\"http://twitter.com/download/iphone\" r...</td>\n",
       "      <td>Here we have a Japanese Irish Setter. Lost eye...</td>\n",
       "      <td>NaN</td>\n",
       "      <td>NaN</td>\n",
       "      <td>NaN</td>\n",
       "      <td>https://twitter.com/dog_rates/status/666020888...</td>\n",
       "      <td>8</td>\n",
       "      <td>10</td>\n",
       "      <td>None</td>\n",
       "      <td>None</td>\n",
       "      <td>None</td>\n",
       "      <td>None</td>\n",
       "      <td>None</td>\n",
       "    </tr>\n",
       "    <tr>\n",
       "      <th>2354</th>\n",
       "      <td>666029285002620928</td>\n",
       "      <td>NaN</td>\n",
       "      <td>NaN</td>\n",
       "      <td>2015-11-15 23:05:30 +0000</td>\n",
       "      <td>&lt;a href=\"http://twitter.com/download/iphone\" r...</td>\n",
       "      <td>This is a western brown Mitsubishi terrier. Up...</td>\n",
       "      <td>NaN</td>\n",
       "      <td>NaN</td>\n",
       "      <td>NaN</td>\n",
       "      <td>https://twitter.com/dog_rates/status/666029285...</td>\n",
       "      <td>7</td>\n",
       "      <td>10</td>\n",
       "      <td>a</td>\n",
       "      <td>None</td>\n",
       "      <td>None</td>\n",
       "      <td>None</td>\n",
       "      <td>None</td>\n",
       "    </tr>\n",
       "  </tbody>\n",
       "</table>\n",
       "</div>"
      ],
      "text/plain": [
       "                tweet_id  in_reply_to_status_id  in_reply_to_user_id  \\\n",
       "2355  666020888022790149                    NaN                  NaN   \n",
       "2354  666029285002620928                    NaN                  NaN   \n",
       "\n",
       "                      timestamp  \\\n",
       "2355  2015-11-15 22:32:08 +0000   \n",
       "2354  2015-11-15 23:05:30 +0000   \n",
       "\n",
       "                                                 source  \\\n",
       "2355  <a href=\"http://twitter.com/download/iphone\" r...   \n",
       "2354  <a href=\"http://twitter.com/download/iphone\" r...   \n",
       "\n",
       "                                                   text  retweeted_status_id  \\\n",
       "2355  Here we have a Japanese Irish Setter. Lost eye...                  NaN   \n",
       "2354  This is a western brown Mitsubishi terrier. Up...                  NaN   \n",
       "\n",
       "      retweeted_status_user_id retweeted_status_timestamp  \\\n",
       "2355                       NaN                        NaN   \n",
       "2354                       NaN                        NaN   \n",
       "\n",
       "                                          expanded_urls  rating_numerator  \\\n",
       "2355  https://twitter.com/dog_rates/status/666020888...                 8   \n",
       "2354  https://twitter.com/dog_rates/status/666029285...                 7   \n",
       "\n",
       "      rating_denominator  name doggo floofer pupper puppo  \n",
       "2355                  10  None  None    None   None  None  \n",
       "2354                  10     a  None    None   None  None  "
      ]
     },
     "execution_count": 2,
     "metadata": {},
     "output_type": "execute_result"
    }
   ],
   "source": [
    "twitter_archive_df = pd.read_csv('data_udacity/twitter-archive-enhanced.csv')\n",
    "twitter_archive_df = twitter_archive_df.sort_values('timestamp')\n",
    "twitter_archive_df.head(2)"
   ]
  },
  {
   "cell_type": "markdown",
   "metadata": {},
   "source": [
    "<a id=\"second\"></a>\n",
    "#### 2. Get Data Tweet Image Prediction"
   ]
  },
  {
   "cell_type": "markdown",
   "metadata": {},
   "source": [
    "Todo:\n",
    "1. Import library needed\n",
    "2. Read <b>image-predictions.tsv</b> from Udacity's server that can be access from <i> https://d17h27t6h515a5.cloudfront.net/topher/2017/August/599fd2ad_image-predictions/image-predictions.tsv </i>\n",
    "3. Make sure that data has been read correctly\n",
    "    - print head\n",
    "    - describe domain knowledge about the data"
   ]
  },
  {
   "cell_type": "code",
   "execution_count": 3,
   "metadata": {},
   "outputs": [],
   "source": [
    "import requests"
   ]
  },
  {
   "cell_type": "code",
   "execution_count": 4,
   "metadata": {},
   "outputs": [],
   "source": [
    "url = \"https://d17h27t6h515a5.cloudfront.net/topher/2017/August/599fd2ad_image-predictions/image-predictions.tsv\"\n",
    "response = requests.get(url)\n",
    "\n",
    "with open('data_udacity/image-predictions.tsv', mode ='wb') as file:\n",
    "    file.write(response.content)"
   ]
  },
  {
   "cell_type": "code",
   "execution_count": 5,
   "metadata": {},
   "outputs": [
    {
     "data": {
      "text/html": [
       "<div>\n",
       "<style scoped>\n",
       "    .dataframe tbody tr th:only-of-type {\n",
       "        vertical-align: middle;\n",
       "    }\n",
       "\n",
       "    .dataframe tbody tr th {\n",
       "        vertical-align: top;\n",
       "    }\n",
       "\n",
       "    .dataframe thead th {\n",
       "        text-align: right;\n",
       "    }\n",
       "</style>\n",
       "<table border=\"1\" class=\"dataframe\">\n",
       "  <thead>\n",
       "    <tr style=\"text-align: right;\">\n",
       "      <th></th>\n",
       "      <th>tweet_id</th>\n",
       "      <th>jpg_url</th>\n",
       "      <th>img_num</th>\n",
       "      <th>p1</th>\n",
       "      <th>p1_conf</th>\n",
       "      <th>p1_dog</th>\n",
       "      <th>p2</th>\n",
       "      <th>p2_conf</th>\n",
       "      <th>p2_dog</th>\n",
       "      <th>p3</th>\n",
       "      <th>p3_conf</th>\n",
       "      <th>p3_dog</th>\n",
       "    </tr>\n",
       "  </thead>\n",
       "  <tbody>\n",
       "    <tr>\n",
       "      <th>0</th>\n",
       "      <td>666020888022790149</td>\n",
       "      <td>https://pbs.twimg.com/media/CT4udn0WwAA0aMy.jpg</td>\n",
       "      <td>1</td>\n",
       "      <td>Welsh_springer_spaniel</td>\n",
       "      <td>0.465074</td>\n",
       "      <td>True</td>\n",
       "      <td>collie</td>\n",
       "      <td>0.156665</td>\n",
       "      <td>True</td>\n",
       "      <td>Shetland_sheepdog</td>\n",
       "      <td>0.061428</td>\n",
       "      <td>True</td>\n",
       "    </tr>\n",
       "    <tr>\n",
       "      <th>1</th>\n",
       "      <td>666029285002620928</td>\n",
       "      <td>https://pbs.twimg.com/media/CT42GRgUYAA5iDo.jpg</td>\n",
       "      <td>1</td>\n",
       "      <td>redbone</td>\n",
       "      <td>0.506826</td>\n",
       "      <td>True</td>\n",
       "      <td>miniature_pinscher</td>\n",
       "      <td>0.074192</td>\n",
       "      <td>True</td>\n",
       "      <td>Rhodesian_ridgeback</td>\n",
       "      <td>0.072010</td>\n",
       "      <td>True</td>\n",
       "    </tr>\n",
       "  </tbody>\n",
       "</table>\n",
       "</div>"
      ],
      "text/plain": [
       "             tweet_id                                          jpg_url  \\\n",
       "0  666020888022790149  https://pbs.twimg.com/media/CT4udn0WwAA0aMy.jpg   \n",
       "1  666029285002620928  https://pbs.twimg.com/media/CT42GRgUYAA5iDo.jpg   \n",
       "\n",
       "   img_num                      p1   p1_conf  p1_dog                  p2  \\\n",
       "0        1  Welsh_springer_spaniel  0.465074    True              collie   \n",
       "1        1                 redbone  0.506826    True  miniature_pinscher   \n",
       "\n",
       "    p2_conf  p2_dog                   p3   p3_conf  p3_dog  \n",
       "0  0.156665    True    Shetland_sheepdog  0.061428    True  \n",
       "1  0.074192    True  Rhodesian_ridgeback  0.072010    True  "
      ]
     },
     "execution_count": 5,
     "metadata": {},
     "output_type": "execute_result"
    }
   ],
   "source": [
    "#Read TSV file\n",
    "image_prediction_df = pd.read_csv('data_udacity/image-predictions.tsv', sep='\\t' )\n",
    "image_prediction_df.head(2)"
   ]
  },
  {
   "cell_type": "markdown",
   "metadata": {},
   "source": [
    "#### The description:\n",
    "- tweet_id is the last part of the tweet URL after \"status/\" → https://twitter.com/dog_rates/status/889531135344209921\n",
    "- p1 is the algorithm's #1 prediction for the image in the tweet → golden retriever\n",
    "- p1_conf is how confident the algorithm is in its #1 prediction → 95%\n",
    "- p1_dog is whether or not the #1 prediction is a breed of dog → TRUE\n",
    "- p2 is the algorithm's second most likely prediction → Labrador retriever\n",
    "- p2_conf is how confident the algorithm is in its #2 prediction → 1%\n",
    "- p2_dog is whether or not the #2 prediction is a breed of dog → TRUE\n",
    "- etc."
   ]
  },
  {
   "cell_type": "markdown",
   "metadata": {},
   "source": [
    "<a id=\"configure\"></a>\n",
    "#### 3. Configure Twitter Account"
   ]
  },
  {
   "cell_type": "markdown",
   "metadata": {},
   "source": [
    "Todo:\n",
    "1. Import library needed\n",
    "2. Declare twitter configuration with consumer_key, consumer_secret, access_token, and access_secret \n",
    "3. Make configuration"
   ]
  },
  {
   "cell_type": "code",
   "execution_count": 6,
   "metadata": {},
   "outputs": [],
   "source": [
    "import tweepy"
   ]
  },
  {
   "cell_type": "code",
   "execution_count": 7,
   "metadata": {},
   "outputs": [],
   "source": [
    "# for security reasons, I save my configuration in csv\n",
    "twitter_configuration = pd.read_csv(\"twitter_configuration.csv\")"
   ]
  },
  {
   "cell_type": "code",
   "execution_count": 8,
   "metadata": {},
   "outputs": [],
   "source": [
    "try:\n",
    "    auth = tweepy.OAuthHandler(twitter_configuration.consumer_key[0], twitter_configuration.consumer_secret[0])\n",
    "    auth.set_access_token(twitter_configuration.access_token[0], twitter_configuration.access_secret[0])\n",
    "except tweepy.TweepError as t:\n",
    "    print(t.message)\n",
    "    \n",
    "api = tweepy.API(auth, wait_on_rate_limit= True, wait_on_rate_limit_notify= True)"
   ]
  },
  {
   "cell_type": "markdown",
   "metadata": {},
   "source": [
    "<a id=\"getdatathird\"></a>\n",
    "#### 4. Get Data Twitter with API & JSON"
   ]
  },
  {
   "cell_type": "markdown",
   "metadata": {},
   "source": [
    "Todo:\n",
    "1. Import library needed (if not exist before)\n",
    "2. Get twitter data in JSON by id from file point 1\n",
    "    - add data JSON from a list\n",
    "    - add ids data that we can't find that with API\n",
    "    - calculate the number id we wan to looking for\n",
    "    - calculate number succes and fail data we looking for\n",
    "    - save data tweets in txt file so we can accsess that many time\n",
    "3. Read and save tweets data in dataframe so we can access in our notebook\n",
    "4. Make sure that data has been read correctly\n",
    "    - print head"
   ]
  },
  {
   "cell_type": "code",
   "execution_count": 9,
   "metadata": {},
   "outputs": [],
   "source": [
    "import json\n",
    "from timeit import default_timer as timer"
   ]
  },
  {
   "cell_type": "code",
   "execution_count": 10,
   "metadata": {},
   "outputs": [],
   "source": [
    "tweets = []\n",
    "ids_not_found_tweet = []\n",
    "ids_fail_get_tweet = []\n",
    "num_tweet_id = len(twitter_archive_df.tweet_id)\n",
    "num_succes_get_data = 0\n",
    "num_fail_get_data = 0\n",
    "\n",
    "start = timer()\n",
    "for tweet_id in twitter_archive_df.tweet_id:\n",
    "    try:\n",
    "        temp = api.get_status(tweet_id)._json\n",
    "        tweets.append({'tweet_id':temp['id'],\n",
    "                       'favorite_count':temp['favorite_count'],\n",
    "                       'favorited':temp['favorited'],\n",
    "                       'retweet_count':temp['retweet_count'],\n",
    "                       'retweeted':temp['retweeted']})\n",
    "        num_succes_get_data += 1\n",
    "        print('{} : done, {}/{}'.format(tweet_id, num_succes_get_data, num_tweet_id))\n",
    "    except tweepy.TweepError as t:\n",
    "        num_fail_get_data += 1\n",
    "        if (t.args[0][0]['message'] == 'No status found with that ID.'):\n",
    "            ids_not_found_tweet.append(tweet_id)\n",
    "        else:\n",
    "            ids_fail_get_tweet.append(tweet_id)\n",
    "        print('{} : {}, total fail= {}'.format(tweet_id, t, num_fail_get_data))\n",
    "\n",
    "end = timer()\n",
    "print(\"The time we need to get JSON file: {} second\".format(end - start))"
   ]
  },
  {
   "cell_type": "code",
   "execution_count": 11,
   "metadata": {},
   "outputs": [],
   "source": [
    "print(\"Success to get {} data, and fail to get {} data (no_tweet: {}, just fail: {}), from total {} data.\"\\\n",
    "      .format(num_succes_get_data, num_fail_get_data,\\\n",
    "             len(ids_not_found_tweet), len(ids_fail_get_tweet),\\\n",
    "             num_tweet_id))"
   ]
  },
  {
   "cell_type": "code",
   "execution_count": 12,
   "metadata": {},
   "outputs": [],
   "source": [
    "json.dump(tweets,open('data_generated/tweets.txt', 'w', encoding=\"utf8\"), ensure_ascii=False, indent=4)\n",
    "print('Success save the json file')"
   ]
  },
  {
   "cell_type": "code",
   "execution_count": 13,
   "metadata": {},
   "outputs": [
    {
     "data": {
      "text/html": [
       "<div>\n",
       "<style scoped>\n",
       "    .dataframe tbody tr th:only-of-type {\n",
       "        vertical-align: middle;\n",
       "    }\n",
       "\n",
       "    .dataframe tbody tr th {\n",
       "        vertical-align: top;\n",
       "    }\n",
       "\n",
       "    .dataframe thead th {\n",
       "        text-align: right;\n",
       "    }\n",
       "</style>\n",
       "<table border=\"1\" class=\"dataframe\">\n",
       "  <thead>\n",
       "    <tr style=\"text-align: right;\">\n",
       "      <th></th>\n",
       "      <th>favorite_count</th>\n",
       "      <th>favorited</th>\n",
       "      <th>retweet_count</th>\n",
       "      <th>retweeted</th>\n",
       "      <th>tweet_id</th>\n",
       "    </tr>\n",
       "  </thead>\n",
       "  <tbody>\n",
       "    <tr>\n",
       "      <th>0</th>\n",
       "      <td>2498</td>\n",
       "      <td>False</td>\n",
       "      <td>493</td>\n",
       "      <td>False</td>\n",
       "      <td>666020888022790149</td>\n",
       "    </tr>\n",
       "    <tr>\n",
       "      <th>1</th>\n",
       "      <td>124</td>\n",
       "      <td>False</td>\n",
       "      <td>46</td>\n",
       "      <td>False</td>\n",
       "      <td>666029285002620928</td>\n",
       "    </tr>\n",
       "  </tbody>\n",
       "</table>\n",
       "</div>"
      ],
      "text/plain": [
       "   favorite_count  favorited  retweet_count  retweeted            tweet_id\n",
       "0            2498      False            493      False  666020888022790149\n",
       "1             124      False             46      False  666029285002620928"
      ]
     },
     "execution_count": 13,
     "metadata": {},
     "output_type": "execute_result"
    }
   ],
   "source": [
    "# read json file into dataframe\n",
    "with open('data_generated/tweets.txt','r') as f:\n",
    "    data = json.load(f)\n",
    "\n",
    "scrapped_tweet_df = pd.DataFrame(data)\n",
    "scrapped_tweet_df.head(2)"
   ]
  },
  {
   "cell_type": "markdown",
   "metadata": {},
   "source": [
    "<a id=\"conclusiongathering\"></a>\n",
    "###### Conclusion:\n",
    "- We get the third data\n",
    "- 21 data from tweet_id are failed to get from tweet API because the id is not found, the twitter must be deleted\n",
    "- We get first data from file that we save in same folder, second data from Udacity's server, and third data from Twitter API\n",
    "    - After see tweet_json.txt from Udacity, I decide to get some column (not all column) because another column has been save in first data, and some cols not need yet (like column user)\n",
    "- Because twitter have range limit time, so we need extra time (because of sleep) to get all data. In this project we need 2010 second"
   ]
  },
  {
   "cell_type": "markdown",
   "metadata": {},
   "source": [
    "<a id=\"access\"></a>\n",
    "# Accessing The Data "
   ]
  },
  {
   "cell_type": "markdown",
   "metadata": {},
   "source": [
    "For now, we have 3 data: <b> twitter_archive_df, image_prediction_df, and scrapped_tweet_df </b>.\n",
    "<br>\n",
    "Todo in accessing data:\n",
    "<ol>\n",
    "<li><a href=\"#length\">Check length of data</a></li>\n",
    "<li><a href=\"#type\">Check the type of data</a></li>\n",
    "<li><a href=\"#value\">Check the value of data</a></li>\n",
    "<li><a href=\"#missing\">Check missing value of data</a></li>\n",
    "<li><a href=\"#describe\">Check stat describe data</a></li>\n",
    "<li><a href=\"#issue\">Founded Issues</a></li>\n",
    "<ol>"
   ]
  },
  {
   "cell_type": "code",
   "execution_count": 14,
   "metadata": {},
   "outputs": [],
   "source": [
    "import matplotlib.pyplot as plt\n",
    "import seaborn as sns\n",
    "import numpy as np\n",
    "\n",
    "%matplotlib inline"
   ]
  },
  {
   "cell_type": "markdown",
   "metadata": {},
   "source": [
    "<a id=\"length\"></a>\n",
    "##### 1. Check length of data"
   ]
  },
  {
   "cell_type": "code",
   "execution_count": 15,
   "metadata": {},
   "outputs": [],
   "source": [
    "def print_length(name, data_frame):\n",
    "    print(\"The length of {} is {}\".format(name, len(data_frame)))"
   ]
  },
  {
   "cell_type": "code",
   "execution_count": 16,
   "metadata": {},
   "outputs": [
    {
     "name": "stdout",
     "output_type": "stream",
     "text": [
      "The length of twitter_archive_df is 2356\n",
      "The length of image_prediction_df is 2075\n",
      "The length of scrapped_tweet_df is 2335\n"
     ]
    }
   ],
   "source": [
    "print_length('twitter_archive_df', twitter_archive_df)\n",
    "print_length('image_prediction_df', image_prediction_df)\n",
    "print_length('scrapped_tweet_df', scrapped_tweet_df)"
   ]
  },
  {
   "cell_type": "markdown",
   "metadata": {},
   "source": [
    "From that data we get info that twitter_archive_df has different length with scrapped_tweet_df because we failed to get 22 data from twitter. We can delete some row in data so we will have the same length in each table."
   ]
  },
  {
   "cell_type": "markdown",
   "metadata": {},
   "source": [
    "<a id=\"type\"></a>\n",
    "##### 2. Check the type of data"
   ]
  },
  {
   "cell_type": "code",
   "execution_count": 17,
   "metadata": {},
   "outputs": [
    {
     "data": {
      "text/plain": [
       "tweet_id                        int64\n",
       "in_reply_to_status_id         float64\n",
       "in_reply_to_user_id           float64\n",
       "timestamp                      object\n",
       "source                         object\n",
       "text                           object\n",
       "retweeted_status_id           float64\n",
       "retweeted_status_user_id      float64\n",
       "retweeted_status_timestamp     object\n",
       "expanded_urls                  object\n",
       "rating_numerator                int64\n",
       "rating_denominator              int64\n",
       "name                           object\n",
       "doggo                          object\n",
       "floofer                        object\n",
       "pupper                         object\n",
       "puppo                          object\n",
       "dtype: object"
      ]
     },
     "execution_count": 17,
     "metadata": {},
     "output_type": "execute_result"
    }
   ],
   "source": [
    "twitter_archive_df.dtypes"
   ]
  },
  {
   "cell_type": "code",
   "execution_count": 18,
   "metadata": {},
   "outputs": [
    {
     "data": {
      "text/plain": [
       "tweet_id      int64\n",
       "jpg_url      object\n",
       "img_num       int64\n",
       "p1           object\n",
       "p1_conf     float64\n",
       "p1_dog         bool\n",
       "p2           object\n",
       "p2_conf     float64\n",
       "p2_dog         bool\n",
       "p3           object\n",
       "p3_conf     float64\n",
       "p3_dog         bool\n",
       "dtype: object"
      ]
     },
     "execution_count": 18,
     "metadata": {},
     "output_type": "execute_result"
    }
   ],
   "source": [
    "image_prediction_df.dtypes"
   ]
  },
  {
   "cell_type": "code",
   "execution_count": 19,
   "metadata": {},
   "outputs": [
    {
     "data": {
      "text/plain": [
       "favorite_count    int64\n",
       "favorited          bool\n",
       "retweet_count     int64\n",
       "retweeted          bool\n",
       "tweet_id          int64\n",
       "dtype: object"
      ]
     },
     "execution_count": 19,
     "metadata": {},
     "output_type": "execute_result"
    }
   ],
   "source": [
    "scrapped_tweet_df.dtypes"
   ]
  },
  {
   "cell_type": "markdown",
   "metadata": {},
   "source": [
    "Object in the data type mean string, we not have some problem in there except timestamp. It must be date"
   ]
  },
  {
   "cell_type": "markdown",
   "metadata": {},
   "source": [
    "<a id=\"value\"></a>\n",
    "#### 3. Check the value of data"
   ]
  },
  {
   "cell_type": "code",
   "execution_count": 20,
   "metadata": {},
   "outputs": [
    {
     "data": {
      "text/plain": [
       "None       745\n",
       "a           55\n",
       "Charlie     12\n",
       "Lucy        11\n",
       "Oliver      11\n",
       "Name: name, dtype: int64"
      ]
     },
     "execution_count": 20,
     "metadata": {},
     "output_type": "execute_result"
    }
   ],
   "source": [
    "twitter_archive_df.name.value_counts().head()"
   ]
  },
  {
   "cell_type": "markdown",
   "metadata": {},
   "source": [
    "There is 5 sorted dog name with the biggest total value. We find that \"None\" is typically missing data, and I assumed that \"a\" also a missing data, so we must find and uniformly all missing data value in each label."
   ]
  },
  {
   "cell_type": "code",
   "execution_count": 21,
   "metadata": {},
   "outputs": [
    {
     "data": {
      "text/plain": [
       "7.757333e+17    1\n",
       "8.001414e+17    1\n",
       "8.174239e+17    1\n",
       "6.742918e+17    1\n",
       "6.833919e+17    1\n",
       "Name: retweeted_status_id, dtype: int64"
      ]
     },
     "execution_count": 21,
     "metadata": {},
     "output_type": "execute_result"
    }
   ],
   "source": [
    "twitter_archive_df.retweeted_status_id.value_counts().head()"
   ]
  },
  {
   "cell_type": "markdown",
   "metadata": {},
   "source": [
    "We only need original tweet (not retweeted by another tweet), so we must drop row that retweeted_status_id doesn't missing"
   ]
  },
  {
   "cell_type": "code",
   "execution_count": 22,
   "metadata": {},
   "outputs": [
    {
     "data": {
      "text/plain": [
       "False    2335\n",
       "Name: retweeted, dtype: int64"
      ]
     },
     "execution_count": 22,
     "metadata": {},
     "output_type": "execute_result"
    }
   ],
   "source": [
    "scrapped_tweet_df.retweeted.value_counts()"
   ]
  },
  {
   "cell_type": "markdown",
   "metadata": {},
   "source": [
    "Retweeted indicates whether this Tweet has been Retweeted by the authenticating user, because all value are false so this column be not informatif anymore."
   ]
  },
  {
   "cell_type": "code",
   "execution_count": 23,
   "metadata": {},
   "outputs": [
    {
     "data": {
      "text/plain": [
       "0"
      ]
     },
     "execution_count": 23,
     "metadata": {},
     "output_type": "execute_result"
    }
   ],
   "source": [
    "twitter_archive_df.duplicated(['tweet_id']).sum()"
   ]
  },
  {
   "cell_type": "code",
   "execution_count": 24,
   "metadata": {},
   "outputs": [
    {
     "data": {
      "text/plain": [
       "137"
      ]
     },
     "execution_count": 24,
     "metadata": {},
     "output_type": "execute_result"
    }
   ],
   "source": [
    "twitter_archive_df.duplicated(['expanded_urls']).sum()"
   ]
  },
  {
   "cell_type": "code",
   "execution_count": 25,
   "metadata": {},
   "outputs": [
    {
     "data": {
      "text/html": [
       "<div>\n",
       "<style scoped>\n",
       "    .dataframe tbody tr th:only-of-type {\n",
       "        vertical-align: middle;\n",
       "    }\n",
       "\n",
       "    .dataframe tbody tr th {\n",
       "        vertical-align: top;\n",
       "    }\n",
       "\n",
       "    .dataframe thead th {\n",
       "        text-align: right;\n",
       "    }\n",
       "</style>\n",
       "<table border=\"1\" class=\"dataframe\">\n",
       "  <thead>\n",
       "    <tr style=\"text-align: right;\">\n",
       "      <th></th>\n",
       "      <th>tweet_id</th>\n",
       "      <th>in_reply_to_status_id</th>\n",
       "      <th>in_reply_to_user_id</th>\n",
       "      <th>timestamp</th>\n",
       "      <th>source</th>\n",
       "      <th>text</th>\n",
       "      <th>retweeted_status_id</th>\n",
       "      <th>retweeted_status_user_id</th>\n",
       "      <th>retweeted_status_timestamp</th>\n",
       "      <th>expanded_urls</th>\n",
       "      <th>rating_numerator</th>\n",
       "      <th>rating_denominator</th>\n",
       "      <th>name</th>\n",
       "      <th>doggo</th>\n",
       "      <th>floofer</th>\n",
       "      <th>pupper</th>\n",
       "      <th>puppo</th>\n",
       "    </tr>\n",
       "  </thead>\n",
       "  <tbody>\n",
       "    <tr>\n",
       "      <th>2189</th>\n",
       "      <td>668967877119254528</td>\n",
       "      <td>6.689207e+17</td>\n",
       "      <td>2.143566e+07</td>\n",
       "      <td>2015-11-24 01:42:25 +0000</td>\n",
       "      <td>&lt;a href=\"http://twitter.com/download/iphone\" r...</td>\n",
       "      <td>12/10 good shit Bubka\\n@wane15</td>\n",
       "      <td>NaN</td>\n",
       "      <td>NaN</td>\n",
       "      <td>NaN</td>\n",
       "      <td>NaN</td>\n",
       "      <td>12</td>\n",
       "      <td>10</td>\n",
       "      <td>None</td>\n",
       "      <td>None</td>\n",
       "      <td>None</td>\n",
       "      <td>None</td>\n",
       "      <td>None</td>\n",
       "    </tr>\n",
       "    <tr>\n",
       "      <th>2149</th>\n",
       "      <td>669684865554620416</td>\n",
       "      <td>6.693544e+17</td>\n",
       "      <td>4.196984e+09</td>\n",
       "      <td>2015-11-26 01:11:28 +0000</td>\n",
       "      <td>&lt;a href=\"http://twitter.com/download/iphone\" r...</td>\n",
       "      <td>After countless hours of research and hundreds...</td>\n",
       "      <td>NaN</td>\n",
       "      <td>NaN</td>\n",
       "      <td>NaN</td>\n",
       "      <td>NaN</td>\n",
       "      <td>11</td>\n",
       "      <td>10</td>\n",
       "      <td>None</td>\n",
       "      <td>None</td>\n",
       "      <td>None</td>\n",
       "      <td>None</td>\n",
       "      <td>None</td>\n",
       "    </tr>\n",
       "    <tr>\n",
       "      <th>2038</th>\n",
       "      <td>671550332464455680</td>\n",
       "      <td>6.715449e+17</td>\n",
       "      <td>4.196984e+09</td>\n",
       "      <td>2015-12-01 04:44:10 +0000</td>\n",
       "      <td>&lt;a href=\"http://twitter.com/download/iphone\" r...</td>\n",
       "      <td>After 22 minutes of careful deliberation this ...</td>\n",
       "      <td>NaN</td>\n",
       "      <td>NaN</td>\n",
       "      <td>NaN</td>\n",
       "      <td>NaN</td>\n",
       "      <td>1</td>\n",
       "      <td>10</td>\n",
       "      <td>None</td>\n",
       "      <td>None</td>\n",
       "      <td>None</td>\n",
       "      <td>None</td>\n",
       "      <td>None</td>\n",
       "    </tr>\n",
       "    <tr>\n",
       "      <th>1940</th>\n",
       "      <td>673716320723169284</td>\n",
       "      <td>6.737159e+17</td>\n",
       "      <td>4.196984e+09</td>\n",
       "      <td>2015-12-07 04:11:02 +0000</td>\n",
       "      <td>&lt;a href=\"http://twitter.com/download/iphone\" r...</td>\n",
       "      <td>The millennials have spoken and we've decided ...</td>\n",
       "      <td>NaN</td>\n",
       "      <td>NaN</td>\n",
       "      <td>NaN</td>\n",
       "      <td>NaN</td>\n",
       "      <td>1</td>\n",
       "      <td>10</td>\n",
       "      <td>None</td>\n",
       "      <td>None</td>\n",
       "      <td>None</td>\n",
       "      <td>None</td>\n",
       "      <td>None</td>\n",
       "    </tr>\n",
       "    <tr>\n",
       "      <th>1914</th>\n",
       "      <td>674330906434379776</td>\n",
       "      <td>6.658147e+17</td>\n",
       "      <td>1.637468e+07</td>\n",
       "      <td>2015-12-08 20:53:11 +0000</td>\n",
       "      <td>&lt;a href=\"http://twitter.com/download/iphone\" r...</td>\n",
       "      <td>13/10\\n@ABC7</td>\n",
       "      <td>NaN</td>\n",
       "      <td>NaN</td>\n",
       "      <td>NaN</td>\n",
       "      <td>NaN</td>\n",
       "      <td>13</td>\n",
       "      <td>10</td>\n",
       "      <td>None</td>\n",
       "      <td>None</td>\n",
       "      <td>None</td>\n",
       "      <td>None</td>\n",
       "      <td>None</td>\n",
       "    </tr>\n",
       "    <tr>\n",
       "      <th>1905</th>\n",
       "      <td>674606911342424069</td>\n",
       "      <td>6.744689e+17</td>\n",
       "      <td>4.196984e+09</td>\n",
       "      <td>2015-12-09 15:09:55 +0000</td>\n",
       "      <td>&lt;a href=\"http://twitter.com/download/iphone\" r...</td>\n",
       "      <td>The 13/10 also takes into account this impecca...</td>\n",
       "      <td>NaN</td>\n",
       "      <td>NaN</td>\n",
       "      <td>NaN</td>\n",
       "      <td>NaN</td>\n",
       "      <td>13</td>\n",
       "      <td>10</td>\n",
       "      <td>None</td>\n",
       "      <td>None</td>\n",
       "      <td>None</td>\n",
       "      <td>None</td>\n",
       "      <td>None</td>\n",
       "    </tr>\n",
       "    <tr>\n",
       "      <th>1895</th>\n",
       "      <td>674742531037511680</td>\n",
       "      <td>6.747400e+17</td>\n",
       "      <td>4.196984e+09</td>\n",
       "      <td>2015-12-10 00:08:50 +0000</td>\n",
       "      <td>&lt;a href=\"http://twitter.com/download/iphone\" r...</td>\n",
       "      <td>Some clarification is required. The dog is sin...</td>\n",
       "      <td>NaN</td>\n",
       "      <td>NaN</td>\n",
       "      <td>NaN</td>\n",
       "      <td>NaN</td>\n",
       "      <td>11</td>\n",
       "      <td>10</td>\n",
       "      <td>None</td>\n",
       "      <td>None</td>\n",
       "      <td>None</td>\n",
       "      <td>None</td>\n",
       "      <td>None</td>\n",
       "    </tr>\n",
       "    <tr>\n",
       "      <th>1844</th>\n",
       "      <td>675849018447167488</td>\n",
       "      <td>6.758457e+17</td>\n",
       "      <td>4.196984e+09</td>\n",
       "      <td>2015-12-13 01:25:37 +0000</td>\n",
       "      <td>&lt;a href=\"http://twitter.com/download/iphone\" r...</td>\n",
       "      <td>This dog is being demoted to a 9/10 for not we...</td>\n",
       "      <td>NaN</td>\n",
       "      <td>NaN</td>\n",
       "      <td>NaN</td>\n",
       "      <td>NaN</td>\n",
       "      <td>9</td>\n",
       "      <td>10</td>\n",
       "      <td>None</td>\n",
       "      <td>None</td>\n",
       "      <td>None</td>\n",
       "      <td>None</td>\n",
       "      <td>None</td>\n",
       "    </tr>\n",
       "    <tr>\n",
       "      <th>1819</th>\n",
       "      <td>676590572941893632</td>\n",
       "      <td>6.765883e+17</td>\n",
       "      <td>4.196984e+09</td>\n",
       "      <td>2015-12-15 02:32:17 +0000</td>\n",
       "      <td>&lt;a href=\"http://twitter.com/download/iphone\" r...</td>\n",
       "      <td>After some outrage from the crowd. Bubbles is ...</td>\n",
       "      <td>NaN</td>\n",
       "      <td>NaN</td>\n",
       "      <td>NaN</td>\n",
       "      <td>NaN</td>\n",
       "      <td>7</td>\n",
       "      <td>10</td>\n",
       "      <td>None</td>\n",
       "      <td>None</td>\n",
       "      <td>None</td>\n",
       "      <td>None</td>\n",
       "      <td>None</td>\n",
       "    </tr>\n",
       "    <tr>\n",
       "      <th>1774</th>\n",
       "      <td>678023323247357953</td>\n",
       "      <td>6.780211e+17</td>\n",
       "      <td>4.196984e+09</td>\n",
       "      <td>2015-12-19 01:25:31 +0000</td>\n",
       "      <td>&lt;a href=\"http://twitter.com/download/iphone\" r...</td>\n",
       "      <td>After getting lost in Reese's eyes for several...</td>\n",
       "      <td>NaN</td>\n",
       "      <td>NaN</td>\n",
       "      <td>NaN</td>\n",
       "      <td>NaN</td>\n",
       "      <td>13</td>\n",
       "      <td>10</td>\n",
       "      <td>None</td>\n",
       "      <td>None</td>\n",
       "      <td>None</td>\n",
       "      <td>None</td>\n",
       "      <td>None</td>\n",
       "    </tr>\n",
       "    <tr>\n",
       "      <th>1689</th>\n",
       "      <td>681340665377193984</td>\n",
       "      <td>6.813394e+17</td>\n",
       "      <td>4.196984e+09</td>\n",
       "      <td>2015-12-28 05:07:27 +0000</td>\n",
       "      <td>&lt;a href=\"http://twitter.com/download/iphone\" r...</td>\n",
       "      <td>I've been told there's a slight possibility he...</td>\n",
       "      <td>NaN</td>\n",
       "      <td>NaN</td>\n",
       "      <td>NaN</td>\n",
       "      <td>NaN</td>\n",
       "      <td>5</td>\n",
       "      <td>10</td>\n",
       "      <td>None</td>\n",
       "      <td>None</td>\n",
       "      <td>None</td>\n",
       "      <td>None</td>\n",
       "      <td>None</td>\n",
       "    </tr>\n",
       "    <tr>\n",
       "      <th>1663</th>\n",
       "      <td>682808988178739200</td>\n",
       "      <td>6.827884e+17</td>\n",
       "      <td>4.196984e+09</td>\n",
       "      <td>2016-01-01 06:22:03 +0000</td>\n",
       "      <td>&lt;a href=\"http://twitter.com/download/iphone\" r...</td>\n",
       "      <td>I'm aware that I could've said 20/16, but here...</td>\n",
       "      <td>NaN</td>\n",
       "      <td>NaN</td>\n",
       "      <td>NaN</td>\n",
       "      <td>NaN</td>\n",
       "      <td>20</td>\n",
       "      <td>16</td>\n",
       "      <td>None</td>\n",
       "      <td>None</td>\n",
       "      <td>None</td>\n",
       "      <td>None</td>\n",
       "      <td>None</td>\n",
       "    </tr>\n",
       "    <tr>\n",
       "      <th>1618</th>\n",
       "      <td>684969860808454144</td>\n",
       "      <td>6.849598e+17</td>\n",
       "      <td>4.196984e+09</td>\n",
       "      <td>2016-01-07 05:28:35 +0000</td>\n",
       "      <td>&lt;a href=\"http://twitter.com/download/iphone\" r...</td>\n",
       "      <td>For those who claim this is a goat, u are wron...</td>\n",
       "      <td>NaN</td>\n",
       "      <td>NaN</td>\n",
       "      <td>NaN</td>\n",
       "      <td>NaN</td>\n",
       "      <td>5</td>\n",
       "      <td>10</td>\n",
       "      <td>None</td>\n",
       "      <td>None</td>\n",
       "      <td>None</td>\n",
       "      <td>None</td>\n",
       "      <td>None</td>\n",
       "    </tr>\n",
       "    <tr>\n",
       "      <th>1605</th>\n",
       "      <td>685681090388975616</td>\n",
       "      <td>6.855479e+17</td>\n",
       "      <td>4.196984e+09</td>\n",
       "      <td>2016-01-09 04:34:45 +0000</td>\n",
       "      <td>&lt;a href=\"http://twitter.com/download/iphone\" r...</td>\n",
       "      <td>Jack deserves another round of applause. If yo...</td>\n",
       "      <td>NaN</td>\n",
       "      <td>NaN</td>\n",
       "      <td>NaN</td>\n",
       "      <td>NaN</td>\n",
       "      <td>14</td>\n",
       "      <td>10</td>\n",
       "      <td>None</td>\n",
       "      <td>None</td>\n",
       "      <td>None</td>\n",
       "      <td>None</td>\n",
       "      <td>None</td>\n",
       "    </tr>\n",
       "    <tr>\n",
       "      <th>1598</th>\n",
       "      <td>686035780142297088</td>\n",
       "      <td>6.860340e+17</td>\n",
       "      <td>4.196984e+09</td>\n",
       "      <td>2016-01-10 04:04:10 +0000</td>\n",
       "      <td>&lt;a href=\"http://twitter.com/download/iphone\" r...</td>\n",
       "      <td>Yes I do realize a rating of 4/20 would've bee...</td>\n",
       "      <td>NaN</td>\n",
       "      <td>NaN</td>\n",
       "      <td>NaN</td>\n",
       "      <td>NaN</td>\n",
       "      <td>4</td>\n",
       "      <td>20</td>\n",
       "      <td>None</td>\n",
       "      <td>None</td>\n",
       "      <td>None</td>\n",
       "      <td>None</td>\n",
       "      <td>None</td>\n",
       "    </tr>\n",
       "    <tr>\n",
       "      <th>1523</th>\n",
       "      <td>690607260360429569</td>\n",
       "      <td>6.903413e+17</td>\n",
       "      <td>4.670367e+08</td>\n",
       "      <td>2016-01-22 18:49:36 +0000</td>\n",
       "      <td>&lt;a href=\"http://twitter.com/download/iphone\" r...</td>\n",
       "      <td>12/10 @LightningHoltt</td>\n",
       "      <td>NaN</td>\n",
       "      <td>NaN</td>\n",
       "      <td>NaN</td>\n",
       "      <td>NaN</td>\n",
       "      <td>12</td>\n",
       "      <td>10</td>\n",
       "      <td>None</td>\n",
       "      <td>None</td>\n",
       "      <td>None</td>\n",
       "      <td>None</td>\n",
       "      <td>None</td>\n",
       "    </tr>\n",
       "    <tr>\n",
       "      <th>1497</th>\n",
       "      <td>692423280028966913</td>\n",
       "      <td>6.924173e+17</td>\n",
       "      <td>4.196984e+09</td>\n",
       "      <td>2016-01-27 19:05:49 +0000</td>\n",
       "      <td>&lt;a href=\"http://twitter.com/download/iphone\" r...</td>\n",
       "      <td>PUPDATE: just noticed this dog has some extra ...</td>\n",
       "      <td>NaN</td>\n",
       "      <td>NaN</td>\n",
       "      <td>NaN</td>\n",
       "      <td>NaN</td>\n",
       "      <td>9</td>\n",
       "      <td>10</td>\n",
       "      <td>None</td>\n",
       "      <td>None</td>\n",
       "      <td>None</td>\n",
       "      <td>None</td>\n",
       "      <td>None</td>\n",
       "    </tr>\n",
       "    <tr>\n",
       "      <th>1479</th>\n",
       "      <td>693582294167244802</td>\n",
       "      <td>6.935722e+17</td>\n",
       "      <td>1.198989e+09</td>\n",
       "      <td>2016-01-30 23:51:19 +0000</td>\n",
       "      <td>&lt;a href=\"http://twitter.com/download/iphone\" r...</td>\n",
       "      <td>Personally I'd give him an 11/10. Not sure why...</td>\n",
       "      <td>NaN</td>\n",
       "      <td>NaN</td>\n",
       "      <td>NaN</td>\n",
       "      <td>NaN</td>\n",
       "      <td>11</td>\n",
       "      <td>10</td>\n",
       "      <td>None</td>\n",
       "      <td>None</td>\n",
       "      <td>None</td>\n",
       "      <td>None</td>\n",
       "      <td>None</td>\n",
       "    </tr>\n",
       "    <tr>\n",
       "      <th>1474</th>\n",
       "      <td>693644216740769793</td>\n",
       "      <td>6.936422e+17</td>\n",
       "      <td>4.196984e+09</td>\n",
       "      <td>2016-01-31 03:57:23 +0000</td>\n",
       "      <td>&lt;a href=\"http://twitter.com/download/iphone\" r...</td>\n",
       "      <td>BREAKING PUPDATE: I've just been notified that...</td>\n",
       "      <td>NaN</td>\n",
       "      <td>NaN</td>\n",
       "      <td>NaN</td>\n",
       "      <td>NaN</td>\n",
       "      <td>10</td>\n",
       "      <td>10</td>\n",
       "      <td>None</td>\n",
       "      <td>None</td>\n",
       "      <td>None</td>\n",
       "      <td>None</td>\n",
       "      <td>None</td>\n",
       "    </tr>\n",
       "    <tr>\n",
       "      <th>1446</th>\n",
       "      <td>696490539101908992</td>\n",
       "      <td>6.964887e+17</td>\n",
       "      <td>4.196984e+09</td>\n",
       "      <td>2016-02-08 00:27:39 +0000</td>\n",
       "      <td>&lt;a href=\"http://twitter.com/download/iphone\" r...</td>\n",
       "      <td>After reading the comments I may have overesti...</td>\n",
       "      <td>NaN</td>\n",
       "      <td>NaN</td>\n",
       "      <td>NaN</td>\n",
       "      <td>NaN</td>\n",
       "      <td>1</td>\n",
       "      <td>10</td>\n",
       "      <td>None</td>\n",
       "      <td>None</td>\n",
       "      <td>None</td>\n",
       "      <td>None</td>\n",
       "      <td>None</td>\n",
       "    </tr>\n",
       "    <tr>\n",
       "      <th>1445</th>\n",
       "      <td>696518437233913856</td>\n",
       "      <td>NaN</td>\n",
       "      <td>NaN</td>\n",
       "      <td>2016-02-08 02:18:30 +0000</td>\n",
       "      <td>&lt;a href=\"http://twitter.com/download/iphone\" r...</td>\n",
       "      <td>Oh my god 10/10 for every little hot dog pupper</td>\n",
       "      <td>NaN</td>\n",
       "      <td>NaN</td>\n",
       "      <td>NaN</td>\n",
       "      <td>NaN</td>\n",
       "      <td>10</td>\n",
       "      <td>10</td>\n",
       "      <td>None</td>\n",
       "      <td>None</td>\n",
       "      <td>None</td>\n",
       "      <td>pupper</td>\n",
       "      <td>None</td>\n",
       "    </tr>\n",
       "    <tr>\n",
       "      <th>1345</th>\n",
       "      <td>704491224099647488</td>\n",
       "      <td>7.044857e+17</td>\n",
       "      <td>2.878549e+07</td>\n",
       "      <td>2016-03-01 02:19:31 +0000</td>\n",
       "      <td>&lt;a href=\"http://twitter.com/download/iphone\" r...</td>\n",
       "      <td>13/10 hero af\\n@ABC</td>\n",
       "      <td>NaN</td>\n",
       "      <td>NaN</td>\n",
       "      <td>NaN</td>\n",
       "      <td>NaN</td>\n",
       "      <td>13</td>\n",
       "      <td>10</td>\n",
       "      <td>None</td>\n",
       "      <td>None</td>\n",
       "      <td>None</td>\n",
       "      <td>None</td>\n",
       "      <td>None</td>\n",
       "    </tr>\n",
       "    <tr>\n",
       "      <th>1295</th>\n",
       "      <td>707983188426153984</td>\n",
       "      <td>7.079801e+17</td>\n",
       "      <td>2.319108e+09</td>\n",
       "      <td>2016-03-10 17:35:20 +0000</td>\n",
       "      <td>&lt;a href=\"http://twitter.com/download/iphone\" r...</td>\n",
       "      <td>@serial @MrRoles OH MY GOD I listened to all o...</td>\n",
       "      <td>NaN</td>\n",
       "      <td>NaN</td>\n",
       "      <td>NaN</td>\n",
       "      <td>NaN</td>\n",
       "      <td>12</td>\n",
       "      <td>10</td>\n",
       "      <td>None</td>\n",
       "      <td>None</td>\n",
       "      <td>None</td>\n",
       "      <td>None</td>\n",
       "      <td>None</td>\n",
       "    </tr>\n",
       "    <tr>\n",
       "      <th>1080</th>\n",
       "      <td>738891149612572673</td>\n",
       "      <td>7.384119e+17</td>\n",
       "      <td>3.589728e+08</td>\n",
       "      <td>2016-06-04 00:32:32 +0000</td>\n",
       "      <td>&lt;a href=\"http://twitter.com/download/iphone\" r...</td>\n",
       "      <td>@mount_alex3 13/10</td>\n",
       "      <td>NaN</td>\n",
       "      <td>NaN</td>\n",
       "      <td>NaN</td>\n",
       "      <td>NaN</td>\n",
       "      <td>13</td>\n",
       "      <td>10</td>\n",
       "      <td>None</td>\n",
       "      <td>None</td>\n",
       "      <td>None</td>\n",
       "      <td>None</td>\n",
       "      <td>None</td>\n",
       "    </tr>\n",
       "    <tr>\n",
       "      <th>1043</th>\n",
       "      <td>743835915802583040</td>\n",
       "      <td>NaN</td>\n",
       "      <td>NaN</td>\n",
       "      <td>2016-06-17 16:01:16 +0000</td>\n",
       "      <td>&lt;a href=\"http://twitter.com/download/iphone\" r...</td>\n",
       "      <td>RT @dog_rates: Extremely intelligent dog here....</td>\n",
       "      <td>6.671383e+17</td>\n",
       "      <td>4.196984e+09</td>\n",
       "      <td>2015-11-19 00:32:12 +0000</td>\n",
       "      <td>https://twitter.com/dog_rates/status/667138269...</td>\n",
       "      <td>10</td>\n",
       "      <td>10</td>\n",
       "      <td>None</td>\n",
       "      <td>None</td>\n",
       "      <td>None</td>\n",
       "      <td>None</td>\n",
       "      <td>None</td>\n",
       "    </tr>\n",
       "    <tr>\n",
       "      <th>1023</th>\n",
       "      <td>746521445350707200</td>\n",
       "      <td>NaN</td>\n",
       "      <td>NaN</td>\n",
       "      <td>2016-06-25 01:52:36 +0000</td>\n",
       "      <td>&lt;a href=\"http://twitter.com/download/iphone\" r...</td>\n",
       "      <td>RT @dog_rates: This is Shaggy. He knows exactl...</td>\n",
       "      <td>6.678667e+17</td>\n",
       "      <td>4.196984e+09</td>\n",
       "      <td>2015-11-21 00:46:50 +0000</td>\n",
       "      <td>https://twitter.com/dog_rates/status/667866724...</td>\n",
       "      <td>10</td>\n",
       "      <td>10</td>\n",
       "      <td>Shaggy</td>\n",
       "      <td>None</td>\n",
       "      <td>None</td>\n",
       "      <td>None</td>\n",
       "      <td>None</td>\n",
       "    </tr>\n",
       "    <tr>\n",
       "      <th>1012</th>\n",
       "      <td>747242308580548608</td>\n",
       "      <td>NaN</td>\n",
       "      <td>NaN</td>\n",
       "      <td>2016-06-27 01:37:04 +0000</td>\n",
       "      <td>&lt;a href=\"http://twitter.com/download/iphone\" r...</td>\n",
       "      <td>RT @dog_rates: This pupper killed this great w...</td>\n",
       "      <td>7.047611e+17</td>\n",
       "      <td>4.196984e+09</td>\n",
       "      <td>2016-03-01 20:11:59 +0000</td>\n",
       "      <td>https://twitter.com/dog_rates/status/704761120...</td>\n",
       "      <td>13</td>\n",
       "      <td>10</td>\n",
       "      <td>None</td>\n",
       "      <td>None</td>\n",
       "      <td>None</td>\n",
       "      <td>pupper</td>\n",
       "      <td>None</td>\n",
       "    </tr>\n",
       "    <tr>\n",
       "      <th>1005</th>\n",
       "      <td>747651430853525504</td>\n",
       "      <td>7.476487e+17</td>\n",
       "      <td>4.196984e+09</td>\n",
       "      <td>2016-06-28 04:42:46 +0000</td>\n",
       "      <td>&lt;a href=\"http://twitter.com/download/iphone\" r...</td>\n",
       "      <td>Other pupper asked not to have his identity sh...</td>\n",
       "      <td>NaN</td>\n",
       "      <td>NaN</td>\n",
       "      <td>NaN</td>\n",
       "      <td>NaN</td>\n",
       "      <td>12</td>\n",
       "      <td>10</td>\n",
       "      <td>None</td>\n",
       "      <td>None</td>\n",
       "      <td>None</td>\n",
       "      <td>pupper</td>\n",
       "      <td>None</td>\n",
       "    </tr>\n",
       "    <tr>\n",
       "      <th>967</th>\n",
       "      <td>750381685133418496</td>\n",
       "      <td>7.501805e+17</td>\n",
       "      <td>4.717297e+09</td>\n",
       "      <td>2016-07-05 17:31:49 +0000</td>\n",
       "      <td>&lt;a href=\"http://twitter.com/download/iphone\" r...</td>\n",
       "      <td>13/10 such a good doggo\\n@spaghemily</td>\n",
       "      <td>NaN</td>\n",
       "      <td>NaN</td>\n",
       "      <td>NaN</td>\n",
       "      <td>NaN</td>\n",
       "      <td>13</td>\n",
       "      <td>10</td>\n",
       "      <td>None</td>\n",
       "      <td>doggo</td>\n",
       "      <td>None</td>\n",
       "      <td>None</td>\n",
       "      <td>None</td>\n",
       "    </tr>\n",
       "    <tr>\n",
       "      <th>937</th>\n",
       "      <td>753298634498793472</td>\n",
       "      <td>NaN</td>\n",
       "      <td>NaN</td>\n",
       "      <td>2016-07-13 18:42:44 +0000</td>\n",
       "      <td>&lt;a href=\"http://twitter.com/download/iphone\" r...</td>\n",
       "      <td>RT @dog_rates: This is Carly. She's actually 2...</td>\n",
       "      <td>6.815232e+17</td>\n",
       "      <td>4.196984e+09</td>\n",
       "      <td>2015-12-28 17:12:42 +0000</td>\n",
       "      <td>https://twitter.com/dog_rates/status/681523177...</td>\n",
       "      <td>12</td>\n",
       "      <td>10</td>\n",
       "      <td>Carly</td>\n",
       "      <td>None</td>\n",
       "      <td>None</td>\n",
       "      <td>None</td>\n",
       "      <td>None</td>\n",
       "    </tr>\n",
       "    <tr>\n",
       "      <th>...</th>\n",
       "      <td>...</td>\n",
       "      <td>...</td>\n",
       "      <td>...</td>\n",
       "      <td>...</td>\n",
       "      <td>...</td>\n",
       "      <td>...</td>\n",
       "      <td>...</td>\n",
       "      <td>...</td>\n",
       "      <td>...</td>\n",
       "      <td>...</td>\n",
       "      <td>...</td>\n",
       "      <td>...</td>\n",
       "      <td>...</td>\n",
       "      <td>...</td>\n",
       "      <td>...</td>\n",
       "      <td>...</td>\n",
       "      <td>...</td>\n",
       "    </tr>\n",
       "    <tr>\n",
       "      <th>228</th>\n",
       "      <td>848213670039564288</td>\n",
       "      <td>8.482121e+17</td>\n",
       "      <td>4.196984e+09</td>\n",
       "      <td>2017-04-01 16:41:12 +0000</td>\n",
       "      <td>&lt;a href=\"http://twitter.com/download/iphone\" r...</td>\n",
       "      <td>Jerry just apuppologized to me. He said there ...</td>\n",
       "      <td>NaN</td>\n",
       "      <td>NaN</td>\n",
       "      <td>NaN</td>\n",
       "      <td>NaN</td>\n",
       "      <td>11</td>\n",
       "      <td>10</td>\n",
       "      <td>None</td>\n",
       "      <td>None</td>\n",
       "      <td>None</td>\n",
       "      <td>None</td>\n",
       "      <td>None</td>\n",
       "    </tr>\n",
       "    <tr>\n",
       "      <th>222</th>\n",
       "      <td>849668094696017920</td>\n",
       "      <td>NaN</td>\n",
       "      <td>NaN</td>\n",
       "      <td>2017-04-05 17:00:34 +0000</td>\n",
       "      <td>&lt;a href=\"http://twitter.com/download/iphone\" r...</td>\n",
       "      <td>RT @dog_rates: This is Gidget. She's a spy pup...</td>\n",
       "      <td>8.331247e+17</td>\n",
       "      <td>4.196984e+09</td>\n",
       "      <td>2017-02-19 01:23:00 +0000</td>\n",
       "      <td>https://twitter.com/dog_rates/status/833124694...</td>\n",
       "      <td>12</td>\n",
       "      <td>10</td>\n",
       "      <td>Gidget</td>\n",
       "      <td>None</td>\n",
       "      <td>None</td>\n",
       "      <td>pupper</td>\n",
       "      <td>None</td>\n",
       "    </tr>\n",
       "    <tr>\n",
       "      <th>218</th>\n",
       "      <td>850333567704068097</td>\n",
       "      <td>8.503288e+17</td>\n",
       "      <td>2.195506e+07</td>\n",
       "      <td>2017-04-07 13:04:55 +0000</td>\n",
       "      <td>&lt;a href=\"http://twitter.com/download/iphone\" r...</td>\n",
       "      <td>@markhoppus MARK THAT DOG HAS SEEN AND EXPERIE...</td>\n",
       "      <td>NaN</td>\n",
       "      <td>NaN</td>\n",
       "      <td>NaN</td>\n",
       "      <td>NaN</td>\n",
       "      <td>13</td>\n",
       "      <td>10</td>\n",
       "      <td>None</td>\n",
       "      <td>None</td>\n",
       "      <td>None</td>\n",
       "      <td>None</td>\n",
       "      <td>None</td>\n",
       "    </tr>\n",
       "    <tr>\n",
       "      <th>204</th>\n",
       "      <td>852936405516943360</td>\n",
       "      <td>NaN</td>\n",
       "      <td>NaN</td>\n",
       "      <td>2017-04-14 17:27:40 +0000</td>\n",
       "      <td>&lt;a href=\"http://twitter.com/download/iphone\" r...</td>\n",
       "      <td>RT @dog_rates: I usually only share these on F...</td>\n",
       "      <td>8.316501e+17</td>\n",
       "      <td>4.196984e+09</td>\n",
       "      <td>2017-02-14 23:43:18 +0000</td>\n",
       "      <td>http://www.gofundme.com/bluethewhitehusky,http...</td>\n",
       "      <td>13</td>\n",
       "      <td>10</td>\n",
       "      <td>None</td>\n",
       "      <td>None</td>\n",
       "      <td>None</td>\n",
       "      <td>None</td>\n",
       "      <td>None</td>\n",
       "    </tr>\n",
       "    <tr>\n",
       "      <th>194</th>\n",
       "      <td>855245323840757760</td>\n",
       "      <td>NaN</td>\n",
       "      <td>NaN</td>\n",
       "      <td>2017-04-21 02:22:29 +0000</td>\n",
       "      <td>&lt;a href=\"http://twitter.com/download/iphone\" r...</td>\n",
       "      <td>RT @dog_rates: Meet George. He looks slightly ...</td>\n",
       "      <td>8.421635e+17</td>\n",
       "      <td>4.196984e+09</td>\n",
       "      <td>2017-03-16 00:00:07 +0000</td>\n",
       "      <td>https://twitter.com/dog_rates/status/842163532...</td>\n",
       "      <td>12</td>\n",
       "      <td>10</td>\n",
       "      <td>George</td>\n",
       "      <td>None</td>\n",
       "      <td>None</td>\n",
       "      <td>None</td>\n",
       "      <td>None</td>\n",
       "    </tr>\n",
       "    <tr>\n",
       "      <th>189</th>\n",
       "      <td>855860136149123072</td>\n",
       "      <td>8.558585e+17</td>\n",
       "      <td>1.361572e+07</td>\n",
       "      <td>2017-04-22 19:05:32 +0000</td>\n",
       "      <td>&lt;a href=\"http://twitter.com/download/iphone\" r...</td>\n",
       "      <td>@s8n You tried very hard to portray this good ...</td>\n",
       "      <td>NaN</td>\n",
       "      <td>NaN</td>\n",
       "      <td>NaN</td>\n",
       "      <td>NaN</td>\n",
       "      <td>666</td>\n",
       "      <td>10</td>\n",
       "      <td>None</td>\n",
       "      <td>None</td>\n",
       "      <td>None</td>\n",
       "      <td>None</td>\n",
       "      <td>None</td>\n",
       "    </tr>\n",
       "    <tr>\n",
       "      <th>188</th>\n",
       "      <td>855862651834028034</td>\n",
       "      <td>8.558616e+17</td>\n",
       "      <td>1.943518e+08</td>\n",
       "      <td>2017-04-22 19:15:32 +0000</td>\n",
       "      <td>&lt;a href=\"http://twitter.com/download/iphone\" r...</td>\n",
       "      <td>@dhmontgomery We also gave snoop dogg a 420/10...</td>\n",
       "      <td>NaN</td>\n",
       "      <td>NaN</td>\n",
       "      <td>NaN</td>\n",
       "      <td>NaN</td>\n",
       "      <td>420</td>\n",
       "      <td>10</td>\n",
       "      <td>None</td>\n",
       "      <td>None</td>\n",
       "      <td>None</td>\n",
       "      <td>None</td>\n",
       "      <td>None</td>\n",
       "    </tr>\n",
       "    <tr>\n",
       "      <th>186</th>\n",
       "      <td>856288084350160898</td>\n",
       "      <td>8.562860e+17</td>\n",
       "      <td>2.792810e+08</td>\n",
       "      <td>2017-04-23 23:26:03 +0000</td>\n",
       "      <td>&lt;a href=\"http://twitter.com/download/iphone\" r...</td>\n",
       "      <td>@xianmcguire @Jenna_Marbles Kardashians wouldn...</td>\n",
       "      <td>NaN</td>\n",
       "      <td>NaN</td>\n",
       "      <td>NaN</td>\n",
       "      <td>NaN</td>\n",
       "      <td>14</td>\n",
       "      <td>10</td>\n",
       "      <td>None</td>\n",
       "      <td>None</td>\n",
       "      <td>None</td>\n",
       "      <td>None</td>\n",
       "      <td>None</td>\n",
       "    </tr>\n",
       "    <tr>\n",
       "      <th>185</th>\n",
       "      <td>856330835276025856</td>\n",
       "      <td>NaN</td>\n",
       "      <td>NaN</td>\n",
       "      <td>2017-04-24 02:15:55 +0000</td>\n",
       "      <td>&lt;a href=\"http://twitter.com/download/iphone\" r...</td>\n",
       "      <td>RT @Jenna_Marbles: @dog_rates Thanks for ratin...</td>\n",
       "      <td>8.563302e+17</td>\n",
       "      <td>6.669901e+07</td>\n",
       "      <td>2017-04-24 02:13:14 +0000</td>\n",
       "      <td>NaN</td>\n",
       "      <td>14</td>\n",
       "      <td>10</td>\n",
       "      <td>None</td>\n",
       "      <td>None</td>\n",
       "      <td>None</td>\n",
       "      <td>None</td>\n",
       "      <td>None</td>\n",
       "    </tr>\n",
       "    <tr>\n",
       "      <th>182</th>\n",
       "      <td>856602993587888130</td>\n",
       "      <td>NaN</td>\n",
       "      <td>NaN</td>\n",
       "      <td>2017-04-24 20:17:23 +0000</td>\n",
       "      <td>&lt;a href=\"http://twitter.com/download/iphone\" r...</td>\n",
       "      <td>RT @dog_rates: This is Luna. It's her first ti...</td>\n",
       "      <td>8.447048e+17</td>\n",
       "      <td>4.196984e+09</td>\n",
       "      <td>2017-03-23 00:18:10 +0000</td>\n",
       "      <td>https://twitter.com/dog_rates/status/844704788...</td>\n",
       "      <td>13</td>\n",
       "      <td>10</td>\n",
       "      <td>Luna</td>\n",
       "      <td>None</td>\n",
       "      <td>None</td>\n",
       "      <td>None</td>\n",
       "      <td>None</td>\n",
       "    </tr>\n",
       "    <tr>\n",
       "      <th>179</th>\n",
       "      <td>857214891891077121</td>\n",
       "      <td>8.571567e+17</td>\n",
       "      <td>1.806710e+08</td>\n",
       "      <td>2017-04-26 12:48:51 +0000</td>\n",
       "      <td>&lt;a href=\"http://twitter.com/download/iphone\" r...</td>\n",
       "      <td>@Marc_IRL pixelated af 12/10</td>\n",
       "      <td>NaN</td>\n",
       "      <td>NaN</td>\n",
       "      <td>NaN</td>\n",
       "      <td>NaN</td>\n",
       "      <td>12</td>\n",
       "      <td>10</td>\n",
       "      <td>None</td>\n",
       "      <td>None</td>\n",
       "      <td>None</td>\n",
       "      <td>None</td>\n",
       "      <td>None</td>\n",
       "    </tr>\n",
       "    <tr>\n",
       "      <th>171</th>\n",
       "      <td>858860390427611136</td>\n",
       "      <td>NaN</td>\n",
       "      <td>NaN</td>\n",
       "      <td>2017-05-01 01:47:28 +0000</td>\n",
       "      <td>&lt;a href=\"http://twitter.com/download/iphone\" r...</td>\n",
       "      <td>RT @dog_rates: Meet Winston. He knows he's a l...</td>\n",
       "      <td>8.395493e+17</td>\n",
       "      <td>4.196984e+09</td>\n",
       "      <td>2017-03-08 18:52:12 +0000</td>\n",
       "      <td>https://twitter.com/dog_rates/status/839549326...</td>\n",
       "      <td>12</td>\n",
       "      <td>10</td>\n",
       "      <td>Winston</td>\n",
       "      <td>None</td>\n",
       "      <td>None</td>\n",
       "      <td>None</td>\n",
       "      <td>None</td>\n",
       "    </tr>\n",
       "    <tr>\n",
       "      <th>165</th>\n",
       "      <td>860177593139703809</td>\n",
       "      <td>NaN</td>\n",
       "      <td>NaN</td>\n",
       "      <td>2017-05-04 17:01:34 +0000</td>\n",
       "      <td>&lt;a href=\"http://twitter.com/download/iphone\" r...</td>\n",
       "      <td>RT @dog_rates: Ohboyohboyohboyohboyohboyohboyo...</td>\n",
       "      <td>7.616730e+17</td>\n",
       "      <td>4.196984e+09</td>\n",
       "      <td>2016-08-05 21:19:27 +0000</td>\n",
       "      <td>https://twitter.com/dog_rates/status/761672994...</td>\n",
       "      <td>10</td>\n",
       "      <td>10</td>\n",
       "      <td>None</td>\n",
       "      <td>None</td>\n",
       "      <td>None</td>\n",
       "      <td>None</td>\n",
       "      <td>None</td>\n",
       "    </tr>\n",
       "    <tr>\n",
       "      <th>159</th>\n",
       "      <td>860981674716409858</td>\n",
       "      <td>NaN</td>\n",
       "      <td>NaN</td>\n",
       "      <td>2017-05-06 22:16:42 +0000</td>\n",
       "      <td>&lt;a href=\"http://twitter.com/download/iphone\" r...</td>\n",
       "      <td>RT @dog_rates: Meet Lorenzo. He's an avid nift...</td>\n",
       "      <td>8.605638e+17</td>\n",
       "      <td>4.196984e+09</td>\n",
       "      <td>2017-05-05 18:36:06 +0000</td>\n",
       "      <td>https://www.gofundme.com/help-lorenzo-beat-can...</td>\n",
       "      <td>13</td>\n",
       "      <td>10</td>\n",
       "      <td>Lorenzo</td>\n",
       "      <td>None</td>\n",
       "      <td>None</td>\n",
       "      <td>None</td>\n",
       "      <td>None</td>\n",
       "    </tr>\n",
       "    <tr>\n",
       "      <th>148</th>\n",
       "      <td>863427515083354112</td>\n",
       "      <td>8.634256e+17</td>\n",
       "      <td>7.759620e+07</td>\n",
       "      <td>2017-05-13 16:15:35 +0000</td>\n",
       "      <td>&lt;a href=\"http://twitter.com/download/iphone\" r...</td>\n",
       "      <td>@Jack_Septic_Eye I'd need a few more pics to p...</td>\n",
       "      <td>NaN</td>\n",
       "      <td>NaN</td>\n",
       "      <td>NaN</td>\n",
       "      <td>NaN</td>\n",
       "      <td>12</td>\n",
       "      <td>10</td>\n",
       "      <td>None</td>\n",
       "      <td>None</td>\n",
       "      <td>None</td>\n",
       "      <td>None</td>\n",
       "      <td>None</td>\n",
       "    </tr>\n",
       "    <tr>\n",
       "      <th>146</th>\n",
       "      <td>863471782782697472</td>\n",
       "      <td>NaN</td>\n",
       "      <td>NaN</td>\n",
       "      <td>2017-05-13 19:11:30 +0000</td>\n",
       "      <td>&lt;a href=\"http://twitter.com/download/iphone\" r...</td>\n",
       "      <td>RT @dog_rates: Say hello to Quinn. She's quite...</td>\n",
       "      <td>8.630625e+17</td>\n",
       "      <td>4.196984e+09</td>\n",
       "      <td>2017-05-12 16:05:02 +0000</td>\n",
       "      <td>https://www.gofundme.com/helpquinny,https://tw...</td>\n",
       "      <td>13</td>\n",
       "      <td>10</td>\n",
       "      <td>Quinn</td>\n",
       "      <td>None</td>\n",
       "      <td>None</td>\n",
       "      <td>None</td>\n",
       "      <td>None</td>\n",
       "    </tr>\n",
       "    <tr>\n",
       "      <th>137</th>\n",
       "      <td>866094527597207552</td>\n",
       "      <td>NaN</td>\n",
       "      <td>NaN</td>\n",
       "      <td>2017-05-21 00:53:21 +0000</td>\n",
       "      <td>&lt;a href=\"http://twitter.com/download/iphone\" r...</td>\n",
       "      <td>RT @dog_rates: Here's a pupper before and afte...</td>\n",
       "      <td>8.378202e+17</td>\n",
       "      <td>4.196984e+09</td>\n",
       "      <td>2017-03-04 00:21:08 +0000</td>\n",
       "      <td>https://twitter.com/dog_rates/status/837820167...</td>\n",
       "      <td>12</td>\n",
       "      <td>10</td>\n",
       "      <td>None</td>\n",
       "      <td>None</td>\n",
       "      <td>None</td>\n",
       "      <td>pupper</td>\n",
       "      <td>None</td>\n",
       "    </tr>\n",
       "    <tr>\n",
       "      <th>132</th>\n",
       "      <td>866816280283807744</td>\n",
       "      <td>NaN</td>\n",
       "      <td>NaN</td>\n",
       "      <td>2017-05-23 00:41:20 +0000</td>\n",
       "      <td>&lt;a href=\"http://twitter.com/download/iphone\" r...</td>\n",
       "      <td>RT @dog_rates: This is Jamesy. He gives a kiss...</td>\n",
       "      <td>8.664507e+17</td>\n",
       "      <td>4.196984e+09</td>\n",
       "      <td>2017-05-22 00:28:40 +0000</td>\n",
       "      <td>https://twitter.com/dog_rates/status/866450705...</td>\n",
       "      <td>13</td>\n",
       "      <td>10</td>\n",
       "      <td>Jamesy</td>\n",
       "      <td>None</td>\n",
       "      <td>None</td>\n",
       "      <td>pupper</td>\n",
       "      <td>None</td>\n",
       "    </tr>\n",
       "    <tr>\n",
       "      <th>124</th>\n",
       "      <td>868639477480148993</td>\n",
       "      <td>NaN</td>\n",
       "      <td>NaN</td>\n",
       "      <td>2017-05-28 01:26:04 +0000</td>\n",
       "      <td>&lt;a href=\"http://twitter.com/download/iphone\" r...</td>\n",
       "      <td>RT @dog_rates: Say hello to Cooper. His expres...</td>\n",
       "      <td>8.685523e+17</td>\n",
       "      <td>4.196984e+09</td>\n",
       "      <td>2017-05-27 19:39:34 +0000</td>\n",
       "      <td>https://www.gofundme.com/3ti3nps,https://twitt...</td>\n",
       "      <td>12</td>\n",
       "      <td>10</td>\n",
       "      <td>Cooper</td>\n",
       "      <td>None</td>\n",
       "      <td>None</td>\n",
       "      <td>None</td>\n",
       "      <td>None</td>\n",
       "    </tr>\n",
       "    <tr>\n",
       "      <th>118</th>\n",
       "      <td>869988702071779329</td>\n",
       "      <td>NaN</td>\n",
       "      <td>NaN</td>\n",
       "      <td>2017-05-31 18:47:24 +0000</td>\n",
       "      <td>&lt;a href=\"http://twitter.com/download/iphone\" r...</td>\n",
       "      <td>RT @dog_rates: We only rate dogs. This is quit...</td>\n",
       "      <td>8.591970e+17</td>\n",
       "      <td>4.196984e+09</td>\n",
       "      <td>2017-05-02 00:04:57 +0000</td>\n",
       "      <td>https://twitter.com/dog_rates/status/859196978...</td>\n",
       "      <td>12</td>\n",
       "      <td>10</td>\n",
       "      <td>quite</td>\n",
       "      <td>None</td>\n",
       "      <td>None</td>\n",
       "      <td>None</td>\n",
       "      <td>None</td>\n",
       "    </tr>\n",
       "    <tr>\n",
       "      <th>113</th>\n",
       "      <td>870726314365509632</td>\n",
       "      <td>8.707262e+17</td>\n",
       "      <td>1.648776e+07</td>\n",
       "      <td>2017-06-02 19:38:25 +0000</td>\n",
       "      <td>&lt;a href=\"http://twitter.com/download/iphone\" r...</td>\n",
       "      <td>@ComplicitOwl @ShopWeRateDogs &amp;gt;10/10 is res...</td>\n",
       "      <td>NaN</td>\n",
       "      <td>NaN</td>\n",
       "      <td>NaN</td>\n",
       "      <td>NaN</td>\n",
       "      <td>10</td>\n",
       "      <td>10</td>\n",
       "      <td>None</td>\n",
       "      <td>None</td>\n",
       "      <td>None</td>\n",
       "      <td>None</td>\n",
       "      <td>None</td>\n",
       "    </tr>\n",
       "    <tr>\n",
       "      <th>109</th>\n",
       "      <td>871166179821445120</td>\n",
       "      <td>NaN</td>\n",
       "      <td>NaN</td>\n",
       "      <td>2017-06-04 00:46:17 +0000</td>\n",
       "      <td>&lt;a href=\"http://twitter.com/download/iphone\" r...</td>\n",
       "      <td>RT @dog_rates: This is Dawn. She's just checki...</td>\n",
       "      <td>8.410770e+17</td>\n",
       "      <td>4.196984e+09</td>\n",
       "      <td>2017-03-13 00:02:39 +0000</td>\n",
       "      <td>https://twitter.com/dog_rates/status/841077006...</td>\n",
       "      <td>12</td>\n",
       "      <td>10</td>\n",
       "      <td>Dawn</td>\n",
       "      <td>None</td>\n",
       "      <td>None</td>\n",
       "      <td>None</td>\n",
       "      <td>None</td>\n",
       "    </tr>\n",
       "    <tr>\n",
       "      <th>97</th>\n",
       "      <td>873337748698140672</td>\n",
       "      <td>NaN</td>\n",
       "      <td>NaN</td>\n",
       "      <td>2017-06-10 00:35:19 +0000</td>\n",
       "      <td>&lt;a href=\"http://twitter.com/download/iphone\" r...</td>\n",
       "      <td>RT @dog_rates: This is Sierra. She's one preci...</td>\n",
       "      <td>8.732138e+17</td>\n",
       "      <td>4.196984e+09</td>\n",
       "      <td>2017-06-09 16:22:42 +0000</td>\n",
       "      <td>https://www.gofundme.com/help-my-baby-sierra-g...</td>\n",
       "      <td>12</td>\n",
       "      <td>10</td>\n",
       "      <td>Sierra</td>\n",
       "      <td>None</td>\n",
       "      <td>None</td>\n",
       "      <td>pupper</td>\n",
       "      <td>None</td>\n",
       "    </tr>\n",
       "    <tr>\n",
       "      <th>91</th>\n",
       "      <td>874434818259525634</td>\n",
       "      <td>NaN</td>\n",
       "      <td>NaN</td>\n",
       "      <td>2017-06-13 01:14:41 +0000</td>\n",
       "      <td>&lt;a href=\"http://twitter.com/download/iphone\" r...</td>\n",
       "      <td>RT @dog_rates: This is Coco. At first I though...</td>\n",
       "      <td>8.663350e+17</td>\n",
       "      <td>4.196984e+09</td>\n",
       "      <td>2017-05-21 16:48:45 +0000</td>\n",
       "      <td>https://twitter.com/dog_rates/status/866334964...</td>\n",
       "      <td>12</td>\n",
       "      <td>10</td>\n",
       "      <td>Coco</td>\n",
       "      <td>None</td>\n",
       "      <td>None</td>\n",
       "      <td>None</td>\n",
       "      <td>None</td>\n",
       "    </tr>\n",
       "    <tr>\n",
       "      <th>74</th>\n",
       "      <td>878316110768087041</td>\n",
       "      <td>NaN</td>\n",
       "      <td>NaN</td>\n",
       "      <td>2017-06-23 18:17:33 +0000</td>\n",
       "      <td>&lt;a href=\"http://twitter.com/download/iphone\" r...</td>\n",
       "      <td>RT @dog_rates: Meet Terrance. He's being yelle...</td>\n",
       "      <td>6.690004e+17</td>\n",
       "      <td>4.196984e+09</td>\n",
       "      <td>2015-11-24 03:51:38 +0000</td>\n",
       "      <td>https://twitter.com/dog_rates/status/669000397...</td>\n",
       "      <td>11</td>\n",
       "      <td>10</td>\n",
       "      <td>Terrance</td>\n",
       "      <td>None</td>\n",
       "      <td>None</td>\n",
       "      <td>None</td>\n",
       "      <td>None</td>\n",
       "    </tr>\n",
       "    <tr>\n",
       "      <th>73</th>\n",
       "      <td>878404777348136964</td>\n",
       "      <td>NaN</td>\n",
       "      <td>NaN</td>\n",
       "      <td>2017-06-24 00:09:53 +0000</td>\n",
       "      <td>&lt;a href=\"http://twitter.com/download/iphone\" r...</td>\n",
       "      <td>RT @dog_rates: Meet Shadow. In an attempt to r...</td>\n",
       "      <td>8.782815e+17</td>\n",
       "      <td>4.196984e+09</td>\n",
       "      <td>2017-06-23 16:00:04 +0000</td>\n",
       "      <td>https://www.gofundme.com/3yd6y1c,https://twitt...</td>\n",
       "      <td>13</td>\n",
       "      <td>10</td>\n",
       "      <td>Shadow</td>\n",
       "      <td>None</td>\n",
       "      <td>None</td>\n",
       "      <td>None</td>\n",
       "      <td>None</td>\n",
       "    </tr>\n",
       "    <tr>\n",
       "      <th>68</th>\n",
       "      <td>879130579576475649</td>\n",
       "      <td>NaN</td>\n",
       "      <td>NaN</td>\n",
       "      <td>2017-06-26 00:13:58 +0000</td>\n",
       "      <td>&lt;a href=\"http://twitter.com/download/iphone\" r...</td>\n",
       "      <td>RT @dog_rates: This is Emmy. She was adopted t...</td>\n",
       "      <td>8.780576e+17</td>\n",
       "      <td>4.196984e+09</td>\n",
       "      <td>2017-06-23 01:10:23 +0000</td>\n",
       "      <td>https://twitter.com/dog_rates/status/878057613...</td>\n",
       "      <td>14</td>\n",
       "      <td>10</td>\n",
       "      <td>Emmy</td>\n",
       "      <td>None</td>\n",
       "      <td>None</td>\n",
       "      <td>None</td>\n",
       "      <td>None</td>\n",
       "    </tr>\n",
       "    <tr>\n",
       "      <th>64</th>\n",
       "      <td>879674319642796034</td>\n",
       "      <td>8.795538e+17</td>\n",
       "      <td>3.105441e+09</td>\n",
       "      <td>2017-06-27 12:14:36 +0000</td>\n",
       "      <td>&lt;a href=\"http://twitter.com/download/iphone\" r...</td>\n",
       "      <td>@RealKentMurphy 14/10 confirmed</td>\n",
       "      <td>NaN</td>\n",
       "      <td>NaN</td>\n",
       "      <td>NaN</td>\n",
       "      <td>NaN</td>\n",
       "      <td>14</td>\n",
       "      <td>10</td>\n",
       "      <td>None</td>\n",
       "      <td>None</td>\n",
       "      <td>None</td>\n",
       "      <td>None</td>\n",
       "      <td>None</td>\n",
       "    </tr>\n",
       "    <tr>\n",
       "      <th>55</th>\n",
       "      <td>881633300179243008</td>\n",
       "      <td>8.816070e+17</td>\n",
       "      <td>4.738443e+07</td>\n",
       "      <td>2017-07-02 21:58:53 +0000</td>\n",
       "      <td>&lt;a href=\"http://twitter.com/download/iphone\" r...</td>\n",
       "      <td>@roushfenway These are good dogs but 17/10 is ...</td>\n",
       "      <td>NaN</td>\n",
       "      <td>NaN</td>\n",
       "      <td>NaN</td>\n",
       "      <td>NaN</td>\n",
       "      <td>17</td>\n",
       "      <td>10</td>\n",
       "      <td>None</td>\n",
       "      <td>None</td>\n",
       "      <td>None</td>\n",
       "      <td>None</td>\n",
       "      <td>None</td>\n",
       "    </tr>\n",
       "    <tr>\n",
       "      <th>30</th>\n",
       "      <td>886267009285017600</td>\n",
       "      <td>8.862664e+17</td>\n",
       "      <td>2.281182e+09</td>\n",
       "      <td>2017-07-15 16:51:35 +0000</td>\n",
       "      <td>&lt;a href=\"http://twitter.com/download/iphone\" r...</td>\n",
       "      <td>@NonWhiteHat @MayhewMayhem omg hello tanner yo...</td>\n",
       "      <td>NaN</td>\n",
       "      <td>NaN</td>\n",
       "      <td>NaN</td>\n",
       "      <td>NaN</td>\n",
       "      <td>12</td>\n",
       "      <td>10</td>\n",
       "      <td>None</td>\n",
       "      <td>None</td>\n",
       "      <td>None</td>\n",
       "      <td>None</td>\n",
       "      <td>None</td>\n",
       "    </tr>\n",
       "  </tbody>\n",
       "</table>\n",
       "<p>137 rows × 17 columns</p>\n",
       "</div>"
      ],
      "text/plain": [
       "                tweet_id  in_reply_to_status_id  in_reply_to_user_id  \\\n",
       "2189  668967877119254528           6.689207e+17         2.143566e+07   \n",
       "2149  669684865554620416           6.693544e+17         4.196984e+09   \n",
       "2038  671550332464455680           6.715449e+17         4.196984e+09   \n",
       "1940  673716320723169284           6.737159e+17         4.196984e+09   \n",
       "1914  674330906434379776           6.658147e+17         1.637468e+07   \n",
       "1905  674606911342424069           6.744689e+17         4.196984e+09   \n",
       "1895  674742531037511680           6.747400e+17         4.196984e+09   \n",
       "1844  675849018447167488           6.758457e+17         4.196984e+09   \n",
       "1819  676590572941893632           6.765883e+17         4.196984e+09   \n",
       "1774  678023323247357953           6.780211e+17         4.196984e+09   \n",
       "1689  681340665377193984           6.813394e+17         4.196984e+09   \n",
       "1663  682808988178739200           6.827884e+17         4.196984e+09   \n",
       "1618  684969860808454144           6.849598e+17         4.196984e+09   \n",
       "1605  685681090388975616           6.855479e+17         4.196984e+09   \n",
       "1598  686035780142297088           6.860340e+17         4.196984e+09   \n",
       "1523  690607260360429569           6.903413e+17         4.670367e+08   \n",
       "1497  692423280028966913           6.924173e+17         4.196984e+09   \n",
       "1479  693582294167244802           6.935722e+17         1.198989e+09   \n",
       "1474  693644216740769793           6.936422e+17         4.196984e+09   \n",
       "1446  696490539101908992           6.964887e+17         4.196984e+09   \n",
       "1445  696518437233913856                    NaN                  NaN   \n",
       "1345  704491224099647488           7.044857e+17         2.878549e+07   \n",
       "1295  707983188426153984           7.079801e+17         2.319108e+09   \n",
       "1080  738891149612572673           7.384119e+17         3.589728e+08   \n",
       "1043  743835915802583040                    NaN                  NaN   \n",
       "1023  746521445350707200                    NaN                  NaN   \n",
       "1012  747242308580548608                    NaN                  NaN   \n",
       "1005  747651430853525504           7.476487e+17         4.196984e+09   \n",
       "967   750381685133418496           7.501805e+17         4.717297e+09   \n",
       "937   753298634498793472                    NaN                  NaN   \n",
       "...                  ...                    ...                  ...   \n",
       "228   848213670039564288           8.482121e+17         4.196984e+09   \n",
       "222   849668094696017920                    NaN                  NaN   \n",
       "218   850333567704068097           8.503288e+17         2.195506e+07   \n",
       "204   852936405516943360                    NaN                  NaN   \n",
       "194   855245323840757760                    NaN                  NaN   \n",
       "189   855860136149123072           8.558585e+17         1.361572e+07   \n",
       "188   855862651834028034           8.558616e+17         1.943518e+08   \n",
       "186   856288084350160898           8.562860e+17         2.792810e+08   \n",
       "185   856330835276025856                    NaN                  NaN   \n",
       "182   856602993587888130                    NaN                  NaN   \n",
       "179   857214891891077121           8.571567e+17         1.806710e+08   \n",
       "171   858860390427611136                    NaN                  NaN   \n",
       "165   860177593139703809                    NaN                  NaN   \n",
       "159   860981674716409858                    NaN                  NaN   \n",
       "148   863427515083354112           8.634256e+17         7.759620e+07   \n",
       "146   863471782782697472                    NaN                  NaN   \n",
       "137   866094527597207552                    NaN                  NaN   \n",
       "132   866816280283807744                    NaN                  NaN   \n",
       "124   868639477480148993                    NaN                  NaN   \n",
       "118   869988702071779329                    NaN                  NaN   \n",
       "113   870726314365509632           8.707262e+17         1.648776e+07   \n",
       "109   871166179821445120                    NaN                  NaN   \n",
       "97    873337748698140672                    NaN                  NaN   \n",
       "91    874434818259525634                    NaN                  NaN   \n",
       "74    878316110768087041                    NaN                  NaN   \n",
       "73    878404777348136964                    NaN                  NaN   \n",
       "68    879130579576475649                    NaN                  NaN   \n",
       "64    879674319642796034           8.795538e+17         3.105441e+09   \n",
       "55    881633300179243008           8.816070e+17         4.738443e+07   \n",
       "30    886267009285017600           8.862664e+17         2.281182e+09   \n",
       "\n",
       "                      timestamp  \\\n",
       "2189  2015-11-24 01:42:25 +0000   \n",
       "2149  2015-11-26 01:11:28 +0000   \n",
       "2038  2015-12-01 04:44:10 +0000   \n",
       "1940  2015-12-07 04:11:02 +0000   \n",
       "1914  2015-12-08 20:53:11 +0000   \n",
       "1905  2015-12-09 15:09:55 +0000   \n",
       "1895  2015-12-10 00:08:50 +0000   \n",
       "1844  2015-12-13 01:25:37 +0000   \n",
       "1819  2015-12-15 02:32:17 +0000   \n",
       "1774  2015-12-19 01:25:31 +0000   \n",
       "1689  2015-12-28 05:07:27 +0000   \n",
       "1663  2016-01-01 06:22:03 +0000   \n",
       "1618  2016-01-07 05:28:35 +0000   \n",
       "1605  2016-01-09 04:34:45 +0000   \n",
       "1598  2016-01-10 04:04:10 +0000   \n",
       "1523  2016-01-22 18:49:36 +0000   \n",
       "1497  2016-01-27 19:05:49 +0000   \n",
       "1479  2016-01-30 23:51:19 +0000   \n",
       "1474  2016-01-31 03:57:23 +0000   \n",
       "1446  2016-02-08 00:27:39 +0000   \n",
       "1445  2016-02-08 02:18:30 +0000   \n",
       "1345  2016-03-01 02:19:31 +0000   \n",
       "1295  2016-03-10 17:35:20 +0000   \n",
       "1080  2016-06-04 00:32:32 +0000   \n",
       "1043  2016-06-17 16:01:16 +0000   \n",
       "1023  2016-06-25 01:52:36 +0000   \n",
       "1012  2016-06-27 01:37:04 +0000   \n",
       "1005  2016-06-28 04:42:46 +0000   \n",
       "967   2016-07-05 17:31:49 +0000   \n",
       "937   2016-07-13 18:42:44 +0000   \n",
       "...                         ...   \n",
       "228   2017-04-01 16:41:12 +0000   \n",
       "222   2017-04-05 17:00:34 +0000   \n",
       "218   2017-04-07 13:04:55 +0000   \n",
       "204   2017-04-14 17:27:40 +0000   \n",
       "194   2017-04-21 02:22:29 +0000   \n",
       "189   2017-04-22 19:05:32 +0000   \n",
       "188   2017-04-22 19:15:32 +0000   \n",
       "186   2017-04-23 23:26:03 +0000   \n",
       "185   2017-04-24 02:15:55 +0000   \n",
       "182   2017-04-24 20:17:23 +0000   \n",
       "179   2017-04-26 12:48:51 +0000   \n",
       "171   2017-05-01 01:47:28 +0000   \n",
       "165   2017-05-04 17:01:34 +0000   \n",
       "159   2017-05-06 22:16:42 +0000   \n",
       "148   2017-05-13 16:15:35 +0000   \n",
       "146   2017-05-13 19:11:30 +0000   \n",
       "137   2017-05-21 00:53:21 +0000   \n",
       "132   2017-05-23 00:41:20 +0000   \n",
       "124   2017-05-28 01:26:04 +0000   \n",
       "118   2017-05-31 18:47:24 +0000   \n",
       "113   2017-06-02 19:38:25 +0000   \n",
       "109   2017-06-04 00:46:17 +0000   \n",
       "97    2017-06-10 00:35:19 +0000   \n",
       "91    2017-06-13 01:14:41 +0000   \n",
       "74    2017-06-23 18:17:33 +0000   \n",
       "73    2017-06-24 00:09:53 +0000   \n",
       "68    2017-06-26 00:13:58 +0000   \n",
       "64    2017-06-27 12:14:36 +0000   \n",
       "55    2017-07-02 21:58:53 +0000   \n",
       "30    2017-07-15 16:51:35 +0000   \n",
       "\n",
       "                                                 source  \\\n",
       "2189  <a href=\"http://twitter.com/download/iphone\" r...   \n",
       "2149  <a href=\"http://twitter.com/download/iphone\" r...   \n",
       "2038  <a href=\"http://twitter.com/download/iphone\" r...   \n",
       "1940  <a href=\"http://twitter.com/download/iphone\" r...   \n",
       "1914  <a href=\"http://twitter.com/download/iphone\" r...   \n",
       "1905  <a href=\"http://twitter.com/download/iphone\" r...   \n",
       "1895  <a href=\"http://twitter.com/download/iphone\" r...   \n",
       "1844  <a href=\"http://twitter.com/download/iphone\" r...   \n",
       "1819  <a href=\"http://twitter.com/download/iphone\" r...   \n",
       "1774  <a href=\"http://twitter.com/download/iphone\" r...   \n",
       "1689  <a href=\"http://twitter.com/download/iphone\" r...   \n",
       "1663  <a href=\"http://twitter.com/download/iphone\" r...   \n",
       "1618  <a href=\"http://twitter.com/download/iphone\" r...   \n",
       "1605  <a href=\"http://twitter.com/download/iphone\" r...   \n",
       "1598  <a href=\"http://twitter.com/download/iphone\" r...   \n",
       "1523  <a href=\"http://twitter.com/download/iphone\" r...   \n",
       "1497  <a href=\"http://twitter.com/download/iphone\" r...   \n",
       "1479  <a href=\"http://twitter.com/download/iphone\" r...   \n",
       "1474  <a href=\"http://twitter.com/download/iphone\" r...   \n",
       "1446  <a href=\"http://twitter.com/download/iphone\" r...   \n",
       "1445  <a href=\"http://twitter.com/download/iphone\" r...   \n",
       "1345  <a href=\"http://twitter.com/download/iphone\" r...   \n",
       "1295  <a href=\"http://twitter.com/download/iphone\" r...   \n",
       "1080  <a href=\"http://twitter.com/download/iphone\" r...   \n",
       "1043  <a href=\"http://twitter.com/download/iphone\" r...   \n",
       "1023  <a href=\"http://twitter.com/download/iphone\" r...   \n",
       "1012  <a href=\"http://twitter.com/download/iphone\" r...   \n",
       "1005  <a href=\"http://twitter.com/download/iphone\" r...   \n",
       "967   <a href=\"http://twitter.com/download/iphone\" r...   \n",
       "937   <a href=\"http://twitter.com/download/iphone\" r...   \n",
       "...                                                 ...   \n",
       "228   <a href=\"http://twitter.com/download/iphone\" r...   \n",
       "222   <a href=\"http://twitter.com/download/iphone\" r...   \n",
       "218   <a href=\"http://twitter.com/download/iphone\" r...   \n",
       "204   <a href=\"http://twitter.com/download/iphone\" r...   \n",
       "194   <a href=\"http://twitter.com/download/iphone\" r...   \n",
       "189   <a href=\"http://twitter.com/download/iphone\" r...   \n",
       "188   <a href=\"http://twitter.com/download/iphone\" r...   \n",
       "186   <a href=\"http://twitter.com/download/iphone\" r...   \n",
       "185   <a href=\"http://twitter.com/download/iphone\" r...   \n",
       "182   <a href=\"http://twitter.com/download/iphone\" r...   \n",
       "179   <a href=\"http://twitter.com/download/iphone\" r...   \n",
       "171   <a href=\"http://twitter.com/download/iphone\" r...   \n",
       "165   <a href=\"http://twitter.com/download/iphone\" r...   \n",
       "159   <a href=\"http://twitter.com/download/iphone\" r...   \n",
       "148   <a href=\"http://twitter.com/download/iphone\" r...   \n",
       "146   <a href=\"http://twitter.com/download/iphone\" r...   \n",
       "137   <a href=\"http://twitter.com/download/iphone\" r...   \n",
       "132   <a href=\"http://twitter.com/download/iphone\" r...   \n",
       "124   <a href=\"http://twitter.com/download/iphone\" r...   \n",
       "118   <a href=\"http://twitter.com/download/iphone\" r...   \n",
       "113   <a href=\"http://twitter.com/download/iphone\" r...   \n",
       "109   <a href=\"http://twitter.com/download/iphone\" r...   \n",
       "97    <a href=\"http://twitter.com/download/iphone\" r...   \n",
       "91    <a href=\"http://twitter.com/download/iphone\" r...   \n",
       "74    <a href=\"http://twitter.com/download/iphone\" r...   \n",
       "73    <a href=\"http://twitter.com/download/iphone\" r...   \n",
       "68    <a href=\"http://twitter.com/download/iphone\" r...   \n",
       "64    <a href=\"http://twitter.com/download/iphone\" r...   \n",
       "55    <a href=\"http://twitter.com/download/iphone\" r...   \n",
       "30    <a href=\"http://twitter.com/download/iphone\" r...   \n",
       "\n",
       "                                                   text  retweeted_status_id  \\\n",
       "2189                     12/10 good shit Bubka\\n@wane15                  NaN   \n",
       "2149  After countless hours of research and hundreds...                  NaN   \n",
       "2038  After 22 minutes of careful deliberation this ...                  NaN   \n",
       "1940  The millennials have spoken and we've decided ...                  NaN   \n",
       "1914                                       13/10\\n@ABC7                  NaN   \n",
       "1905  The 13/10 also takes into account this impecca...                  NaN   \n",
       "1895  Some clarification is required. The dog is sin...                  NaN   \n",
       "1844  This dog is being demoted to a 9/10 for not we...                  NaN   \n",
       "1819  After some outrage from the crowd. Bubbles is ...                  NaN   \n",
       "1774  After getting lost in Reese's eyes for several...                  NaN   \n",
       "1689  I've been told there's a slight possibility he...                  NaN   \n",
       "1663  I'm aware that I could've said 20/16, but here...                  NaN   \n",
       "1618  For those who claim this is a goat, u are wron...                  NaN   \n",
       "1605  Jack deserves another round of applause. If yo...                  NaN   \n",
       "1598  Yes I do realize a rating of 4/20 would've bee...                  NaN   \n",
       "1523                              12/10 @LightningHoltt                  NaN   \n",
       "1497  PUPDATE: just noticed this dog has some extra ...                  NaN   \n",
       "1479  Personally I'd give him an 11/10. Not sure why...                  NaN   \n",
       "1474  BREAKING PUPDATE: I've just been notified that...                  NaN   \n",
       "1446  After reading the comments I may have overesti...                  NaN   \n",
       "1445    Oh my god 10/10 for every little hot dog pupper                  NaN   \n",
       "1345                                13/10 hero af\\n@ABC                  NaN   \n",
       "1295  @serial @MrRoles OH MY GOD I listened to all o...                  NaN   \n",
       "1080                                 @mount_alex3 13/10                  NaN   \n",
       "1043  RT @dog_rates: Extremely intelligent dog here....         6.671383e+17   \n",
       "1023  RT @dog_rates: This is Shaggy. He knows exactl...         6.678667e+17   \n",
       "1012  RT @dog_rates: This pupper killed this great w...         7.047611e+17   \n",
       "1005  Other pupper asked not to have his identity sh...                  NaN   \n",
       "967                13/10 such a good doggo\\n@spaghemily                  NaN   \n",
       "937   RT @dog_rates: This is Carly. She's actually 2...         6.815232e+17   \n",
       "...                                                 ...                  ...   \n",
       "228   Jerry just apuppologized to me. He said there ...                  NaN   \n",
       "222   RT @dog_rates: This is Gidget. She's a spy pup...         8.331247e+17   \n",
       "218   @markhoppus MARK THAT DOG HAS SEEN AND EXPERIE...                  NaN   \n",
       "204   RT @dog_rates: I usually only share these on F...         8.316501e+17   \n",
       "194   RT @dog_rates: Meet George. He looks slightly ...         8.421635e+17   \n",
       "189   @s8n You tried very hard to portray this good ...                  NaN   \n",
       "188   @dhmontgomery We also gave snoop dogg a 420/10...                  NaN   \n",
       "186   @xianmcguire @Jenna_Marbles Kardashians wouldn...                  NaN   \n",
       "185   RT @Jenna_Marbles: @dog_rates Thanks for ratin...         8.563302e+17   \n",
       "182   RT @dog_rates: This is Luna. It's her first ti...         8.447048e+17   \n",
       "179                        @Marc_IRL pixelated af 12/10                  NaN   \n",
       "171   RT @dog_rates: Meet Winston. He knows he's a l...         8.395493e+17   \n",
       "165   RT @dog_rates: Ohboyohboyohboyohboyohboyohboyo...         7.616730e+17   \n",
       "159   RT @dog_rates: Meet Lorenzo. He's an avid nift...         8.605638e+17   \n",
       "148   @Jack_Septic_Eye I'd need a few more pics to p...                  NaN   \n",
       "146   RT @dog_rates: Say hello to Quinn. She's quite...         8.630625e+17   \n",
       "137   RT @dog_rates: Here's a pupper before and afte...         8.378202e+17   \n",
       "132   RT @dog_rates: This is Jamesy. He gives a kiss...         8.664507e+17   \n",
       "124   RT @dog_rates: Say hello to Cooper. His expres...         8.685523e+17   \n",
       "118   RT @dog_rates: We only rate dogs. This is quit...         8.591970e+17   \n",
       "113   @ComplicitOwl @ShopWeRateDogs &gt;10/10 is res...                  NaN   \n",
       "109   RT @dog_rates: This is Dawn. She's just checki...         8.410770e+17   \n",
       "97    RT @dog_rates: This is Sierra. She's one preci...         8.732138e+17   \n",
       "91    RT @dog_rates: This is Coco. At first I though...         8.663350e+17   \n",
       "74    RT @dog_rates: Meet Terrance. He's being yelle...         6.690004e+17   \n",
       "73    RT @dog_rates: Meet Shadow. In an attempt to r...         8.782815e+17   \n",
       "68    RT @dog_rates: This is Emmy. She was adopted t...         8.780576e+17   \n",
       "64                      @RealKentMurphy 14/10 confirmed                  NaN   \n",
       "55    @roushfenway These are good dogs but 17/10 is ...                  NaN   \n",
       "30    @NonWhiteHat @MayhewMayhem omg hello tanner yo...                  NaN   \n",
       "\n",
       "      retweeted_status_user_id retweeted_status_timestamp  \\\n",
       "2189                       NaN                        NaN   \n",
       "2149                       NaN                        NaN   \n",
       "2038                       NaN                        NaN   \n",
       "1940                       NaN                        NaN   \n",
       "1914                       NaN                        NaN   \n",
       "1905                       NaN                        NaN   \n",
       "1895                       NaN                        NaN   \n",
       "1844                       NaN                        NaN   \n",
       "1819                       NaN                        NaN   \n",
       "1774                       NaN                        NaN   \n",
       "1689                       NaN                        NaN   \n",
       "1663                       NaN                        NaN   \n",
       "1618                       NaN                        NaN   \n",
       "1605                       NaN                        NaN   \n",
       "1598                       NaN                        NaN   \n",
       "1523                       NaN                        NaN   \n",
       "1497                       NaN                        NaN   \n",
       "1479                       NaN                        NaN   \n",
       "1474                       NaN                        NaN   \n",
       "1446                       NaN                        NaN   \n",
       "1445                       NaN                        NaN   \n",
       "1345                       NaN                        NaN   \n",
       "1295                       NaN                        NaN   \n",
       "1080                       NaN                        NaN   \n",
       "1043              4.196984e+09  2015-11-19 00:32:12 +0000   \n",
       "1023              4.196984e+09  2015-11-21 00:46:50 +0000   \n",
       "1012              4.196984e+09  2016-03-01 20:11:59 +0000   \n",
       "1005                       NaN                        NaN   \n",
       "967                        NaN                        NaN   \n",
       "937               4.196984e+09  2015-12-28 17:12:42 +0000   \n",
       "...                        ...                        ...   \n",
       "228                        NaN                        NaN   \n",
       "222               4.196984e+09  2017-02-19 01:23:00 +0000   \n",
       "218                        NaN                        NaN   \n",
       "204               4.196984e+09  2017-02-14 23:43:18 +0000   \n",
       "194               4.196984e+09  2017-03-16 00:00:07 +0000   \n",
       "189                        NaN                        NaN   \n",
       "188                        NaN                        NaN   \n",
       "186                        NaN                        NaN   \n",
       "185               6.669901e+07  2017-04-24 02:13:14 +0000   \n",
       "182               4.196984e+09  2017-03-23 00:18:10 +0000   \n",
       "179                        NaN                        NaN   \n",
       "171               4.196984e+09  2017-03-08 18:52:12 +0000   \n",
       "165               4.196984e+09  2016-08-05 21:19:27 +0000   \n",
       "159               4.196984e+09  2017-05-05 18:36:06 +0000   \n",
       "148                        NaN                        NaN   \n",
       "146               4.196984e+09  2017-05-12 16:05:02 +0000   \n",
       "137               4.196984e+09  2017-03-04 00:21:08 +0000   \n",
       "132               4.196984e+09  2017-05-22 00:28:40 +0000   \n",
       "124               4.196984e+09  2017-05-27 19:39:34 +0000   \n",
       "118               4.196984e+09  2017-05-02 00:04:57 +0000   \n",
       "113                        NaN                        NaN   \n",
       "109               4.196984e+09  2017-03-13 00:02:39 +0000   \n",
       "97                4.196984e+09  2017-06-09 16:22:42 +0000   \n",
       "91                4.196984e+09  2017-05-21 16:48:45 +0000   \n",
       "74                4.196984e+09  2015-11-24 03:51:38 +0000   \n",
       "73                4.196984e+09  2017-06-23 16:00:04 +0000   \n",
       "68                4.196984e+09  2017-06-23 01:10:23 +0000   \n",
       "64                         NaN                        NaN   \n",
       "55                         NaN                        NaN   \n",
       "30                         NaN                        NaN   \n",
       "\n",
       "                                          expanded_urls  rating_numerator  \\\n",
       "2189                                                NaN                12   \n",
       "2149                                                NaN                11   \n",
       "2038                                                NaN                 1   \n",
       "1940                                                NaN                 1   \n",
       "1914                                                NaN                13   \n",
       "1905                                                NaN                13   \n",
       "1895                                                NaN                11   \n",
       "1844                                                NaN                 9   \n",
       "1819                                                NaN                 7   \n",
       "1774                                                NaN                13   \n",
       "1689                                                NaN                 5   \n",
       "1663                                                NaN                20   \n",
       "1618                                                NaN                 5   \n",
       "1605                                                NaN                14   \n",
       "1598                                                NaN                 4   \n",
       "1523                                                NaN                12   \n",
       "1497                                                NaN                 9   \n",
       "1479                                                NaN                11   \n",
       "1474                                                NaN                10   \n",
       "1446                                                NaN                 1   \n",
       "1445                                                NaN                10   \n",
       "1345                                                NaN                13   \n",
       "1295                                                NaN                12   \n",
       "1080                                                NaN                13   \n",
       "1043  https://twitter.com/dog_rates/status/667138269...                10   \n",
       "1023  https://twitter.com/dog_rates/status/667866724...                10   \n",
       "1012  https://twitter.com/dog_rates/status/704761120...                13   \n",
       "1005                                                NaN                12   \n",
       "967                                                 NaN                13   \n",
       "937   https://twitter.com/dog_rates/status/681523177...                12   \n",
       "...                                                 ...               ...   \n",
       "228                                                 NaN                11   \n",
       "222   https://twitter.com/dog_rates/status/833124694...                12   \n",
       "218                                                 NaN                13   \n",
       "204   http://www.gofundme.com/bluethewhitehusky,http...                13   \n",
       "194   https://twitter.com/dog_rates/status/842163532...                12   \n",
       "189                                                 NaN               666   \n",
       "188                                                 NaN               420   \n",
       "186                                                 NaN                14   \n",
       "185                                                 NaN                14   \n",
       "182   https://twitter.com/dog_rates/status/844704788...                13   \n",
       "179                                                 NaN                12   \n",
       "171   https://twitter.com/dog_rates/status/839549326...                12   \n",
       "165   https://twitter.com/dog_rates/status/761672994...                10   \n",
       "159   https://www.gofundme.com/help-lorenzo-beat-can...                13   \n",
       "148                                                 NaN                12   \n",
       "146   https://www.gofundme.com/helpquinny,https://tw...                13   \n",
       "137   https://twitter.com/dog_rates/status/837820167...                12   \n",
       "132   https://twitter.com/dog_rates/status/866450705...                13   \n",
       "124   https://www.gofundme.com/3ti3nps,https://twitt...                12   \n",
       "118   https://twitter.com/dog_rates/status/859196978...                12   \n",
       "113                                                 NaN                10   \n",
       "109   https://twitter.com/dog_rates/status/841077006...                12   \n",
       "97    https://www.gofundme.com/help-my-baby-sierra-g...                12   \n",
       "91    https://twitter.com/dog_rates/status/866334964...                12   \n",
       "74    https://twitter.com/dog_rates/status/669000397...                11   \n",
       "73    https://www.gofundme.com/3yd6y1c,https://twitt...                13   \n",
       "68    https://twitter.com/dog_rates/status/878057613...                14   \n",
       "64                                                  NaN                14   \n",
       "55                                                  NaN                17   \n",
       "30                                                  NaN                12   \n",
       "\n",
       "      rating_denominator      name  doggo floofer  pupper puppo  \n",
       "2189                  10      None   None    None    None  None  \n",
       "2149                  10      None   None    None    None  None  \n",
       "2038                  10      None   None    None    None  None  \n",
       "1940                  10      None   None    None    None  None  \n",
       "1914                  10      None   None    None    None  None  \n",
       "1905                  10      None   None    None    None  None  \n",
       "1895                  10      None   None    None    None  None  \n",
       "1844                  10      None   None    None    None  None  \n",
       "1819                  10      None   None    None    None  None  \n",
       "1774                  10      None   None    None    None  None  \n",
       "1689                  10      None   None    None    None  None  \n",
       "1663                  16      None   None    None    None  None  \n",
       "1618                  10      None   None    None    None  None  \n",
       "1605                  10      None   None    None    None  None  \n",
       "1598                  20      None   None    None    None  None  \n",
       "1523                  10      None   None    None    None  None  \n",
       "1497                  10      None   None    None    None  None  \n",
       "1479                  10      None   None    None    None  None  \n",
       "1474                  10      None   None    None    None  None  \n",
       "1446                  10      None   None    None    None  None  \n",
       "1445                  10      None   None    None  pupper  None  \n",
       "1345                  10      None   None    None    None  None  \n",
       "1295                  10      None   None    None    None  None  \n",
       "1080                  10      None   None    None    None  None  \n",
       "1043                  10      None   None    None    None  None  \n",
       "1023                  10    Shaggy   None    None    None  None  \n",
       "1012                  10      None   None    None  pupper  None  \n",
       "1005                  10      None   None    None  pupper  None  \n",
       "967                   10      None  doggo    None    None  None  \n",
       "937                   10     Carly   None    None    None  None  \n",
       "...                  ...       ...    ...     ...     ...   ...  \n",
       "228                   10      None   None    None    None  None  \n",
       "222                   10    Gidget   None    None  pupper  None  \n",
       "218                   10      None   None    None    None  None  \n",
       "204                   10      None   None    None    None  None  \n",
       "194                   10    George   None    None    None  None  \n",
       "189                   10      None   None    None    None  None  \n",
       "188                   10      None   None    None    None  None  \n",
       "186                   10      None   None    None    None  None  \n",
       "185                   10      None   None    None    None  None  \n",
       "182                   10      Luna   None    None    None  None  \n",
       "179                   10      None   None    None    None  None  \n",
       "171                   10   Winston   None    None    None  None  \n",
       "165                   10      None   None    None    None  None  \n",
       "159                   10   Lorenzo   None    None    None  None  \n",
       "148                   10      None   None    None    None  None  \n",
       "146                   10     Quinn   None    None    None  None  \n",
       "137                   10      None   None    None  pupper  None  \n",
       "132                   10    Jamesy   None    None  pupper  None  \n",
       "124                   10    Cooper   None    None    None  None  \n",
       "118                   10     quite   None    None    None  None  \n",
       "113                   10      None   None    None    None  None  \n",
       "109                   10      Dawn   None    None    None  None  \n",
       "97                    10    Sierra   None    None  pupper  None  \n",
       "91                    10      Coco   None    None    None  None  \n",
       "74                    10  Terrance   None    None    None  None  \n",
       "73                    10    Shadow   None    None    None  None  \n",
       "68                    10      Emmy   None    None    None  None  \n",
       "64                    10      None   None    None    None  None  \n",
       "55                    10      None   None    None    None  None  \n",
       "30                    10      None   None    None    None  None  \n",
       "\n",
       "[137 rows x 17 columns]"
      ]
     },
     "execution_count": 25,
     "metadata": {},
     "output_type": "execute_result"
    }
   ],
   "source": [
    "twitter_archive_df[twitter_archive_df.duplicated(['expanded_urls'])]"
   ]
  },
  {
   "cell_type": "code",
   "execution_count": 26,
   "metadata": {},
   "outputs": [
    {
     "data": {
      "text/plain": [
       "https://twitter.com/dog_rates/status/810254108431155201/photo/1                                                                                                                                                                                                                                              1\n",
       "https://twitter.com/dog_rates/status/844704788403113984/photo/1                                                                                                                                                                                                                                              1\n",
       "https://twitter.com/dog_rates/status/750719632563142656/photo/1                                                                                                                                                                                                                                              1\n",
       "https://twitter.com/dog_rates/status/816450570814898180/photo/1,https://twitter.com/dog_rates/status/816450570814898180/photo/1                                                                                                                                                                              1\n",
       "https://twitter.com/dog_rates/status/753375668877008896/photo/1                                                                                                                                                                                                                                              1\n",
       "https://twitter.com/dog_rates/status/667138269671505920/photo/1                                                                                                                                                                                                                                              1\n",
       "https://www.gofundme.com/lolas-life-saving-surgery-funds,https://twitter.com/dog_rates/status/835264098648616962/photo/1,https://twitter.com/dog_rates/status/835264098648616962/photo/1                                                                                                                     1\n",
       "https://twitter.com/dog_rates/status/759447681597108224/photo/1                                                                                                                                                                                                                                              1\n",
       "https://twitter.com/dog_rates/status/786233965241827333/photo/1                                                                                                                                                                                                                                              1\n",
       "https://twitter.com/dog_rates/status/740373189193256964/photo/1,https://twitter.com/dog_rates/status/740373189193256964/photo/1,https://twitter.com/dog_rates/status/740373189193256964/photo/1,https://twitter.com/dog_rates/status/740373189193256964/photo/1                                              1\n",
       "https://twitter.com/dog_rates/status/718631497683582976/photo/1                                                                                                                                                                                                                                              1\n",
       "https://www.gofundme.com/3hgsuu0,https://twitter.com/dog_rates/status/840632337062862849/photo/1                                                                                                                                                                                                             1\n",
       "https://twitter.com/dog_rates/status/768193404517830656/photo/1                                                                                                                                                                                                                                              1\n",
       "https://twitter.com/dog_rates/status/809220051211603969/photo/1,https://twitter.com/dog_rates/status/809220051211603969/photo/1                                                                                                                                                                              1\n",
       "https://www.gofundme.com/helpquinny,https://twitter.com/dog_rates/status/863062471531167744/photo/1,https://twitter.com/dog_rates/status/863062471531167744/photo/1,https://twitter.com/dog_rates/status/863062471531167744/photo/1,https://twitter.com/dog_rates/status/863062471531167744/photo/1          1\n",
       "https://twitter.com/dog_rates/status/782305867769217024/photo/1,https://twitter.com/dog_rates/status/782305867769217024/photo/1,https://twitter.com/dog_rates/status/782305867769217024/photo/1                                                                                                              1\n",
       "https://vine.co/v/ea0OwvPTx9l                                                                                                                                                                                                                                                                                1\n",
       "https://twitter.com/dog_rates/status/837820167694528512/photo/1,https://twitter.com/dog_rates/status/837820167694528512/photo/1                                                                                                                                                                              1\n",
       "https://twitter.com/dog_rates/status/739979191639244800/photo/1                                                                                                                                                                                                                                              1\n",
       "https://twitter.com/dog_rates/status/786709082849828864/photo/1                                                                                                                                                                                                                                              1\n",
       "https://twitter.com/dog_rates/status/842163532590374912/photo/1,https://twitter.com/dog_rates/status/842163532590374912/photo/1                                                                                                                                                                              1\n",
       "https://twitter.com/dog_rates/status/700747788515020802/photo/1                                                                                                                                                                                                                                              1\n",
       "https://twitter.com/dog_rates/status/683391852557561860/photo/1                                                                                                                                                                                                                                              1\n",
       "https://twitter.com/dog_rates/status/774314403806253056/photo/1,https://twitter.com/dog_rates/status/774314403806253056/photo/1,https://twitter.com/dog_rates/status/774314403806253056/photo/1,https://twitter.com/dog_rates/status/774314403806253056/photo/1                                              1\n",
       "https://twitter.com/dog_rates/status/761672994376806400/video/1                                                                                                                                                                                                                                              1\n",
       "https://www.gofundme.com/3yd6y1c,https://twitter.com/dog_rates/status/878281511006478336/photo/1                                                                                                                                                                                                             1\n",
       "https://www.gofundme.com/help-my-baby-sierra-get-better,https://twitter.com/dog_rates/status/873213775632977920/photo/1,https://twitter.com/dog_rates/status/873213775632977920/photo/1                                                                                                                      1\n",
       "https://twitter.com/dog_rates/status/681523177663676416/photo/1                                                                                                                                                                                                                                              1\n",
       "https://twitter.com/dog_rates/status/681694085539872773/photo/1                                                                                                                                                                                                                                              1\n",
       "https://twitter.com/dog_rates/status/783839966405230592/photo/1,https://twitter.com/dog_rates/status/783839966405230592/photo/1,https://twitter.com/dog_rates/status/783839966405230592/photo/1                                                                                                              1\n",
       "                                                                                                                                                                                                                                                                                                            ..\n",
       "https://twitter.com/dog_rates/status/762699858130116608/photo/1                                                                                                                                                                                                                                              1\n",
       "https://www.loveyourmelon.com/pages/ourstory,https://twitter.com/dog_rates/status/820314633777061888/photo/1,https://twitter.com/dog_rates/status/820314633777061888/photo/1,https://twitter.com/dog_rates/status/820314633777061888/photo/1                                                                 1\n",
       "https://twitter.com/dog_rates/status/817827839487737858/video/1                                                                                                                                                                                                                                              1\n",
       "https://twitter.com/dog_rates/status/767754930266464257/photo/1                                                                                                                                                                                                                                              1\n",
       "https://twitter.com/dog_rates/status/832369877331693569/photo/1                                                                                                                                                                                                                                              1\n",
       "http://www.gofundme.com/bluethewhitehusky,https://twitter.com/dog_rates/status/831650051525054464/photo/1,https://twitter.com/dog_rates/status/831650051525054464/photo/1,https://twitter.com/dog_rates/status/831650051525054464/photo/1,https://twitter.com/dog_rates/status/831650051525054464/photo/1    1\n",
       "https://twitter.com/dog_rates/status/692417313023332352/photo/1                                                                                                                                                                                                                                              1\n",
       "https://twitter.com/dog_rates/status/819227688460238848/photo/1                                                                                                                                                                                                                                              1\n",
       "https://twitter.com/dog_rates/status/833124694597443584/photo/1,https://twitter.com/dog_rates/status/833124694597443584/photo/1,https://twitter.com/dog_rates/status/833124694597443584/photo/1                                                                                                              1\n",
       "https://twitter.com/dog_rates/status/878057613040115712/photo/1,https://twitter.com/dog_rates/status/878057613040115712/photo/1                                                                                                                                                                              1\n",
       "https://twitter.com/dog_rates/status/673295268553605120/photo/1                                                                                                                                                                                                                                              1\n",
       "https://twitter.com/dog_rates/status/739238157791694849/video/1                                                                                                                                                                                                                                              1\n",
       "https://twitter.com/dog_rates/status/866334964761202691/photo/1,https://twitter.com/dog_rates/status/866334964761202691/photo/1                                                                                                                                                                              1\n",
       "https://twitter.com/dog_rates/status/679462823135686656/photo/1                                                                                                                                                                                                                                              1\n",
       "https://twitter.com/dog_rates/status/687317306314240000/photo/1,https://twitter.com/dog_rates/status/687317306314240000/photo/1                                                                                                                                                                              1\n",
       "https://www.gofundme.com/help-lorenzo-beat-cancer,https://twitter.com/dog_rates/status/860563773140209665/photo/1,https://twitter.com/dog_rates/status/860563773140209665/photo/1                                                                                                                            1\n",
       "https://twitter.com/dog_rates/status/669000397445533696/photo/1                                                                                                                                                                                                                                              1\n",
       "https://twitter.com/dog_rates/status/740676976021798912/photo/1                                                                                                                                                                                                                                              1\n",
       "https://twitter.com/dog_rates/status/780931614150983680/photo/1                                                                                                                                                                                                                                              1\n",
       "https://twitter.com/dog_rates/status/667866724293877760/photo/1                                                                                                                                                                                                                                              1\n",
       "https://twitter.com/dog_rates/status/841077006473256960/photo/1                                                                                                                                                                                                                                              1\n",
       "https://twitter.com/dog_rates/status/667152164079423490/photo/1                                                                                                                                                                                                                                              1\n",
       "https://www.gofundme.com/my-puppys-double-cataract-surgery,https://twitter.com/dog_rates/status/825026590719483904/photo/1,https://twitter.com/dog_rates/status/825026590719483904/photo/1                                                                                                                   1\n",
       "https://twitter.com/dog_rates/status/866450705531457537/photo/1,https://twitter.com/dog_rates/status/866450705531457537/photo/1                                                                                                                                                                              1\n",
       "https://www.gofundme.com/servicedogoliver,https://twitter.com/dog_rates/status/819952236453363712/photo/1                                                                                                                                                                                                    1\n",
       "https://twitter.com/dog_rates/status/700143752053182464/photo/1                                                                                                                                                                                                                                              1\n",
       "https://twitter.com/dog_rates/status/666104133288665088/photo/1                                                                                                                                                                                                                                              1\n",
       "https://twitter.com/dog_rates/status/698195409219559425/photo/1                                                                                                                                                                                                                                              1\n",
       "https://twitter.com/dog_rates/status/680055455951884288/photo/1                                                                                                                                                                                                                                              1\n",
       "https://www.gofundme.com/surgeryforjacktheminpin,https://twitter.com/dog_rates/status/815990720817401858/photo/1                                                                                                                                                                                             1\n",
       "Name: expanded_urls, Length: 79, dtype: int64"
      ]
     },
     "execution_count": 26,
     "metadata": {},
     "output_type": "execute_result"
    }
   ],
   "source": [
    "twitter_archive_df[twitter_archive_df.duplicated(['expanded_urls'])].expanded_urls.value_counts()"
   ]
  },
  {
   "cell_type": "code",
   "execution_count": 27,
   "metadata": {},
   "outputs": [
    {
     "data": {
      "text/html": [
       "<div>\n",
       "<style scoped>\n",
       "    .dataframe tbody tr th:only-of-type {\n",
       "        vertical-align: middle;\n",
       "    }\n",
       "\n",
       "    .dataframe tbody tr th {\n",
       "        vertical-align: top;\n",
       "    }\n",
       "\n",
       "    .dataframe thead th {\n",
       "        text-align: right;\n",
       "    }\n",
       "</style>\n",
       "<table border=\"1\" class=\"dataframe\">\n",
       "  <thead>\n",
       "    <tr style=\"text-align: right;\">\n",
       "      <th></th>\n",
       "      <th>tweet_id</th>\n",
       "      <th>in_reply_to_status_id</th>\n",
       "      <th>in_reply_to_user_id</th>\n",
       "      <th>timestamp</th>\n",
       "      <th>source</th>\n",
       "      <th>text</th>\n",
       "      <th>retweeted_status_id</th>\n",
       "      <th>retweeted_status_user_id</th>\n",
       "      <th>retweeted_status_timestamp</th>\n",
       "      <th>expanded_urls</th>\n",
       "      <th>rating_numerator</th>\n",
       "      <th>rating_denominator</th>\n",
       "      <th>name</th>\n",
       "      <th>doggo</th>\n",
       "      <th>floofer</th>\n",
       "      <th>pupper</th>\n",
       "      <th>puppo</th>\n",
       "    </tr>\n",
       "  </thead>\n",
       "  <tbody>\n",
       "    <tr>\n",
       "      <th>837</th>\n",
       "      <td>767754930266464257</td>\n",
       "      <td>NaN</td>\n",
       "      <td>NaN</td>\n",
       "      <td>2016-08-22 16:06:54 +0000</td>\n",
       "      <td>&lt;a href=\"http://twitter.com/download/iphone\" r...</td>\n",
       "      <td>This is Philbert. His toilet broke and he does...</td>\n",
       "      <td>NaN</td>\n",
       "      <td>NaN</td>\n",
       "      <td>NaN</td>\n",
       "      <td>https://twitter.com/dog_rates/status/767754930...</td>\n",
       "      <td>11</td>\n",
       "      <td>10</td>\n",
       "      <td>Philbert</td>\n",
       "      <td>None</td>\n",
       "      <td>None</td>\n",
       "      <td>None</td>\n",
       "      <td>None</td>\n",
       "    </tr>\n",
       "    <tr>\n",
       "      <th>558</th>\n",
       "      <td>803321560782307329</td>\n",
       "      <td>NaN</td>\n",
       "      <td>NaN</td>\n",
       "      <td>2016-11-28 19:35:59 +0000</td>\n",
       "      <td>&lt;a href=\"http://twitter.com/download/iphone\" r...</td>\n",
       "      <td>RT @dog_rates: This is Philbert. His toilet br...</td>\n",
       "      <td>7.677549e+17</td>\n",
       "      <td>4.196984e+09</td>\n",
       "      <td>2016-08-22 16:06:54 +0000</td>\n",
       "      <td>https://twitter.com/dog_rates/status/767754930...</td>\n",
       "      <td>11</td>\n",
       "      <td>10</td>\n",
       "      <td>Philbert</td>\n",
       "      <td>None</td>\n",
       "      <td>None</td>\n",
       "      <td>None</td>\n",
       "      <td>None</td>\n",
       "    </tr>\n",
       "  </tbody>\n",
       "</table>\n",
       "</div>"
      ],
      "text/plain": [
       "               tweet_id  in_reply_to_status_id  in_reply_to_user_id  \\\n",
       "837  767754930266464257                    NaN                  NaN   \n",
       "558  803321560782307329                    NaN                  NaN   \n",
       "\n",
       "                     timestamp  \\\n",
       "837  2016-08-22 16:06:54 +0000   \n",
       "558  2016-11-28 19:35:59 +0000   \n",
       "\n",
       "                                                source  \\\n",
       "837  <a href=\"http://twitter.com/download/iphone\" r...   \n",
       "558  <a href=\"http://twitter.com/download/iphone\" r...   \n",
       "\n",
       "                                                  text  retweeted_status_id  \\\n",
       "837  This is Philbert. His toilet broke and he does...                  NaN   \n",
       "558  RT @dog_rates: This is Philbert. His toilet br...         7.677549e+17   \n",
       "\n",
       "     retweeted_status_user_id retweeted_status_timestamp  \\\n",
       "837                       NaN                        NaN   \n",
       "558              4.196984e+09  2016-08-22 16:06:54 +0000   \n",
       "\n",
       "                                         expanded_urls  rating_numerator  \\\n",
       "837  https://twitter.com/dog_rates/status/767754930...                11   \n",
       "558  https://twitter.com/dog_rates/status/767754930...                11   \n",
       "\n",
       "     rating_denominator      name doggo floofer pupper puppo  \n",
       "837                  10  Philbert  None    None   None  None  \n",
       "558                  10  Philbert  None    None   None  None  "
      ]
     },
     "execution_count": 27,
     "metadata": {},
     "output_type": "execute_result"
    }
   ],
   "source": [
    "twitter_archive_df.query(\"expanded_urls == 'https://twitter.com/dog_rates/status/767754930266464257/photo/1'\")"
   ]
  },
  {
   "cell_type": "markdown",
   "metadata": {},
   "source": [
    "There are some images that duplicated, we must re-check are they are have same value in each cols (except the id, because we don't have any duplicate tweet id)"
   ]
  },
  {
   "cell_type": "code",
   "execution_count": 28,
   "metadata": {},
   "outputs": [
    {
     "data": {
      "text/plain": [
       "False    2335\n",
       "Name: favorited, dtype: int64"
      ]
     },
     "execution_count": 28,
     "metadata": {},
     "output_type": "execute_result"
    }
   ],
   "source": [
    "scrapped_tweet_df.favorited.value_counts()"
   ]
  },
  {
   "cell_type": "markdown",
   "metadata": {},
   "source": [
    "retweeted and favorited data only have 1 value, so it is not important anymore, we must to drop it."
   ]
  },
  {
   "cell_type": "code",
   "execution_count": 29,
   "metadata": {},
   "outputs": [
    {
     "data": {
      "text/plain": [
       "<a href=\"http://twitter.com/download/iphone\" rel=\"nofollow\">Twitter for iPhone</a>     2221\n",
       "<a href=\"http://vine.co\" rel=\"nofollow\">Vine - Make a Scene</a>                          91\n",
       "<a href=\"http://twitter.com\" rel=\"nofollow\">Twitter Web Client</a>                       33\n",
       "<a href=\"https://about.twitter.com/products/tweetdeck\" rel=\"nofollow\">TweetDeck</a>      11\n",
       "Name: source, dtype: int64"
      ]
     },
     "execution_count": 29,
     "metadata": {},
     "output_type": "execute_result"
    }
   ],
   "source": [
    "twitter_archive_df.source.value_counts()"
   ]
  },
  {
   "cell_type": "markdown",
   "metadata": {},
   "source": [
    "To make the data more clear, we need to change source cols value"
   ]
  },
  {
   "cell_type": "markdown",
   "metadata": {},
   "source": [
    "<a id=\"missing\"></a>\n",
    "##### 4. Check missing value of data"
   ]
  },
  {
   "cell_type": "markdown",
   "metadata": {},
   "source": [
    "list function name: <br>\n",
    "<a id=\"get_missing_value_percentage\">get_missing_value_percentage</a> <br>"
   ]
  },
  {
   "cell_type": "code",
   "execution_count": 30,
   "metadata": {},
   "outputs": [],
   "source": [
    "def get_missing_value_percentage(data_frame):\n",
    "    data_missing = data_frame.isna()\n",
    "    num_data_missing = data_missing.sum()\n",
    "    num_data = len(data_frame)\n",
    "    return (num_data_missing * 100)/num_data"
   ]
  },
  {
   "cell_type": "code",
   "execution_count": 31,
   "metadata": {},
   "outputs": [
    {
     "data": {
      "text/plain": [
       "tweet_id                       0.000000\n",
       "in_reply_to_status_id         96.689304\n",
       "in_reply_to_user_id           96.689304\n",
       "timestamp                      0.000000\n",
       "source                         0.000000\n",
       "text                           0.000000\n",
       "retweeted_status_id           92.317487\n",
       "retweeted_status_user_id      92.317487\n",
       "retweeted_status_timestamp    92.317487\n",
       "expanded_urls                  2.504244\n",
       "rating_numerator               0.000000\n",
       "rating_denominator             0.000000\n",
       "name                           0.000000\n",
       "doggo                          0.000000\n",
       "floofer                        0.000000\n",
       "pupper                         0.000000\n",
       "puppo                          0.000000\n",
       "dtype: float64"
      ]
     },
     "execution_count": 31,
     "metadata": {},
     "output_type": "execute_result"
    }
   ],
   "source": [
    "get_missing_value_percentage(twitter_archive_df)"
   ]
  },
  {
   "cell_type": "code",
   "execution_count": 32,
   "metadata": {},
   "outputs": [
    {
     "data": {
      "text/plain": [
       "tweet_id    0.0\n",
       "jpg_url     0.0\n",
       "img_num     0.0\n",
       "p1          0.0\n",
       "p1_conf     0.0\n",
       "p1_dog      0.0\n",
       "p2          0.0\n",
       "p2_conf     0.0\n",
       "p2_dog      0.0\n",
       "p3          0.0\n",
       "p3_conf     0.0\n",
       "p3_dog      0.0\n",
       "dtype: float64"
      ]
     },
     "execution_count": 32,
     "metadata": {},
     "output_type": "execute_result"
    }
   ],
   "source": [
    "get_missing_value_percentage(image_prediction_df)"
   ]
  },
  {
   "cell_type": "code",
   "execution_count": 33,
   "metadata": {},
   "outputs": [
    {
     "data": {
      "text/plain": [
       "favorite_count    0.0\n",
       "favorited         0.0\n",
       "retweet_count     0.0\n",
       "retweeted         0.0\n",
       "tweet_id          0.0\n",
       "dtype: float64"
      ]
     },
     "execution_count": 33,
     "metadata": {},
     "output_type": "execute_result"
    }
   ],
   "source": [
    "get_missing_value_percentage(scrapped_tweet_df)"
   ]
  },
  {
   "cell_type": "markdown",
   "metadata": {},
   "source": [
    "Data twitter_archive_df have some missing value in variable in_reply_to_status_id (96.69%), in_reply_to_user_id (96.69%), retweeted_status_id (92.32%), retweeted_status_user_id (92.32%), retweeted_status_timestamp (92.32%), and expanded_urls (2.50%). Because of the large missing value (>90%), 5 cols in twitter_archive_df must be deleted. For expanded_urls, must be check after join with other table. Data image_prediction_df didn't have any missing value, the scrapped_tweet_df also didn't have missing value."
   ]
  },
  {
   "cell_type": "markdown",
   "metadata": {},
   "source": [
    "<a id=\"describe\"></a>\n",
    "##### 5. Check stat describe data"
   ]
  },
  {
   "cell_type": "code",
   "execution_count": 34,
   "metadata": {},
   "outputs": [
    {
     "data": {
      "text/html": [
       "<div>\n",
       "<style scoped>\n",
       "    .dataframe tbody tr th:only-of-type {\n",
       "        vertical-align: middle;\n",
       "    }\n",
       "\n",
       "    .dataframe tbody tr th {\n",
       "        vertical-align: top;\n",
       "    }\n",
       "\n",
       "    .dataframe thead th {\n",
       "        text-align: right;\n",
       "    }\n",
       "</style>\n",
       "<table border=\"1\" class=\"dataframe\">\n",
       "  <thead>\n",
       "    <tr style=\"text-align: right;\">\n",
       "      <th></th>\n",
       "      <th>tweet_id</th>\n",
       "      <th>in_reply_to_status_id</th>\n",
       "      <th>in_reply_to_user_id</th>\n",
       "      <th>retweeted_status_id</th>\n",
       "      <th>retweeted_status_user_id</th>\n",
       "      <th>rating_numerator</th>\n",
       "      <th>rating_denominator</th>\n",
       "    </tr>\n",
       "  </thead>\n",
       "  <tbody>\n",
       "    <tr>\n",
       "      <th>count</th>\n",
       "      <td>2.356000e+03</td>\n",
       "      <td>7.800000e+01</td>\n",
       "      <td>7.800000e+01</td>\n",
       "      <td>1.810000e+02</td>\n",
       "      <td>1.810000e+02</td>\n",
       "      <td>2356.000000</td>\n",
       "      <td>2356.000000</td>\n",
       "    </tr>\n",
       "    <tr>\n",
       "      <th>mean</th>\n",
       "      <td>7.427716e+17</td>\n",
       "      <td>7.455079e+17</td>\n",
       "      <td>2.014171e+16</td>\n",
       "      <td>7.720400e+17</td>\n",
       "      <td>1.241698e+16</td>\n",
       "      <td>13.126486</td>\n",
       "      <td>10.455433</td>\n",
       "    </tr>\n",
       "    <tr>\n",
       "      <th>std</th>\n",
       "      <td>6.856705e+16</td>\n",
       "      <td>7.582492e+16</td>\n",
       "      <td>1.252797e+17</td>\n",
       "      <td>6.236928e+16</td>\n",
       "      <td>9.599254e+16</td>\n",
       "      <td>45.876648</td>\n",
       "      <td>6.745237</td>\n",
       "    </tr>\n",
       "    <tr>\n",
       "      <th>min</th>\n",
       "      <td>6.660209e+17</td>\n",
       "      <td>6.658147e+17</td>\n",
       "      <td>1.185634e+07</td>\n",
       "      <td>6.661041e+17</td>\n",
       "      <td>7.832140e+05</td>\n",
       "      <td>0.000000</td>\n",
       "      <td>0.000000</td>\n",
       "    </tr>\n",
       "    <tr>\n",
       "      <th>25%</th>\n",
       "      <td>6.783989e+17</td>\n",
       "      <td>6.757419e+17</td>\n",
       "      <td>3.086374e+08</td>\n",
       "      <td>7.186315e+17</td>\n",
       "      <td>4.196984e+09</td>\n",
       "      <td>10.000000</td>\n",
       "      <td>10.000000</td>\n",
       "    </tr>\n",
       "    <tr>\n",
       "      <th>50%</th>\n",
       "      <td>7.196279e+17</td>\n",
       "      <td>7.038708e+17</td>\n",
       "      <td>4.196984e+09</td>\n",
       "      <td>7.804657e+17</td>\n",
       "      <td>4.196984e+09</td>\n",
       "      <td>11.000000</td>\n",
       "      <td>10.000000</td>\n",
       "    </tr>\n",
       "    <tr>\n",
       "      <th>75%</th>\n",
       "      <td>7.993373e+17</td>\n",
       "      <td>8.257804e+17</td>\n",
       "      <td>4.196984e+09</td>\n",
       "      <td>8.203146e+17</td>\n",
       "      <td>4.196984e+09</td>\n",
       "      <td>12.000000</td>\n",
       "      <td>10.000000</td>\n",
       "    </tr>\n",
       "    <tr>\n",
       "      <th>max</th>\n",
       "      <td>8.924206e+17</td>\n",
       "      <td>8.862664e+17</td>\n",
       "      <td>8.405479e+17</td>\n",
       "      <td>8.874740e+17</td>\n",
       "      <td>7.874618e+17</td>\n",
       "      <td>1776.000000</td>\n",
       "      <td>170.000000</td>\n",
       "    </tr>\n",
       "  </tbody>\n",
       "</table>\n",
       "</div>"
      ],
      "text/plain": [
       "           tweet_id  in_reply_to_status_id  in_reply_to_user_id  \\\n",
       "count  2.356000e+03           7.800000e+01         7.800000e+01   \n",
       "mean   7.427716e+17           7.455079e+17         2.014171e+16   \n",
       "std    6.856705e+16           7.582492e+16         1.252797e+17   \n",
       "min    6.660209e+17           6.658147e+17         1.185634e+07   \n",
       "25%    6.783989e+17           6.757419e+17         3.086374e+08   \n",
       "50%    7.196279e+17           7.038708e+17         4.196984e+09   \n",
       "75%    7.993373e+17           8.257804e+17         4.196984e+09   \n",
       "max    8.924206e+17           8.862664e+17         8.405479e+17   \n",
       "\n",
       "       retweeted_status_id  retweeted_status_user_id  rating_numerator  \\\n",
       "count         1.810000e+02              1.810000e+02       2356.000000   \n",
       "mean          7.720400e+17              1.241698e+16         13.126486   \n",
       "std           6.236928e+16              9.599254e+16         45.876648   \n",
       "min           6.661041e+17              7.832140e+05          0.000000   \n",
       "25%           7.186315e+17              4.196984e+09         10.000000   \n",
       "50%           7.804657e+17              4.196984e+09         11.000000   \n",
       "75%           8.203146e+17              4.196984e+09         12.000000   \n",
       "max           8.874740e+17              7.874618e+17       1776.000000   \n",
       "\n",
       "       rating_denominator  \n",
       "count         2356.000000  \n",
       "mean            10.455433  \n",
       "std              6.745237  \n",
       "min              0.000000  \n",
       "25%             10.000000  \n",
       "50%             10.000000  \n",
       "75%             10.000000  \n",
       "max            170.000000  "
      ]
     },
     "execution_count": 34,
     "metadata": {},
     "output_type": "execute_result"
    }
   ],
   "source": [
    "twitter_archive_df.describe()"
   ]
  },
  {
   "cell_type": "code",
   "execution_count": 35,
   "metadata": {},
   "outputs": [
    {
     "data": {
      "text/html": [
       "<div>\n",
       "<style scoped>\n",
       "    .dataframe tbody tr th:only-of-type {\n",
       "        vertical-align: middle;\n",
       "    }\n",
       "\n",
       "    .dataframe tbody tr th {\n",
       "        vertical-align: top;\n",
       "    }\n",
       "\n",
       "    .dataframe thead th {\n",
       "        text-align: right;\n",
       "    }\n",
       "</style>\n",
       "<table border=\"1\" class=\"dataframe\">\n",
       "  <thead>\n",
       "    <tr style=\"text-align: right;\">\n",
       "      <th></th>\n",
       "      <th>tweet_id</th>\n",
       "      <th>img_num</th>\n",
       "      <th>p1_conf</th>\n",
       "      <th>p2_conf</th>\n",
       "      <th>p3_conf</th>\n",
       "    </tr>\n",
       "  </thead>\n",
       "  <tbody>\n",
       "    <tr>\n",
       "      <th>count</th>\n",
       "      <td>2.075000e+03</td>\n",
       "      <td>2075.000000</td>\n",
       "      <td>2075.000000</td>\n",
       "      <td>2.075000e+03</td>\n",
       "      <td>2.075000e+03</td>\n",
       "    </tr>\n",
       "    <tr>\n",
       "      <th>mean</th>\n",
       "      <td>7.384514e+17</td>\n",
       "      <td>1.203855</td>\n",
       "      <td>0.594548</td>\n",
       "      <td>1.345886e-01</td>\n",
       "      <td>6.032417e-02</td>\n",
       "    </tr>\n",
       "    <tr>\n",
       "      <th>std</th>\n",
       "      <td>6.785203e+16</td>\n",
       "      <td>0.561875</td>\n",
       "      <td>0.271174</td>\n",
       "      <td>1.006657e-01</td>\n",
       "      <td>5.090593e-02</td>\n",
       "    </tr>\n",
       "    <tr>\n",
       "      <th>min</th>\n",
       "      <td>6.660209e+17</td>\n",
       "      <td>1.000000</td>\n",
       "      <td>0.044333</td>\n",
       "      <td>1.011300e-08</td>\n",
       "      <td>1.740170e-10</td>\n",
       "    </tr>\n",
       "    <tr>\n",
       "      <th>25%</th>\n",
       "      <td>6.764835e+17</td>\n",
       "      <td>1.000000</td>\n",
       "      <td>0.364412</td>\n",
       "      <td>5.388625e-02</td>\n",
       "      <td>1.622240e-02</td>\n",
       "    </tr>\n",
       "    <tr>\n",
       "      <th>50%</th>\n",
       "      <td>7.119988e+17</td>\n",
       "      <td>1.000000</td>\n",
       "      <td>0.588230</td>\n",
       "      <td>1.181810e-01</td>\n",
       "      <td>4.944380e-02</td>\n",
       "    </tr>\n",
       "    <tr>\n",
       "      <th>75%</th>\n",
       "      <td>7.932034e+17</td>\n",
       "      <td>1.000000</td>\n",
       "      <td>0.843855</td>\n",
       "      <td>1.955655e-01</td>\n",
       "      <td>9.180755e-02</td>\n",
       "    </tr>\n",
       "    <tr>\n",
       "      <th>max</th>\n",
       "      <td>8.924206e+17</td>\n",
       "      <td>4.000000</td>\n",
       "      <td>1.000000</td>\n",
       "      <td>4.880140e-01</td>\n",
       "      <td>2.734190e-01</td>\n",
       "    </tr>\n",
       "  </tbody>\n",
       "</table>\n",
       "</div>"
      ],
      "text/plain": [
       "           tweet_id      img_num      p1_conf       p2_conf       p3_conf\n",
       "count  2.075000e+03  2075.000000  2075.000000  2.075000e+03  2.075000e+03\n",
       "mean   7.384514e+17     1.203855     0.594548  1.345886e-01  6.032417e-02\n",
       "std    6.785203e+16     0.561875     0.271174  1.006657e-01  5.090593e-02\n",
       "min    6.660209e+17     1.000000     0.044333  1.011300e-08  1.740170e-10\n",
       "25%    6.764835e+17     1.000000     0.364412  5.388625e-02  1.622240e-02\n",
       "50%    7.119988e+17     1.000000     0.588230  1.181810e-01  4.944380e-02\n",
       "75%    7.932034e+17     1.000000     0.843855  1.955655e-01  9.180755e-02\n",
       "max    8.924206e+17     4.000000     1.000000  4.880140e-01  2.734190e-01"
      ]
     },
     "execution_count": 35,
     "metadata": {},
     "output_type": "execute_result"
    }
   ],
   "source": [
    "image_prediction_df.describe()"
   ]
  },
  {
   "cell_type": "code",
   "execution_count": 36,
   "metadata": {},
   "outputs": [
    {
     "data": {
      "text/html": [
       "<div>\n",
       "<style scoped>\n",
       "    .dataframe tbody tr th:only-of-type {\n",
       "        vertical-align: middle;\n",
       "    }\n",
       "\n",
       "    .dataframe tbody tr th {\n",
       "        vertical-align: top;\n",
       "    }\n",
       "\n",
       "    .dataframe thead th {\n",
       "        text-align: right;\n",
       "    }\n",
       "</style>\n",
       "<table border=\"1\" class=\"dataframe\">\n",
       "  <thead>\n",
       "    <tr style=\"text-align: right;\">\n",
       "      <th></th>\n",
       "      <th>favorite_count</th>\n",
       "      <th>retweet_count</th>\n",
       "      <th>tweet_id</th>\n",
       "    </tr>\n",
       "  </thead>\n",
       "  <tbody>\n",
       "    <tr>\n",
       "      <th>count</th>\n",
       "      <td>2335.000000</td>\n",
       "      <td>2335.000000</td>\n",
       "      <td>2.335000e+03</td>\n",
       "    </tr>\n",
       "    <tr>\n",
       "      <th>mean</th>\n",
       "      <td>7811.211135</td>\n",
       "      <td>2859.272377</td>\n",
       "      <td>7.419847e+17</td>\n",
       "    </tr>\n",
       "    <tr>\n",
       "      <th>std</th>\n",
       "      <td>12111.556206</td>\n",
       "      <td>4838.133272</td>\n",
       "      <td>6.820978e+16</td>\n",
       "    </tr>\n",
       "    <tr>\n",
       "      <th>min</th>\n",
       "      <td>0.000000</td>\n",
       "      <td>1.000000</td>\n",
       "      <td>6.660209e+17</td>\n",
       "    </tr>\n",
       "    <tr>\n",
       "      <th>25%</th>\n",
       "      <td>1359.500000</td>\n",
       "      <td>575.500000</td>\n",
       "      <td>6.783065e+17</td>\n",
       "    </tr>\n",
       "    <tr>\n",
       "      <th>50%</th>\n",
       "      <td>3402.000000</td>\n",
       "      <td>1338.000000</td>\n",
       "      <td>7.184600e+17</td>\n",
       "    </tr>\n",
       "    <tr>\n",
       "      <th>75%</th>\n",
       "      <td>9577.500000</td>\n",
       "      <td>3337.000000</td>\n",
       "      <td>7.986692e+17</td>\n",
       "    </tr>\n",
       "    <tr>\n",
       "      <th>max</th>\n",
       "      <td>161716.000000</td>\n",
       "      <td>82138.000000</td>\n",
       "      <td>8.924206e+17</td>\n",
       "    </tr>\n",
       "  </tbody>\n",
       "</table>\n",
       "</div>"
      ],
      "text/plain": [
       "       favorite_count  retweet_count      tweet_id\n",
       "count     2335.000000    2335.000000  2.335000e+03\n",
       "mean      7811.211135    2859.272377  7.419847e+17\n",
       "std      12111.556206    4838.133272  6.820978e+16\n",
       "min          0.000000       1.000000  6.660209e+17\n",
       "25%       1359.500000     575.500000  6.783065e+17\n",
       "50%       3402.000000    1338.000000  7.184600e+17\n",
       "75%       9577.500000    3337.000000  7.986692e+17\n",
       "max     161716.000000   82138.000000  8.924206e+17"
      ]
     },
     "execution_count": 36,
     "metadata": {},
     "output_type": "execute_result"
    }
   ],
   "source": [
    "scrapped_tweet_df.describe()"
   ]
  },
  {
   "cell_type": "markdown",
   "metadata": {},
   "source": [
    "tweed_id musn't describe as numeric variable that we can conclude the statistic description, it is more suitable as a string"
   ]
  },
  {
   "cell_type": "markdown",
   "metadata": {},
   "source": [
    "<a id=\"issue\"></a>\n",
    "### Founded Issues:\n",
    "\n",
    "quality issues:\n",
    "1. Axist not original tweet\n",
    "2. tweet_id format in third data doesn't like first data so maybe it can make some problem if we join the two table\n",
    "3. tweet_id position in third table not same like the other table, so we can't easily see the id\n",
    "4. timestamp in first table not in datetime format\n",
    "5. Missing value was not uniformly, sometime NaN but some other None\n",
    "6. There are exist columns that have >90% missing value, also exist dog name that just have 1 character ('a')\n",
    "7. Cols retwitted and favorited have same value in all row\n",
    "8. Cols source have html format\n",
    "9. Cols expanded_urls and jpg_urls have duplicated value\n",
    "\n",
    "tidiness issues:\n",
    "1. Stage of dog must be 1 cols instead of 4 cols\n",
    "2. Join all data is needed to make easier for analysis\n"
   ]
  },
  {
   "cell_type": "markdown",
   "metadata": {},
   "source": [
    "<a id=\"cleaning\"></a>\n",
    "# Cleaning and Tidying The Data"
   ]
  },
  {
   "cell_type": "markdown",
   "metadata": {},
   "source": [
    "In cleaning and tydinf data, we want to make sure that issues we founded before will not exist.\n",
    "<br>\n",
    "Todo in cleaning data:\n",
    "<ol>\n",
    "<li><a href=\"#c0\">Cleaning: Delete not original tweet</a></li>\n",
    "<li><a href=\"#c1\">Cleaning: Change Tweet id format in each table</a></li>\n",
    "<li><a href=\"#c2\">Cleaning: Change tweet_id position into first col</a></li>\n",
    "<li><a href=\"#c3\">Cleaning: Change timestamp format</a></li>\n",
    "<li><a href=\"#c4\">Cleaning: Uniformly missing value</a></li>\n",
    "<li><a href=\"#t1\">Tidying: Make dog stages into 1 column</a></li>\n",
    "<li><a href=\"#c8\">Cleaning: Delete duplicated row from expanded and jpg urls</a></li>\n",
    "<li><a href=\"#c5\">Cleaning: Delete col with missing value >90% from total rows</a></li>\n",
    "<li><a href=\"#c6\">Cleaning: Delete cols with same value</a></li>\n",
    "<li><a href=\"#c7\">Cleaning: Get source col without HTML format</a></li>\n",
    "<li><a href=\"#t2\">Tidying: Join all table</a></li>\n",
    "<ol>"
   ]
  },
  {
   "cell_type": "markdown",
   "metadata": {},
   "source": [
    "<a id=\"c0\"></a>\n",
    "##### 1. Delete not original tweet"
   ]
  },
  {
   "cell_type": "code",
   "execution_count": 37,
   "metadata": {},
   "outputs": [
    {
     "data": {
      "text/plain": [
       "0"
      ]
     },
     "execution_count": 37,
     "metadata": {},
     "output_type": "execute_result"
    }
   ],
   "source": [
    "twitter_archive_df = twitter_archive_df[pd.isna(twitter_archive_df.retweeted_status_id)]\n",
    "pd.notna(twitter_archive_df['retweeted_status_id']).sum()"
   ]
  },
  {
   "cell_type": "code",
   "execution_count": 38,
   "metadata": {},
   "outputs": [
    {
     "data": {
      "text/plain": [
       "0"
      ]
     },
     "execution_count": 38,
     "metadata": {},
     "output_type": "execute_result"
    }
   ],
   "source": [
    "pd.notna(twitter_archive_df.retweeted_status_timestamp).sum()"
   ]
  },
  {
   "cell_type": "code",
   "execution_count": 39,
   "metadata": {},
   "outputs": [
    {
     "data": {
      "text/plain": [
       "0"
      ]
     },
     "execution_count": 39,
     "metadata": {},
     "output_type": "execute_result"
    }
   ],
   "source": [
    "pd.notna(twitter_archive_df.retweeted_status_user_id).sum()"
   ]
  },
  {
   "cell_type": "markdown",
   "metadata": {},
   "source": [
    "Now we only have the original tweet"
   ]
  },
  {
   "cell_type": "markdown",
   "metadata": {},
   "source": [
    "<a id=\"c1\"></a>\n",
    "##### 2. Change Tweet id format in each table"
   ]
  },
  {
   "cell_type": "markdown",
   "metadata": {},
   "source": [
    "list function name: <br>\n",
    "<a id=\"convert_to_str\">convert_to_str</a> <br>"
   ]
  },
  {
   "cell_type": "code",
   "execution_count": 40,
   "metadata": {},
   "outputs": [],
   "source": [
    "def convert_to_str(cols):\n",
    "    return cols.astype(str).infer_objects()"
   ]
  },
  {
   "cell_type": "code",
   "execution_count": 41,
   "metadata": {},
   "outputs": [
    {
     "data": {
      "text/html": [
       "<div>\n",
       "<style scoped>\n",
       "    .dataframe tbody tr th:only-of-type {\n",
       "        vertical-align: middle;\n",
       "    }\n",
       "\n",
       "    .dataframe tbody tr th {\n",
       "        vertical-align: top;\n",
       "    }\n",
       "\n",
       "    .dataframe thead th {\n",
       "        text-align: right;\n",
       "    }\n",
       "</style>\n",
       "<table border=\"1\" class=\"dataframe\">\n",
       "  <thead>\n",
       "    <tr style=\"text-align: right;\">\n",
       "      <th></th>\n",
       "      <th>tweet_id</th>\n",
       "      <th>in_reply_to_status_id</th>\n",
       "      <th>in_reply_to_user_id</th>\n",
       "      <th>timestamp</th>\n",
       "      <th>source</th>\n",
       "      <th>text</th>\n",
       "      <th>retweeted_status_id</th>\n",
       "      <th>retweeted_status_user_id</th>\n",
       "      <th>retweeted_status_timestamp</th>\n",
       "      <th>expanded_urls</th>\n",
       "      <th>rating_numerator</th>\n",
       "      <th>rating_denominator</th>\n",
       "      <th>name</th>\n",
       "      <th>doggo</th>\n",
       "      <th>floofer</th>\n",
       "      <th>pupper</th>\n",
       "      <th>puppo</th>\n",
       "    </tr>\n",
       "  </thead>\n",
       "  <tbody>\n",
       "    <tr>\n",
       "      <th>2355</th>\n",
       "      <td>666020888022790149</td>\n",
       "      <td>NaN</td>\n",
       "      <td>NaN</td>\n",
       "      <td>2015-11-15 22:32:08 +0000</td>\n",
       "      <td>&lt;a href=\"http://twitter.com/download/iphone\" r...</td>\n",
       "      <td>Here we have a Japanese Irish Setter. Lost eye...</td>\n",
       "      <td>NaN</td>\n",
       "      <td>NaN</td>\n",
       "      <td>NaN</td>\n",
       "      <td>https://twitter.com/dog_rates/status/666020888...</td>\n",
       "      <td>8</td>\n",
       "      <td>10</td>\n",
       "      <td>None</td>\n",
       "      <td>None</td>\n",
       "      <td>None</td>\n",
       "      <td>None</td>\n",
       "      <td>None</td>\n",
       "    </tr>\n",
       "  </tbody>\n",
       "</table>\n",
       "</div>"
      ],
      "text/plain": [
       "                tweet_id  in_reply_to_status_id  in_reply_to_user_id  \\\n",
       "2355  666020888022790149                    NaN                  NaN   \n",
       "\n",
       "                      timestamp  \\\n",
       "2355  2015-11-15 22:32:08 +0000   \n",
       "\n",
       "                                                 source  \\\n",
       "2355  <a href=\"http://twitter.com/download/iphone\" r...   \n",
       "\n",
       "                                                   text  retweeted_status_id  \\\n",
       "2355  Here we have a Japanese Irish Setter. Lost eye...                  NaN   \n",
       "\n",
       "      retweeted_status_user_id retweeted_status_timestamp  \\\n",
       "2355                       NaN                        NaN   \n",
       "\n",
       "                                          expanded_urls  rating_numerator  \\\n",
       "2355  https://twitter.com/dog_rates/status/666020888...                 8   \n",
       "\n",
       "      rating_denominator  name doggo floofer pupper puppo  \n",
       "2355                  10  None  None    None   None  None  "
      ]
     },
     "execution_count": 41,
     "metadata": {},
     "output_type": "execute_result"
    }
   ],
   "source": [
    "twitter_archive_df.tweet_id = convert_to_str(twitter_archive_df.tweet_id)\n",
    "twitter_archive_df.head(1)"
   ]
  },
  {
   "cell_type": "code",
   "execution_count": 42,
   "metadata": {},
   "outputs": [
    {
     "data": {
      "text/html": [
       "<div>\n",
       "<style scoped>\n",
       "    .dataframe tbody tr th:only-of-type {\n",
       "        vertical-align: middle;\n",
       "    }\n",
       "\n",
       "    .dataframe tbody tr th {\n",
       "        vertical-align: top;\n",
       "    }\n",
       "\n",
       "    .dataframe thead th {\n",
       "        text-align: right;\n",
       "    }\n",
       "</style>\n",
       "<table border=\"1\" class=\"dataframe\">\n",
       "  <thead>\n",
       "    <tr style=\"text-align: right;\">\n",
       "      <th></th>\n",
       "      <th>tweet_id</th>\n",
       "      <th>jpg_url</th>\n",
       "      <th>img_num</th>\n",
       "      <th>p1</th>\n",
       "      <th>p1_conf</th>\n",
       "      <th>p1_dog</th>\n",
       "      <th>p2</th>\n",
       "      <th>p2_conf</th>\n",
       "      <th>p2_dog</th>\n",
       "      <th>p3</th>\n",
       "      <th>p3_conf</th>\n",
       "      <th>p3_dog</th>\n",
       "    </tr>\n",
       "  </thead>\n",
       "  <tbody>\n",
       "    <tr>\n",
       "      <th>0</th>\n",
       "      <td>666020888022790149</td>\n",
       "      <td>https://pbs.twimg.com/media/CT4udn0WwAA0aMy.jpg</td>\n",
       "      <td>1</td>\n",
       "      <td>Welsh_springer_spaniel</td>\n",
       "      <td>0.465074</td>\n",
       "      <td>True</td>\n",
       "      <td>collie</td>\n",
       "      <td>0.156665</td>\n",
       "      <td>True</td>\n",
       "      <td>Shetland_sheepdog</td>\n",
       "      <td>0.061428</td>\n",
       "      <td>True</td>\n",
       "    </tr>\n",
       "  </tbody>\n",
       "</table>\n",
       "</div>"
      ],
      "text/plain": [
       "             tweet_id                                          jpg_url  \\\n",
       "0  666020888022790149  https://pbs.twimg.com/media/CT4udn0WwAA0aMy.jpg   \n",
       "\n",
       "   img_num                      p1   p1_conf  p1_dog      p2   p2_conf  \\\n",
       "0        1  Welsh_springer_spaniel  0.465074    True  collie  0.156665   \n",
       "\n",
       "   p2_dog                 p3   p3_conf  p3_dog  \n",
       "0    True  Shetland_sheepdog  0.061428    True  "
      ]
     },
     "execution_count": 42,
     "metadata": {},
     "output_type": "execute_result"
    }
   ],
   "source": [
    "image_prediction_df.tweet_id = convert_to_str(image_prediction_df.tweet_id)\n",
    "image_prediction_df.head(1)"
   ]
  },
  {
   "cell_type": "code",
   "execution_count": 43,
   "metadata": {},
   "outputs": [
    {
     "data": {
      "text/html": [
       "<div>\n",
       "<style scoped>\n",
       "    .dataframe tbody tr th:only-of-type {\n",
       "        vertical-align: middle;\n",
       "    }\n",
       "\n",
       "    .dataframe tbody tr th {\n",
       "        vertical-align: top;\n",
       "    }\n",
       "\n",
       "    .dataframe thead th {\n",
       "        text-align: right;\n",
       "    }\n",
       "</style>\n",
       "<table border=\"1\" class=\"dataframe\">\n",
       "  <thead>\n",
       "    <tr style=\"text-align: right;\">\n",
       "      <th></th>\n",
       "      <th>favorite_count</th>\n",
       "      <th>favorited</th>\n",
       "      <th>retweet_count</th>\n",
       "      <th>retweeted</th>\n",
       "      <th>tweet_id</th>\n",
       "    </tr>\n",
       "  </thead>\n",
       "  <tbody>\n",
       "    <tr>\n",
       "      <th>0</th>\n",
       "      <td>2498</td>\n",
       "      <td>False</td>\n",
       "      <td>493</td>\n",
       "      <td>False</td>\n",
       "      <td>666020888022790149</td>\n",
       "    </tr>\n",
       "  </tbody>\n",
       "</table>\n",
       "</div>"
      ],
      "text/plain": [
       "   favorite_count  favorited  retweet_count  retweeted            tweet_id\n",
       "0            2498      False            493      False  666020888022790149"
      ]
     },
     "execution_count": 43,
     "metadata": {},
     "output_type": "execute_result"
    }
   ],
   "source": [
    "scrapped_tweet_df.tweet_id = convert_to_str(scrapped_tweet_df.tweet_id)\n",
    "scrapped_tweet_df.head(1)"
   ]
  },
  {
   "cell_type": "markdown",
   "metadata": {},
   "source": [
    "<a id=\"c2\"></a>\n",
    "##### 3. Change tweet_id position into first col"
   ]
  },
  {
   "cell_type": "code",
   "execution_count": 44,
   "metadata": {},
   "outputs": [
    {
     "data": {
      "text/html": [
       "<div>\n",
       "<style scoped>\n",
       "    .dataframe tbody tr th:only-of-type {\n",
       "        vertical-align: middle;\n",
       "    }\n",
       "\n",
       "    .dataframe tbody tr th {\n",
       "        vertical-align: top;\n",
       "    }\n",
       "\n",
       "    .dataframe thead th {\n",
       "        text-align: right;\n",
       "    }\n",
       "</style>\n",
       "<table border=\"1\" class=\"dataframe\">\n",
       "  <thead>\n",
       "    <tr style=\"text-align: right;\">\n",
       "      <th></th>\n",
       "      <th>tweet_id</th>\n",
       "      <th>favorite_count</th>\n",
       "      <th>favorited</th>\n",
       "      <th>retweet_count</th>\n",
       "      <th>retweeted</th>\n",
       "    </tr>\n",
       "  </thead>\n",
       "  <tbody>\n",
       "    <tr>\n",
       "      <th>0</th>\n",
       "      <td>666020888022790149</td>\n",
       "      <td>2498</td>\n",
       "      <td>False</td>\n",
       "      <td>493</td>\n",
       "      <td>False</td>\n",
       "    </tr>\n",
       "  </tbody>\n",
       "</table>\n",
       "</div>"
      ],
      "text/plain": [
       "             tweet_id  favorite_count  favorited  retweet_count  retweeted\n",
       "0  666020888022790149            2498      False            493      False"
      ]
     },
     "execution_count": 44,
     "metadata": {},
     "output_type": "execute_result"
    }
   ],
   "source": [
    "scrapped_tweet_df = scrapped_tweet_df.reindex(\\\n",
    "                        ['tweet_id','favorite_count','favorited','retweet_count','retweeted'], \\\n",
    "                        axis=1)\n",
    "scrapped_tweet_df.head(1)"
   ]
  },
  {
   "cell_type": "markdown",
   "metadata": {},
   "source": [
    "<a id=\"c3\"></a>\n",
    "##### 4. Change timestamp format"
   ]
  },
  {
   "cell_type": "code",
   "execution_count": 45,
   "metadata": {},
   "outputs": [
    {
     "data": {
      "text/plain": [
       "2355   2015-11-15 22:32:08+00:00\n",
       "Name: timestamp, dtype: datetime64[ns, UTC]"
      ]
     },
     "execution_count": 45,
     "metadata": {},
     "output_type": "execute_result"
    }
   ],
   "source": [
    "twitter_archive_df.timestamp = pd.to_datetime(twitter_archive_df.timestamp)\n",
    "twitter_archive_df.timestamp.head(1)"
   ]
  },
  {
   "cell_type": "code",
   "execution_count": 46,
   "metadata": {},
   "outputs": [
    {
     "name": "stdout",
     "output_type": "stream",
     "text": [
      "<class 'pandas.core.frame.DataFrame'>\n",
      "Int64Index: 2175 entries, 2355 to 0\n",
      "Data columns (total 17 columns):\n",
      "tweet_id                      2175 non-null object\n",
      "in_reply_to_status_id         78 non-null float64\n",
      "in_reply_to_user_id           78 non-null float64\n",
      "timestamp                     2175 non-null datetime64[ns, UTC]\n",
      "source                        2175 non-null object\n",
      "text                          2175 non-null object\n",
      "retweeted_status_id           0 non-null float64\n",
      "retweeted_status_user_id      0 non-null float64\n",
      "retweeted_status_timestamp    0 non-null object\n",
      "expanded_urls                 2117 non-null object\n",
      "rating_numerator              2175 non-null int64\n",
      "rating_denominator            2175 non-null int64\n",
      "name                          2175 non-null object\n",
      "doggo                         2175 non-null object\n",
      "floofer                       2175 non-null object\n",
      "pupper                        2175 non-null object\n",
      "puppo                         2175 non-null object\n",
      "dtypes: datetime64[ns, UTC](1), float64(4), int64(2), object(10)\n",
      "memory usage: 305.9+ KB\n"
     ]
    }
   ],
   "source": [
    "twitter_archive_df.info()"
   ]
  },
  {
   "cell_type": "markdown",
   "metadata": {},
   "source": [
    "<a id=\"c4\"></a>\n",
    "##### 5. Uniformly missing value"
   ]
  },
  {
   "cell_type": "markdown",
   "metadata": {},
   "source": [
    "list function name: <br>\n",
    "<a id=\"uniformly_missing_value\">uniformly_missing_value</a> <br>"
   ]
  },
  {
   "cell_type": "code",
   "execution_count": 47,
   "metadata": {},
   "outputs": [],
   "source": [
    "def uniformly_missing_value(data_frame):\n",
    "    missing_value_names = ['NaN','None', 'N/A', 'NA', 'Unknown']\n",
    "    for column in data_frame.columns:\n",
    "        for phrase in missing_value_names:\n",
    "            data_frame[column].replace(to_replace=missing_value_names, value=np.nan, inplace=True)\n",
    "    return data_frame"
   ]
  },
  {
   "cell_type": "markdown",
   "metadata": {},
   "source": [
    "I assume that Dog Name 'a' is null value, so I will make it as NULL"
   ]
  },
  {
   "cell_type": "code",
   "execution_count": 48,
   "metadata": {},
   "outputs": [
    {
     "data": {
      "text/plain": [
       "None       680\n",
       "Charlie     11\n",
       "Lucy        11\n",
       "Cooper      10\n",
       "Oliver      10\n",
       "Name: name, dtype: int64"
      ]
     },
     "execution_count": 48,
     "metadata": {},
     "output_type": "execute_result"
    }
   ],
   "source": [
    "twitter_archive_df.loc[twitter_archive_df.query(\"name == 'a'\").index,'name'] = np.nan\n",
    "twitter_archive_df.name.value_counts().head(5)"
   ]
  },
  {
   "cell_type": "markdown",
   "metadata": {},
   "source": [
    "To other variables, I uniformly that missing value with function uniformly_missing_value() that was declare before."
   ]
  },
  {
   "cell_type": "code",
   "execution_count": 49,
   "metadata": {},
   "outputs": [
    {
     "name": "stdout",
     "output_type": "stream",
     "text": [
      "<class 'pandas.core.frame.DataFrame'>\n",
      "Int64Index: 2175 entries, 2355 to 0\n",
      "Data columns (total 17 columns):\n",
      "tweet_id                      2175 non-null object\n",
      "in_reply_to_status_id         78 non-null float64\n",
      "in_reply_to_user_id           78 non-null float64\n",
      "timestamp                     2175 non-null datetime64[ns, UTC]\n",
      "source                        2175 non-null object\n",
      "text                          2175 non-null object\n",
      "retweeted_status_id           0 non-null float64\n",
      "retweeted_status_user_id      0 non-null float64\n",
      "retweeted_status_timestamp    0 non-null float64\n",
      "expanded_urls                 2117 non-null object\n",
      "rating_numerator              2175 non-null int64\n",
      "rating_denominator            2175 non-null int64\n",
      "name                          1440 non-null object\n",
      "doggo                         87 non-null object\n",
      "floofer                       10 non-null object\n",
      "pupper                        234 non-null object\n",
      "puppo                         25 non-null object\n",
      "dtypes: datetime64[ns, UTC](1), float64(5), int64(2), object(9)\n",
      "memory usage: 385.9+ KB\n"
     ]
    }
   ],
   "source": [
    "twitter_archive_df = uniformly_missing_value(twitter_archive_df)\n",
    "twitter_archive_df.info()"
   ]
  },
  {
   "cell_type": "markdown",
   "metadata": {},
   "source": [
    "<b> from information above, we find that cols doggo, flooger, ... , puppo have a lot of missing value, but that data is untidy, it must be 1 column. </b>"
   ]
  },
  {
   "cell_type": "code",
   "execution_count": 50,
   "metadata": {},
   "outputs": [
    {
     "name": "stdout",
     "output_type": "stream",
     "text": [
      "<class 'pandas.core.frame.DataFrame'>\n",
      "RangeIndex: 2075 entries, 0 to 2074\n",
      "Data columns (total 12 columns):\n",
      "tweet_id    2075 non-null object\n",
      "jpg_url     2075 non-null object\n",
      "img_num     2075 non-null int64\n",
      "p1          2075 non-null object\n",
      "p1_conf     2075 non-null float64\n",
      "p1_dog      2075 non-null bool\n",
      "p2          2075 non-null object\n",
      "p2_conf     2075 non-null float64\n",
      "p2_dog      2075 non-null bool\n",
      "p3          2075 non-null object\n",
      "p3_conf     2075 non-null float64\n",
      "p3_dog      2075 non-null bool\n",
      "dtypes: bool(3), float64(3), int64(1), object(5)\n",
      "memory usage: 152.1+ KB\n"
     ]
    }
   ],
   "source": [
    "image_prediction_df = uniformly_missing_value(image_prediction_df)\n",
    "image_prediction_df.info()"
   ]
  },
  {
   "cell_type": "code",
   "execution_count": 51,
   "metadata": {},
   "outputs": [
    {
     "name": "stdout",
     "output_type": "stream",
     "text": [
      "<class 'pandas.core.frame.DataFrame'>\n",
      "RangeIndex: 2335 entries, 0 to 2334\n",
      "Data columns (total 5 columns):\n",
      "tweet_id          2335 non-null object\n",
      "favorite_count    2335 non-null int64\n",
      "favorited         2335 non-null bool\n",
      "retweet_count     2335 non-null int64\n",
      "retweeted         2335 non-null bool\n",
      "dtypes: bool(2), int64(2), object(1)\n",
      "memory usage: 59.4+ KB\n"
     ]
    }
   ],
   "source": [
    "scrapped_tweet_df = uniformly_missing_value(scrapped_tweet_df)\n",
    "scrapped_tweet_df.info()"
   ]
  },
  {
   "cell_type": "markdown",
   "metadata": {},
   "source": [
    "<a id=\"t1\"></a>\n",
    "#### 6. Make dog stages into 1 column"
   ]
  },
  {
   "cell_type": "markdown",
   "metadata": {},
   "source": [
    "Todo:\n",
    "<ol>\n",
    "    <li><a href=\"#a1\">Validation check there is 1 single value for 1 row</a></li>\n",
    "    <li><a href=\"#a2\">Add new cols to save dog stages</a></li>\n",
    "    <li><a href=\"#a3\">Change value into dog stages</a></li>\n",
    "    <li><a href=\"#a4\">Remove cols not needed</a></li>\n",
    "</ol>"
   ]
  },
  {
   "cell_type": "markdown",
   "metadata": {},
   "source": [
    "<a id=\"a1\"></a>\n",
    "1. Validation there is 1 single value for 1 row"
   ]
  },
  {
   "cell_type": "markdown",
   "metadata": {},
   "source": [
    "list function name: <br>\n",
    "<a id=\"is_not_nan\">is_not_nan</a> <br>"
   ]
  },
  {
   "cell_type": "code",
   "execution_count": 52,
   "metadata": {},
   "outputs": [],
   "source": [
    "def is_not_nan(data_frame, index:int, col:str):\n",
    "    cell = data_frame.iloc[index,data_frame.columns.get_loc(col)]\n",
    "    return pd.notna(cell)"
   ]
  },
  {
   "cell_type": "code",
   "execution_count": 53,
   "metadata": {},
   "outputs": [
    {
     "data": {
      "text/plain": [
       "0    1831\n",
       "1     332\n",
       "2      12\n",
       "Name: validation, dtype: int64"
      ]
     },
     "execution_count": 53,
     "metadata": {},
     "output_type": "execute_result"
    }
   ],
   "source": [
    "twitter_archive_df['validation'] = 0\n",
    "num_rows = len(twitter_archive_df)\n",
    "\n",
    "for i in range(num_rows):\n",
    "    validation_value = twitter_archive_df.iloc[i,twitter_archive_df.columns.get_loc('validation')]\n",
    "    \n",
    "    twitter_archive_df.iloc[i,twitter_archive_df.columns.get_loc('validation')] = \\\n",
    "        validation_value + \\\n",
    "        is_not_nan(twitter_archive_df, i, 'doggo') + \\\n",
    "        is_not_nan(twitter_archive_df, i, 'floofer') + \\\n",
    "        is_not_nan(twitter_archive_df, i, 'pupper') + \\\n",
    "        is_not_nan(twitter_archive_df, i, 'puppo')\n",
    "    \n",
    "twitter_archive_df['validation'].value_counts()"
   ]
  },
  {
   "cell_type": "markdown",
   "metadata": {},
   "source": [
    "from the value_counts above we find they are 12 row not vallid because they have 2 type of dog. Let's see the data"
   ]
  },
  {
   "cell_type": "code",
   "execution_count": 54,
   "metadata": {},
   "outputs": [
    {
     "data": {
      "text/html": [
       "<div>\n",
       "<style scoped>\n",
       "    .dataframe tbody tr th:only-of-type {\n",
       "        vertical-align: middle;\n",
       "    }\n",
       "\n",
       "    .dataframe tbody tr th {\n",
       "        vertical-align: top;\n",
       "    }\n",
       "\n",
       "    .dataframe thead th {\n",
       "        text-align: right;\n",
       "    }\n",
       "</style>\n",
       "<table border=\"1\" class=\"dataframe\">\n",
       "  <thead>\n",
       "    <tr style=\"text-align: right;\">\n",
       "      <th></th>\n",
       "      <th>tweet_id</th>\n",
       "      <th>in_reply_to_status_id</th>\n",
       "      <th>in_reply_to_user_id</th>\n",
       "      <th>timestamp</th>\n",
       "      <th>source</th>\n",
       "      <th>text</th>\n",
       "      <th>retweeted_status_id</th>\n",
       "      <th>retweeted_status_user_id</th>\n",
       "      <th>retweeted_status_timestamp</th>\n",
       "      <th>expanded_urls</th>\n",
       "      <th>rating_numerator</th>\n",
       "      <th>rating_denominator</th>\n",
       "      <th>name</th>\n",
       "      <th>doggo</th>\n",
       "      <th>floofer</th>\n",
       "      <th>pupper</th>\n",
       "      <th>puppo</th>\n",
       "      <th>validation</th>\n",
       "    </tr>\n",
       "  </thead>\n",
       "  <tbody>\n",
       "    <tr>\n",
       "      <th>1113</th>\n",
       "      <td>733109485275860992</td>\n",
       "      <td>NaN</td>\n",
       "      <td>NaN</td>\n",
       "      <td>2016-05-19 01:38:16+00:00</td>\n",
       "      <td>&lt;a href=\"http://twitter.com/download/iphone\" r...</td>\n",
       "      <td>Like father (doggo), like son (pupper). Both 1...</td>\n",
       "      <td>NaN</td>\n",
       "      <td>NaN</td>\n",
       "      <td>NaN</td>\n",
       "      <td>https://twitter.com/dog_rates/status/733109485...</td>\n",
       "      <td>12</td>\n",
       "      <td>10</td>\n",
       "      <td>NaN</td>\n",
       "      <td>doggo</td>\n",
       "      <td>NaN</td>\n",
       "      <td>pupper</td>\n",
       "      <td>NaN</td>\n",
       "      <td>2</td>\n",
       "    </tr>\n",
       "    <tr>\n",
       "      <th>1063</th>\n",
       "      <td>741067306818797568</td>\n",
       "      <td>NaN</td>\n",
       "      <td>NaN</td>\n",
       "      <td>2016-06-10 00:39:48+00:00</td>\n",
       "      <td>&lt;a href=\"http://twitter.com/download/iphone\" r...</td>\n",
       "      <td>This is just downright precious af. 12/10 for ...</td>\n",
       "      <td>NaN</td>\n",
       "      <td>NaN</td>\n",
       "      <td>NaN</td>\n",
       "      <td>https://twitter.com/dog_rates/status/741067306...</td>\n",
       "      <td>12</td>\n",
       "      <td>10</td>\n",
       "      <td>just</td>\n",
       "      <td>doggo</td>\n",
       "      <td>NaN</td>\n",
       "      <td>pupper</td>\n",
       "      <td>NaN</td>\n",
       "      <td>2</td>\n",
       "    </tr>\n",
       "  </tbody>\n",
       "</table>\n",
       "</div>"
      ],
      "text/plain": [
       "                tweet_id  in_reply_to_status_id  in_reply_to_user_id  \\\n",
       "1113  733109485275860992                    NaN                  NaN   \n",
       "1063  741067306818797568                    NaN                  NaN   \n",
       "\n",
       "                     timestamp  \\\n",
       "1113 2016-05-19 01:38:16+00:00   \n",
       "1063 2016-06-10 00:39:48+00:00   \n",
       "\n",
       "                                                 source  \\\n",
       "1113  <a href=\"http://twitter.com/download/iphone\" r...   \n",
       "1063  <a href=\"http://twitter.com/download/iphone\" r...   \n",
       "\n",
       "                                                   text  retweeted_status_id  \\\n",
       "1113  Like father (doggo), like son (pupper). Both 1...                  NaN   \n",
       "1063  This is just downright precious af. 12/10 for ...                  NaN   \n",
       "\n",
       "      retweeted_status_user_id  retweeted_status_timestamp  \\\n",
       "1113                       NaN                         NaN   \n",
       "1063                       NaN                         NaN   \n",
       "\n",
       "                                          expanded_urls  rating_numerator  \\\n",
       "1113  https://twitter.com/dog_rates/status/733109485...                12   \n",
       "1063  https://twitter.com/dog_rates/status/741067306...                12   \n",
       "\n",
       "      rating_denominator  name  doggo floofer  pupper puppo  validation  \n",
       "1113                  10   NaN  doggo     NaN  pupper   NaN           2  \n",
       "1063                  10  just  doggo     NaN  pupper   NaN           2  "
      ]
     },
     "execution_count": 54,
     "metadata": {},
     "output_type": "execute_result"
    }
   ],
   "source": [
    "twitter_archive_df.query(\"validation > 1 \").head(2)"
   ]
  },
  {
   "cell_type": "markdown",
   "metadata": {},
   "source": [
    "I don't know what the right stage,and the duplicate count just 14 row (0.5% from total row) so I decide to delete unvalid stage"
   ]
  },
  {
   "cell_type": "code",
   "execution_count": 55,
   "metadata": {},
   "outputs": [
    {
     "data": {
      "text/plain": [
       "0    1831\n",
       "1     332\n",
       "Name: validation, dtype: int64"
      ]
     },
     "execution_count": 55,
     "metadata": {},
     "output_type": "execute_result"
    }
   ],
   "source": [
    "twitter_archive_df = twitter_archive_df[twitter_archive_df.validation <= 1]\n",
    "twitter_archive_df['validation'].value_counts()"
   ]
  },
  {
   "cell_type": "markdown",
   "metadata": {},
   "source": [
    "<a id=\"a2\"></a>\n",
    "2. Add new colomn to save dog stage"
   ]
  },
  {
   "cell_type": "code",
   "execution_count": 56,
   "metadata": {},
   "outputs": [
    {
     "data": {
      "text/html": [
       "<div>\n",
       "<style scoped>\n",
       "    .dataframe tbody tr th:only-of-type {\n",
       "        vertical-align: middle;\n",
       "    }\n",
       "\n",
       "    .dataframe tbody tr th {\n",
       "        vertical-align: top;\n",
       "    }\n",
       "\n",
       "    .dataframe thead th {\n",
       "        text-align: right;\n",
       "    }\n",
       "</style>\n",
       "<table border=\"1\" class=\"dataframe\">\n",
       "  <thead>\n",
       "    <tr style=\"text-align: right;\">\n",
       "      <th></th>\n",
       "      <th>tweet_id</th>\n",
       "      <th>in_reply_to_status_id</th>\n",
       "      <th>in_reply_to_user_id</th>\n",
       "      <th>timestamp</th>\n",
       "      <th>source</th>\n",
       "      <th>text</th>\n",
       "      <th>retweeted_status_id</th>\n",
       "      <th>retweeted_status_user_id</th>\n",
       "      <th>retweeted_status_timestamp</th>\n",
       "      <th>expanded_urls</th>\n",
       "      <th>rating_numerator</th>\n",
       "      <th>rating_denominator</th>\n",
       "      <th>name</th>\n",
       "      <th>doggo</th>\n",
       "      <th>floofer</th>\n",
       "      <th>pupper</th>\n",
       "      <th>puppo</th>\n",
       "      <th>validation</th>\n",
       "      <th>dog_stage</th>\n",
       "    </tr>\n",
       "  </thead>\n",
       "  <tbody>\n",
       "    <tr>\n",
       "      <th>2355</th>\n",
       "      <td>666020888022790149</td>\n",
       "      <td>NaN</td>\n",
       "      <td>NaN</td>\n",
       "      <td>2015-11-15 22:32:08+00:00</td>\n",
       "      <td>&lt;a href=\"http://twitter.com/download/iphone\" r...</td>\n",
       "      <td>Here we have a Japanese Irish Setter. Lost eye...</td>\n",
       "      <td>NaN</td>\n",
       "      <td>NaN</td>\n",
       "      <td>NaN</td>\n",
       "      <td>https://twitter.com/dog_rates/status/666020888...</td>\n",
       "      <td>8</td>\n",
       "      <td>10</td>\n",
       "      <td>NaN</td>\n",
       "      <td>NaN</td>\n",
       "      <td>NaN</td>\n",
       "      <td>NaN</td>\n",
       "      <td>NaN</td>\n",
       "      <td>0</td>\n",
       "      <td>NaN</td>\n",
       "    </tr>\n",
       "    <tr>\n",
       "      <th>2354</th>\n",
       "      <td>666029285002620928</td>\n",
       "      <td>NaN</td>\n",
       "      <td>NaN</td>\n",
       "      <td>2015-11-15 23:05:30+00:00</td>\n",
       "      <td>&lt;a href=\"http://twitter.com/download/iphone\" r...</td>\n",
       "      <td>This is a western brown Mitsubishi terrier. Up...</td>\n",
       "      <td>NaN</td>\n",
       "      <td>NaN</td>\n",
       "      <td>NaN</td>\n",
       "      <td>https://twitter.com/dog_rates/status/666029285...</td>\n",
       "      <td>7</td>\n",
       "      <td>10</td>\n",
       "      <td>NaN</td>\n",
       "      <td>NaN</td>\n",
       "      <td>NaN</td>\n",
       "      <td>NaN</td>\n",
       "      <td>NaN</td>\n",
       "      <td>0</td>\n",
       "      <td>NaN</td>\n",
       "    </tr>\n",
       "  </tbody>\n",
       "</table>\n",
       "</div>"
      ],
      "text/plain": [
       "                tweet_id  in_reply_to_status_id  in_reply_to_user_id  \\\n",
       "2355  666020888022790149                    NaN                  NaN   \n",
       "2354  666029285002620928                    NaN                  NaN   \n",
       "\n",
       "                     timestamp  \\\n",
       "2355 2015-11-15 22:32:08+00:00   \n",
       "2354 2015-11-15 23:05:30+00:00   \n",
       "\n",
       "                                                 source  \\\n",
       "2355  <a href=\"http://twitter.com/download/iphone\" r...   \n",
       "2354  <a href=\"http://twitter.com/download/iphone\" r...   \n",
       "\n",
       "                                                   text  retweeted_status_id  \\\n",
       "2355  Here we have a Japanese Irish Setter. Lost eye...                  NaN   \n",
       "2354  This is a western brown Mitsubishi terrier. Up...                  NaN   \n",
       "\n",
       "      retweeted_status_user_id  retweeted_status_timestamp  \\\n",
       "2355                       NaN                         NaN   \n",
       "2354                       NaN                         NaN   \n",
       "\n",
       "                                          expanded_urls  rating_numerator  \\\n",
       "2355  https://twitter.com/dog_rates/status/666020888...                 8   \n",
       "2354  https://twitter.com/dog_rates/status/666029285...                 7   \n",
       "\n",
       "      rating_denominator name doggo floofer pupper puppo  validation  \\\n",
       "2355                  10  NaN   NaN     NaN    NaN   NaN           0   \n",
       "2354                  10  NaN   NaN     NaN    NaN   NaN           0   \n",
       "\n",
       "      dog_stage  \n",
       "2355        NaN  \n",
       "2354        NaN  "
      ]
     },
     "execution_count": 56,
     "metadata": {},
     "output_type": "execute_result"
    }
   ],
   "source": [
    "twitter_archive_df['dog_stage'] = np.nan\n",
    "twitter_archive_df.head(2)"
   ]
  },
  {
   "cell_type": "markdown",
   "metadata": {},
   "source": [
    "<a id=\"a3\"></a>\n",
    "3. Change value column dog_stage"
   ]
  },
  {
   "cell_type": "markdown",
   "metadata": {},
   "source": [
    "list used function: <br>\n",
    "<a href='#is_not_nan'>is_not_nan</a> <br>"
   ]
  },
  {
   "cell_type": "code",
   "execution_count": 57,
   "metadata": {},
   "outputs": [
    {
     "data": {
      "text/plain": [
       "pupper     224\n",
       "doggo       75\n",
       "puppo       24\n",
       "floofer      9\n",
       "Name: dog_stage, dtype: int64"
      ]
     },
     "execution_count": 57,
     "metadata": {},
     "output_type": "execute_result"
    }
   ],
   "source": [
    "num_rows = len(twitter_archive_df)\n",
    "\n",
    "for i in range(num_rows):\n",
    "    result = twitter_archive_df.iloc[i,twitter_archive_df.columns.get_loc('dog_stage')]\n",
    "    \n",
    "    if(is_not_nan(twitter_archive_df, i, 'doggo')):\n",
    "        result = twitter_archive_df.iloc[i,twitter_archive_df.columns.get_loc('doggo')]\n",
    "    elif(is_not_nan(twitter_archive_df, i, 'floofer')):\n",
    "        result = twitter_archive_df.iloc[i,twitter_archive_df.columns.get_loc('floofer')]\n",
    "    elif(is_not_nan(twitter_archive_df, i, 'pupper')):\n",
    "        result = twitter_archive_df.iloc[i,twitter_archive_df.columns.get_loc('pupper')]\n",
    "    elif(is_not_nan(twitter_archive_df, i, 'puppo')):\n",
    "        result = twitter_archive_df.iloc[i,twitter_archive_df.columns.get_loc('puppo')]\n",
    "        \n",
    "    twitter_archive_df.iloc[i,twitter_archive_df.columns.get_loc('dog_stage')] = result\n",
    "\n",
    "twitter_archive_df.dog_stage.value_counts()"
   ]
  },
  {
   "cell_type": "markdown",
   "metadata": {},
   "source": [
    "<a id=\"a4\"></a>\n",
    "4. Remove cols not needed"
   ]
  },
  {
   "cell_type": "code",
   "execution_count": 58,
   "metadata": {},
   "outputs": [
    {
     "data": {
      "text/plain": [
       "Index(['tweet_id', 'in_reply_to_status_id', 'in_reply_to_user_id', 'timestamp',\n",
       "       'source', 'text', 'retweeted_status_id', 'retweeted_status_user_id',\n",
       "       'retweeted_status_timestamp', 'expanded_urls', 'rating_numerator',\n",
       "       'rating_denominator', 'name', 'doggo', 'floofer', 'pupper', 'puppo',\n",
       "       'validation', 'dog_stage'],\n",
       "      dtype='object')"
      ]
     },
     "execution_count": 58,
     "metadata": {},
     "output_type": "execute_result"
    }
   ],
   "source": [
    "twitter_archive_df.columns"
   ]
  },
  {
   "cell_type": "markdown",
   "metadata": {},
   "source": [
    "Because we add column dog_stage so we don't need columns: 'doggo', 'floofer', 'pupper', 'puppo', and we also don't need column validation. "
   ]
  },
  {
   "cell_type": "code",
   "execution_count": 59,
   "metadata": {},
   "outputs": [
    {
     "data": {
      "text/plain": [
       "Index(['tweet_id', 'in_reply_to_status_id', 'in_reply_to_user_id', 'timestamp',\n",
       "       'source', 'text', 'retweeted_status_id', 'retweeted_status_user_id',\n",
       "       'retweeted_status_timestamp', 'expanded_urls', 'rating_numerator',\n",
       "       'rating_denominator', 'name', 'dog_stage'],\n",
       "      dtype='object')"
      ]
     },
     "execution_count": 59,
     "metadata": {},
     "output_type": "execute_result"
    }
   ],
   "source": [
    "twitter_archive_df.drop(['doggo', 'floofer', 'pupper', 'puppo','validation'], axis=1, inplace=True)\n",
    "twitter_archive_df.columns"
   ]
  },
  {
   "cell_type": "code",
   "execution_count": 60,
   "metadata": {},
   "outputs": [
    {
     "data": {
      "text/plain": [
       "tweet_id                        0.000000\n",
       "in_reply_to_status_id          96.440129\n",
       "in_reply_to_user_id            96.440129\n",
       "timestamp                       0.000000\n",
       "source                          0.000000\n",
       "text                            0.000000\n",
       "retweeted_status_id           100.000000\n",
       "retweeted_status_user_id      100.000000\n",
       "retweeted_status_timestamp    100.000000\n",
       "expanded_urls                   2.681461\n",
       "rating_numerator                0.000000\n",
       "rating_denominator              0.000000\n",
       "name                           33.656958\n",
       "dog_stage                      84.650948\n",
       "dtype: float64"
      ]
     },
     "execution_count": 60,
     "metadata": {},
     "output_type": "execute_result"
    }
   ],
   "source": [
    "get_missing_value_percentage(twitter_archive_df)"
   ]
  },
  {
   "cell_type": "markdown",
   "metadata": {},
   "source": [
    "The missing value from dog_stage quietly high, but I think this variable save such as good information. So I decide to not delete it."
   ]
  },
  {
   "cell_type": "markdown",
   "metadata": {},
   "source": [
    "<a id=\"c8\"></a>\n",
    "##### 7. Ensure unique twitter by expanded_urls and jpg_urls"
   ]
  },
  {
   "cell_type": "markdown",
   "metadata": {},
   "source": [
    "1. Expanded URLS"
   ]
  },
  {
   "cell_type": "code",
   "execution_count": 61,
   "metadata": {},
   "outputs": [
    {
     "data": {
      "text/plain": [
       "False    2105\n",
       "True       58\n",
       "dtype: int64"
      ]
     },
     "execution_count": 61,
     "metadata": {},
     "output_type": "execute_result"
    }
   ],
   "source": [
    "twitter_archive_df.duplicated(['expanded_urls']).value_counts()"
   ]
  },
  {
   "cell_type": "code",
   "execution_count": 62,
   "metadata": {},
   "outputs": [
    {
     "data": {
      "text/plain": [
       "https://vine.co/v/ea0OwvPTx9l    1\n",
       "Name: expanded_urls, dtype: int64"
      ]
     },
     "execution_count": 62,
     "metadata": {},
     "output_type": "execute_result"
    }
   ],
   "source": [
    "twitter_archive_df[twitter_archive_df.duplicated(['expanded_urls'])].expanded_urls.value_counts()"
   ]
  },
  {
   "cell_type": "code",
   "execution_count": 63,
   "metadata": {},
   "outputs": [
    {
     "data": {
      "text/html": [
       "<div>\n",
       "<style scoped>\n",
       "    .dataframe tbody tr th:only-of-type {\n",
       "        vertical-align: middle;\n",
       "    }\n",
       "\n",
       "    .dataframe tbody tr th {\n",
       "        vertical-align: top;\n",
       "    }\n",
       "\n",
       "    .dataframe thead th {\n",
       "        text-align: right;\n",
       "    }\n",
       "</style>\n",
       "<table border=\"1\" class=\"dataframe\">\n",
       "  <thead>\n",
       "    <tr style=\"text-align: right;\">\n",
       "      <th></th>\n",
       "      <th>tweet_id</th>\n",
       "      <th>in_reply_to_status_id</th>\n",
       "      <th>in_reply_to_user_id</th>\n",
       "      <th>timestamp</th>\n",
       "      <th>source</th>\n",
       "      <th>text</th>\n",
       "      <th>retweeted_status_id</th>\n",
       "      <th>retweeted_status_user_id</th>\n",
       "      <th>retweeted_status_timestamp</th>\n",
       "      <th>expanded_urls</th>\n",
       "      <th>rating_numerator</th>\n",
       "      <th>rating_denominator</th>\n",
       "      <th>name</th>\n",
       "      <th>dog_stage</th>\n",
       "    </tr>\n",
       "  </thead>\n",
       "  <tbody>\n",
       "    <tr>\n",
       "      <th>2212</th>\n",
       "      <td>668587383441514497</td>\n",
       "      <td>NaN</td>\n",
       "      <td>NaN</td>\n",
       "      <td>2015-11-23 00:30:28+00:00</td>\n",
       "      <td>&lt;a href=\"http://vine.co\" rel=\"nofollow\"&gt;Vine -...</td>\n",
       "      <td>Never forget this vine. You will not stop watc...</td>\n",
       "      <td>NaN</td>\n",
       "      <td>NaN</td>\n",
       "      <td>NaN</td>\n",
       "      <td>https://vine.co/v/ea0OwvPTx9l</td>\n",
       "      <td>13</td>\n",
       "      <td>10</td>\n",
       "      <td>the</td>\n",
       "      <td>NaN</td>\n",
       "    </tr>\n",
       "    <tr>\n",
       "      <th>657</th>\n",
       "      <td>791774931465953280</td>\n",
       "      <td>NaN</td>\n",
       "      <td>NaN</td>\n",
       "      <td>2016-10-27 22:53:48+00:00</td>\n",
       "      <td>&lt;a href=\"http://vine.co\" rel=\"nofollow\"&gt;Vine -...</td>\n",
       "      <td>Vine will be deeply missed. This was by far my...</td>\n",
       "      <td>NaN</td>\n",
       "      <td>NaN</td>\n",
       "      <td>NaN</td>\n",
       "      <td>https://vine.co/v/ea0OwvPTx9l</td>\n",
       "      <td>14</td>\n",
       "      <td>10</td>\n",
       "      <td>NaN</td>\n",
       "      <td>NaN</td>\n",
       "    </tr>\n",
       "  </tbody>\n",
       "</table>\n",
       "</div>"
      ],
      "text/plain": [
       "                tweet_id  in_reply_to_status_id  in_reply_to_user_id  \\\n",
       "2212  668587383441514497                    NaN                  NaN   \n",
       "657   791774931465953280                    NaN                  NaN   \n",
       "\n",
       "                     timestamp  \\\n",
       "2212 2015-11-23 00:30:28+00:00   \n",
       "657  2016-10-27 22:53:48+00:00   \n",
       "\n",
       "                                                 source  \\\n",
       "2212  <a href=\"http://vine.co\" rel=\"nofollow\">Vine -...   \n",
       "657   <a href=\"http://vine.co\" rel=\"nofollow\">Vine -...   \n",
       "\n",
       "                                                   text  retweeted_status_id  \\\n",
       "2212  Never forget this vine. You will not stop watc...                  NaN   \n",
       "657   Vine will be deeply missed. This was by far my...                  NaN   \n",
       "\n",
       "      retweeted_status_user_id  retweeted_status_timestamp  \\\n",
       "2212                       NaN                         NaN   \n",
       "657                        NaN                         NaN   \n",
       "\n",
       "                      expanded_urls  rating_numerator  rating_denominator  \\\n",
       "2212  https://vine.co/v/ea0OwvPTx9l                13                  10   \n",
       "657   https://vine.co/v/ea0OwvPTx9l                14                  10   \n",
       "\n",
       "     name dog_stage  \n",
       "2212  the       NaN  \n",
       "657   NaN       NaN  "
      ]
     },
     "execution_count": 63,
     "metadata": {},
     "output_type": "execute_result"
    }
   ],
   "source": [
    "twitter_archive_df.query('expanded_urls == \"https://vine.co/v/ea0OwvPTx9l\"')"
   ]
  },
  {
   "cell_type": "markdown",
   "metadata": {},
   "source": [
    "I don't know what the real value from that photo, and because of that value just appear in small row (2) so I decide to delete it. And for other duplicate row I also delete it because the expanded_urls value is missing value."
   ]
  },
  {
   "cell_type": "code",
   "execution_count": 64,
   "metadata": {},
   "outputs": [
    {
     "data": {
      "text/plain": [
       "False    2104\n",
       "True        1\n",
       "dtype: int64"
      ]
     },
     "execution_count": 64,
     "metadata": {},
     "output_type": "execute_result"
    }
   ],
   "source": [
    "twitter_archive_df.dropna(subset=['expanded_urls'], how='all', inplace = True)\n",
    "twitter_archive_df.duplicated(['expanded_urls']).value_counts()"
   ]
  },
  {
   "cell_type": "code",
   "execution_count": 65,
   "metadata": {},
   "outputs": [
    {
     "data": {
      "text/plain": [
       "False    2103\n",
       "dtype: int64"
      ]
     },
     "execution_count": 65,
     "metadata": {},
     "output_type": "execute_result"
    }
   ],
   "source": [
    "twitter_archive_df.drop_duplicates(subset=['expanded_urls'], keep=False, inplace = True)\n",
    "twitter_archive_df.duplicated(['expanded_urls']).value_counts()"
   ]
  },
  {
   "cell_type": "markdown",
   "metadata": {},
   "source": [
    "2. JPG URLS"
   ]
  },
  {
   "cell_type": "code",
   "execution_count": 66,
   "metadata": {},
   "outputs": [
    {
     "data": {
      "text/plain": [
       "False    2009\n",
       "True       66\n",
       "dtype: int64"
      ]
     },
     "execution_count": 66,
     "metadata": {},
     "output_type": "execute_result"
    }
   ],
   "source": [
    "image_prediction_df.duplicated(['jpg_url']).value_counts()"
   ]
  },
  {
   "cell_type": "code",
   "execution_count": 67,
   "metadata": {},
   "outputs": [
    {
     "data": {
      "text/plain": [
       "1297    https://pbs.twimg.com/ext_tw_video_thumb/67535...\n",
       "1315      https://pbs.twimg.com/media/CWza7kpWcAAdYLc.jpg\n",
       "1333      https://pbs.twimg.com/media/CWyD2HGUYAQ1Xa7.jpg\n",
       "1345      https://pbs.twimg.com/media/CU1zsMSUAAAS0qW.jpg\n",
       "1349      https://pbs.twimg.com/media/CkNjahBXAAQ2kWo.jpg\n",
       "Name: jpg_url, dtype: object"
      ]
     },
     "execution_count": 67,
     "metadata": {},
     "output_type": "execute_result"
    }
   ],
   "source": [
    "image_prediction_df[image_prediction_df.duplicated(['jpg_url'])].jpg_url.head(5)"
   ]
  },
  {
   "cell_type": "code",
   "execution_count": 68,
   "metadata": {},
   "outputs": [
    {
     "data": {
      "text/html": [
       "<div>\n",
       "<style scoped>\n",
       "    .dataframe tbody tr th:only-of-type {\n",
       "        vertical-align: middle;\n",
       "    }\n",
       "\n",
       "    .dataframe tbody tr th {\n",
       "        vertical-align: top;\n",
       "    }\n",
       "\n",
       "    .dataframe thead th {\n",
       "        text-align: right;\n",
       "    }\n",
       "</style>\n",
       "<table border=\"1\" class=\"dataframe\">\n",
       "  <thead>\n",
       "    <tr style=\"text-align: right;\">\n",
       "      <th></th>\n",
       "      <th>tweet_id</th>\n",
       "      <th>jpg_url</th>\n",
       "      <th>img_num</th>\n",
       "      <th>p1</th>\n",
       "      <th>p1_conf</th>\n",
       "      <th>p1_dog</th>\n",
       "      <th>p2</th>\n",
       "      <th>p2_conf</th>\n",
       "      <th>p2_dog</th>\n",
       "      <th>p3</th>\n",
       "      <th>p3_conf</th>\n",
       "      <th>p3_dog</th>\n",
       "    </tr>\n",
       "  </thead>\n",
       "  <tbody>\n",
       "    <tr>\n",
       "      <th>224</th>\n",
       "      <td>670319130621435904</td>\n",
       "      <td>https://pbs.twimg.com/media/CU1zsMSUAAAS0qW.jpg</td>\n",
       "      <td>1</td>\n",
       "      <td>Irish_terrier</td>\n",
       "      <td>0.254856</td>\n",
       "      <td>True</td>\n",
       "      <td>briard</td>\n",
       "      <td>0.227716</td>\n",
       "      <td>True</td>\n",
       "      <td>soft-coated_wheaten_terrier</td>\n",
       "      <td>0.223263</td>\n",
       "      <td>True</td>\n",
       "    </tr>\n",
       "    <tr>\n",
       "      <th>1345</th>\n",
       "      <td>759159934323924993</td>\n",
       "      <td>https://pbs.twimg.com/media/CU1zsMSUAAAS0qW.jpg</td>\n",
       "      <td>1</td>\n",
       "      <td>Irish_terrier</td>\n",
       "      <td>0.254856</td>\n",
       "      <td>True</td>\n",
       "      <td>briard</td>\n",
       "      <td>0.227716</td>\n",
       "      <td>True</td>\n",
       "      <td>soft-coated_wheaten_terrier</td>\n",
       "      <td>0.223263</td>\n",
       "      <td>True</td>\n",
       "    </tr>\n",
       "  </tbody>\n",
       "</table>\n",
       "</div>"
      ],
      "text/plain": [
       "                tweet_id                                          jpg_url  \\\n",
       "224   670319130621435904  https://pbs.twimg.com/media/CU1zsMSUAAAS0qW.jpg   \n",
       "1345  759159934323924993  https://pbs.twimg.com/media/CU1zsMSUAAAS0qW.jpg   \n",
       "\n",
       "      img_num             p1   p1_conf  p1_dog      p2   p2_conf  p2_dog  \\\n",
       "224         1  Irish_terrier  0.254856    True  briard  0.227716    True   \n",
       "1345        1  Irish_terrier  0.254856    True  briard  0.227716    True   \n",
       "\n",
       "                               p3   p3_conf  p3_dog  \n",
       "224   soft-coated_wheaten_terrier  0.223263    True  \n",
       "1345  soft-coated_wheaten_terrier  0.223263    True  "
      ]
     },
     "execution_count": 68,
     "metadata": {},
     "output_type": "execute_result"
    }
   ],
   "source": [
    "image_prediction_df.query(\"jpg_url == 'https://pbs.twimg.com/media/CU1zsMSUAAAS0qW.jpg'\")"
   ]
  },
  {
   "cell_type": "code",
   "execution_count": 69,
   "metadata": {},
   "outputs": [
    {
     "data": {
      "text/plain": [
       "2127    https://twitter.com/dog_rates/status/670319130...\n",
       "Name: expanded_urls, dtype: object"
      ]
     },
     "execution_count": 69,
     "metadata": {},
     "output_type": "execute_result"
    }
   ],
   "source": [
    "twitter_archive_df.query(\"tweet_id == '670319130621435904'\").expanded_urls"
   ]
  },
  {
   "cell_type": "code",
   "execution_count": 70,
   "metadata": {},
   "outputs": [
    {
     "data": {
      "text/plain": [
       "Series([], Name: expanded_urls, dtype: object)"
      ]
     },
     "execution_count": 70,
     "metadata": {},
     "output_type": "execute_result"
    }
   ],
   "source": [
    "twitter_archive_df.query(\"tweet_id == '759159934323924993'\").expanded_urls"
   ]
  },
  {
   "cell_type": "markdown",
   "metadata": {},
   "source": [
    "From observasion above, I find that one of twitter id from duplicated jpg url, doesn't axist in first table. So I will elimited twitter_id that doesn't exist in first table."
   ]
  },
  {
   "cell_type": "code",
   "execution_count": 71,
   "metadata": {},
   "outputs": [],
   "source": [
    "jpg_url_duplicated = image_prediction_df[image_prediction_df.duplicated(['jpg_url'])]['jpg_url']"
   ]
  },
  {
   "cell_type": "code",
   "execution_count": 72,
   "metadata": {},
   "outputs": [
    {
     "data": {
      "text/html": [
       "<div>\n",
       "<style scoped>\n",
       "    .dataframe tbody tr th:only-of-type {\n",
       "        vertical-align: middle;\n",
       "    }\n",
       "\n",
       "    .dataframe tbody tr th {\n",
       "        vertical-align: top;\n",
       "    }\n",
       "\n",
       "    .dataframe thead th {\n",
       "        text-align: right;\n",
       "    }\n",
       "</style>\n",
       "<table border=\"1\" class=\"dataframe\">\n",
       "  <thead>\n",
       "    <tr style=\"text-align: right;\">\n",
       "      <th></th>\n",
       "      <th>tweet_id</th>\n",
       "      <th>jpg_url</th>\n",
       "      <th>img_num</th>\n",
       "      <th>p1</th>\n",
       "      <th>p1_conf</th>\n",
       "      <th>p1_dog</th>\n",
       "      <th>p2</th>\n",
       "      <th>p2_conf</th>\n",
       "      <th>p2_dog</th>\n",
       "      <th>p3</th>\n",
       "      <th>p3_conf</th>\n",
       "      <th>p3_dog</th>\n",
       "    </tr>\n",
       "  </thead>\n",
       "  <tbody>\n",
       "    <tr>\n",
       "      <th>85</th>\n",
       "      <td>667509364010450944</td>\n",
       "      <td>https://pbs.twimg.com/media/CUN4Or5UAAAa5K4.jpg</td>\n",
       "      <td>1</td>\n",
       "      <td>beagle</td>\n",
       "      <td>0.636169</td>\n",
       "      <td>True</td>\n",
       "      <td>Labrador_retriever</td>\n",
       "      <td>0.119256</td>\n",
       "      <td>True</td>\n",
       "      <td>golden_retriever</td>\n",
       "      <td>0.082549</td>\n",
       "      <td>True</td>\n",
       "    </tr>\n",
       "    <tr>\n",
       "      <th>224</th>\n",
       "      <td>670319130621435904</td>\n",
       "      <td>https://pbs.twimg.com/media/CU1zsMSUAAAS0qW.jpg</td>\n",
       "      <td>1</td>\n",
       "      <td>Irish_terrier</td>\n",
       "      <td>0.254856</td>\n",
       "      <td>True</td>\n",
       "      <td>briard</td>\n",
       "      <td>0.227716</td>\n",
       "      <td>True</td>\n",
       "      <td>soft-coated_wheaten_terrier</td>\n",
       "      <td>0.223263</td>\n",
       "      <td>True</td>\n",
       "    </tr>\n",
       "  </tbody>\n",
       "</table>\n",
       "</div>"
      ],
      "text/plain": [
       "               tweet_id                                          jpg_url  \\\n",
       "85   667509364010450944  https://pbs.twimg.com/media/CUN4Or5UAAAa5K4.jpg   \n",
       "224  670319130621435904  https://pbs.twimg.com/media/CU1zsMSUAAAS0qW.jpg   \n",
       "\n",
       "     img_num             p1   p1_conf  p1_dog                  p2   p2_conf  \\\n",
       "85         1         beagle  0.636169    True  Labrador_retriever  0.119256   \n",
       "224        1  Irish_terrier  0.254856    True              briard  0.227716   \n",
       "\n",
       "     p2_dog                           p3   p3_conf  p3_dog  \n",
       "85     True             golden_retriever  0.082549    True  \n",
       "224    True  soft-coated_wheaten_terrier  0.223263    True  "
      ]
     },
     "execution_count": 72,
     "metadata": {},
     "output_type": "execute_result"
    }
   ],
   "source": [
    "need_to_drop = image_prediction_df[image_prediction_df.jpg_url.isin(jpg_url_duplicated)]\n",
    "need_to_drop.head(2)"
   ]
  },
  {
   "cell_type": "code",
   "execution_count": 73,
   "metadata": {},
   "outputs": [
    {
     "data": {
      "text/plain": [
       "64"
      ]
     },
     "execution_count": 73,
     "metadata": {},
     "output_type": "execute_result"
    }
   ],
   "source": [
    "# count row we must to keep\n",
    "need_to_drop['tweet_id'].isin(twitter_archive_df.tweet_id).sum()"
   ]
  },
  {
   "cell_type": "code",
   "execution_count": 74,
   "metadata": {},
   "outputs": [
    {
     "data": {
      "text/plain": [
       "0"
      ]
     },
     "execution_count": 74,
     "metadata": {},
     "output_type": "execute_result"
    }
   ],
   "source": [
    "# drop row need_to_drop if the id exist in first table\n",
    "need_to_drop = need_to_drop[~need_to_drop['tweet_id'].isin(twitter_archive_df.tweet_id)]\n",
    "need_to_drop['tweet_id'].isin(twitter_archive_df.tweet_id).sum()"
   ]
  },
  {
   "cell_type": "code",
   "execution_count": 75,
   "metadata": {},
   "outputs": [
    {
     "data": {
      "text/plain": [
       "False    2007\n",
       "dtype: int64"
      ]
     },
     "execution_count": 75,
     "metadata": {},
     "output_type": "execute_result"
    }
   ],
   "source": [
    "# drop row not exist in first table\n",
    "image_prediction_df = image_prediction_df[~image_prediction_df.tweet_id.isin(need_to_drop.tweet_id)]\n",
    "image_prediction_df.duplicated(['jpg_url']).value_counts()"
   ]
  },
  {
   "cell_type": "markdown",
   "metadata": {},
   "source": [
    "<a id=\"c5\"></a>\n",
    "##### 8. Delete col with missing value >90% from total rows"
   ]
  },
  {
   "cell_type": "markdown",
   "metadata": {},
   "source": [
    "list function name: <br>\n",
    "<a id=\"drop_missing_value\">drop_missing_value</a> <br>\n",
    "\n",
    "list used function: <br>\n",
    "<a href='#drop_missing_value'>drop_missing_value</a> <br>"
   ]
  },
  {
   "cell_type": "code",
   "execution_count": 76,
   "metadata": {},
   "outputs": [],
   "source": [
    "def drop_missing_value(data_frame, treshold:int = 0.9):\n",
    "    data = get_missing_value_percentage(data_frame)\n",
    "    cols_will_drop = []\n",
    "    \n",
    "    for col,percentage_missing_value in data.items():\n",
    "        if percentage_missing_value > 90:\n",
    "            cols_will_drop.append(col)\n",
    "    \n",
    "    return data_frame.drop(cols_will_drop, axis = 1)"
   ]
  },
  {
   "cell_type": "code",
   "execution_count": 77,
   "metadata": {},
   "outputs": [
    {
     "data": {
      "text/plain": [
       "tweet_id               0.000000\n",
       "timestamp              0.000000\n",
       "source                 0.000000\n",
       "text                   0.000000\n",
       "expanded_urls          0.000000\n",
       "rating_numerator       0.000000\n",
       "rating_denominator     0.000000\n",
       "name                  31.811698\n",
       "dog_stage             84.498336\n",
       "dtype: float64"
      ]
     },
     "execution_count": 77,
     "metadata": {},
     "output_type": "execute_result"
    }
   ],
   "source": [
    "twitter_archive_df = drop_missing_value(twitter_archive_df)\n",
    "get_missing_value_percentage(twitter_archive_df)"
   ]
  },
  {
   "cell_type": "code",
   "execution_count": 78,
   "metadata": {},
   "outputs": [
    {
     "data": {
      "text/plain": [
       "tweet_id    0.0\n",
       "jpg_url     0.0\n",
       "img_num     0.0\n",
       "p1          0.0\n",
       "p1_conf     0.0\n",
       "p1_dog      0.0\n",
       "p2          0.0\n",
       "p2_conf     0.0\n",
       "p2_dog      0.0\n",
       "p3          0.0\n",
       "p3_conf     0.0\n",
       "p3_dog      0.0\n",
       "dtype: float64"
      ]
     },
     "execution_count": 78,
     "metadata": {},
     "output_type": "execute_result"
    }
   ],
   "source": [
    "drop_missing_value(image_prediction_df)\n",
    "get_missing_value_percentage(image_prediction_df)"
   ]
  },
  {
   "cell_type": "code",
   "execution_count": 79,
   "metadata": {},
   "outputs": [
    {
     "data": {
      "text/plain": [
       "tweet_id          0.0\n",
       "favorite_count    0.0\n",
       "favorited         0.0\n",
       "retweet_count     0.0\n",
       "retweeted         0.0\n",
       "dtype: float64"
      ]
     },
     "execution_count": 79,
     "metadata": {},
     "output_type": "execute_result"
    }
   ],
   "source": [
    "drop_missing_value(scrapped_tweet_df)\n",
    "get_missing_value_percentage(scrapped_tweet_df)"
   ]
  },
  {
   "cell_type": "markdown",
   "metadata": {},
   "source": [
    "<a id=\"c6\"></a>\n",
    "##### 9. Delete cols with same value"
   ]
  },
  {
   "cell_type": "markdown",
   "metadata": {},
   "source": [
    "list function name: <br>\n",
    "<a id=\"drop_uniform_value\">drop_uniform_value</a> <br>"
   ]
  },
  {
   "cell_type": "code",
   "execution_count": 80,
   "metadata": {},
   "outputs": [],
   "source": [
    "def drop_uniform_value(data_frame):\n",
    "    cols = data_frame.columns\n",
    "    cols_will_drop = []\n",
    "    \n",
    "    for col in cols:\n",
    "        num_value = len(data_frame[col].unique().tolist())\n",
    "        if(num_value <= 1):\n",
    "            cols_will_drop.append(col)\n",
    "    return data_frame.drop(cols_will_drop, axis = 1)"
   ]
  },
  {
   "cell_type": "code",
   "execution_count": 81,
   "metadata": {},
   "outputs": [
    {
     "data": {
      "text/plain": [
       "tweet_id              2103\n",
       "timestamp             2103\n",
       "source                   4\n",
       "text                  2103\n",
       "expanded_urls         2103\n",
       "rating_numerator        34\n",
       "rating_denominator      15\n",
       "name                   951\n",
       "dog_stage                4\n",
       "dtype: int64"
      ]
     },
     "execution_count": 81,
     "metadata": {},
     "output_type": "execute_result"
    }
   ],
   "source": [
    "# first data before\n",
    "twitter_archive_df.nunique()"
   ]
  },
  {
   "cell_type": "code",
   "execution_count": 82,
   "metadata": {},
   "outputs": [
    {
     "data": {
      "text/plain": [
       "tweet_id    2007\n",
       "jpg_url     2007\n",
       "img_num        4\n",
       "p1           378\n",
       "p1_conf     2004\n",
       "p1_dog         2\n",
       "p2           405\n",
       "p2_conf     2002\n",
       "p2_dog         2\n",
       "p3           408\n",
       "p3_conf     2004\n",
       "p3_dog         2\n",
       "dtype: int64"
      ]
     },
     "execution_count": 82,
     "metadata": {},
     "output_type": "execute_result"
    }
   ],
   "source": [
    "# second data before\n",
    "image_prediction_df.nunique()"
   ]
  },
  {
   "cell_type": "code",
   "execution_count": 83,
   "metadata": {},
   "outputs": [
    {
     "data": {
      "text/plain": [
       "tweet_id          2335\n",
       "favorite_count    1999\n",
       "favorited            1\n",
       "retweet_count     1703\n",
       "retweeted            1\n",
       "dtype: int64"
      ]
     },
     "execution_count": 83,
     "metadata": {},
     "output_type": "execute_result"
    }
   ],
   "source": [
    "# third data before\n",
    "scrapped_tweet_df.nunique()"
   ]
  },
  {
   "cell_type": "markdown",
   "metadata": {},
   "source": [
    "Because the the only table exist 1 unique value is third data so we change only third data."
   ]
  },
  {
   "cell_type": "code",
   "execution_count": 84,
   "metadata": {},
   "outputs": [
    {
     "data": {
      "text/plain": [
       "tweet_id          2335\n",
       "favorite_count    1999\n",
       "retweet_count     1703\n",
       "dtype: int64"
      ]
     },
     "execution_count": 84,
     "metadata": {},
     "output_type": "execute_result"
    }
   ],
   "source": [
    "# third data after\n",
    "scrapped_tweet_df = drop_uniform_value(scrapped_tweet_df)\n",
    "scrapped_tweet_df.nunique()"
   ]
  },
  {
   "cell_type": "code",
   "execution_count": 85,
   "metadata": {},
   "outputs": [
    {
     "data": {
      "text/plain": [
       "10     2085\n",
       "50        3\n",
       "11        2\n",
       "80        2\n",
       "7         1\n",
       "170       1\n",
       "150       1\n",
       "130       1\n",
       "120       1\n",
       "110       1\n",
       "90        1\n",
       "70        1\n",
       "40        1\n",
       "20        1\n",
       "2         1\n",
       "Name: rating_denominator, dtype: int64"
      ]
     },
     "execution_count": 85,
     "metadata": {},
     "output_type": "execute_result"
    }
   ],
   "source": [
    "twitter_archive_df.rating_denominator.value_counts()"
   ]
  },
  {
   "cell_type": "markdown",
   "metadata": {},
   "source": [
    "For rating denominator I expect constanta value (10) but because I get information from Udacity that there is unique rating system is a big part of the popularity of WeRateDogs, so I decide to keep them."
   ]
  },
  {
   "cell_type": "markdown",
   "metadata": {},
   "source": [
    "<a id=\"c7\"></a>\n",
    "##### 10. Get source col without HTML format"
   ]
  },
  {
   "cell_type": "code",
   "execution_count": 86,
   "metadata": {},
   "outputs": [],
   "source": [
    "import re"
   ]
  },
  {
   "cell_type": "markdown",
   "metadata": {},
   "source": [
    "list function name: <br>\n",
    "<a id=\"get_name_in_source\">get_name_in_source</a> <br>"
   ]
  },
  {
   "cell_type": "code",
   "execution_count": 87,
   "metadata": {},
   "outputs": [],
   "source": [
    "def get_name_in_source(col_source):\n",
    "    return str(re.findall(\"<a.*?>(.+?)</a>\", col_source)[0])"
   ]
  },
  {
   "cell_type": "code",
   "execution_count": 88,
   "metadata": {},
   "outputs": [
    {
     "data": {
      "text/plain": [
       "Twitter for iPhone     1974\n",
       "Vine - Make a Scene      88\n",
       "Twitter Web Client       30\n",
       "TweetDeck                11\n",
       "Name: source, dtype: int64"
      ]
     },
     "execution_count": 88,
     "metadata": {},
     "output_type": "execute_result"
    }
   ],
   "source": [
    "for index in range(len(twitter_archive_df)): \n",
    "    value = twitter_archive_df.iloc[index,twitter_archive_df.columns.get_loc('source')]\n",
    "    twitter_archive_df.iloc[index,twitter_archive_df.columns.get_loc('source')] = get_name_in_source(value)\n",
    "                            \n",
    "twitter_archive_df.source.value_counts()"
   ]
  },
  {
   "cell_type": "markdown",
   "metadata": {},
   "source": [
    "<a id=\"t2\"></a>\n",
    "##### 11. Join all table"
   ]
  },
  {
   "cell_type": "code",
   "execution_count": 89,
   "metadata": {},
   "outputs": [
    {
     "name": "stdout",
     "output_type": "stream",
     "text": [
      "<class 'pandas.core.frame.DataFrame'>\n",
      "Int64Index: 1978 entries, 0 to 1977\n",
      "Data columns (total 22 columns):\n",
      "tweet_id              1978 non-null object\n",
      "timestamp             1978 non-null datetime64[ns, UTC]\n",
      "source                1978 non-null object\n",
      "text                  1978 non-null object\n",
      "expanded_urls         1978 non-null object\n",
      "rating_numerator      1978 non-null int64\n",
      "rating_denominator    1978 non-null int64\n",
      "name                  1383 non-null object\n",
      "dog_stage             294 non-null object\n",
      "favorite_count        1978 non-null int64\n",
      "retweet_count         1978 non-null int64\n",
      "jpg_url               1978 non-null object\n",
      "img_num               1978 non-null int64\n",
      "p1                    1978 non-null object\n",
      "p1_conf               1978 non-null float64\n",
      "p1_dog                1978 non-null bool\n",
      "p2                    1978 non-null object\n",
      "p2_conf               1978 non-null float64\n",
      "p2_dog                1978 non-null bool\n",
      "p3                    1978 non-null object\n",
      "p3_conf               1978 non-null float64\n",
      "p3_dog                1978 non-null bool\n",
      "dtypes: bool(3), datetime64[ns, UTC](1), float64(3), int64(5), object(10)\n",
      "memory usage: 314.9+ KB\n"
     ]
    }
   ],
   "source": [
    "# join first and second table\n",
    "twitter_df = pd.merge(twitter_archive_df, scrapped_tweet_df, how = 'inner', on = ['tweet_id'])\n",
    "\n",
    "# join second and third table\n",
    "twitter_df = pd.merge(twitter_df, image_prediction_df, how = 'inner', on = ['tweet_id'])\n",
    "\n",
    "# check the result\n",
    "twitter_df.info()"
   ]
  },
  {
   "cell_type": "markdown",
   "metadata": {},
   "source": [
    "list used function: <br>\n",
    "<a href='#drop_missing_value'>drop_missing_value</a> <br>"
   ]
  },
  {
   "cell_type": "code",
   "execution_count": 90,
   "metadata": {},
   "outputs": [
    {
     "data": {
      "text/plain": [
       "tweet_id               0.000000\n",
       "timestamp              0.000000\n",
       "source                 0.000000\n",
       "text                   0.000000\n",
       "expanded_urls          0.000000\n",
       "rating_numerator       0.000000\n",
       "rating_denominator     0.000000\n",
       "name                  30.080890\n",
       "dog_stage             85.136502\n",
       "favorite_count         0.000000\n",
       "retweet_count          0.000000\n",
       "jpg_url                0.000000\n",
       "img_num                0.000000\n",
       "p1                     0.000000\n",
       "p1_conf                0.000000\n",
       "p1_dog                 0.000000\n",
       "p2                     0.000000\n",
       "p2_conf                0.000000\n",
       "p2_dog                 0.000000\n",
       "p3                     0.000000\n",
       "p3_conf                0.000000\n",
       "p3_dog                 0.000000\n",
       "dtype: float64"
      ]
     },
     "execution_count": 90,
     "metadata": {},
     "output_type": "execute_result"
    }
   ],
   "source": [
    "# cek the percentage of missing value\n",
    "get_missing_value_percentage(twitter_df)"
   ]
  },
  {
   "cell_type": "code",
   "execution_count": 91,
   "metadata": {},
   "outputs": [
    {
     "data": {
      "text/html": [
       "<div>\n",
       "<style scoped>\n",
       "    .dataframe tbody tr th:only-of-type {\n",
       "        vertical-align: middle;\n",
       "    }\n",
       "\n",
       "    .dataframe tbody tr th {\n",
       "        vertical-align: top;\n",
       "    }\n",
       "\n",
       "    .dataframe thead th {\n",
       "        text-align: right;\n",
       "    }\n",
       "</style>\n",
       "<table border=\"1\" class=\"dataframe\">\n",
       "  <thead>\n",
       "    <tr style=\"text-align: right;\">\n",
       "      <th></th>\n",
       "      <th>tweet_id</th>\n",
       "      <th>timestamp</th>\n",
       "      <th>source</th>\n",
       "      <th>text</th>\n",
       "      <th>expanded_urls</th>\n",
       "      <th>rating_numerator</th>\n",
       "      <th>rating_denominator</th>\n",
       "      <th>name</th>\n",
       "      <th>dog_stage</th>\n",
       "      <th>favorite_count</th>\n",
       "      <th>...</th>\n",
       "      <th>img_num</th>\n",
       "      <th>p1</th>\n",
       "      <th>p1_conf</th>\n",
       "      <th>p1_dog</th>\n",
       "      <th>p2</th>\n",
       "      <th>p2_conf</th>\n",
       "      <th>p2_dog</th>\n",
       "      <th>p3</th>\n",
       "      <th>p3_conf</th>\n",
       "      <th>p3_dog</th>\n",
       "    </tr>\n",
       "  </thead>\n",
       "  <tbody>\n",
       "    <tr>\n",
       "      <th>0</th>\n",
       "      <td>666020888022790149</td>\n",
       "      <td>2015-11-15 22:32:08+00:00</td>\n",
       "      <td>Twitter for iPhone</td>\n",
       "      <td>Here we have a Japanese Irish Setter. Lost eye...</td>\n",
       "      <td>https://twitter.com/dog_rates/status/666020888...</td>\n",
       "      <td>8</td>\n",
       "      <td>10</td>\n",
       "      <td>NaN</td>\n",
       "      <td>NaN</td>\n",
       "      <td>2498</td>\n",
       "      <td>...</td>\n",
       "      <td>1</td>\n",
       "      <td>Welsh_springer_spaniel</td>\n",
       "      <td>0.465074</td>\n",
       "      <td>True</td>\n",
       "      <td>collie</td>\n",
       "      <td>0.156665</td>\n",
       "      <td>True</td>\n",
       "      <td>Shetland_sheepdog</td>\n",
       "      <td>0.061428</td>\n",
       "      <td>True</td>\n",
       "    </tr>\n",
       "    <tr>\n",
       "      <th>1</th>\n",
       "      <td>666029285002620928</td>\n",
       "      <td>2015-11-15 23:05:30+00:00</td>\n",
       "      <td>Twitter for iPhone</td>\n",
       "      <td>This is a western brown Mitsubishi terrier. Up...</td>\n",
       "      <td>https://twitter.com/dog_rates/status/666029285...</td>\n",
       "      <td>7</td>\n",
       "      <td>10</td>\n",
       "      <td>NaN</td>\n",
       "      <td>NaN</td>\n",
       "      <td>124</td>\n",
       "      <td>...</td>\n",
       "      <td>1</td>\n",
       "      <td>redbone</td>\n",
       "      <td>0.506826</td>\n",
       "      <td>True</td>\n",
       "      <td>miniature_pinscher</td>\n",
       "      <td>0.074192</td>\n",
       "      <td>True</td>\n",
       "      <td>Rhodesian_ridgeback</td>\n",
       "      <td>0.072010</td>\n",
       "      <td>True</td>\n",
       "    </tr>\n",
       "  </tbody>\n",
       "</table>\n",
       "<p>2 rows × 22 columns</p>\n",
       "</div>"
      ],
      "text/plain": [
       "             tweet_id                 timestamp              source  \\\n",
       "0  666020888022790149 2015-11-15 22:32:08+00:00  Twitter for iPhone   \n",
       "1  666029285002620928 2015-11-15 23:05:30+00:00  Twitter for iPhone   \n",
       "\n",
       "                                                text  \\\n",
       "0  Here we have a Japanese Irish Setter. Lost eye...   \n",
       "1  This is a western brown Mitsubishi terrier. Up...   \n",
       "\n",
       "                                       expanded_urls  rating_numerator  \\\n",
       "0  https://twitter.com/dog_rates/status/666020888...                 8   \n",
       "1  https://twitter.com/dog_rates/status/666029285...                 7   \n",
       "\n",
       "   rating_denominator name dog_stage  favorite_count  ...  img_num  \\\n",
       "0                  10  NaN       NaN            2498  ...        1   \n",
       "1                  10  NaN       NaN             124  ...        1   \n",
       "\n",
       "                       p1   p1_conf p1_dog                  p2   p2_conf  \\\n",
       "0  Welsh_springer_spaniel  0.465074   True              collie  0.156665   \n",
       "1                 redbone  0.506826   True  miniature_pinscher  0.074192   \n",
       "\n",
       "  p2_dog                   p3   p3_conf p3_dog  \n",
       "0   True    Shetland_sheepdog  0.061428   True  \n",
       "1   True  Rhodesian_ridgeback  0.072010   True  \n",
       "\n",
       "[2 rows x 22 columns]"
      ]
     },
     "execution_count": 91,
     "metadata": {},
     "output_type": "execute_result"
    }
   ],
   "source": [
    "twitter_df.head(2)"
   ]
  },
  {
   "cell_type": "code",
   "execution_count": 92,
   "metadata": {},
   "outputs": [],
   "source": [
    "# save csv\n",
    "twitter_df.to_csv(\"data_generated/twitter_archive_master.csv\", index=False)"
   ]
  },
  {
   "cell_type": "code",
   "execution_count": 93,
   "metadata": {},
   "outputs": [],
   "source": [
    "# save each of data\n",
    "twitter_archive_df.to_csv(\"data_generated/first_data_twitter_archive.csv\", index=False)\n",
    "image_prediction_df.to_csv(\"data_generated/second_data_image_prediction.csv\", index=False)\n",
    "scrapped_tweet_df.to_csv(\"data_generated/third_data_scrapped_tweet.csv\", index=False)"
   ]
  },
  {
   "cell_type": "markdown",
   "metadata": {},
   "source": [
    "<a href=\"#analizing\"></a>\n",
    "# Analyzing and Visualizing Data "
   ]
  },
  {
   "cell_type": "markdown",
   "metadata": {},
   "source": [
    "Question:\n",
    "<ol>\n",
    "<li><a href=\"#q1\">Are there any outlier in the data?</a></li>\n",
    "<li><a href=\"#q2\">How about correlation between variables?</a></li>\n",
    "<li><a href=\"#q3\">Does the retweet count and favorite count increase with time?</a></li>\n",
    "<li><a href=\"#q4\">Does the rating increase with time?</a></li>\n",
    "<li><a href=\"#q5\">Are the rating affect with the number of favorite and retweet count?</a></li>\n",
    "<li><a href=\"#q6\">How much each algorithm predict the picture is dog?</a></li>\n",
    "<li><a href=\"#q7\">What are the most popular dog names?</a></li>\n",
    "<li><a href=\"#q8\">What are the most popular dog predict?</a></li>\n",
    "<li><a href=\"#q9\">What are the most popular dog predict when all algorithm predict the same dog?</a></li>\n",
    "<ol>"
   ]
  },
  {
   "cell_type": "markdown",
   "metadata": {},
   "source": [
    "This plot for answer number 1:"
   ]
  },
  {
   "cell_type": "code",
   "execution_count": 94,
   "metadata": {},
   "outputs": [
    {
     "name": "stdout",
     "output_type": "stream",
     "text": [
      "<class 'pandas.core.frame.DataFrame'>\n",
      "Int64Index: 1978 entries, 0 to 1977\n",
      "Data columns (total 23 columns):\n",
      "tweet_id              1978 non-null object\n",
      "timestamp             1978 non-null datetime64[ns, UTC]\n",
      "source                1978 non-null object\n",
      "text                  1978 non-null object\n",
      "expanded_urls         1978 non-null object\n",
      "rating_numerator      1978 non-null int64\n",
      "rating_denominator    1978 non-null int64\n",
      "name                  1383 non-null object\n",
      "dog_stage             294 non-null object\n",
      "favorite_count        1978 non-null int64\n",
      "retweet_count         1978 non-null int64\n",
      "jpg_url               1978 non-null object\n",
      "img_num               1978 non-null int64\n",
      "p1                    1978 non-null object\n",
      "p1_conf               1978 non-null float64\n",
      "p1_dog                1978 non-null bool\n",
      "p2                    1978 non-null object\n",
      "p2_conf               1978 non-null float64\n",
      "p2_dog                1978 non-null bool\n",
      "p3                    1978 non-null object\n",
      "p3_conf               1978 non-null float64\n",
      "p3_dog                1978 non-null bool\n",
      "rating                1978 non-null float64\n",
      "dtypes: bool(3), datetime64[ns, UTC](1), float64(4), int64(5), object(10)\n",
      "memory usage: 330.3+ KB\n"
     ]
    }
   ],
   "source": [
    "# to analyzing, I add new column \"rating\" that can be calculate by numerator/denominator\n",
    "twitter_df['rating'] = pd.to_numeric((twitter_df.rating_numerator*1.0)/(twitter_df.rating_denominator*1.0))\n",
    "twitter_df.info()"
   ]
  },
  {
   "cell_type": "code",
   "execution_count": 95,
   "metadata": {},
   "outputs": [
    {
     "data": {
      "text/html": [
       "<div>\n",
       "<style scoped>\n",
       "    .dataframe tbody tr th:only-of-type {\n",
       "        vertical-align: middle;\n",
       "    }\n",
       "\n",
       "    .dataframe tbody tr th {\n",
       "        vertical-align: top;\n",
       "    }\n",
       "\n",
       "    .dataframe thead th {\n",
       "        text-align: right;\n",
       "    }\n",
       "</style>\n",
       "<table border=\"1\" class=\"dataframe\">\n",
       "  <thead>\n",
       "    <tr style=\"text-align: right;\">\n",
       "      <th></th>\n",
       "      <th>rating_numerator</th>\n",
       "      <th>rating_denominator</th>\n",
       "      <th>favorite_count</th>\n",
       "      <th>retweet_count</th>\n",
       "      <th>img_num</th>\n",
       "      <th>p1_conf</th>\n",
       "      <th>p2_conf</th>\n",
       "      <th>p3_conf</th>\n",
       "      <th>rating</th>\n",
       "    </tr>\n",
       "  </thead>\n",
       "  <tbody>\n",
       "    <tr>\n",
       "      <th>count</th>\n",
       "      <td>1978.000000</td>\n",
       "      <td>1978.000000</td>\n",
       "      <td>1978.000000</td>\n",
       "      <td>1978.000000</td>\n",
       "      <td>1978.000000</td>\n",
       "      <td>1978.000000</td>\n",
       "      <td>1.978000e+03</td>\n",
       "      <td>1.978000e+03</td>\n",
       "      <td>1978.000000</td>\n",
       "    </tr>\n",
       "    <tr>\n",
       "      <th>mean</th>\n",
       "      <td>12.287159</td>\n",
       "      <td>10.536400</td>\n",
       "      <td>8512.211325</td>\n",
       "      <td>2576.972194</td>\n",
       "      <td>1.203741</td>\n",
       "      <td>0.592434</td>\n",
       "      <td>1.347591e-01</td>\n",
       "      <td>6.043538e-02</td>\n",
       "      <td>1.169405</td>\n",
       "    </tr>\n",
       "    <tr>\n",
       "      <th>std</th>\n",
       "      <td>41.664877</td>\n",
       "      <td>7.350117</td>\n",
       "      <td>12539.404499</td>\n",
       "      <td>4622.578029</td>\n",
       "      <td>0.562211</td>\n",
       "      <td>0.271780</td>\n",
       "      <td>1.006778e-01</td>\n",
       "      <td>5.090927e-02</td>\n",
       "      <td>4.083458</td>\n",
       "    </tr>\n",
       "    <tr>\n",
       "      <th>min</th>\n",
       "      <td>0.000000</td>\n",
       "      <td>2.000000</td>\n",
       "      <td>76.000000</td>\n",
       "      <td>11.000000</td>\n",
       "      <td>1.000000</td>\n",
       "      <td>0.044333</td>\n",
       "      <td>1.011300e-08</td>\n",
       "      <td>1.740170e-10</td>\n",
       "      <td>0.000000</td>\n",
       "    </tr>\n",
       "    <tr>\n",
       "      <th>25%</th>\n",
       "      <td>10.000000</td>\n",
       "      <td>10.000000</td>\n",
       "      <td>1833.000000</td>\n",
       "      <td>577.250000</td>\n",
       "      <td>1.000000</td>\n",
       "      <td>0.360998</td>\n",
       "      <td>5.432547e-02</td>\n",
       "      <td>1.638385e-02</td>\n",
       "      <td>1.000000</td>\n",
       "    </tr>\n",
       "    <tr>\n",
       "      <th>50%</th>\n",
       "      <td>11.000000</td>\n",
       "      <td>10.000000</td>\n",
       "      <td>3811.000000</td>\n",
       "      <td>1241.000000</td>\n",
       "      <td>1.000000</td>\n",
       "      <td>0.586944</td>\n",
       "      <td>1.178485e-01</td>\n",
       "      <td>4.975535e-02</td>\n",
       "      <td>1.100000</td>\n",
       "    </tr>\n",
       "    <tr>\n",
       "      <th>75%</th>\n",
       "      <td>12.000000</td>\n",
       "      <td>10.000000</td>\n",
       "      <td>10647.000000</td>\n",
       "      <td>2934.000000</td>\n",
       "      <td>1.000000</td>\n",
       "      <td>0.841932</td>\n",
       "      <td>1.953582e-01</td>\n",
       "      <td>9.166433e-02</td>\n",
       "      <td>1.200000</td>\n",
       "    </tr>\n",
       "    <tr>\n",
       "      <th>max</th>\n",
       "      <td>1776.000000</td>\n",
       "      <td>170.000000</td>\n",
       "      <td>161716.000000</td>\n",
       "      <td>82138.000000</td>\n",
       "      <td>4.000000</td>\n",
       "      <td>1.000000</td>\n",
       "      <td>4.880140e-01</td>\n",
       "      <td>2.734190e-01</td>\n",
       "      <td>177.600000</td>\n",
       "    </tr>\n",
       "  </tbody>\n",
       "</table>\n",
       "</div>"
      ],
      "text/plain": [
       "       rating_numerator  rating_denominator  favorite_count  retweet_count  \\\n",
       "count       1978.000000         1978.000000     1978.000000    1978.000000   \n",
       "mean          12.287159           10.536400     8512.211325    2576.972194   \n",
       "std           41.664877            7.350117    12539.404499    4622.578029   \n",
       "min            0.000000            2.000000       76.000000      11.000000   \n",
       "25%           10.000000           10.000000     1833.000000     577.250000   \n",
       "50%           11.000000           10.000000     3811.000000    1241.000000   \n",
       "75%           12.000000           10.000000    10647.000000    2934.000000   \n",
       "max         1776.000000          170.000000   161716.000000   82138.000000   \n",
       "\n",
       "           img_num      p1_conf       p2_conf       p3_conf       rating  \n",
       "count  1978.000000  1978.000000  1.978000e+03  1.978000e+03  1978.000000  \n",
       "mean      1.203741     0.592434  1.347591e-01  6.043538e-02     1.169405  \n",
       "std       0.562211     0.271780  1.006778e-01  5.090927e-02     4.083458  \n",
       "min       1.000000     0.044333  1.011300e-08  1.740170e-10     0.000000  \n",
       "25%       1.000000     0.360998  5.432547e-02  1.638385e-02     1.000000  \n",
       "50%       1.000000     0.586944  1.178485e-01  4.975535e-02     1.100000  \n",
       "75%       1.000000     0.841932  1.953582e-01  9.166433e-02     1.200000  \n",
       "max       4.000000     1.000000  4.880140e-01  2.734190e-01   177.600000  "
      ]
     },
     "execution_count": 95,
     "metadata": {},
     "output_type": "execute_result"
    }
   ],
   "source": [
    "# statistic description\n",
    "twitter_df.describe()"
   ]
  },
  {
   "cell_type": "code",
   "execution_count": 124,
   "metadata": {},
   "outputs": [
    {
     "data": {
      "image/png": "[encoded data removed]",
      "text/plain": [
       "<Figure size 1008x432 with 1 Axes>"
      ]
     },
     "metadata": {
      "needs_background": "light"
     },
     "output_type": "display_data"
    }
   ],
   "source": [
    "# visualitation\n",
    "fig, ax = plt.subplots()\n",
    "fig.set_size_inches(14, 6)\n",
    "sns.boxplot(data=twitter_df[['rating_numerator','rating_denominator','rating','favorite_count',\\\n",
    "                                  'retweet_count','img_num','p1_conf','p2_conf','p3_conf']],\\\n",
    "                 orient=\"h\", palette=\"Set2\", ax=ax);\n",
    "plt.title('Boxplot All Numeric Variable');\n",
    "plt.xlabel('Count');\n",
    "plt.savefig('plot/1_Boxplot All Numeric Variable.png')"
   ]
  },
  {
   "cell_type": "code",
   "execution_count": 125,
   "metadata": {},
   "outputs": [
    {
     "data": {
      "image/png": "[encoded data removed]",
      "text/plain": [
       "<Figure size 1008x432 with 1 Axes>"
      ]
     },
     "metadata": {
      "needs_background": "light"
     },
     "output_type": "display_data"
    }
   ],
   "source": [
    "fig, ax = plt.subplots()\n",
    "fig.set_size_inches(14, 6)\n",
    "sns.boxplot(data=twitter_df[['rating_numerator','rating_denominator','rating',\\\n",
    "                                  'img_num','p1_conf','p2_conf','p3_conf']],\\\n",
    "                 orient=\"h\", palette=\"Set2\", ax=ax);\n",
    "plt.title('Boxplot All Numeric Variable Except Favorite Count, and Retweet Count');\n",
    "plt.xlabel('Count');\n",
    "plt.savefig('plot/2_Boxplot All Numeric Variable Except Favorite Count, and Retweet Count.png')"
   ]
  },
  {
   "cell_type": "code",
   "execution_count": 126,
   "metadata": {},
   "outputs": [
    {
     "data": {
      "image/png": "[encoded data removed]",
      "text/plain": [
       "<Figure size 1008x432 with 1 Axes>"
      ]
     },
     "metadata": {
      "needs_background": "light"
     },
     "output_type": "display_data"
    }
   ],
   "source": [
    "fig, ax = plt.subplots()\n",
    "fig.set_size_inches(14, 6)\n",
    "sns.boxplot(data=twitter_df[['img_num','p1_conf','p2_conf','p3_conf']],\\\n",
    "                 orient=\"h\", palette=\"Set2\", ax=ax);\n",
    "plt.title('Boxplot All Numeric Variable Except All Ratings Variable, Favorite Count, and Retweet Count');\n",
    "plt.xlabel('Count');\n",
    "plt.savefig('plot/3_Boxplot All Numeric Variable Except All Ratings Variable, Favorite Count, and Retweet Count.png')"
   ]
  },
  {
   "cell_type": "code",
   "execution_count": 127,
   "metadata": {},
   "outputs": [
    {
     "data": {
      "image/png": "[encoded data removed]",
      "text/plain": [
       "<Figure size 1008x432 with 1 Axes>"
      ]
     },
     "metadata": {
      "needs_background": "light"
     },
     "output_type": "display_data"
    }
   ],
   "source": [
    "fig, ax = plt.subplots()\n",
    "fig.set_size_inches(14, 6)\n",
    "sns.boxplot(data=twitter_df[['img_num']],\\\n",
    "                 orient=\"h\", palette=\"Set2\", ax=ax);\n",
    "plt.title('Boxplot Number of Image');\n",
    "plt.xlabel('Count');\n",
    "plt.savefig('plot/4_Boxplot Number of Image.png')"
   ]
  },
  {
   "cell_type": "markdown",
   "metadata": {},
   "source": [
    "<a id=\"q1\"></a>\n",
    "##### 1. Are there any outlier in the data?\n",
    "<br>\n",
    "<b> Answer:</b> \n",
    "<br>\n",
    "- In numeric data, all cols have outlier except p1_conf and rating_denominator. Just like the information from udacity, some they use unique rating so the result maybe not between 0 until 1.\n",
    "<br>\n",
    "- From statistic description, we found that distance min max from variables rating_numerator, rating_denominator, favorite_count, retweet_count, and ratings are high. But for all rating variable, we can find that Q3 is not too far from another Q, so the max value from that variables definitely outlier.\n",
    "<br>\n",
    "- In img_num just like the stat desc, the min until Q3 the result are 1, so the other value except 1 was missing value "
   ]
  },
  {
   "cell_type": "markdown",
   "metadata": {},
   "source": [
    "This plot for question number 2:"
   ]
  },
  {
   "cell_type": "code",
   "execution_count": 128,
   "metadata": {},
   "outputs": [
    {
     "data": {
      "image/png": "[encoded data removed]",
      "text/plain": [
       "<Figure size 842.4x595.44 with 2 Axes>"
      ]
     },
     "metadata": {
      "needs_background": "light"
     },
     "output_type": "display_data"
    }
   ],
   "source": [
    "# correlation\n",
    "fig, ax = plt.subplots()\n",
    "fig.set_size_inches(11.7, 8.27)\n",
    "sns.heatmap(twitter_df.corr(), annot=True, ax=ax);\n",
    "plt.title('Correlation Between Variables');\n",
    "plt.savefig('plot/5_Correlation Between Variables.png')"
   ]
  },
  {
   "cell_type": "markdown",
   "metadata": {},
   "source": [
    "<a id=\"q2\"></a>\n",
    "##### 2. How about correlation between variables?\n",
    "<br>\n",
    "<b> Answer:</b>\n",
    "<br><i>Note: The correlation value between -1 until 1, negative just to make we know the correlation direction, the closer to the value 0, the smaller the correlation. It use pearson correlation so they just see the linear relationship between each variables.\n",
    "<br></i>\n",
    "<br>\n",
    "- To this plot please ignore correlation between rating and rating_numerator or rating_denominator because the result  should be strong because rating is a calculation from both of them. But surprisingly the correlation between rating and rating_denominator is small. The answer can be found from stat desc that show if value rating_numerator is more varied than rating_denominator (std rating_denominator more hight than rating_numerator but their quantiles just similar each other)\n",
    "<br>\n",
    "- We can see hight positive correlation between favorite_count and retweet_count. Its mean the more favorited the more retweeted\n",
    "<br>\n",
    "- The correlation between all confidence variables also quite high. Somehow when p1_conf hight the confidence in p2 and p3 will decreese, but when confidence p3 increase the confidence in p2 will lightly increese."
   ]
  },
  {
   "cell_type": "markdown",
   "metadata": {},
   "source": [
    "This plot for question number 3:"
   ]
  },
  {
   "cell_type": "code",
   "execution_count": 101,
   "metadata": {},
   "outputs": [],
   "source": [
    "from pandas.plotting import register_matplotlib_converters\n",
    "register_matplotlib_converters()"
   ]
  },
  {
   "cell_type": "code",
   "execution_count": 129,
   "metadata": {},
   "outputs": [
    {
     "data": {
      "image/png": "[encoded data removed]",
      "text/plain": [
       "<Figure size 1008x432 with 1 Axes>"
      ]
     },
     "metadata": {
      "needs_background": "light"
     },
     "output_type": "display_data"
    }
   ],
   "source": [
    "fig, ax = plt.subplots()\n",
    "fig.set_size_inches(14, 6)\n",
    "sns.scatterplot(x=\"timestamp\", y=\"retweet_count\", data=twitter_df,ax=ax);\n",
    "sns.scatterplot(x=\"timestamp\", y=\"favorite_count\", data=twitter_df,ax=ax);\n",
    "fig.legend(labels=['retweet_count','favorite_count']);\n",
    "plt.title('Trends retweet and favorite count');\n",
    "plt.ylabel('Count');\n",
    "plt.savefig('plot/6_Trends retweet and favorite count.png')"
   ]
  },
  {
   "cell_type": "markdown",
   "metadata": {},
   "source": [
    "<a id=\"q3\"></a>\n",
    "##### 3. Does the retweet count and favorite count increase with time?\n",
    "<br>\n",
    "<b> Answer:</b>\n",
    "From that visualization, favorite count and retweet count always increase with time. The trends are increasing for both variables. But favorite count growing large than retweet count"
   ]
  },
  {
   "cell_type": "markdown",
   "metadata": {},
   "source": [
    "This plot for question number 4:"
   ]
  },
  {
   "cell_type": "code",
   "execution_count": 130,
   "metadata": {},
   "outputs": [
    {
     "data": {
      "image/png": "[encoded data removed]",
      "text/plain": [
       "<Figure size 1008x432 with 1 Axes>"
      ]
     },
     "metadata": {
      "needs_background": "light"
     },
     "output_type": "display_data"
    }
   ],
   "source": [
    "fig, ax = plt.subplots()\n",
    "fig.set_size_inches(14, 6)\n",
    "sns.scatterplot(x=\"timestamp\", y=\"rating\", data=twitter_df.query('rating<=1'),ax=ax);\n",
    "fig.legend(labels=['rating']);\n",
    "plt.title('Rating Data in Time');\n",
    "plt.savefig('plot/7_Rating Data in Time.png')"
   ]
  },
  {
   "cell_type": "markdown",
   "metadata": {},
   "source": [
    "<a id=\"q4\"></a>\n",
    "##### 4. Does the rating increase with time?\n",
    "<br>\n",
    "<b> Answer:</b>\n",
    "Rating are sparated from min to max value in anytime, but from that plot from same date the rating are missing because the data was missing. Just like the correlation that rating didn't correlate with any variables.\n"
   ]
  },
  {
   "cell_type": "markdown",
   "metadata": {},
   "source": [
    "This plot for question number 5:"
   ]
  },
  {
   "cell_type": "code",
   "execution_count": 104,
   "metadata": {},
   "outputs": [],
   "source": [
    "# frist let make rating level\n",
    "# this function will help to make level from quantile and return categories column\n",
    "def get_class(df, column:str):\n",
    "    # find quantile to decide that class\n",
    "    min_value = df[column].min()\n",
    "    quantile_1 = df[column].describe()[4]\n",
    "    quantile_2 = df[column].describe()[5]\n",
    "    quantile_3 = df[column].describe()[6]\n",
    "    max_value = df[column].max()\n",
    "    \n",
    "    # bin edges that will be used to \"cut\" the data into groups\n",
    "    bin_level = [ min_value, quantile_1, quantile_2, quantile_3, max_value]\n",
    "    # labels for the four budget level groups\n",
    "    bin_name = [ 'Low', 'Medium', 'High', 'Very High'] \n",
    "    # creates budget_levels column\n",
    "    name = '{}_levels'.format(column)\n",
    "    df[name] = pd.cut(df[column], bin_level, labels=bin_name, include_lowest = True)\n",
    "    return df"
   ]
  },
  {
   "cell_type": "code",
   "execution_count": 105,
   "metadata": {},
   "outputs": [
    {
     "data": {
      "text/html": [
       "<div>\n",
       "<style scoped>\n",
       "    .dataframe tbody tr th:only-of-type {\n",
       "        vertical-align: middle;\n",
       "    }\n",
       "\n",
       "    .dataframe tbody tr th {\n",
       "        vertical-align: top;\n",
       "    }\n",
       "\n",
       "    .dataframe thead th {\n",
       "        text-align: right;\n",
       "    }\n",
       "</style>\n",
       "<table border=\"1\" class=\"dataframe\">\n",
       "  <thead>\n",
       "    <tr style=\"text-align: right;\">\n",
       "      <th></th>\n",
       "      <th>favorite_count</th>\n",
       "      <th>retweet_count</th>\n",
       "      <th>rating_levels</th>\n",
       "    </tr>\n",
       "  </thead>\n",
       "  <tbody>\n",
       "    <tr>\n",
       "      <th>0</th>\n",
       "      <td>2498</td>\n",
       "      <td>493</td>\n",
       "      <td>Low</td>\n",
       "    </tr>\n",
       "    <tr>\n",
       "      <th>1</th>\n",
       "      <td>124</td>\n",
       "      <td>46</td>\n",
       "      <td>Low</td>\n",
       "    </tr>\n",
       "    <tr>\n",
       "      <th>2</th>\n",
       "      <td>120</td>\n",
       "      <td>43</td>\n",
       "      <td>Low</td>\n",
       "    </tr>\n",
       "  </tbody>\n",
       "</table>\n",
       "</div>"
      ],
      "text/plain": [
       "   favorite_count  retweet_count rating_levels\n",
       "0            2498            493           Low\n",
       "1             124             46           Low\n",
       "2             120             43           Low"
      ]
     },
     "execution_count": 105,
     "metadata": {},
     "output_type": "execute_result"
    }
   ],
   "source": [
    "rank_level_df = get_class(twitter_df, \"rating\")\n",
    "rank_level_df = rank_level_df[['favorite_count','retweet_count','rating_levels']]\n",
    "rank_level_df.head(3)"
   ]
  },
  {
   "cell_type": "code",
   "execution_count": 106,
   "metadata": {},
   "outputs": [
    {
     "data": {
      "text/html": [
       "<div>\n",
       "<style scoped>\n",
       "    .dataframe tbody tr th:only-of-type {\n",
       "        vertical-align: middle;\n",
       "    }\n",
       "\n",
       "    .dataframe tbody tr th {\n",
       "        vertical-align: top;\n",
       "    }\n",
       "\n",
       "    .dataframe thead th {\n",
       "        text-align: right;\n",
       "    }\n",
       "</style>\n",
       "<table border=\"1\" class=\"dataframe\">\n",
       "  <thead>\n",
       "    <tr style=\"text-align: right;\">\n",
       "      <th></th>\n",
       "      <th>favorite_count</th>\n",
       "      <th>retweet_count</th>\n",
       "    </tr>\n",
       "    <tr>\n",
       "      <th>rating_levels</th>\n",
       "      <th></th>\n",
       "      <th></th>\n",
       "    </tr>\n",
       "  </thead>\n",
       "  <tbody>\n",
       "    <tr>\n",
       "      <th>Low</th>\n",
       "      <td>2758092</td>\n",
       "      <td>982300</td>\n",
       "    </tr>\n",
       "    <tr>\n",
       "      <th>Medium</th>\n",
       "      <td>2576783</td>\n",
       "      <td>810977</td>\n",
       "    </tr>\n",
       "    <tr>\n",
       "      <th>High</th>\n",
       "      <td>4822289</td>\n",
       "      <td>1297031</td>\n",
       "    </tr>\n",
       "    <tr>\n",
       "      <th>Very High</th>\n",
       "      <td>6679990</td>\n",
       "      <td>2006943</td>\n",
       "    </tr>\n",
       "  </tbody>\n",
       "</table>\n",
       "</div>"
      ],
      "text/plain": [
       "               favorite_count  retweet_count\n",
       "rating_levels                               \n",
       "Low                   2758092         982300\n",
       "Medium                2576783         810977\n",
       "High                  4822289        1297031\n",
       "Very High             6679990        2006943"
      ]
     },
     "execution_count": 106,
     "metadata": {},
     "output_type": "execute_result"
    }
   ],
   "source": [
    "rank_level_df = rank_level_df.groupby(['rating_levels']).sum()\n",
    "rank_level_df"
   ]
  },
  {
   "cell_type": "code",
   "execution_count": 131,
   "metadata": {},
   "outputs": [
    {
     "data": {
      "image/png": "[encoded data removed]",
      "text/plain": [
       "<Figure size 864x432 with 1 Axes>"
      ]
     },
     "metadata": {
      "needs_background": "light"
     },
     "output_type": "display_data"
    }
   ],
   "source": [
    "rank_level_df.plot(kind='bar',figsize=(12, 6),colormap='Pastel2',alpha=0.8).legend(loc='upper left');\n",
    "plt.xlabel('Rating level');\n",
    "plt.ylabel('Count');\n",
    "plt.title('Number of Favorite and Retweet Count By Rating Level');\n",
    "plt.savefig('plot/8_Number of Favorite and Retweet Count By Rating Level.png')"
   ]
  },
  {
   "cell_type": "markdown",
   "metadata": {},
   "source": [
    "<a id=\"q5\"></a>\n",
    "##### 5. Are the rating affect with the number of favorite and retweet count?\n",
    "<br>\n",
    "<b> Answer:</b>\n",
    "From all data, we found that the higher the rating the higher the count (favorite and retweet). From that plot we also know that count in favorite alway higher than retweet."
   ]
  },
  {
   "cell_type": "markdown",
   "metadata": {},
   "source": [
    "This plot for question number 6:"
   ]
  },
  {
   "cell_type": "code",
   "execution_count": 108,
   "metadata": {},
   "outputs": [
    {
     "data": {
      "text/html": [
       "<div>\n",
       "<style scoped>\n",
       "    .dataframe tbody tr th:only-of-type {\n",
       "        vertical-align: middle;\n",
       "    }\n",
       "\n",
       "    .dataframe tbody tr th {\n",
       "        vertical-align: top;\n",
       "    }\n",
       "\n",
       "    .dataframe thead th {\n",
       "        text-align: right;\n",
       "    }\n",
       "</style>\n",
       "<table border=\"1\" class=\"dataframe\">\n",
       "  <thead>\n",
       "    <tr style=\"text-align: right;\">\n",
       "      <th></th>\n",
       "      <th>p1_dog</th>\n",
       "      <th>p2_dog</th>\n",
       "      <th>p3_dog</th>\n",
       "    </tr>\n",
       "  </thead>\n",
       "  <tbody>\n",
       "    <tr>\n",
       "      <th>True</th>\n",
       "      <td>1462</td>\n",
       "      <td>1481</td>\n",
       "      <td>1433</td>\n",
       "    </tr>\n",
       "    <tr>\n",
       "      <th>False</th>\n",
       "      <td>516</td>\n",
       "      <td>497</td>\n",
       "      <td>545</td>\n",
       "    </tr>\n",
       "  </tbody>\n",
       "</table>\n",
       "</div>"
      ],
      "text/plain": [
       "       p1_dog  p2_dog  p3_dog\n",
       "True     1462    1481    1433\n",
       "False     516     497     545"
      ]
     },
     "execution_count": 108,
     "metadata": {},
     "output_type": "execute_result"
    }
   ],
   "source": [
    "count = pd.DataFrame()\n",
    "count['p1_dog'] = twitter_df.p1_dog.value_counts()\n",
    "count['p2_dog'] = twitter_df.p2_dog.value_counts()\n",
    "count['p3_dog'] = twitter_df.p3_dog.value_counts()\n",
    "count"
   ]
  },
  {
   "cell_type": "code",
   "execution_count": 132,
   "metadata": {},
   "outputs": [
    {
     "data": {
      "image/png": "[encoded data removed]",
      "text/plain": [
       "<Figure size 864x432 with 1 Axes>"
      ]
     },
     "metadata": {
      "needs_background": "light"
     },
     "output_type": "display_data"
    }
   ],
   "source": [
    "count.plot.bar(colormap='Pastel2',figsize=(12, 6));\n",
    "plt.xlabel('Result isDog in each Algorithm');\n",
    "plt.ylabel('Count');\n",
    "plt.title('Number Predict True and False in Each Algorithm');\n",
    "plt.savefig('plot/9_Number Predict True and False in Each Algorithm.png')"
   ]
  },
  {
   "cell_type": "markdown",
   "metadata": {},
   "source": [
    "<a id=\"q6\"></a>\n",
    "##### 6. How much each algorithm predict the picture is dog?\n",
    "<br>\n",
    "<b> Answer:</b>\n",
    "P2 predict picture dog large than p1 and p3. The smallest predicted is dog come from p3."
   ]
  },
  {
   "cell_type": "markdown",
   "metadata": {},
   "source": [
    "This plot for question number 7:"
   ]
  },
  {
   "cell_type": "code",
   "execution_count": 133,
   "metadata": {},
   "outputs": [
    {
     "data": {
      "image/png": "[encoded data removed]",
      "text/plain": [
       "<Figure size 864x432 with 1 Axes>"
      ]
     },
     "metadata": {
      "needs_background": "light"
     },
     "output_type": "display_data"
    }
   ],
   "source": [
    "twitter_df.name.value_counts()[0:20].plot.bar(colormap='Pastel2',figsize=(12, 6));\n",
    "plt.xlabel('Dog Names');\n",
    "plt.ylabel('Number of Dog');\n",
    "plt.title('20 Popular Dog Names');\n",
    "plt.savefig('plot/10_20 Popular Dog Names.png')"
   ]
  },
  {
   "cell_type": "markdown",
   "metadata": {},
   "source": [
    "<a id=\"q7\"></a>\n",
    "##### 7. What are the most popular dog names?\n",
    "<br>\n",
    "<b> Answer:</b>\n",
    "\"Oliver\", \"Lucy\", \"Charlie\", and \"Cooper\" is the commond dog names in that table."
   ]
  },
  {
   "cell_type": "markdown",
   "metadata": {},
   "source": [
    "This plot for question number 8:"
   ]
  },
  {
   "cell_type": "code",
   "execution_count": 134,
   "metadata": {},
   "outputs": [
    {
     "data": {
      "image/png": "[encoded data removed]",
      "text/plain": [
       "<Figure size 864x432 with 1 Axes>"
      ]
     },
     "metadata": {
      "needs_background": "light"
     },
     "output_type": "display_data"
    }
   ],
   "source": [
    "twitter_df[twitter_df.p1_dog == True].p1.value_counts()[0:20].plot.bar(colormap='Pastel2',figsize=(12, 6));\n",
    "plt.xlabel('Dog Types');\n",
    "plt.ylabel('Number of Dog');\n",
    "plt.title('20 Highest Number of Dog Prediction in Algoritm 1');\n",
    "plt.savefig('plot/11_20 Highest Number of Dog Prediction in Algoritm 1.png')"
   ]
  },
  {
   "cell_type": "code",
   "execution_count": 135,
   "metadata": {},
   "outputs": [
    {
     "data": {
      "image/png": "[encoded data removed]",
      "text/plain": [
       "<Figure size 864x432 with 1 Axes>"
      ]
     },
     "metadata": {
      "needs_background": "light"
     },
     "output_type": "display_data"
    }
   ],
   "source": [
    "twitter_df[twitter_df.p2_dog == True].p2.value_counts()[0:20].plot.bar(colormap='Pastel2',figsize=(12, 6));\n",
    "plt.xlabel('Dog Types');\n",
    "plt.ylabel('Number of Dog');\n",
    "plt.title('20 Highest Number of Dog Prediction in Algoritm 2');\n",
    "plt.savefig('plot/12_20 Highest Number of Dog Prediction in Algoritm 2.png')"
   ]
  },
  {
   "cell_type": "code",
   "execution_count": 136,
   "metadata": {},
   "outputs": [
    {
     "data": {
      "image/png": "[encoded data removed]",
      "text/plain": [
       "<Figure size 864x432 with 1 Axes>"
      ]
     },
     "metadata": {
      "needs_background": "light"
     },
     "output_type": "display_data"
    }
   ],
   "source": [
    "twitter_df[twitter_df.p3_dog == True].p3.value_counts()[0:20].plot.bar(colormap='Pastel2',figsize=(12, 6));\n",
    "plt.xlabel('Dog Types');\n",
    "plt.ylabel('Number of Dog');\n",
    "plt.title('20 Highest Number of Dog Prediction in Algoritm 3');\n",
    "plt.savefig('plot/12_20 Highest Number of Dog Prediction in Algoritm 3.png')"
   ]
  },
  {
   "cell_type": "markdown",
   "metadata": {},
   "source": [
    "<a id=\"q8\"></a>\n",
    "##### 8. What are the most popular dog predict?\n",
    "<br>\n",
    "<b> Answer:</b>\n",
    "In Algorithm 1, golden retriever are the most popular dog, but in Algorithm 2 and 3, labrator retriever is the most popular dog. "
   ]
  },
  {
   "cell_type": "markdown",
   "metadata": {},
   "source": [
    "This code for answer question number 9:"
   ]
  },
  {
   "cell_type": "code",
   "execution_count": 114,
   "metadata": {},
   "outputs": [
    {
     "data": {
      "text/html": [
       "<div>\n",
       "<style scoped>\n",
       "    .dataframe tbody tr th:only-of-type {\n",
       "        vertical-align: middle;\n",
       "    }\n",
       "\n",
       "    .dataframe tbody tr th {\n",
       "        vertical-align: top;\n",
       "    }\n",
       "\n",
       "    .dataframe thead th {\n",
       "        text-align: right;\n",
       "    }\n",
       "</style>\n",
       "<table border=\"1\" class=\"dataframe\">\n",
       "  <thead>\n",
       "    <tr style=\"text-align: right;\">\n",
       "      <th></th>\n",
       "      <th>tweet_id</th>\n",
       "      <th>timestamp</th>\n",
       "      <th>source</th>\n",
       "      <th>text</th>\n",
       "      <th>expanded_urls</th>\n",
       "      <th>rating_numerator</th>\n",
       "      <th>rating_denominator</th>\n",
       "      <th>name</th>\n",
       "      <th>dog_stage</th>\n",
       "      <th>favorite_count</th>\n",
       "      <th>...</th>\n",
       "      <th>p1_conf</th>\n",
       "      <th>p1_dog</th>\n",
       "      <th>p2</th>\n",
       "      <th>p2_conf</th>\n",
       "      <th>p2_dog</th>\n",
       "      <th>p3</th>\n",
       "      <th>p3_conf</th>\n",
       "      <th>p3_dog</th>\n",
       "      <th>rating</th>\n",
       "      <th>rating_levels</th>\n",
       "    </tr>\n",
       "  </thead>\n",
       "  <tbody>\n",
       "    <tr>\n",
       "      <th>1390</th>\n",
       "      <td>770414278348247044</td>\n",
       "      <td>2016-08-30 00:14:12+00:00</td>\n",
       "      <td>Twitter for iPhone</td>\n",
       "      <td>Meet Al Cabone. He's a gangsta puppa. Rather h...</td>\n",
       "      <td>https://twitter.com/dog_rates/status/770414278...</td>\n",
       "      <td>11</td>\n",
       "      <td>10</td>\n",
       "      <td>Al</td>\n",
       "      <td>NaN</td>\n",
       "      <td>6586</td>\n",
       "      <td>...</td>\n",
       "      <td>0.580528</td>\n",
       "      <td>False</td>\n",
       "      <td>maillot</td>\n",
       "      <td>0.081449</td>\n",
       "      <td>False</td>\n",
       "      <td>golden_retriever</td>\n",
       "      <td>0.05357</td>\n",
       "      <td>True</td>\n",
       "      <td>1.1</td>\n",
       "      <td>Medium</td>\n",
       "    </tr>\n",
       "  </tbody>\n",
       "</table>\n",
       "<p>1 rows × 24 columns</p>\n",
       "</div>"
      ],
      "text/plain": [
       "                tweet_id                 timestamp              source  \\\n",
       "1390  770414278348247044 2016-08-30 00:14:12+00:00  Twitter for iPhone   \n",
       "\n",
       "                                                   text  \\\n",
       "1390  Meet Al Cabone. He's a gangsta puppa. Rather h...   \n",
       "\n",
       "                                          expanded_urls  rating_numerator  \\\n",
       "1390  https://twitter.com/dog_rates/status/770414278...                11   \n",
       "\n",
       "      rating_denominator name dog_stage  favorite_count  ...   p1_conf p1_dog  \\\n",
       "1390                  10   Al       NaN            6586  ...  0.580528  False   \n",
       "\n",
       "           p2   p2_conf  p2_dog                p3  p3_conf  p3_dog  rating  \\\n",
       "1390  maillot  0.081449   False  golden_retriever  0.05357    True     1.1   \n",
       "\n",
       "     rating_levels  \n",
       "1390        Medium  \n",
       "\n",
       "[1 rows x 24 columns]"
      ]
     },
     "execution_count": 114,
     "metadata": {},
     "output_type": "execute_result"
    }
   ],
   "source": [
    "top_dog = twitter_df.query('(p1 == p2) | (p2 == p3) | (p1 == p3)')\n",
    "top_dog"
   ]
  },
  {
   "cell_type": "markdown",
   "metadata": {},
   "source": [
    "<a id=\"q9\"></a>\n",
    "##### 9. What are the most popular dog predict when all algorithm predict the same dog?\n",
    "<br>\n",
    "<b> Answer:</b>\n",
    "When I select data with same answer in at least 2 Algorithm, there are just 1 data that predict type, that is mailot and exist in algorithm 1 and 2."
   ]
  },
  {
   "cell_type": "markdown",
   "metadata": {},
   "source": [
    "<a id=\"prediction\"></a>\n",
    "# Predict dog_stage"
   ]
  },
  {
   "cell_type": "markdown",
   "metadata": {},
   "source": [
    "Because dog_stage have many missing value, so I try to predict them with simple decision tree model.\n",
    "Todo:\n",
    "<ol>\n",
    "<li><a href=\"#p1\">Make sure the type of our table</a></li>\n",
    "<li><a href=\"#p2\">Define X and Y as predictor and label</a></li>\n",
    "<li><a href=\"#p3\">Encode categorical predictor</a></li>\n",
    "<li><a href=\"#p4\">Split train, and test data</a></li>\n",
    "<li><a href=\"#p5\">Make prediction</a></li>\n",
    "<li><a href=\"#p6\">Show Metrics from prediction</a></li>\n",
    "</ol>\n",
    "    \n",
    "<a href=\"#pred\">The predictions</a>"
   ]
  },
  {
   "cell_type": "markdown",
   "metadata": {},
   "source": [
    "<a id=\"p1\"></a>\n",
    "1.Make sure the type of our table"
   ]
  },
  {
   "cell_type": "code",
   "execution_count": 176,
   "metadata": {},
   "outputs": [
    {
     "name": "stdout",
     "output_type": "stream",
     "text": [
      "<class 'pandas.core.frame.DataFrame'>\n",
      "Int64Index: 1978 entries, 0 to 1977\n",
      "Data columns (total 24 columns):\n",
      "tweet_id              1978 non-null object\n",
      "timestamp             1978 non-null object\n",
      "source                1978 non-null object\n",
      "text                  1978 non-null object\n",
      "expanded_urls         1978 non-null object\n",
      "rating_numerator      1978 non-null int64\n",
      "rating_denominator    1978 non-null int64\n",
      "name                  1383 non-null object\n",
      "dog_stage             294 non-null object\n",
      "favorite_count        1978 non-null int64\n",
      "retweet_count         1978 non-null int64\n",
      "jpg_url               1978 non-null object\n",
      "img_num               1978 non-null int64\n",
      "p1                    1978 non-null object\n",
      "p1_conf               1978 non-null float64\n",
      "p1_dog                1978 non-null bool\n",
      "p2                    1978 non-null object\n",
      "p2_conf               1978 non-null float64\n",
      "p2_dog                1978 non-null bool\n",
      "p3                    1978 non-null object\n",
      "p3_conf               1978 non-null float64\n",
      "p3_dog                1978 non-null bool\n",
      "rating                1978 non-null float64\n",
      "rating_levels         1978 non-null object\n",
      "dtypes: bool(3), float64(4), int64(5), object(12)\n",
      "memory usage: 345.8+ KB\n"
     ]
    }
   ],
   "source": [
    "# because rating_levels from analyzing data have categorical datatype, \n",
    "# so we must parse it to object (just like another columns)\n",
    "twitter_df.rating_levels = twitter_df.rating_levels.astype(\"object\")\n",
    "twitter_df.info()"
   ]
  },
  {
   "cell_type": "markdown",
   "metadata": {},
   "source": [
    "<a id=\"p2\"></a>\n",
    "2. Define X and Y as predictor and label"
   ]
  },
  {
   "cell_type": "code",
   "execution_count": 288,
   "metadata": {},
   "outputs": [
    {
     "data": {
      "text/plain": [
       "pupper     203\n",
       "doggo       62\n",
       "puppo       22\n",
       "floofer      7\n",
       "Name: dog_stage, dtype: int64"
      ]
     },
     "execution_count": 288,
     "metadata": {},
     "output_type": "execute_result"
    }
   ],
   "source": [
    "# I use data with not na in dog stage tobe my dataset in my models\n",
    "dataset = twitter_df[pd.notna(twitter_df.dog_stage)]\n",
    "dataset.dog_stage.value_counts()"
   ]
  },
  {
   "cell_type": "markdown",
   "metadata": {},
   "source": [
    "Because of imbalance data, I decide to upsampling the other label into 203 data just like 'puuper'"
   ]
  },
  {
   "cell_type": "code",
   "execution_count": 296,
   "metadata": {},
   "outputs": [],
   "source": [
    "def rand_sampling_dog_stage(query, n:int, dataFrame):\n",
    "    col_df = dataFrame.query(query)\n",
    "    return col_df.sample(n = n, replace=True, random_state=9835)"
   ]
  },
  {
   "cell_type": "code",
   "execution_count": 305,
   "metadata": {},
   "outputs": [
    {
     "data": {
      "text/plain": [
       "floofer    203\n",
       "doggo      203\n",
       "pupper     203\n",
       "puppo      203\n",
       "Name: dog_stage, dtype: int64"
      ]
     },
     "execution_count": 305,
     "metadata": {},
     "output_type": "execute_result"
    }
   ],
   "source": [
    "new_dataset = pd.DataFrame()\n",
    "new_dataset = pd.concat([dataset.query('dog_stage == \"pupper\"'),\\\n",
    "                       rand_sampling_dog_stage('dog_stage == \"doggo\"', 203,dataset),\\\n",
    "                       rand_sampling_dog_stage('dog_stage == \"puppo\"', 203,dataset),\\\n",
    "                       rand_sampling_dog_stage('dog_stage == \"floofer\"', 203,dataset)])\n",
    "new_dataset.dog_stage.value_counts()"
   ]
  },
  {
   "cell_type": "code",
   "execution_count": 307,
   "metadata": {},
   "outputs": [],
   "source": [
    "# define predictor and label\n",
    "\n",
    "Y = new_dataset.dog_stage\n",
    "X = new_dataset.drop(['dog_stage','timestamp','tweet_id','expanded_urls','jpg_url'], axis = 1)"
   ]
  },
  {
   "cell_type": "markdown",
   "metadata": {},
   "source": [
    "<a id=\"p3\"></a>\n",
    "3. Encode categorical predictor"
   ]
  },
  {
   "cell_type": "code",
   "execution_count": 308,
   "metadata": {},
   "outputs": [],
   "source": [
    "# Make mask for categorical dtypes only\n",
    "categorical_feature_mask = X.dtypes==object\n",
    "# filter categorical columns using mask and turn it into a list\n",
    "categorical_cols = X.columns[categorical_feature_mask].tolist()"
   ]
  },
  {
   "cell_type": "code",
   "execution_count": 309,
   "metadata": {},
   "outputs": [],
   "source": [
    "from sklearn.preprocessing import LabelEncoder\n",
    "\n",
    "# instantiate labelencoder object to help us encode each variable\n",
    "le = LabelEncoder()"
   ]
  },
  {
   "cell_type": "code",
   "execution_count": 310,
   "metadata": {},
   "outputs": [
    {
     "data": {
      "text/plain": [
       "['source', 'text', 'name', 'p1', 'p2', 'p3', 'rating_levels']"
      ]
     },
     "execution_count": 310,
     "metadata": {},
     "output_type": "execute_result"
    }
   ],
   "source": [
    "# Our categorical variable\n",
    "categorical_cols"
   ]
  },
  {
   "cell_type": "code",
   "execution_count": 311,
   "metadata": {},
   "outputs": [
    {
     "data": {
      "text/html": [
       "<div>\n",
       "<style scoped>\n",
       "    .dataframe tbody tr th:only-of-type {\n",
       "        vertical-align: middle;\n",
       "    }\n",
       "\n",
       "    .dataframe tbody tr th {\n",
       "        vertical-align: top;\n",
       "    }\n",
       "\n",
       "    .dataframe thead th {\n",
       "        text-align: right;\n",
       "    }\n",
       "</style>\n",
       "<table border=\"1\" class=\"dataframe\">\n",
       "  <thead>\n",
       "    <tr style=\"text-align: right;\">\n",
       "      <th></th>\n",
       "      <th>source</th>\n",
       "      <th>text</th>\n",
       "      <th>name</th>\n",
       "      <th>p1</th>\n",
       "      <th>p2</th>\n",
       "      <th>p3</th>\n",
       "      <th>rating_levels</th>\n",
       "    </tr>\n",
       "  </thead>\n",
       "  <tbody>\n",
       "    <tr>\n",
       "      <th>331</th>\n",
       "      <td>2</td>\n",
       "      <td>140</td>\n",
       "      <td>21</td>\n",
       "      <td>107</td>\n",
       "      <td>14</td>\n",
       "      <td>28</td>\n",
       "      <td>1</td>\n",
       "    </tr>\n",
       "    <tr>\n",
       "      <th>333</th>\n",
       "      <td>2</td>\n",
       "      <td>214</td>\n",
       "      <td>107</td>\n",
       "      <td>62</td>\n",
       "      <td>63</td>\n",
       "      <td>121</td>\n",
       "      <td>1</td>\n",
       "    </tr>\n",
       "    <tr>\n",
       "      <th>339</th>\n",
       "      <td>2</td>\n",
       "      <td>228</td>\n",
       "      <td>124</td>\n",
       "      <td>107</td>\n",
       "      <td>14</td>\n",
       "      <td>33</td>\n",
       "      <td>2</td>\n",
       "    </tr>\n",
       "    <tr>\n",
       "      <th>346</th>\n",
       "      <td>2</td>\n",
       "      <td>111</td>\n",
       "      <td>70</td>\n",
       "      <td>6</td>\n",
       "      <td>61</td>\n",
       "      <td>44</td>\n",
       "      <td>0</td>\n",
       "    </tr>\n",
       "    <tr>\n",
       "      <th>353</th>\n",
       "      <td>2</td>\n",
       "      <td>93</td>\n",
       "      <td>135</td>\n",
       "      <td>20</td>\n",
       "      <td>26</td>\n",
       "      <td>0</td>\n",
       "      <td>1</td>\n",
       "    </tr>\n",
       "    <tr>\n",
       "      <th>356</th>\n",
       "      <td>2</td>\n",
       "      <td>208</td>\n",
       "      <td>102</td>\n",
       "      <td>117</td>\n",
       "      <td>73</td>\n",
       "      <td>127</td>\n",
       "      <td>1</td>\n",
       "    </tr>\n",
       "    <tr>\n",
       "      <th>357</th>\n",
       "      <td>2</td>\n",
       "      <td>264</td>\n",
       "      <td>164</td>\n",
       "      <td>76</td>\n",
       "      <td>20</td>\n",
       "      <td>77</td>\n",
       "      <td>0</td>\n",
       "    </tr>\n",
       "    <tr>\n",
       "      <th>363</th>\n",
       "      <td>2</td>\n",
       "      <td>143</td>\n",
       "      <td>26</td>\n",
       "      <td>97</td>\n",
       "      <td>51</td>\n",
       "      <td>110</td>\n",
       "      <td>2</td>\n",
       "    </tr>\n",
       "    <tr>\n",
       "      <th>367</th>\n",
       "      <td>2</td>\n",
       "      <td>144</td>\n",
       "      <td>27</td>\n",
       "      <td>89</td>\n",
       "      <td>111</td>\n",
       "      <td>81</td>\n",
       "      <td>1</td>\n",
       "    </tr>\n",
       "    <tr>\n",
       "      <th>368</th>\n",
       "      <td>2</td>\n",
       "      <td>147</td>\n",
       "      <td>29</td>\n",
       "      <td>107</td>\n",
       "      <td>7</td>\n",
       "      <td>20</td>\n",
       "      <td>1</td>\n",
       "    </tr>\n",
       "  </tbody>\n",
       "</table>\n",
       "</div>"
      ],
      "text/plain": [
       "     source  text  name   p1   p2   p3  rating_levels\n",
       "331       2   140    21  107   14   28              1\n",
       "333       2   214   107   62   63  121              1\n",
       "339       2   228   124  107   14   33              2\n",
       "346       2   111    70    6   61   44              0\n",
       "353       2    93   135   20   26    0              1\n",
       "356       2   208   102  117   73  127              1\n",
       "357       2   264   164   76   20   77              0\n",
       "363       2   143    26   97   51  110              2\n",
       "367       2   144    27   89  111   81              1\n",
       "368       2   147    29  107    7   20              1"
      ]
     },
     "execution_count": 311,
     "metadata": {},
     "output_type": "execute_result"
    }
   ],
   "source": [
    "# apply our le to categorical feature columns\n",
    "\n",
    "X[categorical_cols] = X[categorical_cols].apply(lambda col: le.fit_transform(col.astype(str)))\n",
    "X[categorical_cols].head(10)"
   ]
  },
  {
   "cell_type": "markdown",
   "metadata": {},
   "source": [
    "<a id=\"p4\"></a>\n",
    "4. Split train, and test data"
   ]
  },
  {
   "cell_type": "code",
   "execution_count": 312,
   "metadata": {},
   "outputs": [],
   "source": [
    "from sklearn.model_selection import train_test_split\n",
    "\n",
    "# split sratify so all lebel is balance, use 30% data to be our data test\n",
    "X_train, X_test, y_train, y_test = train_test_split(X, Y, test_size = 0.3, stratify = Y, random_state = 9835)"
   ]
  },
  {
   "cell_type": "code",
   "execution_count": 313,
   "metadata": {},
   "outputs": [
    {
     "data": {
      "text/plain": [
       "pupper     142\n",
       "floofer    142\n",
       "doggo      142\n",
       "puppo      142\n",
       "Name: dog_stage, dtype: int64"
      ]
     },
     "execution_count": 313,
     "metadata": {},
     "output_type": "execute_result"
    }
   ],
   "source": [
    "# label in data train\n",
    "y_train.value_counts()"
   ]
  },
  {
   "cell_type": "code",
   "execution_count": 314,
   "metadata": {},
   "outputs": [
    {
     "data": {
      "text/plain": [
       "pupper     61\n",
       "floofer    61\n",
       "doggo      61\n",
       "puppo      61\n",
       "Name: dog_stage, dtype: int64"
      ]
     },
     "execution_count": 314,
     "metadata": {},
     "output_type": "execute_result"
    }
   ],
   "source": [
    "# label in data test\n",
    "y_test.value_counts()"
   ]
  },
  {
   "cell_type": "markdown",
   "metadata": {},
   "source": [
    "<a id=\"p5\"></a>\n",
    "5. Make prediction"
   ]
  },
  {
   "cell_type": "code",
   "execution_count": 315,
   "metadata": {},
   "outputs": [],
   "source": [
    "from sklearn.tree import DecisionTreeClassifier\n",
    "\n",
    "# Make classifier object, in there I use gini \n",
    "clf_gini = DecisionTreeClassifier(criterion = \"gini\", random_state = 9835) \n",
    "\n",
    "# Train the model\n",
    "clf_gini.fit(X_train, y_train) \n",
    "\n",
    "# Predict with test sample\n",
    "y_pred = clf_gini.predict(X_test)"
   ]
  },
  {
   "cell_type": "markdown",
   "metadata": {},
   "source": [
    "<a id=\"p6\"></a>\n",
    "6. Show Metrics from prediction"
   ]
  },
  {
   "cell_type": "code",
   "execution_count": 316,
   "metadata": {},
   "outputs": [
    {
     "data": {
      "text/plain": [
       "0.9103535806544202"
      ]
     },
     "execution_count": 316,
     "metadata": {},
     "output_type": "execute_result"
    }
   ],
   "source": [
    "f1_score(y_test, y_pred, average='macro')"
   ]
  },
  {
   "cell_type": "code",
   "execution_count": 317,
   "metadata": {},
   "outputs": [
    {
     "name": "stdout",
     "output_type": "stream",
     "text": [
      "Confusion Matrix:\n",
      " [[59  0  1  1]\n",
      " [ 0 61  0  0]\n",
      " [14  0 42  5]\n",
      " [ 0  0  0 61]]\n",
      "Accuracy:\n",
      " 91.39344262295081\n",
      "Report:\n",
      "               precision    recall  f1-score   support\n",
      "\n",
      "       doggo       0.81      0.97      0.88        61\n",
      "     floofer       1.00      1.00      1.00        61\n",
      "      pupper       0.98      0.69      0.81        61\n",
      "       puppo       0.91      1.00      0.95        61\n",
      "\n",
      "   micro avg       0.91      0.91      0.91       244\n",
      "   macro avg       0.92      0.91      0.91       244\n",
      "weighted avg       0.92      0.91      0.91       244\n",
      "\n"
     ]
    }
   ],
   "source": [
    "from sklearn.metrics import confusion_matrix, accuracy_score, classification_report, f1_score\n",
    "\n",
    "print(\"Confusion Matrix:\\n\", \n",
    "confusion_matrix(y_test, y_pred)) \n",
    "\n",
    "print (\"Accuracy:\\n\", \n",
    "accuracy_score(y_test,y_pred)*100) \n",
    "\n",
    "print(\"Report:\\n\", \n",
    "classification_report(y_test, y_pred)) "
   ]
  },
  {
   "cell_type": "markdown",
   "metadata": {},
   "source": [
    "<a id='pred'></a>\n",
    "Because the metrics are good enough, so let's predict another row"
   ]
  },
  {
   "cell_type": "code",
   "execution_count": 343,
   "metadata": {},
   "outputs": [
    {
     "data": {
      "text/html": [
       "<div>\n",
       "<style scoped>\n",
       "    .dataframe tbody tr th:only-of-type {\n",
       "        vertical-align: middle;\n",
       "    }\n",
       "\n",
       "    .dataframe tbody tr th {\n",
       "        vertical-align: top;\n",
       "    }\n",
       "\n",
       "    .dataframe thead th {\n",
       "        text-align: right;\n",
       "    }\n",
       "</style>\n",
       "<table border=\"1\" class=\"dataframe\">\n",
       "  <thead>\n",
       "    <tr style=\"text-align: right;\">\n",
       "      <th></th>\n",
       "      <th>tweet_id</th>\n",
       "      <th>timestamp</th>\n",
       "      <th>source</th>\n",
       "      <th>text</th>\n",
       "      <th>expanded_urls</th>\n",
       "      <th>rating_numerator</th>\n",
       "      <th>rating_denominator</th>\n",
       "      <th>name</th>\n",
       "      <th>dog_stage</th>\n",
       "      <th>favorite_count</th>\n",
       "      <th>...</th>\n",
       "      <th>p1_conf</th>\n",
       "      <th>p1_dog</th>\n",
       "      <th>p2</th>\n",
       "      <th>p2_conf</th>\n",
       "      <th>p2_dog</th>\n",
       "      <th>p3</th>\n",
       "      <th>p3_conf</th>\n",
       "      <th>p3_dog</th>\n",
       "      <th>rating</th>\n",
       "      <th>rating_levels</th>\n",
       "    </tr>\n",
       "  </thead>\n",
       "  <tbody>\n",
       "    <tr>\n",
       "      <th>0</th>\n",
       "      <td>666020888022790149</td>\n",
       "      <td>2015-11-15 22:32:08+00:00</td>\n",
       "      <td>Twitter for iPhone</td>\n",
       "      <td>Here we have a Japanese Irish Setter. Lost eye...</td>\n",
       "      <td>https://twitter.com/dog_rates/status/666020888...</td>\n",
       "      <td>8</td>\n",
       "      <td>10</td>\n",
       "      <td>NaN</td>\n",
       "      <td>NaN</td>\n",
       "      <td>2498</td>\n",
       "      <td>...</td>\n",
       "      <td>0.465074</td>\n",
       "      <td>True</td>\n",
       "      <td>collie</td>\n",
       "      <td>0.156665</td>\n",
       "      <td>True</td>\n",
       "      <td>Shetland_sheepdog</td>\n",
       "      <td>0.061428</td>\n",
       "      <td>True</td>\n",
       "      <td>0.8</td>\n",
       "      <td>Low</td>\n",
       "    </tr>\n",
       "    <tr>\n",
       "      <th>1</th>\n",
       "      <td>666029285002620928</td>\n",
       "      <td>2015-11-15 23:05:30+00:00</td>\n",
       "      <td>Twitter for iPhone</td>\n",
       "      <td>This is a western brown Mitsubishi terrier. Up...</td>\n",
       "      <td>https://twitter.com/dog_rates/status/666029285...</td>\n",
       "      <td>7</td>\n",
       "      <td>10</td>\n",
       "      <td>NaN</td>\n",
       "      <td>NaN</td>\n",
       "      <td>124</td>\n",
       "      <td>...</td>\n",
       "      <td>0.506826</td>\n",
       "      <td>True</td>\n",
       "      <td>miniature_pinscher</td>\n",
       "      <td>0.074192</td>\n",
       "      <td>True</td>\n",
       "      <td>Rhodesian_ridgeback</td>\n",
       "      <td>0.072010</td>\n",
       "      <td>True</td>\n",
       "      <td>0.7</td>\n",
       "      <td>Low</td>\n",
       "    </tr>\n",
       "  </tbody>\n",
       "</table>\n",
       "<p>2 rows × 24 columns</p>\n",
       "</div>"
      ],
      "text/plain": [
       "             tweet_id                  timestamp              source  \\\n",
       "0  666020888022790149  2015-11-15 22:32:08+00:00  Twitter for iPhone   \n",
       "1  666029285002620928  2015-11-15 23:05:30+00:00  Twitter for iPhone   \n",
       "\n",
       "                                                text  \\\n",
       "0  Here we have a Japanese Irish Setter. Lost eye...   \n",
       "1  This is a western brown Mitsubishi terrier. Up...   \n",
       "\n",
       "                                       expanded_urls  rating_numerator  \\\n",
       "0  https://twitter.com/dog_rates/status/666020888...                 8   \n",
       "1  https://twitter.com/dog_rates/status/666029285...                 7   \n",
       "\n",
       "   rating_denominator name dog_stage  favorite_count  ...   p1_conf p1_dog  \\\n",
       "0                  10  NaN       NaN            2498  ...  0.465074   True   \n",
       "1                  10  NaN       NaN             124  ...  0.506826   True   \n",
       "\n",
       "                   p2   p2_conf  p2_dog                   p3   p3_conf  \\\n",
       "0              collie  0.156665    True    Shetland_sheepdog  0.061428   \n",
       "1  miniature_pinscher  0.074192    True  Rhodesian_ridgeback  0.072010   \n",
       "\n",
       "   p3_dog  rating rating_levels  \n",
       "0    True     0.8           Low  \n",
       "1    True     0.7           Low  \n",
       "\n",
       "[2 rows x 24 columns]"
      ]
     },
     "execution_count": 343,
     "metadata": {},
     "output_type": "execute_result"
    }
   ],
   "source": [
    "# get the data\n",
    "data_predict = twitter_df.copy()\n",
    "data_predict.head(2)"
   ]
  },
  {
   "cell_type": "code",
   "execution_count": 344,
   "metadata": {},
   "outputs": [
    {
     "data": {
      "text/html": [
       "<div>\n",
       "<style scoped>\n",
       "    .dataframe tbody tr th:only-of-type {\n",
       "        vertical-align: middle;\n",
       "    }\n",
       "\n",
       "    .dataframe tbody tr th {\n",
       "        vertical-align: top;\n",
       "    }\n",
       "\n",
       "    .dataframe thead th {\n",
       "        text-align: right;\n",
       "    }\n",
       "</style>\n",
       "<table border=\"1\" class=\"dataframe\">\n",
       "  <thead>\n",
       "    <tr style=\"text-align: right;\">\n",
       "      <th></th>\n",
       "      <th>source</th>\n",
       "      <th>text</th>\n",
       "      <th>name</th>\n",
       "      <th>p1</th>\n",
       "      <th>p2</th>\n",
       "      <th>p3</th>\n",
       "      <th>rating_levels</th>\n",
       "    </tr>\n",
       "  </thead>\n",
       "  <tbody>\n",
       "    <tr>\n",
       "      <th>0</th>\n",
       "      <td>2</td>\n",
       "      <td>174</td>\n",
       "      <td>919</td>\n",
       "      <td>77</td>\n",
       "      <td>149</td>\n",
       "      <td>73</td>\n",
       "      <td>1</td>\n",
       "    </tr>\n",
       "    <tr>\n",
       "      <th>1</th>\n",
       "      <td>2</td>\n",
       "      <td>1801</td>\n",
       "      <td>919</td>\n",
       "      <td>287</td>\n",
       "      <td>253</td>\n",
       "      <td>66</td>\n",
       "      <td>1</td>\n",
       "    </tr>\n",
       "    <tr>\n",
       "      <th>2</th>\n",
       "      <td>2</td>\n",
       "      <td>164</td>\n",
       "      <td>919</td>\n",
       "      <td>32</td>\n",
       "      <td>246</td>\n",
       "      <td>120</td>\n",
       "      <td>1</td>\n",
       "    </tr>\n",
       "    <tr>\n",
       "      <th>3</th>\n",
       "      <td>2</td>\n",
       "      <td>1792</td>\n",
       "      <td>919</td>\n",
       "      <td>60</td>\n",
       "      <td>304</td>\n",
       "      <td>257</td>\n",
       "      <td>1</td>\n",
       "    </tr>\n",
       "    <tr>\n",
       "      <th>4</th>\n",
       "      <td>2</td>\n",
       "      <td>171</td>\n",
       "      <td>919</td>\n",
       "      <td>243</td>\n",
       "      <td>63</td>\n",
       "      <td>25</td>\n",
       "      <td>1</td>\n",
       "    </tr>\n",
       "    <tr>\n",
       "      <th>5</th>\n",
       "      <td>2</td>\n",
       "      <td>1799</td>\n",
       "      <td>919</td>\n",
       "      <td>13</td>\n",
       "      <td>27</td>\n",
       "      <td>41</td>\n",
       "      <td>1</td>\n",
       "    </tr>\n",
       "    <tr>\n",
       "      <th>6</th>\n",
       "      <td>2</td>\n",
       "      <td>1810</td>\n",
       "      <td>910</td>\n",
       "      <td>119</td>\n",
       "      <td>263</td>\n",
       "      <td>365</td>\n",
       "      <td>1</td>\n",
       "    </tr>\n",
       "    <tr>\n",
       "      <th>7</th>\n",
       "      <td>2</td>\n",
       "      <td>158</td>\n",
       "      <td>919</td>\n",
       "      <td>137</td>\n",
       "      <td>75</td>\n",
       "      <td>194</td>\n",
       "      <td>1</td>\n",
       "    </tr>\n",
       "    <tr>\n",
       "      <th>8</th>\n",
       "      <td>2</td>\n",
       "      <td>530</td>\n",
       "      <td>919</td>\n",
       "      <td>304</td>\n",
       "      <td>319</td>\n",
       "      <td>200</td>\n",
       "      <td>1</td>\n",
       "    </tr>\n",
       "    <tr>\n",
       "      <th>9</th>\n",
       "      <td>2</td>\n",
       "      <td>166</td>\n",
       "      <td>926</td>\n",
       "      <td>244</td>\n",
       "      <td>230</td>\n",
       "      <td>345</td>\n",
       "      <td>1</td>\n",
       "    </tr>\n",
       "  </tbody>\n",
       "</table>\n",
       "</div>"
      ],
      "text/plain": [
       "   source  text  name   p1   p2   p3  rating_levels\n",
       "0       2   174   919   77  149   73              1\n",
       "1       2  1801   919  287  253   66              1\n",
       "2       2   164   919   32  246  120              1\n",
       "3       2  1792   919   60  304  257              1\n",
       "4       2   171   919  243   63   25              1\n",
       "5       2  1799   919   13   27   41              1\n",
       "6       2  1810   910  119  263  365              1\n",
       "7       2   158   919  137   75  194              1\n",
       "8       2   530   919  304  319  200              1\n",
       "9       2   166   926  244  230  345              1"
      ]
     },
     "execution_count": 344,
     "metadata": {},
     "output_type": "execute_result"
    }
   ],
   "source": [
    "# encode the data\n",
    "data_predict[categorical_cols] = data_predict[categorical_cols].apply(lambda col: le.fit_transform(col.astype(str)))\n",
    "data_predict[categorical_cols].head(10)"
   ]
  },
  {
   "cell_type": "code",
   "execution_count": 345,
   "metadata": {},
   "outputs": [
    {
     "data": {
      "text/html": [
       "<div>\n",
       "<style scoped>\n",
       "    .dataframe tbody tr th:only-of-type {\n",
       "        vertical-align: middle;\n",
       "    }\n",
       "\n",
       "    .dataframe tbody tr th {\n",
       "        vertical-align: top;\n",
       "    }\n",
       "\n",
       "    .dataframe thead th {\n",
       "        text-align: right;\n",
       "    }\n",
       "</style>\n",
       "<table border=\"1\" class=\"dataframe\">\n",
       "  <thead>\n",
       "    <tr style=\"text-align: right;\">\n",
       "      <th></th>\n",
       "      <th>tweet_id</th>\n",
       "      <th>timestamp</th>\n",
       "      <th>source</th>\n",
       "      <th>text</th>\n",
       "      <th>expanded_urls</th>\n",
       "      <th>rating_numerator</th>\n",
       "      <th>rating_denominator</th>\n",
       "      <th>name</th>\n",
       "      <th>dog_stage</th>\n",
       "      <th>favorite_count</th>\n",
       "      <th>...</th>\n",
       "      <th>p1_conf</th>\n",
       "      <th>p1_dog</th>\n",
       "      <th>p2</th>\n",
       "      <th>p2_conf</th>\n",
       "      <th>p2_dog</th>\n",
       "      <th>p3</th>\n",
       "      <th>p3_conf</th>\n",
       "      <th>p3_dog</th>\n",
       "      <th>rating</th>\n",
       "      <th>rating_levels</th>\n",
       "    </tr>\n",
       "  </thead>\n",
       "  <tbody>\n",
       "    <tr>\n",
       "      <th>0</th>\n",
       "      <td>666020888022790149</td>\n",
       "      <td>2015-11-15 22:32:08+00:00</td>\n",
       "      <td>2</td>\n",
       "      <td>174</td>\n",
       "      <td>https://twitter.com/dog_rates/status/666020888...</td>\n",
       "      <td>8</td>\n",
       "      <td>10</td>\n",
       "      <td>919</td>\n",
       "      <td>pupper</td>\n",
       "      <td>2498</td>\n",
       "      <td>...</td>\n",
       "      <td>0.465074</td>\n",
       "      <td>True</td>\n",
       "      <td>149</td>\n",
       "      <td>0.156665</td>\n",
       "      <td>True</td>\n",
       "      <td>73</td>\n",
       "      <td>0.061428</td>\n",
       "      <td>True</td>\n",
       "      <td>0.8</td>\n",
       "      <td>1</td>\n",
       "    </tr>\n",
       "    <tr>\n",
       "      <th>1</th>\n",
       "      <td>666029285002620928</td>\n",
       "      <td>2015-11-15 23:05:30+00:00</td>\n",
       "      <td>2</td>\n",
       "      <td>1801</td>\n",
       "      <td>https://twitter.com/dog_rates/status/666029285...</td>\n",
       "      <td>7</td>\n",
       "      <td>10</td>\n",
       "      <td>919</td>\n",
       "      <td>pupper</td>\n",
       "      <td>124</td>\n",
       "      <td>...</td>\n",
       "      <td>0.506826</td>\n",
       "      <td>True</td>\n",
       "      <td>253</td>\n",
       "      <td>0.074192</td>\n",
       "      <td>True</td>\n",
       "      <td>66</td>\n",
       "      <td>0.072010</td>\n",
       "      <td>True</td>\n",
       "      <td>0.7</td>\n",
       "      <td>1</td>\n",
       "    </tr>\n",
       "    <tr>\n",
       "      <th>2</th>\n",
       "      <td>666033412701032449</td>\n",
       "      <td>2015-11-15 23:21:54+00:00</td>\n",
       "      <td>2</td>\n",
       "      <td>164</td>\n",
       "      <td>https://twitter.com/dog_rates/status/666033412...</td>\n",
       "      <td>9</td>\n",
       "      <td>10</td>\n",
       "      <td>919</td>\n",
       "      <td>pupper</td>\n",
       "      <td>120</td>\n",
       "      <td>...</td>\n",
       "      <td>0.596461</td>\n",
       "      <td>True</td>\n",
       "      <td>246</td>\n",
       "      <td>0.138584</td>\n",
       "      <td>True</td>\n",
       "      <td>120</td>\n",
       "      <td>0.116197</td>\n",
       "      <td>True</td>\n",
       "      <td>0.9</td>\n",
       "      <td>1</td>\n",
       "    </tr>\n",
       "    <tr>\n",
       "      <th>3</th>\n",
       "      <td>666044226329800704</td>\n",
       "      <td>2015-11-16 00:04:52+00:00</td>\n",
       "      <td>2</td>\n",
       "      <td>1792</td>\n",
       "      <td>https://twitter.com/dog_rates/status/666044226...</td>\n",
       "      <td>6</td>\n",
       "      <td>10</td>\n",
       "      <td>919</td>\n",
       "      <td>pupper</td>\n",
       "      <td>288</td>\n",
       "      <td>...</td>\n",
       "      <td>0.408143</td>\n",
       "      <td>True</td>\n",
       "      <td>304</td>\n",
       "      <td>0.360687</td>\n",
       "      <td>True</td>\n",
       "      <td>257</td>\n",
       "      <td>0.222752</td>\n",
       "      <td>True</td>\n",
       "      <td>0.6</td>\n",
       "      <td>1</td>\n",
       "    </tr>\n",
       "    <tr>\n",
       "      <th>4</th>\n",
       "      <td>666049248165822465</td>\n",
       "      <td>2015-11-16 00:24:50+00:00</td>\n",
       "      <td>2</td>\n",
       "      <td>171</td>\n",
       "      <td>https://twitter.com/dog_rates/status/666049248...</td>\n",
       "      <td>5</td>\n",
       "      <td>10</td>\n",
       "      <td>919</td>\n",
       "      <td>pupper</td>\n",
       "      <td>104</td>\n",
       "      <td>...</td>\n",
       "      <td>0.560311</td>\n",
       "      <td>True</td>\n",
       "      <td>63</td>\n",
       "      <td>0.243682</td>\n",
       "      <td>True</td>\n",
       "      <td>25</td>\n",
       "      <td>0.154629</td>\n",
       "      <td>True</td>\n",
       "      <td>0.5</td>\n",
       "      <td>1</td>\n",
       "    </tr>\n",
       "  </tbody>\n",
       "</table>\n",
       "<p>5 rows × 24 columns</p>\n",
       "</div>"
      ],
      "text/plain": [
       "             tweet_id                  timestamp  source  text  \\\n",
       "0  666020888022790149  2015-11-15 22:32:08+00:00       2   174   \n",
       "1  666029285002620928  2015-11-15 23:05:30+00:00       2  1801   \n",
       "2  666033412701032449  2015-11-15 23:21:54+00:00       2   164   \n",
       "3  666044226329800704  2015-11-16 00:04:52+00:00       2  1792   \n",
       "4  666049248165822465  2015-11-16 00:24:50+00:00       2   171   \n",
       "\n",
       "                                       expanded_urls  rating_numerator  \\\n",
       "0  https://twitter.com/dog_rates/status/666020888...                 8   \n",
       "1  https://twitter.com/dog_rates/status/666029285...                 7   \n",
       "2  https://twitter.com/dog_rates/status/666033412...                 9   \n",
       "3  https://twitter.com/dog_rates/status/666044226...                 6   \n",
       "4  https://twitter.com/dog_rates/status/666049248...                 5   \n",
       "\n",
       "   rating_denominator  name dog_stage  favorite_count  ...   p1_conf p1_dog  \\\n",
       "0                  10   919    pupper            2498  ...  0.465074   True   \n",
       "1                  10   919    pupper             124  ...  0.506826   True   \n",
       "2                  10   919    pupper             120  ...  0.596461   True   \n",
       "3                  10   919    pupper             288  ...  0.408143   True   \n",
       "4                  10   919    pupper             104  ...  0.560311   True   \n",
       "\n",
       "    p2   p2_conf  p2_dog   p3   p3_conf  p3_dog  rating  rating_levels  \n",
       "0  149  0.156665    True   73  0.061428    True     0.8              1  \n",
       "1  253  0.074192    True   66  0.072010    True     0.7              1  \n",
       "2  246  0.138584    True  120  0.116197    True     0.9              1  \n",
       "3  304  0.360687    True  257  0.222752    True     0.6              1  \n",
       "4   63  0.243682    True   25  0.154629    True     0.5              1  \n",
       "\n",
       "[5 rows x 24 columns]"
      ]
     },
     "execution_count": 345,
     "metadata": {},
     "output_type": "execute_result"
    }
   ],
   "source": [
    "# make prediction\n",
    "data_predict.loc[:,'dog_stage'] = clf_gini.predict(data_predict.drop(['dog_stage','timestamp','tweet_id','expanded_urls','jpg_url'], axis = 1))\n",
    "data_predict.head()"
   ]
  },
  {
   "cell_type": "code",
   "execution_count": 346,
   "metadata": {},
   "outputs": [
    {
     "data": {
      "text/html": [
       "<div>\n",
       "<style scoped>\n",
       "    .dataframe tbody tr th:only-of-type {\n",
       "        vertical-align: middle;\n",
       "    }\n",
       "\n",
       "    .dataframe tbody tr th {\n",
       "        vertical-align: top;\n",
       "    }\n",
       "\n",
       "    .dataframe thead th {\n",
       "        text-align: right;\n",
       "    }\n",
       "</style>\n",
       "<table border=\"1\" class=\"dataframe\">\n",
       "  <thead>\n",
       "    <tr style=\"text-align: right;\">\n",
       "      <th></th>\n",
       "      <th>tweet_id</th>\n",
       "      <th>predict_dog_stage</th>\n",
       "    </tr>\n",
       "  </thead>\n",
       "  <tbody>\n",
       "    <tr>\n",
       "      <th>0</th>\n",
       "      <td>666020888022790149</td>\n",
       "      <td>pupper</td>\n",
       "    </tr>\n",
       "    <tr>\n",
       "      <th>1</th>\n",
       "      <td>666029285002620928</td>\n",
       "      <td>pupper</td>\n",
       "    </tr>\n",
       "    <tr>\n",
       "      <th>2</th>\n",
       "      <td>666033412701032449</td>\n",
       "      <td>pupper</td>\n",
       "    </tr>\n",
       "    <tr>\n",
       "      <th>3</th>\n",
       "      <td>666044226329800704</td>\n",
       "      <td>pupper</td>\n",
       "    </tr>\n",
       "    <tr>\n",
       "      <th>4</th>\n",
       "      <td>666049248165822465</td>\n",
       "      <td>pupper</td>\n",
       "    </tr>\n",
       "  </tbody>\n",
       "</table>\n",
       "</div>"
      ],
      "text/plain": [
       "             tweet_id predict_dog_stage\n",
       "0  666020888022790149            pupper\n",
       "1  666029285002620928            pupper\n",
       "2  666033412701032449            pupper\n",
       "3  666044226329800704            pupper\n",
       "4  666049248165822465            pupper"
      ]
     },
     "execution_count": 346,
     "metadata": {},
     "output_type": "execute_result"
    }
   ],
   "source": [
    "# let's make their into 1 table\n",
    "\n",
    "# change col name so it will not be duplicated\n",
    "data_predict = data_predict[['tweet_id','dog_stage']]\n",
    "data_predict.columns =[\"tweet_id\", \"predict_dog_stage\"]\n",
    "data_predict.head()"
   ]
  },
  {
   "cell_type": "code",
   "execution_count": 347,
   "metadata": {},
   "outputs": [
    {
     "name": "stdout",
     "output_type": "stream",
     "text": [
      "<class 'pandas.core.frame.DataFrame'>\n",
      "Int64Index: 1978 entries, 0 to 1977\n",
      "Data columns (total 25 columns):\n",
      "tweet_id              1978 non-null object\n",
      "timestamp             1978 non-null object\n",
      "source                1978 non-null object\n",
      "text                  1978 non-null object\n",
      "expanded_urls         1978 non-null object\n",
      "rating_numerator      1978 non-null int64\n",
      "rating_denominator    1978 non-null int64\n",
      "name                  1383 non-null object\n",
      "dog_stage             294 non-null object\n",
      "favorite_count        1978 non-null int64\n",
      "retweet_count         1978 non-null int64\n",
      "jpg_url               1978 non-null object\n",
      "img_num               1978 non-null int64\n",
      "p1                    1978 non-null object\n",
      "p1_conf               1978 non-null float64\n",
      "p1_dog                1978 non-null bool\n",
      "p2                    1978 non-null object\n",
      "p2_conf               1978 non-null float64\n",
      "p2_dog                1978 non-null bool\n",
      "p3                    1978 non-null object\n",
      "p3_conf               1978 non-null float64\n",
      "p3_dog                1978 non-null bool\n",
      "rating                1978 non-null float64\n",
      "rating_levels         1978 non-null object\n",
      "predict_dog_stage     1978 non-null object\n",
      "dtypes: bool(3), float64(4), int64(5), object(13)\n",
      "memory usage: 361.2+ KB\n"
     ]
    }
   ],
   "source": [
    "# join table\n",
    "twitter_predict_df = pd.merge(twitter_df, data_predict, how = 'inner', on = ['tweet_id'])\n",
    "twitter_predict_df.info()"
   ]
  },
  {
   "cell_type": "code",
   "execution_count": 353,
   "metadata": {},
   "outputs": [
    {
     "data": {
      "image/png": "[encoded data removed]",
      "text/plain": [
       "<Figure size 576x432 with 1 Axes>"
      ]
     },
     "metadata": {
      "needs_background": "light"
     },
     "output_type": "display_data"
    }
   ],
   "source": [
    "twitter_predict_df.predict_dog_stage.value_counts()[0:20].plot.bar(colormap='Pastel2',figsize=(8, 6));\n",
    "plt.xlabel('Dog Stage');\n",
    "plt.ylabel('Number of Dog');\n",
    "plt.title('Number of Dog Prediction in Our Models');\n",
    "plt.savefig('plot/13_Number of Dog Prediction in Our Models');"
   ]
  },
  {
   "cell_type": "markdown",
   "metadata": {},
   "source": [
    "Just like the value before uppersampling, the popular dog_stage is pupper."
   ]
  },
  {
   "cell_type": "code",
   "execution_count": 355,
   "metadata": {},
   "outputs": [],
   "source": [
    "# save the prediction dataframe\n",
    "twitter_predict_df.to_csv('data_generated/twitter_predict_df.csv',index=False)"
   ]
  }
 ],
 "metadata": {
  "kernelspec": {
   "display_name": "Python 3",
   "language": "python",
   "name": "python3"
  },
  "language_info": {
   "codemirror_mode": {
    "name": "ipython",
    "version": 3
   },
   "file_extension": ".py",
   "mimetype": "text/x-python",
   "name": "python",
   "nbconvert_exporter": "python",
   "pygments_lexer": "ipython3",
   "version": "3.7.3"
  }
 },
 "nbformat": 4,
 "nbformat_minor": 2
}
